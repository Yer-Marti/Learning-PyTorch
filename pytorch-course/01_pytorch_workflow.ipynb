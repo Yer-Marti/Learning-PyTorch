{
  "nbformat": 4,
  "nbformat_minor": 0,
  "metadata": {
    "colab": {
      "provenance": [],
      "gpuType": "T4",
      "toc_visible": true
    },
    "kernelspec": {
      "name": "python3",
      "display_name": "Python 3"
    },
    "language_info": {
      "name": "python"
    },
    "accelerator": "GPU"
  },
  "cells": [
    {
      "cell_type": "markdown",
      "source": [
        "# 01. PyTorch Workflow\n",
        "\n",
        "Exploring an example PyTorch end-to-end workflow.\n",
        "\n",
        "Course video - [Source](https://www.youtube.com/watch?v=Z_ikDlimN6A)\n",
        "\n",
        "GitHub Repo - [Source](https://github.com/Yer-Marti/PyTorch-Course)\n",
        "\n",
        "PyTorch Doc - [Source](https://pytorch.org/docs/stable/index.html)"
      ],
      "metadata": {
        "id": "4TkqKdUqqAzp"
      }
    },
    {
      "cell_type": "markdown",
      "source": [
        "## Contents"
      ],
      "metadata": {
        "id": "Vi9_xPrRTn8g"
      }
    },
    {
      "cell_type": "markdown",
      "source": [
        "* [Introduction](#scrollTo=W6XUlSsRWXLf&line=1&uniqifier=1)\n",
        "* [Data (preparing and loading)](#scrollTo=_30UCxeUtOd-&line=21&uniqifier=1)\n",
        "* [Building a model](#scrollTo=q3NXI_nt2Tx1&line=1&uniqifier=1)\n",
        "* [Training a model](#scrollTo=jPL0cf7xD7P2&line=7&uniqifier=1)\n",
        "* [Testing a model](#scrollTo=c4STfabazP9d&line=3&uniqifier=1)\n",
        "* [Saving and loading a model in PyTorch](#scrollTo=Lk16upd56ZvQ&line=1&uniqifier=1)\n",
        "* [Putting it all together](#scrollTo=xyxzBGiTrO-f&line=1&uniqifier=1)\n",
        "* [Exercises](#scrollTo=zn9YHlp6uDSM&line=3&uniqifier=1)"
      ],
      "metadata": {
        "id": "KqhatMjHV7wK"
      }
    },
    {
      "cell_type": "markdown",
      "source": [
        "## Introduction"
      ],
      "metadata": {
        "id": "W6XUlSsRWXLf"
      }
    },
    {
      "cell_type": "markdown",
      "source": [
        "What we are covering:\n",
        "\n",
        "1. Data (prepare and load)\n",
        "2. Build model\n",
        "3. Fitting the model into the data (training)\n",
        "4. Making predictions and evaluating a model (inference)\n",
        "5. Saving and loading a model\n",
        "6. Putting it all together"
      ],
      "metadata": {
        "id": "fMcPYleAp3IL"
      }
    },
    {
      "cell_type": "code",
      "source": [
        "import torch\n",
        "from torch import nn # nn contains all of PyTorch's building blocks for neural networks\n",
        "import matplotlib.pyplot as plt\n",
        "import numpy as np"
      ],
      "metadata": {
        "id": "fLES_C0-snUs"
      },
      "execution_count": 1,
      "outputs": []
    },
    {
      "cell_type": "markdown",
      "source": [
        "## 1. Data (preparing and loading)\n",
        "\n",
        "Data can be almost anything in machine learning\n",
        "\n",
        "* Excel sheet\n",
        "* Images\n",
        "* Videos\n",
        "* Audio\n",
        "* Text\n",
        "* [...]\n",
        "\n",
        "Machine learning is a game of two parts:\n",
        "\n",
        "1. Convert data into a numerical representation.\n",
        "2. Build a model to learn patterns in that numerical representation.\n",
        "\n",
        "To showcase this, let's create some *known* data using the linear regression formula.\n",
        "\n",
        "Linear regression formula: `y = a + bx`\n",
        "\n",
        "> **Note:** in ML `b` is often refered as **weight** and `a` as **bias**."
      ],
      "metadata": {
        "id": "_30UCxeUtOd-"
      }
    },
    {
      "cell_type": "code",
      "source": [
        "# Create known parameters\n",
        "weight = 0.7\n",
        "bias = 0.3\n",
        "\n",
        "# Create data\n",
        "start = 0\n",
        "end = 1\n",
        "step = 0.02\n",
        "X = torch.arange(start, end, step).unsqueeze(dim=1)\n",
        "y = weight * X + bias\n",
        "\n",
        "X[:10], y[:10]"
      ],
      "metadata": {
        "colab": {
          "base_uri": "https://localhost:8080/"
        },
        "id": "Uv_vykq2unYb",
        "outputId": "5ebde114-fad6-4b1d-ee36-62e538d66d81"
      },
      "execution_count": 2,
      "outputs": [
        {
          "output_type": "execute_result",
          "data": {
            "text/plain": [
              "(tensor([[0.0000],\n",
              "         [0.0200],\n",
              "         [0.0400],\n",
              "         [0.0600],\n",
              "         [0.0800],\n",
              "         [0.1000],\n",
              "         [0.1200],\n",
              "         [0.1400],\n",
              "         [0.1600],\n",
              "         [0.1800]]),\n",
              " tensor([[0.3000],\n",
              "         [0.3140],\n",
              "         [0.3280],\n",
              "         [0.3420],\n",
              "         [0.3560],\n",
              "         [0.3700],\n",
              "         [0.3840],\n",
              "         [0.3980],\n",
              "         [0.4120],\n",
              "         [0.4260]]))"
            ]
          },
          "metadata": {},
          "execution_count": 2
        }
      ]
    },
    {
      "cell_type": "code",
      "source": [
        "len(X), len(y)"
      ],
      "metadata": {
        "colab": {
          "base_uri": "https://localhost:8080/"
        },
        "id": "Zk1q04_JvtYC",
        "outputId": "a416af09-29fc-402d-8241-b78d448d27ba"
      },
      "execution_count": 3,
      "outputs": [
        {
          "output_type": "execute_result",
          "data": {
            "text/plain": [
              "(50, 50)"
            ]
          },
          "metadata": {},
          "execution_count": 3
        }
      ]
    },
    {
      "cell_type": "markdown",
      "source": [
        "We know what the relationship between `X` and `y` is, so now we need to get the model to come up with the formula by itself.\n",
        "\n",
        "Tensor `X` represents the `input`, and `y` represents the `output`."
      ],
      "metadata": {
        "id": "kgU0WIV-wElX"
      }
    },
    {
      "cell_type": "markdown",
      "source": [
        "### Splitting data into training and testing sets\n",
        "\n",
        "Let's create a training and testing set with our data."
      ],
      "metadata": {
        "id": "Sy9QUDWHw3e-"
      }
    },
    {
      "cell_type": "code",
      "source": [
        "# Create a train/test split\n",
        "train_split = int(0.8 * len(X))\n",
        "X_train, y_train = X[:train_split], y[:train_split]\n",
        "X_test, y_test = X[train_split:], y[train_split:]\n",
        "\n",
        "len(X_train), len(y_train), len(X_test), len(y_test)"
      ],
      "metadata": {
        "colab": {
          "base_uri": "https://localhost:8080/"
        },
        "id": "Vs73Ievbx9wU",
        "outputId": "2e379986-ac75-4399-dd45-6484fd83310a"
      },
      "execution_count": 4,
      "outputs": [
        {
          "output_type": "execute_result",
          "data": {
            "text/plain": [
              "(40, 40, 10, 10)"
            ]
          },
          "metadata": {},
          "execution_count": 4
        }
      ]
    },
    {
      "cell_type": "markdown",
      "source": [
        "### Visualize the data\n",
        "\n",
        "Using `matplotlib` to visualize the data."
      ],
      "metadata": {
        "id": "1DC0uTWIywgH"
      }
    },
    {
      "cell_type": "code",
      "source": [
        "def plot_predictions(train_data=X_train,\n",
        "                     train_labels=y_train,\n",
        "                     test_data=X_test,\n",
        "                     test_labels=y_test,\n",
        "                     predictions=None):\n",
        "  \"\"\"\n",
        "  Plots training data, test data and compares predictions\n",
        "  \"\"\"\n",
        "  plt.figure(figsize=(10, 7))\n",
        "\n",
        "  # Plot training data in blue\n",
        "  plt.scatter(train_data, train_labels, c=\"b\", s=4, label=\"Training data\")\n",
        "\n",
        "  # Plot test data in green\n",
        "  plt.scatter(test_data, test_labels, c=\"g\", s=4, label=\"Testing data\")\n",
        "\n",
        "  # Plot the predictions if there are\n",
        "  if predictions is not None:\n",
        "    plt.scatter(test_data, predictions, c=\"r\", s=4, label=\"Predictions\")\n",
        "\n",
        "  # Show the legend\n",
        "  plt.legend(prop={\"size\": 14})"
      ],
      "metadata": {
        "id": "JSoH9fpezD9_"
      },
      "execution_count": 5,
      "outputs": []
    },
    {
      "cell_type": "code",
      "source": [
        "plot_predictions();"
      ],
      "metadata": {
        "colab": {
          "base_uri": "https://localhost:8080/",
          "height": 599
        },
        "id": "e1TMYauD02Ov",
        "outputId": "b35bd8dc-1440-4fac-d698-d290056aeb59"
      },
      "execution_count": 6,
      "outputs": [
        {
          "output_type": "display_data",
          "data": {
            "text/plain": [
              "<Figure size 1000x700 with 1 Axes>"
            ],
            "image/png": "[encoded data removed]"
          },
          "metadata": {}
        }
      ]
    },
    {
      "cell_type": "markdown",
      "source": [
        "## 2. Building a model\n",
        "\n",
        "What our model does:\n",
        "\n",
        "* Start with random values (weight and bias)\n",
        "* Look at training data and adjust those random values to better represent (or get closer to) the ideal values (the weight and bias we used to create our data)\n",
        "\n",
        "How does it do so?\n",
        "\n",
        "Through two main algorithms:\n",
        "1. Gradient descent\n",
        "2. Backpropagation"
      ],
      "metadata": {
        "id": "q3NXI_nt2Tx1"
      }
    },
    {
      "cell_type": "code",
      "source": [
        "# Create linear regression model class\n",
        "class LinearRegressionModel(nn.Module):\n",
        "  def __init__(self):\n",
        "    super().__init__()\n",
        "    self.weights = nn.Parameter(torch.randn(1,\n",
        "                                            requires_grad=True,\n",
        "                                            dtype=torch.float)) # default (=float32)\n",
        "    self.bias = nn.Parameter(torch.randn(1,\n",
        "                                         requires_grad=True,\n",
        "                                         dtype=torch.float))\n",
        "\n",
        "  # Forward method to define the computation in the model\n",
        "  def forward(self, x: torch.Tensor) -> torch.Tensor: # <- \"x\" is the input data\n",
        "    return self.weights * x + self.bias # this is the linear regression formula"
      ],
      "metadata": {
        "id": "UIRvV0aN2zUW"
      },
      "execution_count": 7,
      "outputs": []
    },
    {
      "cell_type": "markdown",
      "source": [
        "### PyTorch model building essentials\n",
        "\n",
        "* `torch.nn` - contains all of the buildings for computational graphs (a neural network can be considered a computational graph)\n",
        "* `torch.nn.Parameter` - what parameters should our model try and learn, often a PyTorch layer from `torch.nn` will set these for us\n",
        "* `torch.nn.Module` - the base class for all neural network modules, if you subclass it, you must override `forward()` method\n",
        "* `torch.optim` - this is where the optimizers in PyTorch live, they will help with gradient descent\n",
        "* `def forward()` - all `nn.Module` subclasses require to override this method, it defines what happens in the forward computation"
      ],
      "metadata": {
        "id": "DLTIYn48760I"
      }
    },
    {
      "cell_type": "markdown",
      "source": [
        "### Checking the contents of our PyTorch model\n",
        "\n",
        "Now that we have created a model, we can see what's inside.\n",
        "\n",
        "We can check our model parameters or what's inside our model using `.parameters()`."
      ],
      "metadata": {
        "id": "pxoJlC5o-a4j"
      }
    },
    {
      "cell_type": "code",
      "source": [
        "# Create a random seed\n",
        "torch.manual_seed(42)\n",
        "\n",
        "# Create an instance of the model\n",
        "model_0 = LinearRegressionModel()\n",
        "\n",
        "list(model_0.parameters())"
      ],
      "metadata": {
        "colab": {
          "base_uri": "https://localhost:8080/"
        },
        "id": "j6_w8xNx-3WI",
        "outputId": "94753c10-f348-4893-b60d-48f2c01e16ef"
      },
      "execution_count": 8,
      "outputs": [
        {
          "output_type": "execute_result",
          "data": {
            "text/plain": [
              "[Parameter containing:\n",
              " tensor([0.3367], requires_grad=True),\n",
              " Parameter containing:\n",
              " tensor([0.1288], requires_grad=True)]"
            ]
          },
          "metadata": {},
          "execution_count": 8
        }
      ]
    },
    {
      "cell_type": "code",
      "source": [
        "# List named parameters\n",
        "model_0.state_dict()"
      ],
      "metadata": {
        "colab": {
          "base_uri": "https://localhost:8080/"
        },
        "id": "CoaMYI9ZBQpw",
        "outputId": "155ed403-e747-4a05-8766-6c2e4d6ad506"
      },
      "execution_count": 9,
      "outputs": [
        {
          "output_type": "execute_result",
          "data": {
            "text/plain": [
              "OrderedDict([('weights', tensor([0.3367])), ('bias', tensor([0.1288]))])"
            ]
          },
          "metadata": {},
          "execution_count": 9
        }
      ]
    },
    {
      "cell_type": "markdown",
      "source": [
        "### Making predictions\n",
        "\n",
        "To check our model's predictive power, we use `torch.inference_mode()`. We can see how well it predicts `y_test` based on `X_test`.\n",
        "\n",
        "When we pass data through our model, it's going to run it through the `forward()` method."
      ],
      "metadata": {
        "id": "xgu-FTtyB-2e"
      }
    },
    {
      "cell_type": "code",
      "source": [
        "# Make predictions with model\n",
        "with torch.inference_mode():\n",
        "  y_preds = model_0(X_test)\n",
        "\n",
        "y_preds"
      ],
      "metadata": {
        "colab": {
          "base_uri": "https://localhost:8080/"
        },
        "id": "96a-GvRHCovc",
        "outputId": "65d052d6-322a-4fd7-bed8-48fc17126f40"
      },
      "execution_count": 10,
      "outputs": [
        {
          "output_type": "execute_result",
          "data": {
            "text/plain": [
              "tensor([[0.3982],\n",
              "        [0.4049],\n",
              "        [0.4116],\n",
              "        [0.4184],\n",
              "        [0.4251],\n",
              "        [0.4318],\n",
              "        [0.4386],\n",
              "        [0.4453],\n",
              "        [0.4520],\n",
              "        [0.4588]])"
            ]
          },
          "metadata": {},
          "execution_count": 10
        }
      ]
    },
    {
      "cell_type": "markdown",
      "source": [
        "Leaving the model at random:"
      ],
      "metadata": {
        "id": "aqtpm7Y_D3db"
      }
    },
    {
      "cell_type": "code",
      "source": [
        "plot_predictions(predictions=y_preds)"
      ],
      "metadata": {
        "colab": {
          "base_uri": "https://localhost:8080/",
          "height": 599
        },
        "id": "xC-vCGWTDr_z",
        "outputId": "e53de138-b829-48bf-f4a0-d3dece3d1ffd"
      },
      "execution_count": 11,
      "outputs": [
        {
          "output_type": "display_data",
          "data": {
            "text/plain": [
              "<Figure size 1000x700 with 1 Axes>"
            ],
            "image/png": "[encoded data removed]"
          },
          "metadata": {}
        }
      ]
    },
    {
      "cell_type": "markdown",
      "source": [
        "## 3. Training a model\n",
        "\n",
        "The whole idea of training is for a model to move from some *unknown* parameters (random initial values) to somo *known* parameters. A.k.a improve the representation of the data.\n",
        "\n",
        "One way to measure how poor or how wrong your model's predictions are is to use a loss function.\n",
        "\n",
        "> **Note:** Loss function may also be called cost function or criterion in different areas. For our case, we're going to refer to it as loss function.\n",
        "\n",
        "Terms:\n",
        "* **Loss function:** A function to measure how wrong your model's predictions are to the ideal predictions. The lower, the better.\n",
        "* **Optimizer:** Takes into account the loss of a model and adjusts the model's parameters (e.g. weight and bias) to improve the loss function.\n",
        "\n",
        "Specifically with PyTorch we need:\n",
        "* A training loop\n",
        "* A testing loop"
      ],
      "metadata": {
        "id": "jPL0cf7xD7P2"
      }
    },
    {
      "cell_type": "code",
      "source": [
        "list(model_0.parameters())"
      ],
      "metadata": {
        "colab": {
          "base_uri": "https://localhost:8080/"
        },
        "id": "Za8K7BYsHSIH",
        "outputId": "318b739c-d4e0-4a88-8d1a-56da9a37caa3"
      },
      "execution_count": 12,
      "outputs": [
        {
          "output_type": "execute_result",
          "data": {
            "text/plain": [
              "[Parameter containing:\n",
              " tensor([0.3367], requires_grad=True),\n",
              " Parameter containing:\n",
              " tensor([0.1288], requires_grad=True)]"
            ]
          },
          "metadata": {},
          "execution_count": 12
        }
      ]
    },
    {
      "cell_type": "code",
      "source": [
        "model_0.state_dict()"
      ],
      "metadata": {
        "colab": {
          "base_uri": "https://localhost:8080/"
        },
        "id": "XMaSzBkIekcY",
        "outputId": "3dae2b96-fe99-4692-ba5e-efd0732195f2"
      },
      "execution_count": 13,
      "outputs": [
        {
          "output_type": "execute_result",
          "data": {
            "text/plain": [
              "OrderedDict([('weights', tensor([0.3367])), ('bias', tensor([0.1288]))])"
            ]
          },
          "metadata": {},
          "execution_count": 13
        }
      ]
    },
    {
      "cell_type": "markdown",
      "source": [
        "### Loss functions and optimizers\n",
        "\n",
        "L1 loss function (a.k.a Main Absolute Error) is used for number predictions.\n",
        "\n",
        "SGD (Stochastic Gradient Descent) is an optimizer that uses random numbers to minimize the loss function. For example, if the weight is increased via a random number that is greater than the actual and it lowers the loss function, the optimizer will notice that and continue to increase the weight's value.\n",
        "\n",
        "Definitions:\n",
        "* `params` - Parameters defined by the model.\n",
        "* `lr` - Learning rate. It measures the change in the parameters. The greater the value, the greater the change in the model's parameters. This is an hyperparameter.\n",
        "* Hyperparameter - These are the parameters defined by the programmer and not the model itself (the latter are called **parameters**)."
      ],
      "metadata": {
        "id": "plZPBUHqfNMW"
      }
    },
    {
      "cell_type": "code",
      "source": [
        "# Setup a loss function\n",
        "loss_fn = nn.L1Loss()\n",
        "\n",
        "# Setup an optimizer\n",
        "optimizer = torch.optim.SGD(params=model_0.parameters(),\n",
        "                            lr=0.01)"
      ],
      "metadata": {
        "id": "ZBKngZnKfjfl"
      },
      "execution_count": 14,
      "outputs": []
    },
    {
      "cell_type": "markdown",
      "source": [
        "Which loss function and optimizer should I use?\n",
        "\n",
        "This is problem specific and comes with experience. For a regression problem (this example), a loss function of `nn.L1Loss()` and an optimizer like `torch.optim.SGD()` will be enough. But for a classification problem like distinguishing a dog from a cat, you will likely want to use a `nn.BCELoss()` (Binary Cross Entropy Loss)."
      ],
      "metadata": {
        "id": "qKmsHt0KjMdt"
      }
    },
    {
      "cell_type": "markdown",
      "source": [
        "### Building a training loop and a testing loop\n",
        "\n",
        "Things we need in a training loop:\n",
        "0. Loop though the data\n",
        "1. Forward pass (this involve data moving though our model's `forward()`) - also called forward propagation\n",
        "2. Calculate the loss (compare forward pass predictions to ground truth labels)\n",
        "3. Optimizer zero grad\n",
        "4. Loss backward - move backward though the network to calculate the gradients of each of the parameters of our model with respect to the loss function (**backpropagation**)\n",
        "5. Optimizer step - use the optimizer to adjust our model's parameters to try and improve the loss (**gradient descent**)"
      ],
      "metadata": {
        "id": "6YVCQQCxkHyC"
      }
    },
    {
      "cell_type": "code",
      "source": [
        "model_0.state_dict() # State previous to training loop"
      ],
      "metadata": {
        "colab": {
          "base_uri": "https://localhost:8080/"
        },
        "id": "QNNaDla2uacw",
        "outputId": "0a6d26a8-7011-4e29-c931-4dc4b397fdb2"
      },
      "execution_count": 15,
      "outputs": [
        {
          "output_type": "execute_result",
          "data": {
            "text/plain": [
              "OrderedDict([('weights', tensor([0.3367])), ('bias', tensor([0.1288]))])"
            ]
          },
          "metadata": {},
          "execution_count": 15
        }
      ]
    },
    {
      "cell_type": "markdown",
      "source": [
        "For the time being, we are coding the training and testing loop together. Later, we will be externalising them."
      ],
      "metadata": {
        "id": "QrqnAgaoxDwh"
      }
    },
    {
      "cell_type": "code",
      "source": [
        "torch.manual_seed(42)\n",
        "\n",
        "# An epoch is one loop though the data... (this is a hyperparameters cuz we've set it ourselves)\n",
        "epochs = 200\n",
        "\n",
        "# Track values of the model\n",
        "epoch_count = []\n",
        "loss_values = []\n",
        "test_loss_values = []\n",
        "\n",
        "# 0. Loop though the data\n",
        "for epoch in range(epochs):\n",
        "\n",
        "  # Set the model to training mode\n",
        "  model_0.train() # train mode in PyTorch sets all parameters that require gradients to require gradients\n",
        "\n",
        "  # 1. Forward pass using forward() method\n",
        "  y_pred = model_0(X_train)\n",
        "\n",
        "  # 2. Calculate the loss\n",
        "  loss = loss_fn(y_pred, y_train)\n",
        "\n",
        "  # 3. Optimizer zero grad\n",
        "  optimizer.zero_grad()\n",
        "\n",
        "  # 4. Perform backpropagation\n",
        "  loss.backward()\n",
        "\n",
        "  # 5. Step the optimizer\n",
        "  optimizer.step() # by default, how the optimizer changes will accumulate through the loop, so we have to zero them above in step 3 for the next iteration of the loop\n",
        "\n",
        "  # Testing\n",
        "  model_0.eval() # turns off gradient tracking and other settings not needed for evaluation/testing (such as dropout/batch norm layers)\n",
        "  with torch.inference_mode(): # better than torch.no_grad()\n",
        "    # 1. Forward pass\n",
        "    test_pred = model_0(X_test)\n",
        "\n",
        "    # 2. Calculate test loss\n",
        "    test_loss = loss_fn(test_pred, y_test)\n",
        "\n",
        "  # Print out what is happening\n",
        "  if epoch % 10 == 0:\n",
        "    epoch_count.append(epoch)\n",
        "    loss_values.append(loss)\n",
        "    test_loss_values.append(test_loss)\n",
        "\n",
        "    print(f\"Epoch: {epoch} | Loss: {loss} | Test loss: {test_loss}\")\n",
        "    print(f\"State dict: {model_0.state_dict()}\\n\")"
      ],
      "metadata": {
        "colab": {
          "base_uri": "https://localhost:8080/"
        },
        "id": "DzQAKsf5kM1b",
        "outputId": "8b814fa3-d77e-4bf1-bac0-2a33476c293f"
      },
      "execution_count": 16,
      "outputs": [
        {
          "output_type": "stream",
          "name": "stdout",
          "text": [
            "Epoch: 0 | Loss: 0.31288138031959534 | Test loss: 0.48106518387794495\n",
            "State dict: OrderedDict([('weights', tensor([0.3406])), ('bias', tensor([0.1388]))])\n",
            "\n",
            "Epoch: 10 | Loss: 0.1976713240146637 | Test loss: 0.3463551998138428\n",
            "State dict: OrderedDict([('weights', tensor([0.3796])), ('bias', tensor([0.2388]))])\n",
            "\n",
            "Epoch: 20 | Loss: 0.08908725529909134 | Test loss: 0.21729660034179688\n",
            "State dict: OrderedDict([('weights', tensor([0.4184])), ('bias', tensor([0.3333]))])\n",
            "\n",
            "Epoch: 30 | Loss: 0.053148526698350906 | Test loss: 0.14464017748832703\n",
            "State dict: OrderedDict([('weights', tensor([0.4512])), ('bias', tensor([0.3768]))])\n",
            "\n",
            "Epoch: 40 | Loss: 0.04543796554207802 | Test loss: 0.11360953003168106\n",
            "State dict: OrderedDict([('weights', tensor([0.4748])), ('bias', tensor([0.3868]))])\n",
            "\n",
            "Epoch: 50 | Loss: 0.04167863354086876 | Test loss: 0.09919948130846024\n",
            "State dict: OrderedDict([('weights', tensor([0.4938])), ('bias', tensor([0.3843]))])\n",
            "\n",
            "Epoch: 60 | Loss: 0.03818932920694351 | Test loss: 0.08886633068323135\n",
            "State dict: OrderedDict([('weights', tensor([0.5116])), ('bias', tensor([0.3788]))])\n",
            "\n",
            "Epoch: 70 | Loss: 0.03476089984178543 | Test loss: 0.0805937647819519\n",
            "State dict: OrderedDict([('weights', tensor([0.5288])), ('bias', tensor([0.3718]))])\n",
            "\n",
            "Epoch: 80 | Loss: 0.03132382780313492 | Test loss: 0.07232122868299484\n",
            "State dict: OrderedDict([('weights', tensor([0.5459])), ('bias', tensor([0.3648]))])\n",
            "\n",
            "Epoch: 90 | Loss: 0.02788739837706089 | Test loss: 0.06473556160926819\n",
            "State dict: OrderedDict([('weights', tensor([0.5629])), ('bias', tensor([0.3573]))])\n",
            "\n",
            "Epoch: 100 | Loss: 0.024458957836031914 | Test loss: 0.05646304413676262\n",
            "State dict: OrderedDict([('weights', tensor([0.5800])), ('bias', tensor([0.3503]))])\n",
            "\n",
            "Epoch: 110 | Loss: 0.021020207554101944 | Test loss: 0.04819049686193466\n",
            "State dict: OrderedDict([('weights', tensor([0.5972])), ('bias', tensor([0.3433]))])\n",
            "\n",
            "Epoch: 120 | Loss: 0.01758546568453312 | Test loss: 0.04060482233762741\n",
            "State dict: OrderedDict([('weights', tensor([0.6141])), ('bias', tensor([0.3358]))])\n",
            "\n",
            "Epoch: 130 | Loss: 0.014155393466353416 | Test loss: 0.03233227878808975\n",
            "State dict: OrderedDict([('weights', tensor([0.6313])), ('bias', tensor([0.3288]))])\n",
            "\n",
            "Epoch: 140 | Loss: 0.010716589167714119 | Test loss: 0.024059748277068138\n",
            "State dict: OrderedDict([('weights', tensor([0.6485])), ('bias', tensor([0.3218]))])\n",
            "\n",
            "Epoch: 150 | Loss: 0.0072835334576666355 | Test loss: 0.016474086791276932\n",
            "State dict: OrderedDict([('weights', tensor([0.6654])), ('bias', tensor([0.3143]))])\n",
            "\n",
            "Epoch: 160 | Loss: 0.0038517764769494534 | Test loss: 0.008201557211577892\n",
            "State dict: OrderedDict([('weights', tensor([0.6826])), ('bias', tensor([0.3073]))])\n",
            "\n",
            "Epoch: 170 | Loss: 0.008932482451200485 | Test loss: 0.005023092031478882\n",
            "State dict: OrderedDict([('weights', tensor([0.6951])), ('bias', tensor([0.2993]))])\n",
            "\n",
            "Epoch: 180 | Loss: 0.008932482451200485 | Test loss: 0.005023092031478882\n",
            "State dict: OrderedDict([('weights', tensor([0.6951])), ('bias', tensor([0.2993]))])\n",
            "\n",
            "Epoch: 190 | Loss: 0.008932482451200485 | Test loss: 0.005023092031478882\n",
            "State dict: OrderedDict([('weights', tensor([0.6951])), ('bias', tensor([0.2993]))])\n",
            "\n"
          ]
        }
      ]
    },
    {
      "cell_type": "markdown",
      "source": [
        "## 4. Testing a model\n",
        "\n",
        "> **Note:** testing loop is above because we coded it inside the same loop as the training phase."
      ],
      "metadata": {
        "id": "c4STfabazP9d"
      }
    },
    {
      "cell_type": "markdown",
      "source": [
        "Visualize predictions after 200 epochs:"
      ],
      "metadata": {
        "id": "NqWlw2uhwQYb"
      }
    },
    {
      "cell_type": "code",
      "source": [
        "with torch.inference_mode():\n",
        "  y_preds_new = model_0(X_test)\n",
        "\n",
        "plot_predictions(predictions=y_preds_new)"
      ],
      "metadata": {
        "colab": {
          "base_uri": "https://localhost:8080/",
          "height": 599
        },
        "id": "bQhuQRucv5-L",
        "outputId": "327c464f-3805-4510-ba78-09de68a5c64c"
      },
      "execution_count": 17,
      "outputs": [
        {
          "output_type": "display_data",
          "data": {
            "text/plain": [
              "<Figure size 1000x700 with 1 Axes>"
            ],
            "image/png": "[encoded data removed]"
          },
          "metadata": {}
        }
      ]
    },
    {
      "cell_type": "markdown",
      "source": [
        "We can plot the loss curves with the variables defined previously (`epoch_count`, `loss_values` and `test_loss_values`)"
      ],
      "metadata": {
        "id": "o4gf1JoS20Ij"
      }
    },
    {
      "cell_type": "code",
      "source": [
        "plt.plot(epoch_count, np.array(torch.tensor(loss_values).numpy()), label=\"Train loss\")\n",
        "plt.plot(epoch_count, test_loss_values, label=\"Test loss\")\n",
        "plt.title(\"Training and loss curves\")\n",
        "plt.ylabel(\"Loss\")\n",
        "plt.xlabel(\"Epochs\")\n",
        "plt.legend();"
      ],
      "metadata": {
        "colab": {
          "base_uri": "https://localhost:8080/",
          "height": 472
        },
        "id": "-ld6KYTp3JEV",
        "outputId": "2d9f124c-c025-4d8a-fafe-440cbc101467"
      },
      "execution_count": 18,
      "outputs": [
        {
          "output_type": "display_data",
          "data": {
            "text/plain": [
              "<Figure size 640x480 with 1 Axes>"
            ],
            "image/png": "[encoded data removed]"
          },
          "metadata": {}
        }
      ]
    },
    {
      "cell_type": "markdown",
      "source": [
        "## 5. Saving and loading a model in PyTorch\n",
        "\n",
        "There are three main methods for saving and loading models in PyTorch.\n",
        "\n",
        "1. `torch.save()` - allows you to save a PyTorch object in Python's pickle format\n",
        "2. `torch.load()` - allows you to load a saved PyTorch object\n",
        "3. `torch.nn.Module.load_state_dict()` - allows to load a model's saved state dictionary (recommended)"
      ],
      "metadata": {
        "id": "Lk16upd56ZvQ"
      }
    },
    {
      "cell_type": "markdown",
      "source": [
        "### Saving"
      ],
      "metadata": {
        "id": "oyts43Tp-Tvv"
      }
    },
    {
      "cell_type": "code",
      "source": [
        "# Saving our PyTorch model\n",
        "from pathlib import Path\n",
        "\n",
        "# 1. Create models directory\n",
        "MODEL_PATH = Path(\"models\")\n",
        "MODEL_PATH.mkdir(parents=True, exist_ok=True)\n",
        "\n",
        "# 2. Create model save path\n",
        "MODEL_NAME = \"01_pytorch_workflow_model_0.pth\"\n",
        "MODEL_SAVE_PATH = MODEL_PATH / MODEL_NAME # pathlib syntax\n",
        "\n",
        "# 3. Save the model state dict\n",
        "print(f\"Saving model to: {MODEL_SAVE_PATH}\")\n",
        "torch.save(obj=model_0.state_dict(), f=MODEL_SAVE_PATH)"
      ],
      "metadata": {
        "colab": {
          "base_uri": "https://localhost:8080/"
        },
        "id": "xd9fgM3n7KI-",
        "outputId": "68212246-84fd-4eb2-f83f-8bc19b5d2999"
      },
      "execution_count": 19,
      "outputs": [
        {
          "output_type": "stream",
          "name": "stdout",
          "text": [
            "Saving model to: models/01_pytorch_workflow_model_0.pth\n"
          ]
        }
      ]
    },
    {
      "cell_type": "code",
      "source": [
        "!ls -l models"
      ],
      "metadata": {
        "colab": {
          "base_uri": "https://localhost:8080/"
        },
        "id": "o6KigOV4-Jd7",
        "outputId": "aca3f503-8966-4ff8-ca8e-bbfc3a153e56"
      },
      "execution_count": 20,
      "outputs": [
        {
          "output_type": "stream",
          "name": "stdout",
          "text": [
            "total 4\n",
            "-rw-r--r-- 1 root root 1680 Mar  8 09:47 01_pytorch_workflow_model_0.pth\n"
          ]
        }
      ]
    },
    {
      "cell_type": "markdown",
      "source": [
        "### Loading"
      ],
      "metadata": {
        "id": "EbSgarvx-WVQ"
      }
    },
    {
      "cell_type": "markdown",
      "source": [
        "Since we saved the `state_dict()` of our model rather than the entire model, we'll create a new instance of our model class and load the saved `state_dict()` into that."
      ],
      "metadata": {
        "id": "M1OFcmuD-9Et"
      }
    },
    {
      "cell_type": "code",
      "source": [
        "# Loading a PyTorch model\n",
        "\n",
        "# 1. Create a new instance of our model\n",
        "loaded_model_0 = LinearRegressionModel()\n",
        "\n",
        "# 2. Load the saved state_dict of model_0 (this will update the new instance with the loaded parameters)\n",
        "loaded_model_0.load_state_dict(torch.load(f=MODEL_SAVE_PATH))"
      ],
      "metadata": {
        "colab": {
          "base_uri": "https://localhost:8080/"
        },
        "id": "SZBWJU-U-YQq",
        "outputId": "e76383be-0d15-4874-fd4d-4ae8e8c9565b"
      },
      "execution_count": 21,
      "outputs": [
        {
          "output_type": "execute_result",
          "data": {
            "text/plain": [
              "<All keys matched successfully>"
            ]
          },
          "metadata": {},
          "execution_count": 21
        }
      ]
    },
    {
      "cell_type": "markdown",
      "source": [
        "We can check if the `state_dict()` for both models is the same:"
      ],
      "metadata": {
        "id": "FKO43rmuAKnY"
      }
    },
    {
      "cell_type": "code",
      "source": [
        "print(f\"Model: {model_0.state_dict()}\\n\\nLoaded model: {loaded_model_0.state_dict()}\")"
      ],
      "metadata": {
        "colab": {
          "base_uri": "https://localhost:8080/"
        },
        "id": "y11B-a97_wNj",
        "outputId": "37db8671-7f9b-4ab6-e5d3-259423b4838d"
      },
      "execution_count": 22,
      "outputs": [
        {
          "output_type": "stream",
          "name": "stdout",
          "text": [
            "Model: OrderedDict([('weights', tensor([0.6990])), ('bias', tensor([0.3093]))])\n",
            "\n",
            "Loaded model: OrderedDict([('weights', tensor([0.6990])), ('bias', tensor([0.3093]))])\n"
          ]
        }
      ]
    },
    {
      "cell_type": "markdown",
      "source": [
        "## 6. Putting it all together\n",
        "\n",
        "This is how all the steps together should look like."
      ],
      "metadata": {
        "id": "xyxzBGiTrO-f"
      }
    },
    {
      "cell_type": "code",
      "source": [
        "# Imports\n",
        "import torch\n",
        "import numpy as np\n",
        "import matplotlib as mpl\n",
        "from torch import nn\n",
        "\n",
        "# Check version\n",
        "torch.__version__"
      ],
      "metadata": {
        "colab": {
          "base_uri": "https://localhost:8080/",
          "height": 35
        },
        "id": "_vyWpTI6rdt2",
        "outputId": "776f0623-2ada-43b9-bdae-f3c4a0189d98"
      },
      "execution_count": 23,
      "outputs": [
        {
          "output_type": "execute_result",
          "data": {
            "text/plain": [
              "'2.1.0+cu121'"
            ],
            "application/vnd.google.colaboratory.intrinsic+json": {
              "type": "string"
            }
          },
          "metadata": {},
          "execution_count": 23
        }
      ]
    },
    {
      "cell_type": "markdown",
      "source": [
        "Create device-agnostic code.\n",
        "\n",
        "This means that if we've got access to a GPU, our code will use it for potentially faster computing. If no GPU is available, the code will default to using a CPU."
      ],
      "metadata": {
        "id": "JbIyo9FvsANq"
      }
    },
    {
      "cell_type": "code",
      "source": [
        "# Setup device-agnostic code\n",
        "device = \"cuda\" if torch.cuda.is_available() else \"cpu\"\n",
        "print(f\"Using device: {device}\")"
      ],
      "metadata": {
        "colab": {
          "base_uri": "https://localhost:8080/"
        },
        "id": "D04lNGZ_sWtR",
        "outputId": "b1745711-e9dd-4c88-8545-05aef8e7c773"
      },
      "execution_count": 24,
      "outputs": [
        {
          "output_type": "stream",
          "name": "stdout",
          "text": [
            "Using device: cuda\n"
          ]
        }
      ]
    },
    {
      "cell_type": "markdown",
      "source": [
        "### Data"
      ],
      "metadata": {
        "id": "jSNTj0r6tBj4"
      }
    },
    {
      "cell_type": "code",
      "source": [
        "# Create some data using linear regression\n",
        "weight = 0.7\n",
        "bias = 0.3\n",
        "\n",
        "# Create range of values\n",
        "start = 0\n",
        "end = 1\n",
        "step = 0.02\n",
        "\n",
        "# Create X and y (features and labels)\n",
        "X = torch.arange(start, end, step).unsqueeze(dim=1)\n",
        "y = weight * X + bias\n",
        "X[:10], y[:10]"
      ],
      "metadata": {
        "colab": {
          "base_uri": "https://localhost:8080/"
        },
        "id": "MxaHJ0H3tIU0",
        "outputId": "cdfd8da9-3880-4ba0-cb2e-e97fcb2d2a7c"
      },
      "execution_count": 25,
      "outputs": [
        {
          "output_type": "execute_result",
          "data": {
            "text/plain": [
              "(tensor([[0.0000],\n",
              "         [0.0200],\n",
              "         [0.0400],\n",
              "         [0.0600],\n",
              "         [0.0800],\n",
              "         [0.1000],\n",
              "         [0.1200],\n",
              "         [0.1400],\n",
              "         [0.1600],\n",
              "         [0.1800]]),\n",
              " tensor([[0.3000],\n",
              "         [0.3140],\n",
              "         [0.3280],\n",
              "         [0.3420],\n",
              "         [0.3560],\n",
              "         [0.3700],\n",
              "         [0.3840],\n",
              "         [0.3980],\n",
              "         [0.4120],\n",
              "         [0.4260]]))"
            ]
          },
          "metadata": {},
          "execution_count": 25
        }
      ]
    },
    {
      "cell_type": "code",
      "source": [
        "# Split data\n",
        "train_split = int(0.8 * len(X))\n",
        "X_train, y_train = X[:train_split], y[:train_split]\n",
        "X_test, y_test = X[train_split:], y[train_split:]\n",
        "len(X_train), len(y_train), len(X_test), len(y_test)"
      ],
      "metadata": {
        "colab": {
          "base_uri": "https://localhost:8080/"
        },
        "id": "12Vo_SVLt8xP",
        "outputId": "f256d6ec-fe2d-4f11-9902-2a32e2da577d"
      },
      "execution_count": 26,
      "outputs": [
        {
          "output_type": "execute_result",
          "data": {
            "text/plain": [
              "(40, 40, 10, 10)"
            ]
          },
          "metadata": {},
          "execution_count": 26
        }
      ]
    },
    {
      "cell_type": "code",
      "source": [
        "# Plot the data\n",
        "plot_predictions(X_train, y_train, X_test, y_test)"
      ],
      "metadata": {
        "colab": {
          "base_uri": "https://localhost:8080/",
          "height": 599
        },
        "id": "_mJIixVSuj-q",
        "outputId": "343d84bb-a513-4713-e62e-334a9532980d"
      },
      "execution_count": 27,
      "outputs": [
        {
          "output_type": "display_data",
          "data": {
            "text/plain": [
              "<Figure size 1000x700 with 1 Axes>"
            ],
            "image/png": "[encoded data removed]"
          },
          "metadata": {}
        }
      ]
    },
    {
      "cell_type": "markdown",
      "source": [
        "### Building the model"
      ],
      "metadata": {
        "id": "8SsfFDc8u3GI"
      }
    },
    {
      "cell_type": "code",
      "source": [
        "# Create a linear model by subclassing nn.Module\n",
        "class LinearRegressionModelV2(nn.Module):\n",
        "  def __init__(self):\n",
        "    super().__init__()\n",
        "    # Use nn.Linear() to create the parameters (also called: linear transform, probing layer, fully connected layer, dense layer)\n",
        "    self.linear_layer = nn.Linear(in_features=1,\n",
        "                                  out_features=1) # 1 parameter input --> 1 parameter output\n",
        "\n",
        "  def forward(self, x: torch.Tensor) -> torch.Tensor:\n",
        "    return self.linear_layer(x)\n",
        "\n",
        "# Set seed\n",
        "torch.manual_seed(42)\n",
        "\n",
        "model_1 = LinearRegressionModelV2()\n",
        "model_1, model_1.state_dict()"
      ],
      "metadata": {
        "colab": {
          "base_uri": "https://localhost:8080/"
        },
        "id": "oxcYfjEVu5Y6",
        "outputId": "74a26790-8478-4bf9-e415-47e2c3afa806"
      },
      "execution_count": 28,
      "outputs": [
        {
          "output_type": "execute_result",
          "data": {
            "text/plain": [
              "(LinearRegressionModelV2(\n",
              "   (linear_layer): Linear(in_features=1, out_features=1, bias=True)\n",
              " ),\n",
              " OrderedDict([('linear_layer.weight', tensor([[0.7645]])),\n",
              "              ('linear_layer.bias', tensor([0.8300]))]))"
            ]
          },
          "metadata": {},
          "execution_count": 28
        }
      ]
    },
    {
      "cell_type": "code",
      "source": [
        "# Check the model current device\n",
        "next(model_1.parameters()).device"
      ],
      "metadata": {
        "colab": {
          "base_uri": "https://localhost:8080/"
        },
        "id": "rs2AOTiFyjpZ",
        "outputId": "cf234114-5417-4aec-91e3-6cc912a9528a"
      },
      "execution_count": 29,
      "outputs": [
        {
          "output_type": "execute_result",
          "data": {
            "text/plain": [
              "device(type='cpu')"
            ]
          },
          "metadata": {},
          "execution_count": 29
        }
      ]
    },
    {
      "cell_type": "code",
      "source": [
        "# Set the model to use the target device\n",
        "model_1.to(device)\n",
        "next(model_1.parameters()).device"
      ],
      "metadata": {
        "colab": {
          "base_uri": "https://localhost:8080/"
        },
        "id": "XarbGD77yvHr",
        "outputId": "8ffa795a-0224-4a57-b889-81918f565d58"
      },
      "execution_count": 30,
      "outputs": [
        {
          "output_type": "execute_result",
          "data": {
            "text/plain": [
              "device(type='cuda', index=0)"
            ]
          },
          "metadata": {},
          "execution_count": 30
        }
      ]
    },
    {
      "cell_type": "markdown",
      "source": [
        "### Training and testing the model"
      ],
      "metadata": {
        "id": "9LfBXz8Oxz1m"
      }
    },
    {
      "cell_type": "code",
      "source": [
        "# Setup loss function\n",
        "loss_fn = nn.L1Loss()\n",
        "\n",
        "# Setup optimizer\n",
        "optimizer = torch.optim.SGD(params=model_1.parameters(), lr=0.01)"
      ],
      "metadata": {
        "id": "KEkUCnH8x2mX"
      },
      "execution_count": 31,
      "outputs": []
    },
    {
      "cell_type": "code",
      "source": [
        "# Training loop\n",
        "torch.manual_seed(42)\n",
        "\n",
        "epochs = 200\n",
        "\n",
        "# Put data on target device (device agnostic code for the data)\n",
        "X_train = X_train.to(device)\n",
        "X_test = X_test.to(device)\n",
        "y_train = y_train.to(device)\n",
        "y_test = y_test.to(device)\n",
        "\n",
        "for epoch in range(epochs):\n",
        "  model_1.train()\n",
        "\n",
        "  # 1. Forward\n",
        "  y_pred = model_1(X_train)\n",
        "\n",
        "  # 2. Calculate loss\n",
        "  loss = loss_fn(y_pred, y_train)\n",
        "\n",
        "  # 3. Optimizer zero grad\n",
        "  optimizer.zero_grad()\n",
        "\n",
        "  # 4. Backpropagation\n",
        "  loss.backward()\n",
        "\n",
        "  # 5. Optimizer step\n",
        "  optimizer.step()\n",
        "\n",
        "  ### Testing\n",
        "  model_1.eval()\n",
        "  with torch.inference_mode():\n",
        "    test_pred = model_1(X_test)\n",
        "\n",
        "    test_loss = loss_fn(test_pred, y_test)\n",
        "\n",
        "  # Printing\n",
        "  if epoch % 10 == 0:\n",
        "    print(f\"Epoch: {epoch} | State: {model_1.state_dict()} | Loss: {loss} | Test loss: {test_loss}\")"
      ],
      "metadata": {
        "colab": {
          "base_uri": "https://localhost:8080/"
        },
        "id": "BH3eO5Eo0DZQ",
        "outputId": "daa20e13-a324-4e1d-9027-5fb00518bc4e"
      },
      "execution_count": 32,
      "outputs": [
        {
          "output_type": "stream",
          "name": "stdout",
          "text": [
            "Epoch: 0 | State: OrderedDict([('linear_layer.weight', tensor([[0.7606]], device='cuda:0')), ('linear_layer.bias', tensor([0.8200], device='cuda:0'))]) | Loss: 0.5551779866218567 | Test loss: 0.5739762187004089\n",
            "Epoch: 10 | State: OrderedDict([('linear_layer.weight', tensor([[0.7216]], device='cuda:0')), ('linear_layer.bias', tensor([0.7200], device='cuda:0'))]) | Loss: 0.439968079328537 | Test loss: 0.4392664134502411\n",
            "Epoch: 20 | State: OrderedDict([('linear_layer.weight', tensor([[0.6826]], device='cuda:0')), ('linear_layer.bias', tensor([0.6200], device='cuda:0'))]) | Loss: 0.3247582018375397 | Test loss: 0.30455657839775085\n",
            "Epoch: 30 | State: OrderedDict([('linear_layer.weight', tensor([[0.6436]], device='cuda:0')), ('linear_layer.bias', tensor([0.5200], device='cuda:0'))]) | Loss: 0.20954833924770355 | Test loss: 0.16984669864177704\n",
            "Epoch: 40 | State: OrderedDict([('linear_layer.weight', tensor([[0.6046]], device='cuda:0')), ('linear_layer.bias', tensor([0.4200], device='cuda:0'))]) | Loss: 0.09433845430612564 | Test loss: 0.03513690456748009\n",
            "Epoch: 50 | State: OrderedDict([('linear_layer.weight', tensor([[0.5872]], device='cuda:0')), ('linear_layer.bias', tensor([0.3525], device='cuda:0'))]) | Loss: 0.023886388167738914 | Test loss: 0.04784907028079033\n",
            "Epoch: 60 | State: OrderedDict([('linear_layer.weight', tensor([[0.6025]], device='cuda:0')), ('linear_layer.bias', tensor([0.3410], device='cuda:0'))]) | Loss: 0.019956795498728752 | Test loss: 0.045803118497133255\n",
            "Epoch: 70 | State: OrderedDict([('linear_layer.weight', tensor([[0.6196]], device='cuda:0')), ('linear_layer.bias', tensor([0.3340], device='cuda:0'))]) | Loss: 0.016517987474799156 | Test loss: 0.037530567497015\n",
            "Epoch: 80 | State: OrderedDict([('linear_layer.weight', tensor([[0.6366]], device='cuda:0')), ('linear_layer.bias', tensor([0.3265], device='cuda:0'))]) | Loss: 0.013089174404740334 | Test loss: 0.02994490973651409\n",
            "Epoch: 90 | State: OrderedDict([('linear_layer.weight', tensor([[0.6537]], device='cuda:0')), ('linear_layer.bias', tensor([0.3195], device='cuda:0'))]) | Loss: 0.009653178043663502 | Test loss: 0.02167237363755703\n",
            "Epoch: 100 | State: OrderedDict([('linear_layer.weight', tensor([[0.6707]], device='cuda:0')), ('linear_layer.bias', tensor([0.3120], device='cuda:0'))]) | Loss: 0.006215683650225401 | Test loss: 0.014086711220443249\n",
            "Epoch: 110 | State: OrderedDict([('linear_layer.weight', tensor([[0.6878]], device='cuda:0')), ('linear_layer.bias', tensor([0.3050], device='cuda:0'))]) | Loss: 0.00278724217787385 | Test loss: 0.005814164876937866\n",
            "Epoch: 120 | State: OrderedDict([('linear_layer.weight', tensor([[0.6929]], device='cuda:0')), ('linear_layer.bias', tensor([0.2925], device='cuda:0'))]) | Loss: 0.0012645035749301314 | Test loss: 0.013801801018416882\n",
            "Epoch: 130 | State: OrderedDict([('linear_layer.weight', tensor([[0.6929]], device='cuda:0')), ('linear_layer.bias', tensor([0.2925], device='cuda:0'))]) | Loss: 0.0012645035749301314 | Test loss: 0.013801801018416882\n",
            "Epoch: 140 | State: OrderedDict([('linear_layer.weight', tensor([[0.6929]], device='cuda:0')), ('linear_layer.bias', tensor([0.2925], device='cuda:0'))]) | Loss: 0.0012645035749301314 | Test loss: 0.013801801018416882\n",
            "Epoch: 150 | State: OrderedDict([('linear_layer.weight', tensor([[0.6929]], device='cuda:0')), ('linear_layer.bias', tensor([0.2925], device='cuda:0'))]) | Loss: 0.0012645035749301314 | Test loss: 0.013801801018416882\n",
            "Epoch: 160 | State: OrderedDict([('linear_layer.weight', tensor([[0.6929]], device='cuda:0')), ('linear_layer.bias', tensor([0.2925], device='cuda:0'))]) | Loss: 0.0012645035749301314 | Test loss: 0.013801801018416882\n",
            "Epoch: 170 | State: OrderedDict([('linear_layer.weight', tensor([[0.6929]], device='cuda:0')), ('linear_layer.bias', tensor([0.2925], device='cuda:0'))]) | Loss: 0.0012645035749301314 | Test loss: 0.013801801018416882\n",
            "Epoch: 180 | State: OrderedDict([('linear_layer.weight', tensor([[0.6929]], device='cuda:0')), ('linear_layer.bias', tensor([0.2925], device='cuda:0'))]) | Loss: 0.0012645035749301314 | Test loss: 0.013801801018416882\n",
            "Epoch: 190 | State: OrderedDict([('linear_layer.weight', tensor([[0.6929]], device='cuda:0')), ('linear_layer.bias', tensor([0.2925], device='cuda:0'))]) | Loss: 0.0012645035749301314 | Test loss: 0.013801801018416882\n"
          ]
        }
      ]
    },
    {
      "cell_type": "markdown",
      "source": [
        "### Making evaluation on predictions"
      ],
      "metadata": {
        "id": "uM7k96iNqLxM"
      }
    },
    {
      "cell_type": "code",
      "source": [
        "# Turn model into eval mode\n",
        "model_1.eval()\n",
        "\n",
        "# Make predictions on the test data\n",
        "with torch.inference_mode():\n",
        "  y_preds = model_1(X_test)\n",
        "\n",
        "y_preds"
      ],
      "metadata": {
        "colab": {
          "base_uri": "https://localhost:8080/"
        },
        "id": "91zK3rGmqdbO",
        "outputId": "ba7ea75a-2f8e-45d4-cf86-9f29cda37c5a"
      },
      "execution_count": 33,
      "outputs": [
        {
          "output_type": "execute_result",
          "data": {
            "text/plain": [
              "tensor([[0.8600],\n",
              "        [0.8739],\n",
              "        [0.8878],\n",
              "        [0.9018],\n",
              "        [0.9157],\n",
              "        [0.9296],\n",
              "        [0.9436],\n",
              "        [0.9575],\n",
              "        [0.9714],\n",
              "        [0.9854]], device='cuda:0')"
            ]
          },
          "metadata": {},
          "execution_count": 33
        }
      ]
    },
    {
      "cell_type": "markdown",
      "source": [
        "> **Note:** `matplotlib` uses `numpy` so the data need to be passed to the CPU first."
      ],
      "metadata": {
        "id": "J6xw67KErESu"
      }
    },
    {
      "cell_type": "code",
      "source": [
        "# Check out the plot\n",
        "plot_predictions(predictions=y_preds.cpu())"
      ],
      "metadata": {
        "colab": {
          "base_uri": "https://localhost:8080/",
          "height": 599
        },
        "id": "pZ_EoUfFq0Ro",
        "outputId": "03ea212b-ddca-4980-fd88-28d58336aa67"
      },
      "execution_count": 34,
      "outputs": [
        {
          "output_type": "display_data",
          "data": {
            "text/plain": [
              "<Figure size 1000x700 with 1 Axes>"
            ],
            "image/png": "[encoded data removed]"
          },
          "metadata": {}
        }
      ]
    },
    {
      "cell_type": "markdown",
      "source": [
        "### Saving and loading the model"
      ],
      "metadata": {
        "id": "34jCwZafrZBR"
      }
    },
    {
      "cell_type": "code",
      "source": [
        "# Create save path\n",
        "from pathlib import Path\n",
        "\n",
        "MODEL_PATH = Path(\"models\")\n",
        "MODEL_PATH.mkdir(parents=True, exist_ok=True)\n",
        "\n",
        "MODEL_NAME = \"01_pytorch_workflow_model_1.pth\"\n",
        "MODEL_SAVE_PATH = MODEL_PATH / MODEL_NAME\n",
        "\n",
        "MODEL_SAVE_PATH"
      ],
      "metadata": {
        "colab": {
          "base_uri": "https://localhost:8080/"
        },
        "id": "KgkW17mlrbc3",
        "outputId": "a681f22e-522f-4e1c-b66d-da8025b9e073"
      },
      "execution_count": 35,
      "outputs": [
        {
          "output_type": "execute_result",
          "data": {
            "text/plain": [
              "PosixPath('models/01_pytorch_workflow_model_1.pth')"
            ]
          },
          "metadata": {},
          "execution_count": 35
        }
      ]
    },
    {
      "cell_type": "code",
      "source": [
        "# Save the model\n",
        "torch.save(obj=model_1.state_dict(),\n",
        "           f=MODEL_SAVE_PATH)"
      ],
      "metadata": {
        "id": "U4GihtX2sPlP"
      },
      "execution_count": 36,
      "outputs": []
    },
    {
      "cell_type": "code",
      "source": [
        "# Load the model\n",
        "loaded_model_1 = LinearRegressionModelV2()\n",
        "loaded_model_1.load_state_dict(torch.load(f=MODEL_SAVE_PATH))\n",
        "\n",
        "# Put loaded model in device\n",
        "loaded_model_1.to(device)"
      ],
      "metadata": {
        "colab": {
          "base_uri": "https://localhost:8080/"
        },
        "id": "QQnA6kjGs1e3",
        "outputId": "44c20183-b16b-4935-a73a-8b564d3dd65b"
      },
      "execution_count": 37,
      "outputs": [
        {
          "output_type": "execute_result",
          "data": {
            "text/plain": [
              "LinearRegressionModelV2(\n",
              "  (linear_layer): Linear(in_features=1, out_features=1, bias=True)\n",
              ")"
            ]
          },
          "metadata": {},
          "execution_count": 37
        }
      ]
    },
    {
      "cell_type": "code",
      "source": [
        "next(loaded_model_1.parameters()).device"
      ],
      "metadata": {
        "colab": {
          "base_uri": "https://localhost:8080/"
        },
        "id": "2jEFBt4eteUw",
        "outputId": "b73b420b-569d-4608-e4a7-dced880aa09c"
      },
      "execution_count": 38,
      "outputs": [
        {
          "output_type": "execute_result",
          "data": {
            "text/plain": [
              "device(type='cuda', index=0)"
            ]
          },
          "metadata": {},
          "execution_count": 38
        }
      ]
    },
    {
      "cell_type": "code",
      "source": [
        "loaded_model_1.state_dict()"
      ],
      "metadata": {
        "colab": {
          "base_uri": "https://localhost:8080/"
        },
        "id": "4P9CHT7mtlvD",
        "outputId": "e9b82cbe-1c8f-4d43-b918-7fa784e80fc1"
      },
      "execution_count": 39,
      "outputs": [
        {
          "output_type": "execute_result",
          "data": {
            "text/plain": [
              "OrderedDict([('linear_layer.weight', tensor([[0.6968]], device='cuda:0')),\n",
              "             ('linear_layer.bias', tensor([0.3025], device='cuda:0'))])"
            ]
          },
          "metadata": {},
          "execution_count": 39
        }
      ]
    },
    {
      "cell_type": "markdown",
      "source": [
        "## Exercises\n",
        "\n",
        "[Source](https://github.com/mrdbourke/pytorch-deep-learning/blob/main/01_pytorch_workflow.ipynb)"
      ],
      "metadata": {
        "id": "zn9YHlp6uDSM"
      }
    },
    {
      "cell_type": "code",
      "source": [
        "import torch\n",
        "from torch import nn\n",
        "import matplotlib.pyplot as plt"
      ],
      "metadata": {
        "id": "Geq66htauSpt"
      },
      "execution_count": 40,
      "outputs": []
    },
    {
      "cell_type": "code",
      "source": [
        "# Setup device-agnostic code\n",
        "device = \"cuda\" if torch.cuda.is_available() else \"cpu\"\n",
        "device"
      ],
      "metadata": {
        "colab": {
          "base_uri": "https://localhost:8080/",
          "height": 35
        },
        "id": "jAlkV2rUA7On",
        "outputId": "1f7aa75f-ad06-4a24-cc1b-d09117662216"
      },
      "execution_count": 41,
      "outputs": [
        {
          "output_type": "execute_result",
          "data": {
            "text/plain": [
              "'cuda'"
            ],
            "application/vnd.google.colaboratory.intrinsic+json": {
              "type": "string"
            }
          },
          "metadata": {},
          "execution_count": 41
        }
      ]
    },
    {
      "cell_type": "markdown",
      "source": [
        "1. Create a straight line dataset using the linear regression formula (`weight * X + bias`).\n",
        "\n",
        "* Set `weight=0.3` and `bias=0.9` there should be at least 100 datapoints total.\n",
        "* Split the data into 80% training, 20% testing.\n",
        "* Plot the training and testing data so it becomes visual"
      ],
      "metadata": {
        "id": "yYgmO0G4vEju"
      }
    },
    {
      "cell_type": "code",
      "source": [
        "# Create the data parameters\n",
        "weight = 0.3\n",
        "bias = 0.9\n",
        "# Make X and y using linear regression feature\n",
        "X = torch.arange(0,1,0.01).unsqueeze(dim = 1)\n",
        "y = weight * X + bias\n",
        "print(f\"Number of X samples: {len(X)}\")\n",
        "print(f\"Number of y samples: {len(y)}\")\n",
        "print(f\"First 10 X & y samples:\\nX: {X[:10]}\\ny: {y[:10]}\")"
      ],
      "metadata": {
        "colab": {
          "base_uri": "https://localhost:8080/"
        },
        "id": "oGbmPVBtvYYN",
        "outputId": "0deb76e4-5b1a-4944-d1a3-61d57bad9a53"
      },
      "execution_count": 42,
      "outputs": [
        {
          "output_type": "stream",
          "name": "stdout",
          "text": [
            "Number of X samples: 100\n",
            "Number of y samples: 100\n",
            "First 10 X & y samples:\n",
            "X: tensor([[0.0000],\n",
            "        [0.0100],\n",
            "        [0.0200],\n",
            "        [0.0300],\n",
            "        [0.0400],\n",
            "        [0.0500],\n",
            "        [0.0600],\n",
            "        [0.0700],\n",
            "        [0.0800],\n",
            "        [0.0900]])\n",
            "y: tensor([[0.9000],\n",
            "        [0.9030],\n",
            "        [0.9060],\n",
            "        [0.9090],\n",
            "        [0.9120],\n",
            "        [0.9150],\n",
            "        [0.9180],\n",
            "        [0.9210],\n",
            "        [0.9240],\n",
            "        [0.9270]])\n"
          ]
        }
      ]
    },
    {
      "cell_type": "code",
      "source": [
        "# Split the data into training and testing\n",
        "train_split = int(len(X) * 0.8)\n",
        "X_train = X[:train_split]\n",
        "y_train = y[:train_split]\n",
        "X_test = X[train_split:]\n",
        "y_test = y[train_split:]\n",
        "len(X_train),len(y_train),len(X_test),len(y_test)"
      ],
      "metadata": {
        "colab": {
          "base_uri": "https://localhost:8080/"
        },
        "id": "TTAb19UNG5bi",
        "outputId": "c323eea2-ab51-4e21-bf20-4c62613b91ca"
      },
      "execution_count": 43,
      "outputs": [
        {
          "output_type": "execute_result",
          "data": {
            "text/plain": [
              "(80, 80, 20, 20)"
            ]
          },
          "metadata": {},
          "execution_count": 43
        }
      ]
    },
    {
      "cell_type": "code",
      "source": [
        "# Plot the training and testing data\n",
        "def plot_predictions(train_data = X_train,\n",
        "                 train_labels = y_train,\n",
        "                 test_data = X_test,\n",
        "                 test_labels = y_test,\n",
        "                 predictions = None):\n",
        "  plt.figure(figsize = (10,7))\n",
        "  plt.scatter(train_data,train_labels,c = 'b',s = 4,label = \"Training data\")\n",
        "  plt.scatter(test_data,test_labels,c = 'g',s = 4,label = \"Test data\")\n",
        "\n",
        "  if predictions is not None:\n",
        "    plt.scatter(test_data,predictions,c = 'r',s = 4,label = \"Predictions\")\n",
        "  plt.legend(prop = {\"size\" : 14})\n",
        "plot_predictions()"
      ],
      "metadata": {
        "colab": {
          "base_uri": "https://localhost:8080/",
          "height": 599
        },
        "id": "CrEJJCY2G7t1",
        "outputId": "fde2d042-ed1c-4d42-bbc4-68a565bb3be5"
      },
      "execution_count": 44,
      "outputs": [
        {
          "output_type": "display_data",
          "data": {
            "text/plain": [
              "<Figure size 1000x700 with 1 Axes>"
            ],
            "image/png": "[encoded data removed]"
          },
          "metadata": {}
        }
      ]
    },
    {
      "cell_type": "markdown",
      "source": [
        "2. Build a PyTorch model by subclassing `nn.Module`.\n",
        "\n",
        "\n",
        "* Inside should be a randomly initialized `nn.Parameter()` with `requires_grad=True`, one for `weights` and one for `bias`.\n",
        "* Implement the `forward()` method to compute the linear regression function you used to create the dataset in 1.\n",
        "* Once you've constructed the model, make an instance of it and check its `state_dict()`.\n",
        "\n",
        "  > **Note:** If you'd like to use `nn.Linear()` instead of `nn.Parameter()` you can."
      ],
      "metadata": {
        "id": "BtKjWyt7zLES"
      }
    },
    {
      "cell_type": "code",
      "source": [
        "# Create PyTorch linear regression model by subclassing nn.Module\n",
        "class LinearRegressionModel(nn.Module):\n",
        "  def __init__(self):\n",
        "    super().__init__()\n",
        "    self.weight = nn.Parameter(data=torch.randn(1,\n",
        "                                              requires_grad=True,\n",
        "                                              dtype=torch.float\n",
        "                                              ))\n",
        "\n",
        "    self.bias = nn.Parameter(data=torch.randn(1,\n",
        "                                              requires_grad=True,\n",
        "                                              dtype=torch.float\n",
        "                                              ))\n",
        "\n",
        "  def forward(self, x):\n",
        "    return self.weight * x + self.bias\n",
        "\n",
        "torch.manual_seed(42)\n",
        "model_1 = LinearRegressionModel()\n",
        "model_1,model_1.state_dict()"
      ],
      "metadata": {
        "colab": {
          "base_uri": "https://localhost:8080/"
        },
        "id": "x4Ivb-tkG-s7",
        "outputId": "742d38ca-3e36-461b-fa13-777aac66ed51"
      },
      "execution_count": 45,
      "outputs": [
        {
          "output_type": "execute_result",
          "data": {
            "text/plain": [
              "(LinearRegressionModel(),\n",
              " OrderedDict([('weight', tensor([0.3367])), ('bias', tensor([0.1288]))]))"
            ]
          },
          "metadata": {},
          "execution_count": 45
        }
      ]
    },
    {
      "cell_type": "code",
      "source": [
        "next(model_1.parameters()).device"
      ],
      "metadata": {
        "colab": {
          "base_uri": "https://localhost:8080/"
        },
        "id": "LWEiPL5lHCqc",
        "outputId": "d38ef403-9a9a-4d2f-d91e-0490c177161b"
      },
      "execution_count": 46,
      "outputs": [
        {
          "output_type": "execute_result",
          "data": {
            "text/plain": [
              "device(type='cpu')"
            ]
          },
          "metadata": {},
          "execution_count": 46
        }
      ]
    },
    {
      "cell_type": "code",
      "source": [
        "# Instantiate the model and put it to the target device\n",
        "model_1.to(device)\n",
        "list(model_1.parameters())"
      ],
      "metadata": {
        "colab": {
          "base_uri": "https://localhost:8080/"
        },
        "id": "294KFDpOHDFP",
        "outputId": "1617e097-1b9a-4717-80c1-546ae06461fc"
      },
      "execution_count": 47,
      "outputs": [
        {
          "output_type": "execute_result",
          "data": {
            "text/plain": [
              "[Parameter containing:\n",
              " tensor([0.3367], device='cuda:0', requires_grad=True),\n",
              " Parameter containing:\n",
              " tensor([0.1288], device='cuda:0', requires_grad=True)]"
            ]
          },
          "metadata": {},
          "execution_count": 47
        }
      ]
    },
    {
      "cell_type": "markdown",
      "source": [
        "3. Create a loss function and optimizer using `nn.L1Loss()` and `torch.optim.SGD(params, lr)` respectively.\n",
        "\n",
        "\n",
        "* Set the learning rate of the optimizer to be 0.01 and the parameters to optimize should be the model parameters from the model you created in 2.\n",
        "* Write a training loop to perform the appropriate training steps for 300 epochs.\n",
        "* The training loop should test the model on the test dataset every 20 epochs.\n"
      ],
      "metadata": {
        "id": "1rg7lPQk2YR8"
      }
    },
    {
      "cell_type": "code",
      "source": [
        "# Create the loss function and optimizer\n",
        "loss_fn = nn.L1Loss()\n",
        "optimizer = torch.optim.SGD(params = model_1.parameters(),\n",
        "                            lr = 0.01)"
      ],
      "metadata": {
        "id": "JXa8kuhzHGTa"
      },
      "execution_count": 48,
      "outputs": []
    },
    {
      "cell_type": "code",
      "source": [
        "# Training loop\n",
        "# Train model for 300 epochs\n",
        "torch.manual_seed(42)\n",
        "\n",
        "epochs = 300\n",
        "\n",
        "# Send data to target device\n",
        "X_train = X_train.to(device)\n",
        "X_test = X_test.to(device)\n",
        "y_train = y_train.to(device)\n",
        "y_test = y_test.to(device)\n",
        "\n",
        "for epoch in range(epochs):\n",
        "  ### Training\n",
        "\n",
        "  # Put model in train mode\n",
        "  model_1.train()\n",
        "\n",
        "  # 1. Forward pass\n",
        "  y_pred = model_1(X_train)\n",
        "\n",
        "  # 2. Calculate loss\n",
        "  loss = loss_fn(y_pred,y_train)\n",
        "\n",
        "  # 3. Zero gradients\n",
        "  optimizer.zero_grad()\n",
        "\n",
        "  # 4. Backpropagation\n",
        "  loss.backward()\n",
        "\n",
        "  # 5. Step the optimizer\n",
        "  optimizer.step()\n",
        "\n",
        "  ### Perform testing every 20 epochs\n",
        "  if epoch % 20 == 0:\n",
        "    # Put model in evaluation mode and setup inference context\n",
        "    model_1.eval()\n",
        "    with torch.inference_mode():\n",
        "      # 1. Forward pass\n",
        "      y_preds = model_1(X_test)\n",
        "      # 2. Calculate test loss\n",
        "      test_loss = loss_fn(y_preds,y_test)\n",
        "      # Print out what's happening\n",
        "      print(f\"Epoch: {epoch} | Train loss: {loss:.3f} | Test loss: {test_loss:.3f}\")"
      ],
      "metadata": {
        "colab": {
          "base_uri": "https://localhost:8080/"
        },
        "id": "SR5BgCuCHIFU",
        "outputId": "2e3e115c-e0f6-4967-bd3a-e294e11fee09"
      },
      "execution_count": 49,
      "outputs": [
        {
          "output_type": "stream",
          "name": "stdout",
          "text": [
            "Epoch: 0 | Train loss: 0.757 | Test loss: 0.725\n",
            "Epoch: 20 | Train loss: 0.525 | Test loss: 0.454\n",
            "Epoch: 40 | Train loss: 0.294 | Test loss: 0.183\n",
            "Epoch: 60 | Train loss: 0.077 | Test loss: 0.073\n",
            "Epoch: 80 | Train loss: 0.053 | Test loss: 0.116\n",
            "Epoch: 100 | Train loss: 0.046 | Test loss: 0.105\n",
            "Epoch: 120 | Train loss: 0.039 | Test loss: 0.089\n",
            "Epoch: 140 | Train loss: 0.032 | Test loss: 0.074\n",
            "Epoch: 160 | Train loss: 0.025 | Test loss: 0.058\n",
            "Epoch: 180 | Train loss: 0.018 | Test loss: 0.042\n",
            "Epoch: 200 | Train loss: 0.011 | Test loss: 0.026\n",
            "Epoch: 220 | Train loss: 0.004 | Test loss: 0.009\n",
            "Epoch: 240 | Train loss: 0.004 | Test loss: 0.006\n",
            "Epoch: 260 | Train loss: 0.004 | Test loss: 0.006\n",
            "Epoch: 280 | Train loss: 0.004 | Test loss: 0.006\n"
          ]
        }
      ]
    },
    {
      "cell_type": "markdown",
      "source": [
        "4. Make predictions with the trained model on the test data.\n",
        "\n",
        "* Visualize these predictions against the original training and testing data (**note:** you may need to make sure the predictions are not on the GPU if you want to use non-CUDA-enabled libraries such as matplotlib to plot)."
      ],
      "metadata": {
        "id": "IdrkeYko88tl"
      }
    },
    {
      "cell_type": "code",
      "source": [
        "# Make predictions with the model\n",
        "model_1.eval()\n",
        "\n",
        "with torch.inference_mode():\n",
        "  y_preds = model_1(X_test)\n",
        "y_preds"
      ],
      "metadata": {
        "colab": {
          "base_uri": "https://localhost:8080/"
        },
        "id": "gGZ5-PbtHMCc",
        "outputId": "7102b4bc-2e9a-4df6-b672-120a404c27d6"
      },
      "execution_count": 50,
      "outputs": [
        {
          "output_type": "execute_result",
          "data": {
            "text/plain": [
              "tensor([[1.1464],\n",
              "        [1.1495],\n",
              "        [1.1525],\n",
              "        [1.1556],\n",
              "        [1.1587],\n",
              "        [1.1617],\n",
              "        [1.1648],\n",
              "        [1.1679],\n",
              "        [1.1709],\n",
              "        [1.1740],\n",
              "        [1.1771],\n",
              "        [1.1801],\n",
              "        [1.1832],\n",
              "        [1.1863],\n",
              "        [1.1893],\n",
              "        [1.1924],\n",
              "        [1.1955],\n",
              "        [1.1985],\n",
              "        [1.2016],\n",
              "        [1.2047]], device='cuda:0')"
            ]
          },
          "metadata": {},
          "execution_count": 50
        }
      ]
    },
    {
      "cell_type": "code",
      "source": [
        "# Plot the predictions (these may need to be on a specific device)\n",
        "plot_predictions(predictions = y_preds.cpu())"
      ],
      "metadata": {
        "id": "M6vyAgQSHnbL",
        "outputId": "9655c916-e454-45bc-81bd-6dc94552cca3",
        "colab": {
          "base_uri": "https://localhost:8080/",
          "height": 599
        }
      },
      "execution_count": 51,
      "outputs": [
        {
          "output_type": "display_data",
          "data": {
            "text/plain": [
              "<Figure size 1000x700 with 1 Axes>"
            ],
            "image/png": "[encoded data removed]"
          },
          "metadata": {}
        }
      ]
    },
    {
      "cell_type": "markdown",
      "source": [
        "\n",
        "5. Save your trained model's `state_dict()` to file.\n",
        "\n",
        "* Create a new instance of your model class you made in 2. and load in the `state_dict()` you just saved to it.\n",
        "* Perform predictions on your test data with the loaded model and confirm they match the original model predictions from 4.\n"
      ],
      "metadata": {
        "id": "5Gta6gNV4l7F"
      }
    },
    {
      "cell_type": "code",
      "source": [
        "from pathlib import Path\n",
        "\n",
        "# 1. Create models directory\n",
        "MODEL_PATH = Path(\"models\")\n",
        "MODEL_PATH.mkdir(parents = True,exist_ok = True)\n",
        "# 2. Create model save path\n",
        "MODEL_NAME = \"01_pytorch_workflow_model_1.pth\"\n",
        "MODEL_SAVE_PATH = MODEL_PATH / MODEL_NAME\n",
        "# 3. Save the model state dict\n",
        "print(f\"Saving model to {MODEL_SAVE_PATH}\")\n",
        "torch.save(obj = model_1.state_dict(),f = MODEL_SAVE_PATH)"
      ],
      "metadata": {
        "colab": {
          "base_uri": "https://localhost:8080/"
        },
        "id": "00_vMIV54si5",
        "outputId": "9944903e-2ee0-465e-a494-89afbb98311b"
      },
      "execution_count": 52,
      "outputs": [
        {
          "output_type": "stream",
          "name": "stdout",
          "text": [
            "Saving model to models/01_pytorch_workflow_model_1.pth\n"
          ]
        }
      ]
    },
    {
      "cell_type": "code",
      "source": [
        "# Create new instance of model and load saved state dict (make sure to put it on the target device)\n",
        "loaded_model = LinearRegressionModel()\n",
        "loaded_model.load_state_dict(torch.load(f = MODEL_SAVE_PATH))\n",
        "loaded_model.to(device)"
      ],
      "metadata": {
        "colab": {
          "base_uri": "https://localhost:8080/"
        },
        "id": "qLdbWj2_5Jah",
        "outputId": "f2e047ba-83cc-4e93-d5cb-1bd8df97803b"
      },
      "execution_count": 53,
      "outputs": [
        {
          "output_type": "execute_result",
          "data": {
            "text/plain": [
              "LinearRegressionModel()"
            ]
          },
          "metadata": {},
          "execution_count": 53
        }
      ]
    },
    {
      "cell_type": "code",
      "source": [
        "# Make predictions with loaded model and compare them to the previous\n",
        "y_preds_new = loaded_model(X_test)\n",
        "y_preds == y_preds_new"
      ],
      "metadata": {
        "colab": {
          "base_uri": "https://localhost:8080/"
        },
        "id": "fqtxX5LS5LcX",
        "outputId": "8fe38793-9b2f-4970-9f22-a9ab94b64f98"
      },
      "execution_count": 54,
      "outputs": [
        {
          "output_type": "execute_result",
          "data": {
            "text/plain": [
              "tensor([[True],\n",
              "        [True],\n",
              "        [True],\n",
              "        [True],\n",
              "        [True],\n",
              "        [True],\n",
              "        [True],\n",
              "        [True],\n",
              "        [True],\n",
              "        [True],\n",
              "        [True],\n",
              "        [True],\n",
              "        [True],\n",
              "        [True],\n",
              "        [True],\n",
              "        [True],\n",
              "        [True],\n",
              "        [True],\n",
              "        [True],\n",
              "        [True]], device='cuda:0')"
            ]
          },
          "metadata": {},
          "execution_count": 54
        }
      ]
    },
    {
      "cell_type": "markdown",
      "source": [
        "### Exercise (bis)"
      ],
      "metadata": {
        "id": "pxEw_59Y_Oaz"
      }
    },
    {
      "cell_type": "code",
      "source": [
        "import torch\n",
        "from torch import nn\n",
        "import matplotlib.pyplot as plt"
      ],
      "metadata": {
        "id": "hQ4SK450_Tqb"
      },
      "execution_count": 55,
      "outputs": []
    },
    {
      "cell_type": "code",
      "source": [
        "# Set up device agnostic code\n",
        "device = \"cuda\" if torch.cuda.is_available() else \"cpu\"\n",
        "device"
      ],
      "metadata": {
        "colab": {
          "base_uri": "https://localhost:8080/",
          "height": 35
        },
        "id": "VWWygOGX_buL",
        "outputId": "34d85a99-8f6a-470d-a8eb-7e3012e09fb5"
      },
      "execution_count": 56,
      "outputs": [
        {
          "output_type": "execute_result",
          "data": {
            "text/plain": [
              "'cuda'"
            ],
            "application/vnd.google.colaboratory.intrinsic+json": {
              "type": "string"
            }
          },
          "metadata": {},
          "execution_count": 56
        }
      ]
    },
    {
      "cell_type": "code",
      "source": [
        "# Create data\n",
        "weight = 0.3\n",
        "bias = 0.9\n",
        "\n",
        "X = torch.arange(start=0, end=1, step=0.01)\n",
        "y = weight * X + bias\n",
        "\n",
        "len(X), len(y)"
      ],
      "metadata": {
        "colab": {
          "base_uri": "https://localhost:8080/"
        },
        "id": "_OFdLpE5_rbT",
        "outputId": "7b0b7c06-6f43-424f-a6fe-bb2edca12592"
      },
      "execution_count": 57,
      "outputs": [
        {
          "output_type": "execute_result",
          "data": {
            "text/plain": [
              "(100, 100)"
            ]
          },
          "metadata": {},
          "execution_count": 57
        }
      ]
    },
    {
      "cell_type": "code",
      "source": [
        "# Split data\n",
        "train_split = int(0.8 * len(X))\n",
        "\n",
        "X_train, y_train = X[:train_split], y[:train_split]\n",
        "X_test, y_test = X[train_split:], y[train_split:]\n",
        "\n",
        "len(X_train), len(y_train), len(X_test), len(y_test)"
      ],
      "metadata": {
        "colab": {
          "base_uri": "https://localhost:8080/"
        },
        "id": "KbggBv9cAJHr",
        "outputId": "228677df-31fb-4a0a-d6d1-5d9feb460935"
      },
      "execution_count": 58,
      "outputs": [
        {
          "output_type": "execute_result",
          "data": {
            "text/plain": [
              "(80, 80, 20, 20)"
            ]
          },
          "metadata": {},
          "execution_count": 58
        }
      ]
    },
    {
      "cell_type": "code",
      "source": [
        "# Create model\n",
        "class LinearRegressionModel(nn.Module):\n",
        "  def __init__(self):\n",
        "    super().__init__()\n",
        "\n",
        "    self.weight = nn.Parameter(torch.randn(1, requires_grad=True, dtype=torch.float))\n",
        "\n",
        "    self.bias = nn.Parameter(torch.randn(1, requires_grad=True, dtype=torch.float))\n",
        "\n",
        "  def forward(self, x):\n",
        "    return self.weight * x + self.bias"
      ],
      "metadata": {
        "id": "rSSuiDNLAvyQ"
      },
      "execution_count": 59,
      "outputs": []
    },
    {
      "cell_type": "code",
      "source": [
        "torch.manual_seed(42)\n",
        "\n",
        "# Instantiate\n",
        "model_1 = LinearRegressionModel()\n",
        "\n",
        "model_1.state_dict()"
      ],
      "metadata": {
        "colab": {
          "base_uri": "https://localhost:8080/"
        },
        "id": "01AeCYzhCFNs",
        "outputId": "63de8f01-9c47-4b5b-b318-2264903e52ee"
      },
      "execution_count": 60,
      "outputs": [
        {
          "output_type": "execute_result",
          "data": {
            "text/plain": [
              "OrderedDict([('weight', tensor([0.3367])), ('bias', tensor([0.1288]))])"
            ]
          },
          "metadata": {},
          "execution_count": 60
        }
      ]
    },
    {
      "cell_type": "code",
      "source": [
        "# Move model to device\n",
        "model_1.to(device)\n",
        "\n",
        "next(model_1.parameters()).device"
      ],
      "metadata": {
        "colab": {
          "base_uri": "https://localhost:8080/"
        },
        "id": "eB0YD2viCs0b",
        "outputId": "fa6ebc0b-a53f-4742-ee96-d4cbc3bf93c7"
      },
      "execution_count": 61,
      "outputs": [
        {
          "output_type": "execute_result",
          "data": {
            "text/plain": [
              "device(type='cuda', index=0)"
            ]
          },
          "metadata": {},
          "execution_count": 61
        }
      ]
    },
    {
      "cell_type": "code",
      "source": [
        "# Create loss function\n",
        "loss_fn = nn.L1Loss()\n",
        "\n",
        "# Create optimizer\n",
        "optimizer = torch.optim.SGD(params=model_1.parameters(), lr=0.01)"
      ],
      "metadata": {
        "id": "kcuP24UcDpCM"
      },
      "execution_count": 62,
      "outputs": []
    },
    {
      "cell_type": "code",
      "source": [
        "# Training and testing loop\n",
        "epochs = 300\n",
        "\n",
        "X_train = X_train.to(device)\n",
        "X_test = X_test.to(device)\n",
        "y_train = y_train.to(device)\n",
        "y_test = y_test.to(device)\n",
        "\n",
        "for epoch in range(epochs):\n",
        "  # Set model to training mode\n",
        "  model_1.train()\n",
        "\n",
        "  # 1. Forward\n",
        "  y_pred = model_1(X_train)\n",
        "\n",
        "  # 2. Calculate loss\n",
        "  loss = loss_fn(y_pred, y_train)\n",
        "\n",
        "  # 3. Optimizer zero grad\n",
        "  optimizer.zero_grad()\n",
        "\n",
        "  # 4. Backpropagation\n",
        "  loss.backward()\n",
        "\n",
        "  # 5. Step optimizer\n",
        "  optimizer.step()\n",
        "\n",
        "  ### Testing\n",
        "  model_1.eval()\n",
        "  if epoch % 20 == 0:\n",
        "    with torch.inference_mode():\n",
        "      y_preds = model_1(X_test)\n",
        "      test_loss = loss_fn(y_preds, y_test)\n",
        "\n",
        "    # Printing\n",
        "    print(f\"Epoch: {epoch} | Loss: {loss} | Test loss: {test_loss}\\nState: {model_1.state_dict()}\")"
      ],
      "metadata": {
        "colab": {
          "base_uri": "https://localhost:8080/"
        },
        "id": "jBA7rwlhC6Rj",
        "outputId": "13089b7e-06cd-4c82-a263-d3f79794dab0"
      },
      "execution_count": 63,
      "outputs": [
        {
          "output_type": "stream",
          "name": "stdout",
          "text": [
            "Epoch: 0 | Loss: 0.7566978931427002 | Test loss: 0.7248174548149109\n",
            "State: OrderedDict([('weight', tensor([0.3406], device='cuda:0')), ('bias', tensor([0.1388], device='cuda:0'))])\n",
            "Epoch: 20 | Loss: 0.5254928469657898 | Test loss: 0.4541124403476715\n",
            "State: OrderedDict([('weight', tensor([0.4196], device='cuda:0')), ('bias', tensor([0.3388], device='cuda:0'))])\n",
            "Epoch: 40 | Loss: 0.2942880392074585 | Test loss: 0.18340764939785004\n",
            "State: OrderedDict([('weight', tensor([0.4986], device='cuda:0')), ('bias', tensor([0.5388], device='cuda:0'))])\n",
            "Epoch: 60 | Loss: 0.07658576965332031 | Test loss: 0.07274086028337479\n",
            "State: OrderedDict([('weight', tensor([0.5712], device='cuda:0')), ('bias', tensor([0.7301], device='cuda:0'))])\n",
            "Epoch: 80 | Loss: 0.05255373939871788 | Test loss: 0.11581540107727051\n",
            "State: OrderedDict([('weight', tensor([0.5570], device='cuda:0')), ('bias', tensor([0.7858], device='cuda:0'))])\n",
            "Epoch: 100 | Loss: 0.04554273188114166 | Test loss: 0.10467890650033951\n",
            "State: OrderedDict([('weight', tensor([0.5244], device='cuda:0')), ('bias', tensor([0.8038], device='cuda:0'))])\n",
            "Epoch: 120 | Loss: 0.038688670843839645 | Test loss: 0.08938358724117279\n",
            "State: OrderedDict([('weight', tensor([0.4906], device='cuda:0')), ('bias', tensor([0.8188], device='cuda:0'))])\n",
            "Epoch: 140 | Loss: 0.03183453530073166 | Test loss: 0.07408786565065384\n",
            "State: OrderedDict([('weight', tensor([0.4567], device='cuda:0')), ('bias', tensor([0.8338], device='cuda:0'))])\n",
            "Epoch: 160 | Loss: 0.024982361122965813 | Test loss: 0.0581042543053627\n",
            "State: OrderedDict([('weight', tensor([0.4227], device='cuda:0')), ('bias', tensor([0.8483], device='cuda:0'))])\n",
            "Epoch: 180 | Loss: 0.018130186945199966 | Test loss: 0.04212063178420067\n",
            "State: OrderedDict([('weight', tensor([0.3886], device='cuda:0')), ('bias', tensor([0.8628], device='cuda:0'))])\n",
            "Epoch: 200 | Loss: 0.011278990656137466 | Test loss: 0.02579306997358799\n",
            "State: OrderedDict([('weight', tensor([0.3545], device='cuda:0')), ('bias', tensor([0.8771], device='cuda:0'))])\n",
            "Epoch: 220 | Loss: 0.004429381340742111 | Test loss: 0.009467745199799538\n",
            "State: OrderedDict([('weight', tensor([0.3203], device='cuda:0')), ('bias', tensor([0.8913], device='cuda:0'))])\n",
            "Epoch: 240 | Loss: 0.00370177929289639 | Test loss: 0.006489444058388472\n",
            "State: OrderedDict([('weight', tensor([0.3027], device='cuda:0')), ('bias', tensor([0.8911], device='cuda:0'))])\n",
            "Epoch: 260 | Loss: 0.00370177929289639 | Test loss: 0.006489444058388472\n",
            "State: OrderedDict([('weight', tensor([0.3027], device='cuda:0')), ('bias', tensor([0.8911], device='cuda:0'))])\n",
            "Epoch: 280 | Loss: 0.00370177929289639 | Test loss: 0.006489444058388472\n",
            "State: OrderedDict([('weight', tensor([0.3027], device='cuda:0')), ('bias', tensor([0.8911], device='cuda:0'))])\n"
          ]
        }
      ]
    },
    {
      "cell_type": "code",
      "source": [
        "# Make predictions\n",
        "model_1.eval()\n",
        "with torch.inference_mode():\n",
        "  y_preds = model_1(X_test)\n",
        "\n",
        "plot_predictions(predictions = y_preds.cpu())"
      ],
      "metadata": {
        "colab": {
          "base_uri": "https://localhost:8080/",
          "height": 599
        },
        "id": "dsfIT2Rm5Wly",
        "outputId": "a9b45276-0e70-41ff-83d5-66c20a422bc1"
      },
      "execution_count": 64,
      "outputs": [
        {
          "output_type": "display_data",
          "data": {
            "text/plain": [
              "<Figure size 1000x700 with 1 Axes>"
            ],
            "image/png": "[encoded data removed]"
          },
          "metadata": {}
        }
      ]
    }
  ]
}