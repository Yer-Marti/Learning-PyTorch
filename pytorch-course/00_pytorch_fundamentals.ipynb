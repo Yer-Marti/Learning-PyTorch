{
  "nbformat": 4,
  "nbformat_minor": 0,
  "metadata": {
    "colab": {
      "provenance": [],
      "toc_visible": true,
      "gpuType": "T4"
    },
    "kernelspec": {
      "name": "python3",
      "display_name": "Python 3"
    },
    "language_info": {
      "name": "python"
    },
    "accelerator": "GPU"
  },
  "cells": [
    {
      "cell_type": "markdown",
      "source": [
        "# 00. PyTorch Fundamentals\n",
        "\n",
        "Course video - [Source](https://www.youtube.com/watch?v=Z_ikDlimN6A)\n",
        "\n",
        "GitHub Repo - [Source](https://github.com/Yer-Marti/PyTorch-Course)\n",
        "\n",
        "PyTorch Doc - [Source](https://pytorch.org/docs/stable/index.html)"
      ],
      "metadata": {
        "id": "TJQpPRujdMs9"
      }
    },
    {
      "cell_type": "markdown",
      "source": [
        "## Contents"
      ],
      "metadata": {
        "id": "7br1tYvaXhg_"
      }
    },
    {
      "cell_type": "markdown",
      "source": [
        "* [Contents](#scrollTo=7br1tYvaXhg_&line=1&uniqifier=1)\n",
        "* [Import libraries](#scrollTo=4BDE9GO3Xcvg&line=1&uniqifier=1)\n",
        "* [Random tensors](#scrollTo=pdcrYYcCggBG&line=1&uniqifier=1)\n",
        "* [Zeros and ones](#scrollTo=2iiW866xYhgG)\n",
        "* [Creating a range of tensors](#scrollTo=bS9KEV7uZU1y)\n",
        "* [Tensor datatypes](#scrollTo=Cv39Y3TXai0Z)\n",
        "* [Retrieving information of the tensors](#scrollTo=jxo-D0RufSRn)\n",
        "* [Manipulating tensors (tensor operations)](#scrollTo=U_xhnFhQha36)\n",
        "* [Errors with shape](#scrollTo=DQQTLx6KkgG7)\n",
        "* [Finding the min, max, mean, sum, etc (tensor aggregation)](#scrollTo=AnmV7qA6qt1H)\n",
        "* [Finding the positional min and max](#scrollTo=mXtS-f2zzk1U)\n",
        "* [Reshaping, stacking, squeezing and unsqueezing tensors](#scrollTo=mceJZ58a0-6B)\n",
        "* [Indexing (selecting data from tensors)](#scrollTo=KpaJ_2lMZZWv)\n",
        "* [PyTorch tensors and NumPy](#scrollTo=SQW-KQ2gsu-v)\n",
        "* [Reproducibility](#scrollTo=J0je9OiWxKVX)\n",
        "* [Running tensors and PyTorch objects on the GPUs](#scrollTo=ww8xVd6Tz3Hd)\n",
        "* [Exercises](#scrollTo=6svxlX516Dip)"
      ],
      "metadata": {
        "id": "JttTcsY3Xjnd"
      }
    },
    {
      "cell_type": "markdown",
      "source": [
        "## Import libraries"
      ],
      "metadata": {
        "id": "4BDE9GO3Xcvg"
      }
    },
    {
      "cell_type": "markdown",
      "source": [
        "Import the libraries we are going to use:"
      ],
      "metadata": {
        "id": "p47jgVE3fac1"
      }
    },
    {
      "cell_type": "code",
      "source": [
        "import torch\n",
        "import pandas as pd\n",
        "import numpy as np\n",
        "import matplotlib.pyplot as plt"
      ],
      "metadata": {
        "id": "BKeIHqROfkX7"
      },
      "execution_count": 1,
      "outputs": []
    },
    {
      "cell_type": "markdown",
      "source": [
        "## Introduction to Tensors\n",
        "\n",
        "### Creating tensors\n",
        "\n",
        "Tensors are created using `torch.tensor`"
      ],
      "metadata": {
        "id": "pdcrYYcCggBG"
      }
    },
    {
      "cell_type": "code",
      "source": [
        "# Scalar\n",
        "scalar = torch.tensor(7)\n",
        "scalar"
      ],
      "metadata": {
        "colab": {
          "base_uri": "https://localhost:8080/"
        },
        "id": "99LAmGetgu-q",
        "outputId": "ba7ac45e-b3ab-4d7c-d9ca-7905e6d0edb5"
      },
      "execution_count": 2,
      "outputs": [
        {
          "output_type": "execute_result",
          "data": {
            "text/plain": [
              "tensor(7)"
            ]
          },
          "metadata": {},
          "execution_count": 2
        }
      ]
    },
    {
      "cell_type": "code",
      "source": [
        "scalar.ndim"
      ],
      "metadata": {
        "colab": {
          "base_uri": "https://localhost:8080/"
        },
        "id": "H_UjGAW-ha1S",
        "outputId": "86cf9568-ff5a-41d1-cfe8-007da9c499c8"
      },
      "execution_count": 3,
      "outputs": [
        {
          "output_type": "execute_result",
          "data": {
            "text/plain": [
              "0"
            ]
          },
          "metadata": {},
          "execution_count": 3
        }
      ]
    },
    {
      "cell_type": "code",
      "source": [
        "# Retrieving the tensor as a Python int\n",
        "scalar.item()"
      ],
      "metadata": {
        "colab": {
          "base_uri": "https://localhost:8080/"
        },
        "id": "CssLoLVXhwh6",
        "outputId": "fdd09f32-4451-449d-8b66-75d99574f0f8"
      },
      "execution_count": 4,
      "outputs": [
        {
          "output_type": "execute_result",
          "data": {
            "text/plain": [
              "7"
            ]
          },
          "metadata": {},
          "execution_count": 4
        }
      ]
    },
    {
      "cell_type": "code",
      "source": [
        "# Vector\n",
        "vector = torch.tensor([7, 7])\n",
        "vector"
      ],
      "metadata": {
        "colab": {
          "base_uri": "https://localhost:8080/"
        },
        "id": "0F6yJOdkh6dm",
        "outputId": "ac039fb7-61c8-482b-edba-e0356411548d"
      },
      "execution_count": 5,
      "outputs": [
        {
          "output_type": "execute_result",
          "data": {
            "text/plain": [
              "tensor([7, 7])"
            ]
          },
          "metadata": {},
          "execution_count": 5
        }
      ]
    },
    {
      "cell_type": "code",
      "source": [
        "vector.ndim"
      ],
      "metadata": {
        "colab": {
          "base_uri": "https://localhost:8080/"
        },
        "id": "KKH5E2GXiRQg",
        "outputId": "d79fb2c3-e010-4c9e-82a5-e17dc2a550c8"
      },
      "execution_count": 6,
      "outputs": [
        {
          "output_type": "execute_result",
          "data": {
            "text/plain": [
              "1"
            ]
          },
          "metadata": {},
          "execution_count": 6
        }
      ]
    },
    {
      "cell_type": "markdown",
      "source": [
        "> **Note:** the dimension is given by \"the number of square brackets\""
      ],
      "metadata": {
        "id": "55l-8jtQib1T"
      }
    },
    {
      "cell_type": "code",
      "source": [
        "vector.shape"
      ],
      "metadata": {
        "colab": {
          "base_uri": "https://localhost:8080/"
        },
        "id": "PJ5BAw6EaV4K",
        "outputId": "1254bd34-bbf4-49f2-a863-fd4026a2a202"
      },
      "execution_count": 7,
      "outputs": [
        {
          "output_type": "execute_result",
          "data": {
            "text/plain": [
              "torch.Size([2])"
            ]
          },
          "metadata": {},
          "execution_count": 7
        }
      ]
    },
    {
      "cell_type": "code",
      "source": [
        "# MATRIX\n",
        "MATRIX = torch.tensor([[7, 8],\n",
        "                      [9, 10]])\n",
        "MATRIX"
      ],
      "metadata": {
        "colab": {
          "base_uri": "https://localhost:8080/"
        },
        "id": "Mrqnt-CUajHp",
        "outputId": "18bf72dd-76f2-4b1a-bf34-065fa98b8b71"
      },
      "execution_count": 8,
      "outputs": [
        {
          "output_type": "execute_result",
          "data": {
            "text/plain": [
              "tensor([[ 7,  8],\n",
              "        [ 9, 10]])"
            ]
          },
          "metadata": {},
          "execution_count": 8
        }
      ]
    },
    {
      "cell_type": "code",
      "source": [
        "MATRIX.ndim"
      ],
      "metadata": {
        "colab": {
          "base_uri": "https://localhost:8080/"
        },
        "id": "vgmBBXqoaw7W",
        "outputId": "bbba5eb3-6ae8-4b44-977c-6bff83dc8bbe"
      },
      "execution_count": 9,
      "outputs": [
        {
          "output_type": "execute_result",
          "data": {
            "text/plain": [
              "2"
            ]
          },
          "metadata": {},
          "execution_count": 9
        }
      ]
    },
    {
      "cell_type": "code",
      "source": [
        "MATRIX[0]"
      ],
      "metadata": {
        "colab": {
          "base_uri": "https://localhost:8080/"
        },
        "id": "27a5bAlRa2YB",
        "outputId": "e4a28765-2382-4c15-bb53-9ef28de5e461"
      },
      "execution_count": 10,
      "outputs": [
        {
          "output_type": "execute_result",
          "data": {
            "text/plain": [
              "tensor([7, 8])"
            ]
          },
          "metadata": {},
          "execution_count": 10
        }
      ]
    },
    {
      "cell_type": "markdown",
      "source": [
        "`MATRIX.shape` returns that the matrix is 2x2."
      ],
      "metadata": {
        "id": "o_IbbcHYbImH"
      }
    },
    {
      "cell_type": "code",
      "source": [
        "MATRIX.shape"
      ],
      "metadata": {
        "colab": {
          "base_uri": "https://localhost:8080/"
        },
        "id": "42iUFvVoa_yn",
        "outputId": "3c979761-31cb-45da-9925-240bce19a832"
      },
      "execution_count": 11,
      "outputs": [
        {
          "output_type": "execute_result",
          "data": {
            "text/plain": [
              "torch.Size([2, 2])"
            ]
          },
          "metadata": {},
          "execution_count": 11
        }
      ]
    },
    {
      "cell_type": "code",
      "source": [
        "# TENSOR\n",
        "TENSOR = torch.tensor([[[1, 2, 3],\n",
        "                        [3, 6, 9],\n",
        "                        [2, 4, 5]]])\n",
        "\n",
        "TENSOR"
      ],
      "metadata": {
        "colab": {
          "base_uri": "https://localhost:8080/"
        },
        "id": "-HrmTxg5bVex",
        "outputId": "7cd69736-64f6-46eb-c995-964c1d119a57"
      },
      "execution_count": 12,
      "outputs": [
        {
          "output_type": "execute_result",
          "data": {
            "text/plain": [
              "tensor([[[1, 2, 3],\n",
              "         [3, 6, 9],\n",
              "         [2, 4, 5]]])"
            ]
          },
          "metadata": {},
          "execution_count": 12
        }
      ]
    },
    {
      "cell_type": "markdown",
      "source": [
        "`TENSOR.ndim` returns the number of **dimensions** in the tensor. In other words, `TENSOR.shape` will return 3 values."
      ],
      "metadata": {
        "id": "OyA15-JUfeXS"
      }
    },
    {
      "cell_type": "code",
      "source": [
        "TENSOR.ndim"
      ],
      "metadata": {
        "colab": {
          "base_uri": "https://localhost:8080/"
        },
        "id": "BTJUXgQpbxY9",
        "outputId": "9fc94011-ccb6-4220-876d-8f46b6744200"
      },
      "execution_count": 13,
      "outputs": [
        {
          "output_type": "execute_result",
          "data": {
            "text/plain": [
              "3"
            ]
          },
          "metadata": {},
          "execution_count": 13
        }
      ]
    },
    {
      "cell_type": "markdown",
      "source": [
        "In this case, the first dimension is `1` because the first square bracket has a single element. The two remaining dimensions state that said element is a 3x3 matrix."
      ],
      "metadata": {
        "id": "A8-zwwS4cC3l"
      }
    },
    {
      "cell_type": "code",
      "source": [
        "TENSOR.shape"
      ],
      "metadata": {
        "colab": {
          "base_uri": "https://localhost:8080/"
        },
        "id": "xsesziTVb0O0",
        "outputId": "1e2ef509-06e9-40ab-99cb-a727ab8a3933"
      },
      "execution_count": 14,
      "outputs": [
        {
          "output_type": "execute_result",
          "data": {
            "text/plain": [
              "torch.Size([1, 3, 3])"
            ]
          },
          "metadata": {},
          "execution_count": 14
        }
      ]
    },
    {
      "cell_type": "markdown",
      "source": [
        "When printing the first element we can see that is an `array` (more or less) in the first position. The first square bracket is missing."
      ],
      "metadata": {
        "id": "RE74IPSdcnRp"
      }
    },
    {
      "cell_type": "code",
      "source": [
        "TENSOR[0]"
      ],
      "metadata": {
        "colab": {
          "base_uri": "https://localhost:8080/"
        },
        "id": "TtvgEhBpchfR",
        "outputId": "1bc38588-161a-474a-9c13-a3ef08312f99"
      },
      "execution_count": 15,
      "outputs": [
        {
          "output_type": "execute_result",
          "data": {
            "text/plain": [
              "tensor([[1, 2, 3],\n",
              "        [3, 6, 9],\n",
              "        [2, 4, 5]])"
            ]
          },
          "metadata": {},
          "execution_count": 15
        }
      ]
    },
    {
      "cell_type": "markdown",
      "source": [
        "Example to test tensors:"
      ],
      "metadata": {
        "id": "XjtIXNBvdPiS"
      }
    },
    {
      "cell_type": "code",
      "source": [
        "TENSOR_TEST = torch.tensor([[[1, 2, 3, 7]],\n",
        "                            [[4, 5, 6, 8]]])\n",
        "\n",
        "TENSOR_TEST"
      ],
      "metadata": {
        "colab": {
          "base_uri": "https://localhost:8080/"
        },
        "id": "6vTunrGUdcr3",
        "outputId": "7743847f-18d1-427d-887a-40ad0e2b9e6b"
      },
      "execution_count": 16,
      "outputs": [
        {
          "output_type": "execute_result",
          "data": {
            "text/plain": [
              "tensor([[[1, 2, 3, 7]],\n",
              "\n",
              "        [[4, 5, 6, 8]]])"
            ]
          },
          "metadata": {},
          "execution_count": 16
        }
      ]
    },
    {
      "cell_type": "code",
      "source": [
        "TENSOR_TEST.ndim"
      ],
      "metadata": {
        "colab": {
          "base_uri": "https://localhost:8080/"
        },
        "id": "r-DJ1GxzdvR-",
        "outputId": "27f2e2ed-3baa-4f6d-9959-123da447edfd"
      },
      "execution_count": 17,
      "outputs": [
        {
          "output_type": "execute_result",
          "data": {
            "text/plain": [
              "3"
            ]
          },
          "metadata": {},
          "execution_count": 17
        }
      ]
    },
    {
      "cell_type": "code",
      "source": [
        "TENSOR_TEST.shape"
      ],
      "metadata": {
        "colab": {
          "base_uri": "https://localhost:8080/"
        },
        "id": "xBMG_O4Ad6u-",
        "outputId": "4a5eba1b-2be3-4e97-8dfb-711c408fa77c"
      },
      "execution_count": 18,
      "outputs": [
        {
          "output_type": "execute_result",
          "data": {
            "text/plain": [
              "torch.Size([2, 1, 4])"
            ]
          },
          "metadata": {},
          "execution_count": 18
        }
      ]
    },
    {
      "cell_type": "code",
      "source": [
        "TENSOR_TEST[1]"
      ],
      "metadata": {
        "colab": {
          "base_uri": "https://localhost:8080/"
        },
        "id": "X1iXFB3Td8vS",
        "outputId": "9966be55-abe6-47b6-9204-31a26d67a4bc"
      },
      "execution_count": 19,
      "outputs": [
        {
          "output_type": "execute_result",
          "data": {
            "text/plain": [
              "tensor([[4, 5, 6, 8]])"
            ]
          },
          "metadata": {},
          "execution_count": 19
        }
      ]
    },
    {
      "cell_type": "markdown",
      "source": [
        "### Random tensors\n",
        "\n",
        "¿Why?\n",
        "\n",
        "They are important because the way most neural networks learn is by starting with completely random tensors and then hone the values so they represent better the data.\n",
        "\n",
        "`Start with random values -> observe data -> manipulate values -> observe data -> manipulate values`"
      ],
      "metadata": {
        "id": "zvKBuuuMVp9f"
      }
    },
    {
      "cell_type": "code",
      "source": [
        "# Creating a random tensor of size (3, 4)\n",
        "random_tensor = torch.rand(3, 4)\n",
        "random_tensor"
      ],
      "metadata": {
        "colab": {
          "base_uri": "https://localhost:8080/"
        },
        "id": "LYQ08OCiWiPH",
        "outputId": "f4db677a-2a0d-4ffe-d2ab-1509144d4b94"
      },
      "execution_count": 20,
      "outputs": [
        {
          "output_type": "execute_result",
          "data": {
            "text/plain": [
              "tensor([[0.1137, 0.2067, 0.7305, 0.9047],\n",
              "        [0.4261, 0.3717, 0.1036, 0.3532],\n",
              "        [0.2357, 0.8051, 0.0413, 0.1720]])"
            ]
          },
          "metadata": {},
          "execution_count": 20
        }
      ]
    },
    {
      "cell_type": "code",
      "source": [
        "random_tensor.ndim"
      ],
      "metadata": {
        "colab": {
          "base_uri": "https://localhost:8080/"
        },
        "id": "HJt93xhXW_Yi",
        "outputId": "7aeb0948-7319-4e69-82ca-0e8c09236592"
      },
      "execution_count": 21,
      "outputs": [
        {
          "output_type": "execute_result",
          "data": {
            "text/plain": [
              "2"
            ]
          },
          "metadata": {},
          "execution_count": 21
        }
      ]
    },
    {
      "cell_type": "code",
      "source": [
        "# Creating tensor of similar size of an image tensor\n",
        "random_image_size_tensor = torch.rand(size=(224, 224, 3)) # height, width, color channels (R, G, B)\n",
        "random_image_size_tensor.shape, random_image_size_tensor.ndim"
      ],
      "metadata": {
        "colab": {
          "base_uri": "https://localhost:8080/"
        },
        "id": "uLqoDMAxXWzI",
        "outputId": "e1f69793-d669-44ae-e2a1-d0b78ef9f42e"
      },
      "execution_count": 22,
      "outputs": [
        {
          "output_type": "execute_result",
          "data": {
            "text/plain": [
              "(torch.Size([224, 224, 3]), 3)"
            ]
          },
          "metadata": {},
          "execution_count": 22
        }
      ]
    },
    {
      "cell_type": "markdown",
      "source": [
        "### Zeros and ones"
      ],
      "metadata": {
        "id": "2iiW866xYhgG"
      }
    },
    {
      "cell_type": "code",
      "source": [
        "# Creating an all zeros tensor\n",
        "zeros = torch.zeros(size=(3, 4))\n",
        "zeros"
      ],
      "metadata": {
        "colab": {
          "base_uri": "https://localhost:8080/"
        },
        "id": "_eHZY9UZYkhZ",
        "outputId": "652022ca-85b5-49b6-e4ba-6bd359874898"
      },
      "execution_count": 23,
      "outputs": [
        {
          "output_type": "execute_result",
          "data": {
            "text/plain": [
              "tensor([[0., 0., 0., 0.],\n",
              "        [0., 0., 0., 0.],\n",
              "        [0., 0., 0., 0.]])"
            ]
          },
          "metadata": {},
          "execution_count": 23
        }
      ]
    },
    {
      "cell_type": "code",
      "source": [
        "# Creating an all ones tensor\n",
        "ones = torch.ones(size=(3, 4))\n",
        "ones"
      ],
      "metadata": {
        "colab": {
          "base_uri": "https://localhost:8080/"
        },
        "id": "fVJn5ICHYx7N",
        "outputId": "cd353a11-ee1e-43fd-e15d-28aac4c80abf"
      },
      "execution_count": 24,
      "outputs": [
        {
          "output_type": "execute_result",
          "data": {
            "text/plain": [
              "tensor([[1., 1., 1., 1.],\n",
              "        [1., 1., 1., 1.],\n",
              "        [1., 1., 1., 1.]])"
            ]
          },
          "metadata": {},
          "execution_count": 24
        }
      ]
    },
    {
      "cell_type": "code",
      "source": [
        "ones.dtype"
      ],
      "metadata": {
        "colab": {
          "base_uri": "https://localhost:8080/"
        },
        "id": "SDbtoaUsZAHv",
        "outputId": "24e88ba4-1503-4819-9fc3-5e5e204d6ca9"
      },
      "execution_count": 25,
      "outputs": [
        {
          "output_type": "execute_result",
          "data": {
            "text/plain": [
              "torch.float32"
            ]
          },
          "metadata": {},
          "execution_count": 25
        }
      ]
    },
    {
      "cell_type": "code",
      "source": [
        "random_tensor.dtype"
      ],
      "metadata": {
        "colab": {
          "base_uri": "https://localhost:8080/"
        },
        "id": "25B2hJhMZJgl",
        "outputId": "ce12d86c-1f84-4a63-8823-bf8b3d675dd2"
      },
      "execution_count": 26,
      "outputs": [
        {
          "output_type": "execute_result",
          "data": {
            "text/plain": [
              "torch.float32"
            ]
          },
          "metadata": {},
          "execution_count": 26
        }
      ]
    },
    {
      "cell_type": "markdown",
      "source": [
        "### Creating a range of tensors"
      ],
      "metadata": {
        "id": "bS9KEV7uZU1y"
      }
    },
    {
      "cell_type": "code",
      "source": [
        "# Use torch.range()\n",
        "one_to_ten = torch.arange(start=1, end=11, step=1)\n",
        "one_to_ten"
      ],
      "metadata": {
        "colab": {
          "base_uri": "https://localhost:8080/"
        },
        "id": "3Tu6zPvxZbFL",
        "outputId": "e92c4a4e-4ee8-4a7a-c9d5-fbf08c63a931"
      },
      "execution_count": 27,
      "outputs": [
        {
          "output_type": "execute_result",
          "data": {
            "text/plain": [
              "tensor([ 1,  2,  3,  4,  5,  6,  7,  8,  9, 10])"
            ]
          },
          "metadata": {},
          "execution_count": 27
        }
      ]
    },
    {
      "cell_type": "code",
      "source": [
        "# Creating tensors from other tensors\n",
        "ten_zeros = torch.zeros_like(input=one_to_ten)\n",
        "ten_zeros"
      ],
      "metadata": {
        "colab": {
          "base_uri": "https://localhost:8080/"
        },
        "id": "LmCE6OzLZ8D-",
        "outputId": "99e0f779-677e-42dc-f475-86c264004c31"
      },
      "execution_count": 28,
      "outputs": [
        {
          "output_type": "execute_result",
          "data": {
            "text/plain": [
              "tensor([0, 0, 0, 0, 0, 0, 0, 0, 0, 0])"
            ]
          },
          "metadata": {},
          "execution_count": 28
        }
      ]
    },
    {
      "cell_type": "code",
      "source": [
        "one_to_ten.shape, ten_zeros.shape"
      ],
      "metadata": {
        "colab": {
          "base_uri": "https://localhost:8080/"
        },
        "id": "3ETp7cUTaSHz",
        "outputId": "50b3b649-48e7-4929-a43a-569303988c49"
      },
      "execution_count": 29,
      "outputs": [
        {
          "output_type": "execute_result",
          "data": {
            "text/plain": [
              "(torch.Size([10]), torch.Size([10]))"
            ]
          },
          "metadata": {},
          "execution_count": 29
        }
      ]
    },
    {
      "cell_type": "markdown",
      "source": [
        "### Tensor datatypes\n",
        "\n",
        "Tensor datatypes are one of the 3 big mistakes we are going to run into in PyTorch and Deep Learning:\n",
        "\n",
        "1. Tensors don't have correct `datatype`\n",
        "2. Tensors don't have correct `shape`\n",
        "3. Tensors aren't in the correct `device`\n",
        "\n",
        "This is connected to computer precision."
      ],
      "metadata": {
        "id": "Cv39Y3TXai0Z"
      }
    },
    {
      "cell_type": "code",
      "source": [
        "# Float 32 tensor\n",
        "float_32_tensor = torch.tensor([3.0, 6.0, 9.0],\n",
        "                               dtype=torch.float32, # Datatype of the tensor\n",
        "                               device=None,         # CPU, GPU (cuda), TPU\n",
        "                               requires_grad=False) # Wether we want Python to track the tensor gradients\n",
        "float_32_tensor"
      ],
      "metadata": {
        "colab": {
          "base_uri": "https://localhost:8080/"
        },
        "id": "xy2_RCsYamPj",
        "outputId": "bf2da28d-bb3a-4aae-8f46-724f09d81ba6"
      },
      "execution_count": 30,
      "outputs": [
        {
          "output_type": "execute_result",
          "data": {
            "text/plain": [
              "tensor([3., 6., 9.])"
            ]
          },
          "metadata": {},
          "execution_count": 30
        }
      ]
    },
    {
      "cell_type": "code",
      "source": [
        "float_32_tensor.dtype"
      ],
      "metadata": {
        "colab": {
          "base_uri": "https://localhost:8080/"
        },
        "id": "vwcBK2Vka5Go",
        "outputId": "22f5a023-4407-4235-b401-64d9a535dbc6"
      },
      "execution_count": 31,
      "outputs": [
        {
          "output_type": "execute_result",
          "data": {
            "text/plain": [
              "torch.float32"
            ]
          },
          "metadata": {},
          "execution_count": 31
        }
      ]
    },
    {
      "cell_type": "code",
      "source": [
        "float_16_tensor = float_32_tensor.type(torch.float16)\n",
        "float_16_tensor"
      ],
      "metadata": {
        "colab": {
          "base_uri": "https://localhost:8080/"
        },
        "id": "R4N8cAxVdRCF",
        "outputId": "903ecd48-44e7-46c7-9897-7deebc6e3fa3"
      },
      "execution_count": 32,
      "outputs": [
        {
          "output_type": "execute_result",
          "data": {
            "text/plain": [
              "tensor([3., 6., 9.], dtype=torch.float16)"
            ]
          },
          "metadata": {},
          "execution_count": 32
        }
      ]
    },
    {
      "cell_type": "markdown",
      "source": [
        "Test with tensor's datatype:"
      ],
      "metadata": {
        "id": "kggWEHfPd3l7"
      }
    },
    {
      "cell_type": "code",
      "source": [
        "res_tensor = float_16_tensor * float_32_tensor\n",
        "res_tensor, res_tensor.shape, res_tensor.ndim, res_tensor.dtype"
      ],
      "metadata": {
        "colab": {
          "base_uri": "https://localhost:8080/"
        },
        "id": "9zBc__2IdpcA",
        "outputId": "1771114e-de45-4c0d-f9af-2045b6ae1a12"
      },
      "execution_count": 33,
      "outputs": [
        {
          "output_type": "execute_result",
          "data": {
            "text/plain": [
              "(tensor([ 9., 36., 81.]), torch.Size([3]), 1, torch.float32)"
            ]
          },
          "metadata": {},
          "execution_count": 33
        }
      ]
    },
    {
      "cell_type": "code",
      "source": [
        "long_tensor = torch.tensor([3, 6, 9], dtype=torch.long)\n",
        "long_tensor * float_16_tensor"
      ],
      "metadata": {
        "colab": {
          "base_uri": "https://localhost:8080/"
        },
        "id": "DYH1DsOnetWC",
        "outputId": "2fa59e12-6b91-4ba4-f4e2-0cfe5e83e26e"
      },
      "execution_count": 34,
      "outputs": [
        {
          "output_type": "execute_result",
          "data": {
            "text/plain": [
              "tensor([ 9., 36., 81.], dtype=torch.float16)"
            ]
          },
          "metadata": {},
          "execution_count": 34
        }
      ]
    },
    {
      "cell_type": "markdown",
      "source": [
        "### Retrieving information of the tensors\n",
        "\n",
        "1. To get the **datatype** of a tensor, we use `tensor.dtype`\n",
        "1. To get the **shape** of a tensor, we use `tensor.shape`\n",
        "1. To get the **device** of a tensor, we use `tensor.device`"
      ],
      "metadata": {
        "id": "jxo-D0RufSRn"
      }
    },
    {
      "cell_type": "code",
      "source": [
        "# Creating the tensor\n",
        "some_tensor = torch.rand(size=(3, 4)) # we can omit the `size`\n",
        "\n",
        "# Retrieving its attributes\n",
        "print(some_tensor)\n",
        "print(f\"Datatype: {some_tensor.dtype}\\nShape: {some_tensor.shape}\\nDevice: {some_tensor.device}\")"
      ],
      "metadata": {
        "colab": {
          "base_uri": "https://localhost:8080/"
        },
        "id": "rgGCJ5FAfrD1",
        "outputId": "7d88ba29-8bd2-40e5-d15b-3abd6fae1244"
      },
      "execution_count": 35,
      "outputs": [
        {
          "output_type": "stream",
          "name": "stdout",
          "text": [
            "tensor([[0.0180, 0.3757, 0.0822, 0.0489],\n",
            "        [0.7535, 0.9408, 0.6930, 0.5205],\n",
            "        [0.3025, 0.0926, 0.2329, 0.9195]])\n",
            "Datatype: torch.float32\n",
            "Shape: torch.Size([3, 4])\n",
            "Device: cpu\n"
          ]
        }
      ]
    },
    {
      "cell_type": "markdown",
      "source": [
        "### Manipulating tensors (tensor operations)\n",
        "\n",
        "Operations include:\n",
        "\n",
        "* Sum\n",
        "* Substraction\n",
        "* Multiplication (of elements)\n",
        "* Division\n",
        "* Matrix multiplication"
      ],
      "metadata": {
        "id": "U_xhnFhQha36"
      }
    },
    {
      "cell_type": "code",
      "source": [
        "# Creating the tensor\n",
        "tensor = torch.tensor([1, 2, 3])\n",
        "tensor"
      ],
      "metadata": {
        "colab": {
          "base_uri": "https://localhost:8080/"
        },
        "id": "2emfcbN0iN2G",
        "outputId": "31b32418-03aa-4956-bfdf-784c31bf5025"
      },
      "execution_count": 36,
      "outputs": [
        {
          "output_type": "execute_result",
          "data": {
            "text/plain": [
              "tensor([1, 2, 3])"
            ]
          },
          "metadata": {},
          "execution_count": 36
        }
      ]
    },
    {
      "cell_type": "code",
      "source": [
        "# Sum\n",
        "tensor + 10"
      ],
      "metadata": {
        "colab": {
          "base_uri": "https://localhost:8080/"
        },
        "id": "lCFENbHMioeN",
        "outputId": "930bade9-4626-4744-c0eb-bf68140c3887"
      },
      "execution_count": 37,
      "outputs": [
        {
          "output_type": "execute_result",
          "data": {
            "text/plain": [
              "tensor([11, 12, 13])"
            ]
          },
          "metadata": {},
          "execution_count": 37
        }
      ]
    },
    {
      "cell_type": "code",
      "source": [
        "# Subtract\n",
        "tensor - 10"
      ],
      "metadata": {
        "colab": {
          "base_uri": "https://localhost:8080/"
        },
        "id": "fGmCtVgziwip",
        "outputId": "70db95e9-9f2f-48b7-b8a7-f97b12492736"
      },
      "execution_count": 38,
      "outputs": [
        {
          "output_type": "execute_result",
          "data": {
            "text/plain": [
              "tensor([-9, -8, -7])"
            ]
          },
          "metadata": {},
          "execution_count": 38
        }
      ]
    },
    {
      "cell_type": "code",
      "source": [
        "# Multiply\n",
        "tensor * 10"
      ],
      "metadata": {
        "colab": {
          "base_uri": "https://localhost:8080/"
        },
        "id": "DQASncZ_ien_",
        "outputId": "f3844e65-af8e-4003-cc57-9a657b99457a"
      },
      "execution_count": 39,
      "outputs": [
        {
          "output_type": "execute_result",
          "data": {
            "text/plain": [
              "tensor([10, 20, 30])"
            ]
          },
          "metadata": {},
          "execution_count": 39
        }
      ]
    },
    {
      "cell_type": "code",
      "source": [
        "# Divide\n",
        "tensor / 2"
      ],
      "metadata": {
        "colab": {
          "base_uri": "https://localhost:8080/"
        },
        "id": "mkTF7BtCjTCz",
        "outputId": "cef4e36a-953c-4c17-fbb4-b63e81a8939a"
      },
      "execution_count": 40,
      "outputs": [
        {
          "output_type": "execute_result",
          "data": {
            "text/plain": [
              "tensor([0.5000, 1.0000, 1.5000])"
            ]
          },
          "metadata": {},
          "execution_count": 40
        }
      ]
    },
    {
      "cell_type": "code",
      "source": [
        "# Testing functions of PyTorch\n",
        "torch.mul(tensor, 10)"
      ],
      "metadata": {
        "colab": {
          "base_uri": "https://localhost:8080/"
        },
        "id": "CNmfUGVCjALH",
        "outputId": "53ba4d22-d566-41fc-c738-9f684c80a7aa"
      },
      "execution_count": 41,
      "outputs": [
        {
          "output_type": "execute_result",
          "data": {
            "text/plain": [
              "tensor([10, 20, 30])"
            ]
          },
          "metadata": {},
          "execution_count": 41
        }
      ]
    },
    {
      "cell_type": "markdown",
      "source": [
        "#### Matrix multiplication\n",
        "\n",
        "Two main ways for matrix multiplication:\n",
        "\n",
        "1. Element-wise (value ⋅ matrix)\n",
        "2. Matrix multiplication (matrix ⋅ matrix)"
      ],
      "metadata": {
        "id": "cxq1ZkN4jhnH"
      }
    },
    {
      "cell_type": "code",
      "source": [
        "# Element-wise\n",
        "print(f\"{tensor} * {tensor} = {tensor * tensor}\")"
      ],
      "metadata": {
        "colab": {
          "base_uri": "https://localhost:8080/"
        },
        "id": "6T9B5TnbkHIl",
        "outputId": "afe96470-6186-4da5-942b-73947ca2d762"
      },
      "execution_count": 42,
      "outputs": [
        {
          "output_type": "stream",
          "name": "stdout",
          "text": [
            "tensor([1, 2, 3]) * tensor([1, 2, 3]) = tensor([1, 4, 9])\n"
          ]
        }
      ]
    },
    {
      "cell_type": "code",
      "source": [
        "# Matrix multiplication\n",
        "torch.matmul(tensor, tensor)"
      ],
      "metadata": {
        "colab": {
          "base_uri": "https://localhost:8080/"
        },
        "id": "1Tl6e-o7lZ3Y",
        "outputId": "49de2c02-9926-460a-a22a-e4f8c0ebf205"
      },
      "execution_count": 43,
      "outputs": [
        {
          "output_type": "execute_result",
          "data": {
            "text/plain": [
              "tensor(14)"
            ]
          },
          "metadata": {},
          "execution_count": 43
        }
      ]
    },
    {
      "cell_type": "markdown",
      "source": [
        "By hand:"
      ],
      "metadata": {
        "id": "ZCzNqxEal8Vr"
      }
    },
    {
      "cell_type": "code",
      "source": [
        "tensor[0] * tensor[0] + tensor[1] * tensor[1] + tensor[2] * tensor[2]"
      ],
      "metadata": {
        "colab": {
          "base_uri": "https://localhost:8080/"
        },
        "id": "TqopNDaNl-jx",
        "outputId": "73d2d924-b878-4511-bf05-7eeb394d623f"
      },
      "execution_count": 44,
      "outputs": [
        {
          "output_type": "execute_result",
          "data": {
            "text/plain": [
              "tensor(14)"
            ]
          },
          "metadata": {},
          "execution_count": 44
        }
      ]
    },
    {
      "cell_type": "markdown",
      "source": [
        "We can compare the time necessary for each method:"
      ],
      "metadata": {
        "id": "z-0jwUVKmbCL"
      }
    },
    {
      "cell_type": "code",
      "source": [
        "# By hand\n",
        "\n",
        "%%time\n",
        "value = 0\n",
        "for i in range(len(tensor)):\n",
        "  value += tensor[i] * tensor[i]\n",
        "print(value)"
      ],
      "metadata": {
        "colab": {
          "base_uri": "https://localhost:8080/"
        },
        "id": "9abcmZLMmisr",
        "outputId": "10e8a134-8767-4b5b-8226-b1e9d37d23c1"
      },
      "execution_count": 45,
      "outputs": [
        {
          "output_type": "stream",
          "name": "stdout",
          "text": [
            "tensor(14)\n",
            "CPU times: user 373 µs, sys: 58 µs, total: 431 µs\n",
            "Wall time: 438 µs\n"
          ]
        }
      ]
    },
    {
      "cell_type": "code",
      "source": [
        "# PyTorch\n",
        "\n",
        "%%time\n",
        "torch.matmul(tensor, tensor)"
      ],
      "metadata": {
        "colab": {
          "base_uri": "https://localhost:8080/"
        },
        "id": "sc1_PAMOm2_W",
        "outputId": "c79bc7ce-4ac7-440a-ce1b-ef69d1febe3f"
      },
      "execution_count": 46,
      "outputs": [
        {
          "output_type": "stream",
          "name": "stdout",
          "text": [
            "CPU times: user 33 µs, sys: 5 µs, total: 38 µs\n",
            "Wall time: 41.2 µs\n"
          ]
        },
        {
          "output_type": "execute_result",
          "data": {
            "text/plain": [
              "tensor(14)"
            ]
          },
          "metadata": {},
          "execution_count": 46
        }
      ]
    },
    {
      "cell_type": "markdown",
      "source": [
        "### Errors with shape: one of the most common errors in Deep Learning\n",
        "\n",
        "1. The **inner dimensions** must match:\n",
        "* `(3, 2) @ (3, 2)` won't work\n",
        "* `(2, 3) @ (3, 2)` will work\n",
        "* `(3, 2) @ (2, 3)` will work\n",
        "\n",
        "2. The resultant matix will have the `shape` of the **outer dimensions**:\n",
        "* `(2, 3) @ (3, 2) -> (2, 2)`\n",
        "* `(3, 2) @ (2, 3) -> (3, 3)`"
      ],
      "metadata": {
        "id": "DQQTLx6KkgG7"
      }
    },
    {
      "cell_type": "code",
      "source": [
        "tensor @ tensor # Same as torch.matmul()"
      ],
      "metadata": {
        "colab": {
          "base_uri": "https://localhost:8080/"
        },
        "id": "BE2t-mIwk69i",
        "outputId": "d0f01fee-21b8-4583-fb1d-db603719f46d"
      },
      "execution_count": 47,
      "outputs": [
        {
          "output_type": "execute_result",
          "data": {
            "text/plain": [
              "tensor(14)"
            ]
          },
          "metadata": {},
          "execution_count": 47
        }
      ]
    },
    {
      "cell_type": "code",
      "source": [
        "torch.matmul(torch.rand(2, 3), torch.rand(3, 2))"
      ],
      "metadata": {
        "colab": {
          "base_uri": "https://localhost:8080/"
        },
        "id": "IUSLRJmYlZA3",
        "outputId": "566d37fd-5d0a-4c55-ec3f-53952e432ab3"
      },
      "execution_count": 48,
      "outputs": [
        {
          "output_type": "execute_result",
          "data": {
            "text/plain": [
              "tensor([[0.8821, 0.8822],\n",
              "        [1.3084, 1.1040]])"
            ]
          },
          "metadata": {},
          "execution_count": 48
        }
      ]
    },
    {
      "cell_type": "code",
      "source": [
        "# Shape for matrix multiplication\n",
        "tensor_A = torch.tensor([[1, 2],\n",
        "                         [3, 4],\n",
        "                         [5, 6]])\n",
        "\n",
        "tensor_B = torch.tensor([[7, 10],\n",
        "                         [8, 11],\n",
        "                         [9, 12]])\n",
        "\n",
        "torch.mm(tensor_A, tensor_B) # torch.mm is an alias for torch.matmul"
      ],
      "metadata": {
        "colab": {
          "base_uri": "https://localhost:8080/",
          "height": 180
        },
        "id": "16Ffv8YSm35G",
        "outputId": "894ef1cd-26da-4b25-ab0f-fdbfc9b11595"
      },
      "execution_count": 49,
      "outputs": [
        {
          "output_type": "error",
          "ename": "RuntimeError",
          "evalue": "mat1 and mat2 shapes cannot be multiplied (3x2 and 3x2)",
          "traceback": [
            "\u001b[0;31m---------------------------------------------------------------------------\u001b[0m",
            "\u001b[0;31mRuntimeError\u001b[0m                              Traceback (most recent call last)",
            "\u001b[0;32m<ipython-input-49-1a632da071aa>\u001b[0m in \u001b[0;36m<cell line: 10>\u001b[0;34m()\u001b[0m\n\u001b[1;32m      8\u001b[0m                          [9, 12]])\n\u001b[1;32m      9\u001b[0m \u001b[0;34m\u001b[0m\u001b[0m\n\u001b[0;32m---> 10\u001b[0;31m \u001b[0mtorch\u001b[0m\u001b[0;34m.\u001b[0m\u001b[0mmm\u001b[0m\u001b[0;34m(\u001b[0m\u001b[0mtensor_A\u001b[0m\u001b[0;34m,\u001b[0m \u001b[0mtensor_B\u001b[0m\u001b[0;34m)\u001b[0m \u001b[0;31m# torch.mm is an alias for torch.matmul\u001b[0m\u001b[0;34m\u001b[0m\u001b[0;34m\u001b[0m\u001b[0m\n\u001b[0m",
            "\u001b[0;31mRuntimeError\u001b[0m: mat1 and mat2 shapes cannot be multiplied (3x2 and 3x2)"
          ]
        }
      ]
    },
    {
      "cell_type": "code",
      "source": [
        "tensor_A.shape, tensor_B.shape"
      ],
      "metadata": {
        "colab": {
          "base_uri": "https://localhost:8080/"
        },
        "id": "3gEWDloInelr",
        "outputId": "63c91e19-d5eb-4734-de9b-e27b7d179b74"
      },
      "execution_count": 50,
      "outputs": [
        {
          "output_type": "execute_result",
          "data": {
            "text/plain": [
              "(torch.Size([3, 2]), torch.Size([3, 2]))"
            ]
          },
          "metadata": {},
          "execution_count": 50
        }
      ]
    },
    {
      "cell_type": "markdown",
      "source": [
        "To fix problems with the `shape` of tensors, we can manipulate the `shape` of one tensor using **transpose**.\n",
        "\n",
        "A **transpose** switches axes or dimensions of a given tensor."
      ],
      "metadata": {
        "id": "WIwSEGDPn0fw"
      }
    },
    {
      "cell_type": "code",
      "source": [
        "tensor_B, tensor_B.shape"
      ],
      "metadata": {
        "colab": {
          "base_uri": "https://localhost:8080/"
        },
        "id": "FqfaE30qoIyj",
        "outputId": "5c6b67d7-e4dc-4598-b746-6096fcbdb6a2"
      },
      "execution_count": 51,
      "outputs": [
        {
          "output_type": "execute_result",
          "data": {
            "text/plain": [
              "(tensor([[ 7, 10],\n",
              "         [ 8, 11],\n",
              "         [ 9, 12]]),\n",
              " torch.Size([3, 2]))"
            ]
          },
          "metadata": {},
          "execution_count": 51
        }
      ]
    },
    {
      "cell_type": "code",
      "source": [
        "tensor_B.T, tensor_B.T.shape"
      ],
      "metadata": {
        "colab": {
          "base_uri": "https://localhost:8080/"
        },
        "id": "vWnp6ydgoRLs",
        "outputId": "32a1fa7f-58b2-4506-88ef-641f4b95beb7"
      },
      "execution_count": 52,
      "outputs": [
        {
          "output_type": "execute_result",
          "data": {
            "text/plain": [
              "(tensor([[ 7,  8,  9],\n",
              "         [10, 11, 12]]),\n",
              " torch.Size([2, 3]))"
            ]
          },
          "metadata": {},
          "execution_count": 52
        }
      ]
    },
    {
      "cell_type": "code",
      "source": [
        "# Now we can multiply the tensors\n",
        "\n",
        "print(f\"Original: A={tensor_A.shape}, B={tensor_B.shape}\")\n",
        "print(f\"New: A={tensor_A.shape} (not changed), B={tensor_B.T.shape}\")\n",
        "\n",
        "print(f\"\\nResult: {torch.mm(tensor_A, tensor_B.T)}\")"
      ],
      "metadata": {
        "colab": {
          "base_uri": "https://localhost:8080/"
        },
        "id": "sOWLOX6uoWtV",
        "outputId": "e974e96d-3a1e-4303-d12d-91da549645f7"
      },
      "execution_count": 53,
      "outputs": [
        {
          "output_type": "stream",
          "name": "stdout",
          "text": [
            "Original: A=torch.Size([3, 2]), B=torch.Size([3, 2])\n",
            "New: A=torch.Size([3, 2]) (not changed), B=torch.Size([2, 3])\n",
            "\n",
            "Result: tensor([[ 27,  30,  33],\n",
            "        [ 61,  68,  75],\n",
            "        [ 95, 106, 117]])\n"
          ]
        }
      ]
    },
    {
      "cell_type": "markdown",
      "source": [
        "Better visualization for [Matrix Multiplication](http://matrixmultiplication.xyz)."
      ],
      "metadata": {
        "id": "-aK2LwvBqON-"
      }
    },
    {
      "cell_type": "markdown",
      "source": [
        "### Finding the min, max, mean, sum, etc (tensor aggregation)"
      ],
      "metadata": {
        "id": "AnmV7qA6qt1H"
      }
    },
    {
      "cell_type": "code",
      "source": [
        "# Create a tensor\n",
        "x = torch.arange(0, 100, 10)\n",
        "x, x.dtype"
      ],
      "metadata": {
        "colab": {
          "base_uri": "https://localhost:8080/"
        },
        "id": "8FPJf_SPq4db",
        "outputId": "358c2b17-a079-4353-f41f-7f006fec9262"
      },
      "execution_count": 54,
      "outputs": [
        {
          "output_type": "execute_result",
          "data": {
            "text/plain": [
              "(tensor([ 0, 10, 20, 30, 40, 50, 60, 70, 80, 90]), torch.int64)"
            ]
          },
          "metadata": {},
          "execution_count": 54
        }
      ]
    },
    {
      "cell_type": "code",
      "source": [
        "# Find the min\n",
        "torch.min(x), x.min()"
      ],
      "metadata": {
        "colab": {
          "base_uri": "https://localhost:8080/"
        },
        "id": "y_7Ou8HyxUCS",
        "outputId": "e5b9f199-89cd-4e5c-d744-1c023b06a9f2"
      },
      "execution_count": 55,
      "outputs": [
        {
          "output_type": "execute_result",
          "data": {
            "text/plain": [
              "(tensor(0), tensor(0))"
            ]
          },
          "metadata": {},
          "execution_count": 55
        }
      ]
    },
    {
      "cell_type": "code",
      "source": [
        "# Find the max\n",
        "torch.max(x), x.max()"
      ],
      "metadata": {
        "colab": {
          "base_uri": "https://localhost:8080/"
        },
        "id": "yIKXTtvcxcw1",
        "outputId": "aab0b022-580b-43f4-d0af-878d9e351a58"
      },
      "execution_count": 56,
      "outputs": [
        {
          "output_type": "execute_result",
          "data": {
            "text/plain": [
              "(tensor(90), tensor(90))"
            ]
          },
          "metadata": {},
          "execution_count": 56
        }
      ]
    },
    {
      "cell_type": "markdown",
      "source": [
        "> **Note:** tensor `x`'s datatype is `torch.int64`/`long` as shown before, and `mean()` function cannot operate with that, so it throws an error. We will face some errors of this kind when coding."
      ],
      "metadata": {
        "id": "LzkIlXJfyQaB"
      }
    },
    {
      "cell_type": "code",
      "source": [
        "# Find the mean\n",
        "torch.mean(x.type(torch.float32)), x.type(torch.float32).mean()"
      ],
      "metadata": {
        "colab": {
          "base_uri": "https://localhost:8080/"
        },
        "id": "kkLSz2WCxh9L",
        "outputId": "db53c0ec-1200-4a5b-ad2a-1b229222ca5d"
      },
      "execution_count": 57,
      "outputs": [
        {
          "output_type": "execute_result",
          "data": {
            "text/plain": [
              "(tensor(45.), tensor(45.))"
            ]
          },
          "metadata": {},
          "execution_count": 57
        }
      ]
    },
    {
      "cell_type": "code",
      "source": [
        "# Find the sum\n",
        "torch.sum(x), x.sum()"
      ],
      "metadata": {
        "colab": {
          "base_uri": "https://localhost:8080/"
        },
        "id": "KWNf1BqYy8XI",
        "outputId": "377f986e-c6be-4969-fb8b-6d9bfefd2bb0"
      },
      "execution_count": 58,
      "outputs": [
        {
          "output_type": "execute_result",
          "data": {
            "text/plain": [
              "(tensor(450), tensor(450))"
            ]
          },
          "metadata": {},
          "execution_count": 58
        }
      ]
    },
    {
      "cell_type": "markdown",
      "source": [
        "### Finding the positional min and max"
      ],
      "metadata": {
        "id": "mXtS-f2zzk1U"
      }
    },
    {
      "cell_type": "code",
      "source": [
        "# Create a tensor\n",
        "x = torch.arange(1, 101, 10)\n",
        "x, x.dtype"
      ],
      "metadata": {
        "colab": {
          "base_uri": "https://localhost:8080/"
        },
        "id": "_LbAZqLAz91x",
        "outputId": "7e36747a-69ea-4177-d7b0-9f46351bfb72"
      },
      "execution_count": 59,
      "outputs": [
        {
          "output_type": "execute_result",
          "data": {
            "text/plain": [
              "(tensor([ 1, 11, 21, 31, 41, 51, 61, 71, 81, 91]), torch.int64)"
            ]
          },
          "metadata": {},
          "execution_count": 59
        }
      ]
    },
    {
      "cell_type": "code",
      "source": [
        "# Find the position in tensor that has the minimum value\n",
        "torch.argmin(x), x.argmin()"
      ],
      "metadata": {
        "colab": {
          "base_uri": "https://localhost:8080/"
        },
        "id": "GTeDW8ofzpiO",
        "outputId": "311f3d7f-005e-4e38-a8b6-e08284763294"
      },
      "execution_count": 60,
      "outputs": [
        {
          "output_type": "execute_result",
          "data": {
            "text/plain": [
              "(tensor(0), tensor(0))"
            ]
          },
          "metadata": {},
          "execution_count": 60
        }
      ]
    },
    {
      "cell_type": "code",
      "source": [
        "x[0]"
      ],
      "metadata": {
        "colab": {
          "base_uri": "https://localhost:8080/"
        },
        "id": "YCptVZtK0D8J",
        "outputId": "124aa735-b5c2-4661-add9-5a2a4417edcf"
      },
      "execution_count": 61,
      "outputs": [
        {
          "output_type": "execute_result",
          "data": {
            "text/plain": [
              "tensor(1)"
            ]
          },
          "metadata": {},
          "execution_count": 61
        }
      ]
    },
    {
      "cell_type": "code",
      "source": [
        "# Find the position in tensor that has the maximum value\n",
        "torch.argmax(x), x.argmax()"
      ],
      "metadata": {
        "colab": {
          "base_uri": "https://localhost:8080/"
        },
        "id": "uikZjCDVz25L",
        "outputId": "22364605-2744-4ba5-e3c8-8f124829d5e9"
      },
      "execution_count": 62,
      "outputs": [
        {
          "output_type": "execute_result",
          "data": {
            "text/plain": [
              "(tensor(9), tensor(9))"
            ]
          },
          "metadata": {},
          "execution_count": 62
        }
      ]
    },
    {
      "cell_type": "code",
      "source": [
        "x[-1]"
      ],
      "metadata": {
        "colab": {
          "base_uri": "https://localhost:8080/"
        },
        "id": "oDSllDv_0G3y",
        "outputId": "edd57698-fdd0-4744-dddf-cba81ff6722e"
      },
      "execution_count": 63,
      "outputs": [
        {
          "output_type": "execute_result",
          "data": {
            "text/plain": [
              "tensor(91)"
            ]
          },
          "metadata": {},
          "execution_count": 63
        }
      ]
    },
    {
      "cell_type": "markdown",
      "source": [
        "### Reshaping, stacking, squeezing and unsqueezing tensors\n",
        "\n",
        "* Reshaping - reshapes an input tensor to a defined shape\n",
        "* View - return a view of an input tensor of certain shape but keep the same memory as the original tensor\n",
        "* Stacking - combine multiple tensors on top of each other (vstack) or side by side (hstack)\n",
        "* Squeeze - removes all `1` dimensions from a tensor\n",
        "* Unsqueeze - add a `1` dimension to a target tensor\n",
        "* Permute - return a view of the input with dimensions permuted (swapped) in a certain way"
      ],
      "metadata": {
        "id": "mceJZ58a0-6B"
      }
    },
    {
      "cell_type": "code",
      "source": [
        "# Creating a tensor\n",
        "x = torch.arange(1., 10.)\n",
        "x, x.shape, x.ndim"
      ],
      "metadata": {
        "colab": {
          "base_uri": "https://localhost:8080/"
        },
        "id": "QbnPlhMh180_",
        "outputId": "c9ac2853-5d18-4874-d54d-a4c71413ff64"
      },
      "execution_count": 64,
      "outputs": [
        {
          "output_type": "execute_result",
          "data": {
            "text/plain": [
              "(tensor([1., 2., 3., 4., 5., 6., 7., 8., 9.]), torch.Size([9]), 1)"
            ]
          },
          "metadata": {},
          "execution_count": 64
        }
      ]
    },
    {
      "cell_type": "markdown",
      "source": [
        "> **Note:** reshaped tensor `ndim` is the original tensor's `ndim` + 1. Also, the product of the `shape` dimensions must be equal to the original tensor's."
      ],
      "metadata": {
        "id": "puOmJU_93wZg"
      }
    },
    {
      "cell_type": "code",
      "source": [
        "# Add an extra dimension\n",
        "x_reshaped = x.reshape(1, 9)\n",
        "print(f\"Tensor: {x_reshaped}, Shape: {x_reshaped.shape}, reshape factor 1 * 9 = 9, Dim={x_reshaped.ndim}\")\n",
        "\n",
        "x_reshaped = x.reshape(9, 1)\n",
        "print(f\"\\nTensor: {x_reshaped}, Shape: {x_reshaped.shape}, reshape factor 9 * 1 = 9, Dim={x_reshaped.ndim}\")\n",
        "\n",
        "x_reshaped = x.reshape(3, 3)\n",
        "print(f\"\\nTensor: {x_reshaped}, Shape: {x_reshaped.shape}, reshape factor 3 * 3 = 9, Dim={x_reshaped.ndim}\")"
      ],
      "metadata": {
        "colab": {
          "base_uri": "https://localhost:8080/"
        },
        "id": "5wDJazaw2Gv7",
        "outputId": "e9979e3a-0a59-4741-be08-f68561ad7f6f"
      },
      "execution_count": 65,
      "outputs": [
        {
          "output_type": "stream",
          "name": "stdout",
          "text": [
            "Tensor: tensor([[1., 2., 3., 4., 5., 6., 7., 8., 9.]]), Shape: torch.Size([1, 9]), reshape factor 1 * 9 = 9, Dim=2\n",
            "\n",
            "Tensor: tensor([[1.],\n",
            "        [2.],\n",
            "        [3.],\n",
            "        [4.],\n",
            "        [5.],\n",
            "        [6.],\n",
            "        [7.],\n",
            "        [8.],\n",
            "        [9.]]), Shape: torch.Size([9, 1]), reshape factor 9 * 1 = 9, Dim=2\n",
            "\n",
            "Tensor: tensor([[1., 2., 3.],\n",
            "        [4., 5., 6.],\n",
            "        [7., 8., 9.]]), Shape: torch.Size([3, 3]), reshape factor 3 * 3 = 9, Dim=2\n"
          ]
        }
      ]
    },
    {
      "cell_type": "code",
      "source": [
        "# Change the view\n",
        "z = x.view(1, 9)\n",
        "z, z.shape"
      ],
      "metadata": {
        "colab": {
          "base_uri": "https://localhost:8080/"
        },
        "id": "vBIHpxbJ25sR",
        "outputId": "324ea542-28f7-4fc1-9879-5fbf8e8e6071"
      },
      "execution_count": 66,
      "outputs": [
        {
          "output_type": "execute_result",
          "data": {
            "text/plain": [
              "(tensor([[1., 2., 3., 4., 5., 6., 7., 8., 9.]]), torch.Size([1, 9]))"
            ]
          },
          "metadata": {},
          "execution_count": 66
        }
      ]
    },
    {
      "cell_type": "markdown",
      "source": [
        "If we change `z`, `x` changes because a view of a tensor shares the same memory as the original."
      ],
      "metadata": {
        "id": "mtiDuafQ5duN"
      }
    },
    {
      "cell_type": "code",
      "source": [
        "# Changing 'z'\n",
        "z[:, 0] = 5\n",
        "z, x"
      ],
      "metadata": {
        "colab": {
          "base_uri": "https://localhost:8080/"
        },
        "id": "BKhrnbmj5r5y",
        "outputId": "936989ba-67b5-4928-ba3e-a16047f1a9ce"
      },
      "execution_count": 67,
      "outputs": [
        {
          "output_type": "execute_result",
          "data": {
            "text/plain": [
              "(tensor([[5., 2., 3., 4., 5., 6., 7., 8., 9.]]),\n",
              " tensor([5., 2., 3., 4., 5., 6., 7., 8., 9.]))"
            ]
          },
          "metadata": {},
          "execution_count": 67
        }
      ]
    },
    {
      "cell_type": "code",
      "source": [
        "# Stack tensors on top of each other\n",
        "x_stacked = torch.stack([x, x, x, x], dim=1)\n",
        "x_stacked"
      ],
      "metadata": {
        "colab": {
          "base_uri": "https://localhost:8080/"
        },
        "id": "I7mIp2EU54-L",
        "outputId": "ef274ed2-237d-4f75-9cc3-023dc40f9ca9"
      },
      "execution_count": 68,
      "outputs": [
        {
          "output_type": "execute_result",
          "data": {
            "text/plain": [
              "tensor([[5., 5., 5., 5.],\n",
              "        [2., 2., 2., 2.],\n",
              "        [3., 3., 3., 3.],\n",
              "        [4., 4., 4., 4.],\n",
              "        [5., 5., 5., 5.],\n",
              "        [6., 6., 6., 6.],\n",
              "        [7., 7., 7., 7.],\n",
              "        [8., 8., 8., 8.],\n",
              "        [9., 9., 9., 9.]])"
            ]
          },
          "metadata": {},
          "execution_count": 68
        }
      ]
    },
    {
      "cell_type": "markdown",
      "source": [
        "Squeezing removes all single dimensions of a given tensor.\n",
        "\n",
        "Documentation [here](https://pytorch.org/docs/stable/generated/torch.squeeze.html)."
      ],
      "metadata": {
        "id": "tq15rmE4MbRR"
      }
    },
    {
      "cell_type": "code",
      "source": [
        "# Squeezing tensors\n",
        "y = torch.rand(3, 1, 3, 2, 1)\n",
        "print(f\"Initial tensor: {y.shape}\")\n",
        "y_squeezed = torch.squeeze(y)\n",
        "print(f\"Squeezed tensor: {y_squeezed.shape}\")"
      ],
      "metadata": {
        "colab": {
          "base_uri": "https://localhost:8080/"
        },
        "id": "n1UFnCx06kIm",
        "outputId": "caa49533-130d-45e3-b068-e07e5a72fd99"
      },
      "execution_count": 69,
      "outputs": [
        {
          "output_type": "stream",
          "name": "stdout",
          "text": [
            "Initial tensor: torch.Size([3, 1, 3, 2, 1])\n",
            "Squeezed tensor: torch.Size([3, 3, 2])\n"
          ]
        }
      ]
    },
    {
      "cell_type": "markdown",
      "source": [
        "Giving a `dim` value to the function sets a maximum of dimensions to be squeezed:"
      ],
      "metadata": {
        "id": "VWyedwUVNf78"
      }
    },
    {
      "cell_type": "code",
      "source": [
        "# Setting a dim value\n",
        "y_squeezed = y.squeeze(dim=1)\n",
        "print(f\"With only 1 dimension squeezed: {y_squeezed.shape}\")"
      ],
      "metadata": {
        "colab": {
          "base_uri": "https://localhost:8080/"
        },
        "id": "dWO6Ai-IOSy9",
        "outputId": "e96eb803-9010-4c6d-99e8-9d227016eb81"
      },
      "execution_count": 70,
      "outputs": [
        {
          "output_type": "stream",
          "name": "stdout",
          "text": [
            "With only 1 dimension squeezed: torch.Size([3, 3, 2, 1])\n"
          ]
        }
      ]
    },
    {
      "cell_type": "markdown",
      "source": [
        "Unsqueeze does the opposite, it adds a new dimension of `1` to the tensor at a specific dimension.\n",
        "\n",
        "Documentation [here](https://pytorch.org/docs/stable/generated/torch.unsqueeze.html)."
      ],
      "metadata": {
        "id": "OHGxJsdiPYvo"
      }
    },
    {
      "cell_type": "code",
      "source": [
        "# Unsqueezing tensors\n",
        "y = torch.rand(9)\n",
        "print(f\"Initial tensor: {y}\")\n",
        "print(f\"Initial shape: {y.shape}\")\n",
        "\n",
        "y_unsqueezed = torch.unsqueeze(y, dim=1)\n",
        "print(f\"\\nUnsqueezed tensor: {y_unsqueezed}\")\n",
        "print(f\"Unsqueezed shape: {y_unsqueezed.shape}\")"
      ],
      "metadata": {
        "colab": {
          "base_uri": "https://localhost:8080/"
        },
        "id": "B3ZeyMJ4PjlG",
        "outputId": "8fe082cd-1da4-4395-dd52-8e80c1fae1d3"
      },
      "execution_count": 71,
      "outputs": [
        {
          "output_type": "stream",
          "name": "stdout",
          "text": [
            "Initial tensor: tensor([0.4736, 0.8044, 0.3740, 0.1149, 0.3399, 0.5533, 0.9455, 0.4330, 0.2821])\n",
            "Initial shape: torch.Size([9])\n",
            "\n",
            "Unsqueezed tensor: tensor([[0.4736],\n",
            "        [0.8044],\n",
            "        [0.3740],\n",
            "        [0.1149],\n",
            "        [0.3399],\n",
            "        [0.5533],\n",
            "        [0.9455],\n",
            "        [0.4330],\n",
            "        [0.2821]])\n",
            "Unsqueezed shape: torch.Size([9, 1])\n"
          ]
        }
      ]
    },
    {
      "cell_type": "markdown",
      "source": [
        "Setting the input dimension to negative makes the index to go backwards. `-1` is the last position and so on.\n",
        "\n",
        "> **Note:** the input value range is as follows => `[-input.dim() - 1, input.dim() + 1)`"
      ],
      "metadata": {
        "id": "iyM7E77fTlee"
      }
    },
    {
      "cell_type": "code",
      "source": [
        "y_negative_unsqueezed = torch.unsqueeze(y, dim=-2)\n",
        "print(f\"\\nUnsqueezed tensor: {y_negative_unsqueezed}\")\n",
        "print(f\"Unsqueezed shape: {y_negative_unsqueezed.shape}\")"
      ],
      "metadata": {
        "colab": {
          "base_uri": "https://localhost:8080/"
        },
        "id": "BUqc1NFUTQPb",
        "outputId": "51c2eca3-72c3-4e23-a2e3-33b968a7354f"
      },
      "execution_count": 72,
      "outputs": [
        {
          "output_type": "stream",
          "name": "stdout",
          "text": [
            "\n",
            "Unsqueezed tensor: tensor([[0.4736, 0.8044, 0.3740, 0.1149, 0.3399, 0.5533, 0.9455, 0.4330, 0.2821]])\n",
            "Unsqueezed shape: torch.Size([1, 9])\n"
          ]
        }
      ]
    },
    {
      "cell_type": "markdown",
      "source": [
        "Permutation rearranges the tensor's dimensions in a specified order. Creates a view of the original tensor, so it shares memory with the original.\n",
        "\n",
        "Input `dims` is a tuple with the order of the dims' indexes.\n",
        "\n",
        "Documentation [here](https://pytorch.org/docs/stable/generated/torch.permute.html)."
      ],
      "metadata": {
        "id": "WgRDCHl2UdnG"
      }
    },
    {
      "cell_type": "code",
      "source": [
        "# Permuting tensors\n",
        "y = torch.rand(3, 4, 2)\n",
        "print(f\"Initial tensor: {y}\")\n",
        "print(f\"Initial shape: {y.shape}\")\n",
        "\n",
        "y_permuted = torch.permute(y, (2, 0, 1))\n",
        "print(f\"\\nPermuted tensor: {y_permuted}\")\n",
        "print(f\"Permuted shape: {y_permuted.shape}\")"
      ],
      "metadata": {
        "colab": {
          "base_uri": "https://localhost:8080/"
        },
        "id": "-vVbAUP9Ut4B",
        "outputId": "93663c5f-1241-4083-9f1b-8d590c043c18"
      },
      "execution_count": 73,
      "outputs": [
        {
          "output_type": "stream",
          "name": "stdout",
          "text": [
            "Initial tensor: tensor([[[0.3200, 0.3358],\n",
            "         [0.9761, 0.2006],\n",
            "         [0.3499, 0.7725],\n",
            "         [0.3371, 0.9516]],\n",
            "\n",
            "        [[0.7701, 0.0225],\n",
            "         [0.3987, 0.6022],\n",
            "         [0.8684, 0.5245],\n",
            "         [0.7370, 0.3370]],\n",
            "\n",
            "        [[0.8430, 0.4387],\n",
            "         [0.1177, 0.4997],\n",
            "         [0.4164, 0.1230],\n",
            "         [0.2946, 0.6968]]])\n",
            "Initial shape: torch.Size([3, 4, 2])\n",
            "\n",
            "Permuted tensor: tensor([[[0.3200, 0.9761, 0.3499, 0.3371],\n",
            "         [0.7701, 0.3987, 0.8684, 0.7370],\n",
            "         [0.8430, 0.1177, 0.4164, 0.2946]],\n",
            "\n",
            "        [[0.3358, 0.2006, 0.7725, 0.9516],\n",
            "         [0.0225, 0.6022, 0.5245, 0.3370],\n",
            "         [0.4387, 0.4997, 0.1230, 0.6968]]])\n",
            "Permuted shape: torch.Size([2, 3, 4])\n"
          ]
        }
      ]
    },
    {
      "cell_type": "markdown",
      "source": [
        "> **Note:** apparently, permutation is often used for images.\n",
        "\n",
        "> Example:"
      ],
      "metadata": {
        "id": "ExPypGnNW51S"
      }
    },
    {
      "cell_type": "code",
      "source": [
        "image_tensor = torch.rand(224, 224, 3) # height, width, color_channels\n",
        "print(f\"Original image shape: {image_tensor.shape}\")\n",
        "\n",
        "# We want to set the color_channels to be the first dimension\n",
        "permuted_image_tensor = image_tensor.permute(2, 0, 1)\n",
        "print(f\"\\nPermuted image tensor shape: {permuted_image_tensor.shape}\")"
      ],
      "metadata": {
        "colab": {
          "base_uri": "https://localhost:8080/"
        },
        "id": "gGo3l-gNXDaK",
        "outputId": "913c071a-a173-495f-e115-a8c21a23cb5f"
      },
      "execution_count": 74,
      "outputs": [
        {
          "output_type": "stream",
          "name": "stdout",
          "text": [
            "Original image shape: torch.Size([224, 224, 3])\n",
            "\n",
            "Permuted image tensor shape: torch.Size([3, 224, 224])\n"
          ]
        }
      ]
    },
    {
      "cell_type": "markdown",
      "source": [
        "Permuted tensor shares memory with the original:"
      ],
      "metadata": {
        "id": "Fwa9C9V_Y64e"
      }
    },
    {
      "cell_type": "code",
      "source": [
        "permuted_image_tensor[0, 0, 0] = 16666\n",
        "\n",
        "image_tensor[0, 0, 0], permuted_image_tensor[0, 0, 0]"
      ],
      "metadata": {
        "colab": {
          "base_uri": "https://localhost:8080/"
        },
        "id": "GH3M9-5UZBq0",
        "outputId": "bdcd7c29-aff3-424f-cff6-b34842742c15"
      },
      "execution_count": 75,
      "outputs": [
        {
          "output_type": "execute_result",
          "data": {
            "text/plain": [
              "(tensor(16666.), tensor(16666.))"
            ]
          },
          "metadata": {},
          "execution_count": 75
        }
      ]
    },
    {
      "cell_type": "markdown",
      "source": [
        "### Indexing (selecting data from tensors)\n",
        "\n",
        "Indexing with PyTorch is similar to indexing with NumPy."
      ],
      "metadata": {
        "id": "KpaJ_2lMZZWv"
      }
    },
    {
      "cell_type": "code",
      "source": [
        "# Creating a tensor\n",
        "x = torch.arange(1, 10).reshape(1, 3, 3)\n",
        "x, x.shape"
      ],
      "metadata": {
        "colab": {
          "base_uri": "https://localhost:8080/"
        },
        "id": "S_8SL3QkZmxP",
        "outputId": "7e6afbab-f2a5-42b6-eacc-3f99249ac7e1"
      },
      "execution_count": 76,
      "outputs": [
        {
          "output_type": "execute_result",
          "data": {
            "text/plain": [
              "(tensor([[[1, 2, 3],\n",
              "          [4, 5, 6],\n",
              "          [7, 8, 9]]]),\n",
              " torch.Size([1, 3, 3]))"
            ]
          },
          "metadata": {},
          "execution_count": 76
        }
      ]
    },
    {
      "cell_type": "code",
      "source": [
        "# Indexing the first dimension (dim=0)\n",
        "x[0]"
      ],
      "metadata": {
        "colab": {
          "base_uri": "https://localhost:8080/"
        },
        "id": "93cTbC5-aU2O",
        "outputId": "684d53b4-72f0-4dce-dd16-d6010ebc04c6"
      },
      "execution_count": 77,
      "outputs": [
        {
          "output_type": "execute_result",
          "data": {
            "text/plain": [
              "tensor([[1, 2, 3],\n",
              "        [4, 5, 6],\n",
              "        [7, 8, 9]])"
            ]
          },
          "metadata": {},
          "execution_count": 77
        }
      ]
    },
    {
      "cell_type": "code",
      "source": [
        "# Indexing the second dimension (dim=1)\n",
        "x[0][0], x[0, 0]"
      ],
      "metadata": {
        "colab": {
          "base_uri": "https://localhost:8080/"
        },
        "id": "U3VgyVy3aaA4",
        "outputId": "bc94ed19-f395-4021-8603-1866e9502e48"
      },
      "execution_count": 78,
      "outputs": [
        {
          "output_type": "execute_result",
          "data": {
            "text/plain": [
              "(tensor([1, 2, 3]), tensor([1, 2, 3]))"
            ]
          },
          "metadata": {},
          "execution_count": 78
        }
      ]
    },
    {
      "cell_type": "code",
      "source": [
        "# Indexing the third dimension, in this example, getting a value (dim=2)\n",
        "x[0][0][0], x[0, 0, 0]"
      ],
      "metadata": {
        "colab": {
          "base_uri": "https://localhost:8080/"
        },
        "id": "kSBb68oZajZP",
        "outputId": "01539cdd-6ff6-42a7-a599-c8df488fd15b"
      },
      "execution_count": 79,
      "outputs": [
        {
          "output_type": "execute_result",
          "data": {
            "text/plain": [
              "(tensor(1), tensor(1))"
            ]
          },
          "metadata": {},
          "execution_count": 79
        }
      ]
    },
    {
      "cell_type": "code",
      "source": [
        "# Indexing all with ':'\n",
        "x[:, :, 0]"
      ],
      "metadata": {
        "colab": {
          "base_uri": "https://localhost:8080/"
        },
        "id": "59mpZeFHbha5",
        "outputId": "a23ad231-131c-4d9b-8f84-b9d604d17a07"
      },
      "execution_count": 80,
      "outputs": [
        {
          "output_type": "execute_result",
          "data": {
            "text/plain": [
              "tensor([[1, 4, 7]])"
            ]
          },
          "metadata": {},
          "execution_count": 80
        }
      ]
    },
    {
      "cell_type": "code",
      "source": [
        "index_test = torch.arange(1, 28).reshape(3, 3, 3) # values 1 to 27\n",
        "\n",
        "print(f\"Tensor: {index_test}, Shape: {index_test.shape}\")\n",
        "\n",
        "index_test[1, :, 1]"
      ],
      "metadata": {
        "colab": {
          "base_uri": "https://localhost:8080/"
        },
        "id": "MmvS4cnjcA1h",
        "outputId": "c1a4999c-d962-4b5d-9dc8-c70491fa38e7"
      },
      "execution_count": 81,
      "outputs": [
        {
          "output_type": "stream",
          "name": "stdout",
          "text": [
            "Tensor: tensor([[[ 1,  2,  3],\n",
            "         [ 4,  5,  6],\n",
            "         [ 7,  8,  9]],\n",
            "\n",
            "        [[10, 11, 12],\n",
            "         [13, 14, 15],\n",
            "         [16, 17, 18]],\n",
            "\n",
            "        [[19, 20, 21],\n",
            "         [22, 23, 24],\n",
            "         [25, 26, 27]]]), Shape: torch.Size([3, 3, 3])\n"
          ]
        },
        {
          "output_type": "execute_result",
          "data": {
            "text/plain": [
              "tensor([11, 14, 17])"
            ]
          },
          "metadata": {},
          "execution_count": 81
        }
      ]
    },
    {
      "cell_type": "markdown",
      "source": [
        "### PyTorch tensors and NumPy\n",
        "\n",
        "NumPy is a popular scientific Python numerical computing library. PyTorch requires NumPy.\n",
        "\n",
        "Because of this, PyTorch has functionality to interact with it.\n",
        "\n",
        "* Change data in NumPy to PyTorch tensor -> `torch.from_numpy(ndarray)`\n",
        "* Change data in PyTorch tensor to NumPy -> `torch.Tensor.numpy()`"
      ],
      "metadata": {
        "id": "SQW-KQ2gsu-v"
      }
    },
    {
      "cell_type": "code",
      "source": [
        "# NumPy array to tensor\n",
        "array = np.arange(1.0, 8.0)\n",
        "tensor = torch.from_numpy(array)\n",
        "array, tensor"
      ],
      "metadata": {
        "colab": {
          "base_uri": "https://localhost:8080/"
        },
        "id": "w2UsIL0jtsl8",
        "outputId": "0fc2ffa1-1cfe-4209-88d7-fe0160d288e8"
      },
      "execution_count": 82,
      "outputs": [
        {
          "output_type": "execute_result",
          "data": {
            "text/plain": [
              "(array([1., 2., 3., 4., 5., 6., 7.]),\n",
              " tensor([1., 2., 3., 4., 5., 6., 7.], dtype=torch.float64))"
            ]
          },
          "metadata": {},
          "execution_count": 82
        }
      ]
    },
    {
      "cell_type": "markdown",
      "source": [
        "> **Note:** NumPy's default datatype is `float64` whereas PyTorch's is `float32`."
      ],
      "metadata": {
        "id": "OywRfIWmuVZA"
      }
    },
    {
      "cell_type": "code",
      "source": [
        "array.dtype"
      ],
      "metadata": {
        "colab": {
          "base_uri": "https://localhost:8080/"
        },
        "id": "y8yg1O3OuE8Y",
        "outputId": "6b49e114-6466-4d32-d326-3c01bb0a4dc6"
      },
      "execution_count": 83,
      "outputs": [
        {
          "output_type": "execute_result",
          "data": {
            "text/plain": [
              "dtype('float64')"
            ]
          },
          "metadata": {},
          "execution_count": 83
        }
      ]
    },
    {
      "cell_type": "code",
      "source": [
        "torch.arange(1.0, 8.0).dtype"
      ],
      "metadata": {
        "colab": {
          "base_uri": "https://localhost:8080/"
        },
        "id": "zZB2nCx2uLCH",
        "outputId": "9a3b7150-c9a2-4e4b-b52c-ac93bdea557a"
      },
      "execution_count": 84,
      "outputs": [
        {
          "output_type": "execute_result",
          "data": {
            "text/plain": [
              "torch.float32"
            ]
          },
          "metadata": {},
          "execution_count": 84
        }
      ]
    },
    {
      "cell_type": "markdown",
      "source": [
        "Nonetheless, we can use `type()` function if we need to change the tensor's datatype:"
      ],
      "metadata": {
        "id": "IBSkzpDEvDQ5"
      }
    },
    {
      "cell_type": "code",
      "source": [
        "tensor.type(torch.float32).dtype"
      ],
      "metadata": {
        "colab": {
          "base_uri": "https://localhost:8080/"
        },
        "id": "gEGj1-H9uxp-",
        "outputId": "c403f483-0576-49f1-9a00-0531b1e13c3d"
      },
      "execution_count": 85,
      "outputs": [
        {
          "output_type": "execute_result",
          "data": {
            "text/plain": [
              "torch.float32"
            ]
          },
          "metadata": {},
          "execution_count": 85
        }
      ]
    },
    {
      "cell_type": "markdown",
      "source": [
        "Using `from_numpy()` creates a different space in memory, so the data is not shared."
      ],
      "metadata": {
        "id": "YDqaXKLYvq8n"
      }
    },
    {
      "cell_type": "code",
      "source": [
        "array = array + 1\n",
        "array, tensor"
      ],
      "metadata": {
        "colab": {
          "base_uri": "https://localhost:8080/"
        },
        "id": "Ix-Ooec3vhjf",
        "outputId": "bf3a92df-2506-41e2-853b-25bd5530bd12"
      },
      "execution_count": 86,
      "outputs": [
        {
          "output_type": "execute_result",
          "data": {
            "text/plain": [
              "(array([2., 3., 4., 5., 6., 7., 8.]),\n",
              " tensor([1., 2., 3., 4., 5., 6., 7.], dtype=torch.float64))"
            ]
          },
          "metadata": {},
          "execution_count": 86
        }
      ]
    },
    {
      "cell_type": "markdown",
      "source": [
        "In the opposite operation, datatype is reflected just like in the previous case."
      ],
      "metadata": {
        "id": "5YercZxWwZEc"
      }
    },
    {
      "cell_type": "code",
      "source": [
        "# Tensor to NumPy array\n",
        "tensor = torch.ones(7)\n",
        "numpy_tensor = tensor.numpy()\n",
        "tensor, numpy_tensor"
      ],
      "metadata": {
        "colab": {
          "base_uri": "https://localhost:8080/"
        },
        "id": "3Iyq4mUfv2ox",
        "outputId": "54c17567-5dc9-4408-a775-c0c19c4768c6"
      },
      "execution_count": 87,
      "outputs": [
        {
          "output_type": "execute_result",
          "data": {
            "text/plain": [
              "(tensor([1., 1., 1., 1., 1., 1., 1.]),\n",
              " array([1., 1., 1., 1., 1., 1., 1.], dtype=float32))"
            ]
          },
          "metadata": {},
          "execution_count": 87
        }
      ]
    },
    {
      "cell_type": "markdown",
      "source": [
        "The same goes for `numpy()`, memory is not shared:"
      ],
      "metadata": {
        "id": "PdMrWQeQwxRQ"
      }
    },
    {
      "cell_type": "code",
      "source": [
        "tensor = tensor + 1\n",
        "tensor, numpy_tensor"
      ],
      "metadata": {
        "colab": {
          "base_uri": "https://localhost:8080/"
        },
        "id": "bGE2S5BIwoI_",
        "outputId": "cfdb904e-7034-4211-d3ea-7e4e9e64b70f"
      },
      "execution_count": 88,
      "outputs": [
        {
          "output_type": "execute_result",
          "data": {
            "text/plain": [
              "(tensor([2., 2., 2., 2., 2., 2., 2.]),\n",
              " array([1., 1., 1., 1., 1., 1., 1.], dtype=float32))"
            ]
          },
          "metadata": {},
          "execution_count": 88
        }
      ]
    },
    {
      "cell_type": "markdown",
      "source": [
        "### Reproducibility (trying to take random out of random)\n",
        "\n",
        "How a neural network learns:\n",
        "\n",
        "`start with random values -> tensor operations -> update random numbers to try make them better representation of the data -> again -> again -> ...`\n",
        "\n",
        "To reduce the randomness in neural networks and PyTorch comes the concept of **random seed**."
      ],
      "metadata": {
        "id": "J0je9OiWxKVX"
      }
    },
    {
      "cell_type": "code",
      "source": [
        "# Create two random tensors\n",
        "random_tensor_A = torch.rand(3, 4)\n",
        "random_tensor_B = torch.rand(3, 4)\n",
        "\n",
        "print(random_tensor_A == random_tensor_B)"
      ],
      "metadata": {
        "colab": {
          "base_uri": "https://localhost:8080/"
        },
        "id": "v5xCFoN-xpA_",
        "outputId": "01fe84e9-819f-4501-f977-2f73d6c014be"
      },
      "execution_count": 89,
      "outputs": [
        {
          "output_type": "stream",
          "name": "stdout",
          "text": [
            "tensor([[False, False, False, False],\n",
            "        [False, False, False, False],\n",
            "        [False, False, False, False]])\n"
          ]
        }
      ]
    },
    {
      "cell_type": "code",
      "source": [
        "# Making reproducible random tensors\n",
        "\n",
        "# Set a random seed\n",
        "RANDOM_SEED = 666\n",
        "\n",
        "torch.manual_seed(RANDOM_SEED)\n",
        "random_tensor_C = torch.rand(3, 4)\n",
        "\n",
        "torch.manual_seed(RANDOM_SEED)\n",
        "random_tensor_D = torch.rand(3, 4)\n",
        "\n",
        "print(random_tensor_C == random_tensor_D)"
      ],
      "metadata": {
        "colab": {
          "base_uri": "https://localhost:8080/"
        },
        "id": "r4xVQ_ZUylgu",
        "outputId": "b3c4dad7-a14e-4e03-8125-9083227011a4"
      },
      "execution_count": 90,
      "outputs": [
        {
          "output_type": "stream",
          "name": "stdout",
          "text": [
            "tensor([[True, True, True, True],\n",
            "        [True, True, True, True],\n",
            "        [True, True, True, True]])\n"
          ]
        }
      ]
    },
    {
      "cell_type": "markdown",
      "source": [
        "### Running tensors and PyTorch objects on the GPUs\n",
        "\n",
        "GPUs = faster computation on numbers, thanks to CUDA + NVIDIA hardware + PyTorch working behind the scenes to make everything better."
      ],
      "metadata": {
        "id": "ww8xVd6Tz3Hd"
      }
    },
    {
      "cell_type": "markdown",
      "source": [
        "#### 1. Getting a GPU\n",
        "\n",
        "* Use Google Colab for a free GPU (can upgrade as well)\n",
        "* Use your own GPU (investment for a good one and requires setup)\n",
        "* Use cloud computing (GCP, AWS, Azure... are services yhat allow computer renting on the cloud)"
      ],
      "metadata": {
        "id": "IPNsT02k0NNp"
      }
    },
    {
      "cell_type": "code",
      "source": [
        "!nvidia-smi"
      ],
      "metadata": {
        "colab": {
          "base_uri": "https://localhost:8080/"
        },
        "id": "Waa0_JV81dYn",
        "outputId": "94a76596-9100-4a5b-d267-979db00097ca"
      },
      "execution_count": 91,
      "outputs": [
        {
          "output_type": "stream",
          "name": "stdout",
          "text": [
            "Fri Mar  8 09:46:01 2024       \n",
            "+---------------------------------------------------------------------------------------+\n",
            "| NVIDIA-SMI 535.104.05             Driver Version: 535.104.05   CUDA Version: 12.2     |\n",
            "|-----------------------------------------+----------------------+----------------------+\n",
            "| GPU  Name                 Persistence-M | Bus-Id        Disp.A | Volatile Uncorr. ECC |\n",
            "| Fan  Temp   Perf          Pwr:Usage/Cap |         Memory-Usage | GPU-Util  Compute M. |\n",
            "|                                         |                      |               MIG M. |\n",
            "|=========================================+======================+======================|\n",
            "|   0  Tesla T4                       Off | 00000000:00:04.0 Off |                    0 |\n",
            "| N/A   48C    P8               9W /  70W |      0MiB / 15360MiB |      0%      Default |\n",
            "|                                         |                      |                  N/A |\n",
            "+-----------------------------------------+----------------------+----------------------+\n",
            "                                                                                         \n",
            "+---------------------------------------------------------------------------------------+\n",
            "| Processes:                                                                            |\n",
            "|  GPU   GI   CI        PID   Type   Process name                            GPU Memory |\n",
            "|        ID   ID                                                             Usage      |\n",
            "|=======================================================================================|\n",
            "|  No running processes found                                                           |\n",
            "+---------------------------------------------------------------------------------------+\n"
          ]
        }
      ]
    },
    {
      "cell_type": "markdown",
      "source": [
        "#### 2. Check for GPU access with PyTorch"
      ],
      "metadata": {
        "id": "rr9L9z0n2bgT"
      }
    },
    {
      "cell_type": "code",
      "source": [
        "import torch\n",
        "torch.cuda.is_available()"
      ],
      "metadata": {
        "colab": {
          "base_uri": "https://localhost:8080/"
        },
        "id": "-dFoPe5J2gvV",
        "outputId": "3a52e368-7d5b-456c-8ec6-e031792c0caa"
      },
      "execution_count": 92,
      "outputs": [
        {
          "output_type": "execute_result",
          "data": {
            "text/plain": [
              "True"
            ]
          },
          "metadata": {},
          "execution_count": 92
        }
      ]
    },
    {
      "cell_type": "markdown",
      "source": [
        "For PyTorch, since it's capable of running compute on the CPU or GPU, it's best practice to setup device agnostic code.\n",
        "\n",
        "Documentation for [best practices](https://pytorch.org/docs/stable/notes/cuda.html#best-practices).\n",
        "\n",
        "This is basically telling PyTorch to use a GPU if it has access to one, since its faster that way, else use a CPU."
      ],
      "metadata": {
        "id": "GJvYLhJB3ds8"
      }
    },
    {
      "cell_type": "code",
      "source": [
        "# Setup device agnostic code\n",
        "device = \"cuda\" if torch.cuda.is_available() else \"cpu\"\n",
        "device"
      ],
      "metadata": {
        "colab": {
          "base_uri": "https://localhost:8080/",
          "height": 35
        },
        "id": "YEW211qq21Y1",
        "outputId": "dd5ba4d2-08c7-46f4-863d-8efe8af4246b"
      },
      "execution_count": 93,
      "outputs": [
        {
          "output_type": "execute_result",
          "data": {
            "text/plain": [
              "'cuda'"
            ],
            "application/vnd.google.colaboratory.intrinsic+json": {
              "type": "string"
            }
          },
          "metadata": {},
          "execution_count": 93
        }
      ]
    },
    {
      "cell_type": "code",
      "source": [
        "# Count number of devices\n",
        "torch.cuda.device_count()"
      ],
      "metadata": {
        "colab": {
          "base_uri": "https://localhost:8080/"
        },
        "id": "rp70tV9F3EGH",
        "outputId": "d74e5a85-a3b7-4b32-fb3d-f4e3e0ce7c6a"
      },
      "execution_count": 94,
      "outputs": [
        {
          "output_type": "execute_result",
          "data": {
            "text/plain": [
              "1"
            ]
          },
          "metadata": {},
          "execution_count": 94
        }
      ]
    },
    {
      "cell_type": "markdown",
      "source": [
        "#### 3. Putting tensors and models on the GPU\n",
        "\n",
        "GPU results in faster computation, so we want these to run there."
      ],
      "metadata": {
        "id": "iDovHHkL4KsR"
      }
    },
    {
      "cell_type": "code",
      "source": [
        "# Create a tensor (default is on CPU)\n",
        "tensor = torch.tensor([1, 2, 3])\n",
        "\n",
        "# Tensor not on GPU\n",
        "tensor.device"
      ],
      "metadata": {
        "colab": {
          "base_uri": "https://localhost:8080/"
        },
        "id": "WnroyLk04XHA",
        "outputId": "be64488f-170b-47ca-e28c-bfe2095ec34e"
      },
      "execution_count": 95,
      "outputs": [
        {
          "output_type": "execute_result",
          "data": {
            "text/plain": [
              "device(type='cpu')"
            ]
          },
          "metadata": {},
          "execution_count": 95
        }
      ]
    },
    {
      "cell_type": "code",
      "source": [
        "# Move tensor to GPU if available\n",
        "tensor_on_gpu = tensor.to(device)\n",
        "tensor_on_gpu"
      ],
      "metadata": {
        "colab": {
          "base_uri": "https://localhost:8080/"
        },
        "id": "6nvcv6Qt4rdh",
        "outputId": "ecf16817-756e-47a7-9e0d-b485169f2c47"
      },
      "execution_count": 96,
      "outputs": [
        {
          "output_type": "execute_result",
          "data": {
            "text/plain": [
              "tensor([1, 2, 3], device='cuda:0')"
            ]
          },
          "metadata": {},
          "execution_count": 96
        }
      ]
    },
    {
      "cell_type": "markdown",
      "source": [
        "#### 4. Moving tensors back to the CPU"
      ],
      "metadata": {
        "id": "4HfpEqv75A6w"
      }
    },
    {
      "cell_type": "code",
      "source": [
        "# If tensor is on GPU, can't transform it to NumPy\n",
        "tensor_on_gpu.numpy()"
      ],
      "metadata": {
        "colab": {
          "base_uri": "https://localhost:8080/",
          "height": 180
        },
        "id": "PaEx8FdM5Gxv",
        "outputId": "ea932ef8-4f37-45f1-efd6-30f0dd9f266e"
      },
      "execution_count": 97,
      "outputs": [
        {
          "output_type": "error",
          "ename": "TypeError",
          "evalue": "can't convert cuda:0 device type tensor to numpy. Use Tensor.cpu() to copy the tensor to host memory first.",
          "traceback": [
            "\u001b[0;31m---------------------------------------------------------------------------\u001b[0m",
            "\u001b[0;31mTypeError\u001b[0m                                 Traceback (most recent call last)",
            "\u001b[0;32m<ipython-input-97-b7da913938a5>\u001b[0m in \u001b[0;36m<cell line: 2>\u001b[0;34m()\u001b[0m\n\u001b[1;32m      1\u001b[0m \u001b[0;31m# If tensor is on GPU, can't transform it to NumPy\u001b[0m\u001b[0;34m\u001b[0m\u001b[0;34m\u001b[0m\u001b[0m\n\u001b[0;32m----> 2\u001b[0;31m \u001b[0mtensor_on_gpu\u001b[0m\u001b[0;34m.\u001b[0m\u001b[0mnumpy\u001b[0m\u001b[0;34m(\u001b[0m\u001b[0;34m)\u001b[0m\u001b[0;34m\u001b[0m\u001b[0;34m\u001b[0m\u001b[0m\n\u001b[0m",
            "\u001b[0;31mTypeError\u001b[0m: can't convert cuda:0 device type tensor to numpy. Use Tensor.cpu() to copy the tensor to host memory first."
          ]
        }
      ]
    },
    {
      "cell_type": "code",
      "source": [
        "tensor_back_on_cpu = tensor_on_gpu.cpu().numpy()\n",
        "tensor_back_on_cpu"
      ],
      "metadata": {
        "colab": {
          "base_uri": "https://localhost:8080/"
        },
        "id": "PkvsIbWq5UNm",
        "outputId": "ee579b05-32bd-411f-8e4c-54be7370757e"
      },
      "execution_count": 98,
      "outputs": [
        {
          "output_type": "execute_result",
          "data": {
            "text/plain": [
              "array([1, 2, 3])"
            ]
          },
          "metadata": {},
          "execution_count": 98
        }
      ]
    },
    {
      "cell_type": "markdown",
      "source": [
        "### Exercises\n",
        "\n",
        "[Source](https://github.com/mrdbourke/pytorch-deep-learning/blob/main/00_pytorch_fundamentals.ipynb)"
      ],
      "metadata": {
        "id": "6svxlX516Dip"
      }
    },
    {
      "cell_type": "code",
      "source": [
        "import torch\n",
        "import numpy as np"
      ],
      "metadata": {
        "id": "p4XfNtN87Ajg"
      },
      "execution_count": 99,
      "outputs": []
    },
    {
      "cell_type": "markdown",
      "source": [
        "2. Create a random tensor with shape `(7, 7)`."
      ],
      "metadata": {
        "id": "t_gWVZZ_6xo5"
      }
    },
    {
      "cell_type": "code",
      "source": [
        "ex2_random_tensor = torch.rand(7, 7)\n",
        "ex2_random_tensor, ex2_random_tensor.shape"
      ],
      "metadata": {
        "colab": {
          "base_uri": "https://localhost:8080/"
        },
        "id": "i_a6UNF-62ow",
        "outputId": "a8463d3c-5c76-4a71-f4a6-95feff30ec54"
      },
      "execution_count": 100,
      "outputs": [
        {
          "output_type": "execute_result",
          "data": {
            "text/plain": [
              "(tensor([[0.8785, 0.5281, 0.4961, 0.9791, 0.5817, 0.4875, 0.0650],\n",
              "         [0.7506, 0.2634, 0.3684, 0.5035, 0.9089, 0.3804, 0.7539],\n",
              "         [0.4163, 0.0089, 0.0664, 0.8111, 0.2667, 0.0601, 0.3079],\n",
              "         [0.2885, 0.8916, 0.6119, 0.4041, 0.4576, 0.4031, 0.0272],\n",
              "         [0.9485, 0.4893, 0.1942, 0.0322, 0.0489, 0.5390, 0.5608],\n",
              "         [0.5176, 0.7500, 0.4930, 0.4568, 0.2414, 0.3975, 0.2900],\n",
              "         [0.3378, 0.1333, 0.4560, 0.7744, 0.3768, 0.7019, 0.5582]]),\n",
              " torch.Size([7, 7]))"
            ]
          },
          "metadata": {},
          "execution_count": 100
        }
      ]
    },
    {
      "cell_type": "markdown",
      "source": [
        "3. Perform a matrix multiplication on the tensor from 2 with another random tensor with shape `(1, 7)` (hint: you may have to transpose the second tensor)."
      ],
      "metadata": {
        "id": "LS2ehtxO7ODA"
      }
    },
    {
      "cell_type": "code",
      "source": [
        "ex3_random_tensor = torch.rand(1, 7)\n",
        "\n",
        "# Inner dimensions must match, so we transpose the new tensor\n",
        "ex3_transposed = torch.transpose(ex3_random_tensor, 1, 0)\n",
        "\n",
        "ex3_result = torch.mm(ex2_random_tensor, ex3_transposed)\n",
        "\n",
        "ex3_result, ex3_result.shape"
      ],
      "metadata": {
        "colab": {
          "base_uri": "https://localhost:8080/"
        },
        "id": "l376ujWX7Qd_",
        "outputId": "e0dcbcd1-e33c-42de-d129-357eab5093be"
      },
      "execution_count": 101,
      "outputs": [
        {
          "output_type": "execute_result",
          "data": {
            "text/plain": [
              "(tensor([[2.5137],\n",
              "         [2.7569],\n",
              "         [1.4081],\n",
              "         [1.7510],\n",
              "         [1.7973],\n",
              "         [1.9192],\n",
              "         [2.0948]]),\n",
              " torch.Size([7, 1]))"
            ]
          },
          "metadata": {},
          "execution_count": 101
        }
      ]
    },
    {
      "cell_type": "markdown",
      "source": [
        "4. Set the random seed to `0` and do exercises 2 & 3 over again."
      ],
      "metadata": {
        "id": "UfVdQR9Q8NMN"
      }
    },
    {
      "cell_type": "code",
      "source": [
        "EX4_RANDOM_SEED = 0\n",
        "torch.manual_seed(EX4_RANDOM_SEED)"
      ],
      "metadata": {
        "colab": {
          "base_uri": "https://localhost:8080/"
        },
        "id": "xO_FomMY8Q1n",
        "outputId": "a14b7cbf-4efa-4db9-d388-7aec3534e46b"
      },
      "execution_count": 102,
      "outputs": [
        {
          "output_type": "execute_result",
          "data": {
            "text/plain": [
              "<torch._C.Generator at 0x7eb164ee9490>"
            ]
          },
          "metadata": {},
          "execution_count": 102
        }
      ]
    },
    {
      "cell_type": "code",
      "source": [
        "# EX 2\n",
        "\n",
        "ex2_random_tensor = torch.rand(7, 7)\n",
        "ex2_random_tensor, ex2_random_tensor.shape"
      ],
      "metadata": {
        "colab": {
          "base_uri": "https://localhost:8080/"
        },
        "id": "qc0LMQ5F81Zm",
        "outputId": "04de2013-08d8-4963-c7a2-bb1954091df5"
      },
      "execution_count": 103,
      "outputs": [
        {
          "output_type": "execute_result",
          "data": {
            "text/plain": [
              "(tensor([[0.4963, 0.7682, 0.0885, 0.1320, 0.3074, 0.6341, 0.4901],\n",
              "         [0.8964, 0.4556, 0.6323, 0.3489, 0.4017, 0.0223, 0.1689],\n",
              "         [0.2939, 0.5185, 0.6977, 0.8000, 0.1610, 0.2823, 0.6816],\n",
              "         [0.9152, 0.3971, 0.8742, 0.4194, 0.5529, 0.9527, 0.0362],\n",
              "         [0.1852, 0.3734, 0.3051, 0.9320, 0.1759, 0.2698, 0.1507],\n",
              "         [0.0317, 0.2081, 0.9298, 0.7231, 0.7423, 0.5263, 0.2437],\n",
              "         [0.5846, 0.0332, 0.1387, 0.2422, 0.8155, 0.7932, 0.2783]]),\n",
              " torch.Size([7, 7]))"
            ]
          },
          "metadata": {},
          "execution_count": 103
        }
      ]
    },
    {
      "cell_type": "code",
      "source": [
        "# EX 3\n",
        "\n",
        "ex3_random_tensor = torch.rand(1, 7)\n",
        "\n",
        "# Inner dimensions must match, so we transpose the new tensor\n",
        "ex3_transposed = torch.transpose(ex3_random_tensor, 1, 0)\n",
        "\n",
        "ex3_result = torch.mm(ex2_random_tensor, ex3_transposed)\n",
        "\n",
        "ex3_result, ex3_result.shape"
      ],
      "metadata": {
        "colab": {
          "base_uri": "https://localhost:8080/"
        },
        "id": "6a70qwmx87Bi",
        "outputId": "d2c4c7f1-d728-4e57-c720-25c8086ca836"
      },
      "execution_count": 104,
      "outputs": [
        {
          "output_type": "execute_result",
          "data": {
            "text/plain": [
              "(tensor([[1.8542],\n",
              "         [1.9611],\n",
              "         [2.2884],\n",
              "         [3.0481],\n",
              "         [1.7067],\n",
              "         [2.5290],\n",
              "         [1.7989]]),\n",
              " torch.Size([7, 1]))"
            ]
          },
          "metadata": {},
          "execution_count": 104
        }
      ]
    },
    {
      "cell_type": "markdown",
      "source": [
        "5. Speaking of random seeds, we saw how to set it with `torch.manual_seed()` but is there a GPU equivalent? (hint: you'll need to look into the documentation for `torch.cuda` for this one). If there is, set the GPU random seed to `1234`."
      ],
      "metadata": {
        "id": "4S0RCRET9GeZ"
      }
    },
    {
      "cell_type": "code",
      "source": [
        "EX5_RANDOM_SEED = 1234\n",
        "\n",
        "#torch.cuda.seed()    This one sets a random seed\n",
        "\n",
        "torch.cuda.manual_seed(EX5_RANDOM_SEED)"
      ],
      "metadata": {
        "id": "1Ugwb4Pj9Ldt"
      },
      "execution_count": 105,
      "outputs": []
    },
    {
      "cell_type": "markdown",
      "source": [
        "6. Create two random tensors of shape `(2, 3)` and send them both to the GPU (you'll need access to a GPU for this). Set `torch.manual_seed(1234)` when creating the tensors (this doesn't have to be the GPU random seed)."
      ],
      "metadata": {
        "id": "EUyin6ph944p"
      }
    },
    {
      "cell_type": "code",
      "source": [
        "EX6_RANDOM_SEED = 1234\n",
        "\n",
        "torch.manual_seed(EX6_RANDOM_SEED)\n",
        "ex6_random_tensor1 = torch.rand(2, 3)\n",
        "\n",
        "torch.manual_seed(EX6_RANDOM_SEED)\n",
        "ex6_random_tensor2 = torch.rand(2, 3)\n",
        "\n",
        "device = \"cuda\"\n",
        "ex6_random_tensor1.to(device), ex6_random_tensor2.to(device)"
      ],
      "metadata": {
        "colab": {
          "base_uri": "https://localhost:8080/"
        },
        "id": "aBP5Sawu9_Mf",
        "outputId": "681b0d69-e89b-4242-899d-2ceed74ec56f"
      },
      "execution_count": 106,
      "outputs": [
        {
          "output_type": "execute_result",
          "data": {
            "text/plain": [
              "(tensor([[0.0290, 0.4019, 0.2598],\n",
              "         [0.3666, 0.0583, 0.7006]], device='cuda:0'),\n",
              " tensor([[0.0290, 0.4019, 0.2598],\n",
              "         [0.3666, 0.0583, 0.7006]], device='cuda:0'))"
            ]
          },
          "metadata": {},
          "execution_count": 106
        }
      ]
    },
    {
      "cell_type": "markdown",
      "source": [
        "7. Perform a matrix multiplication on the tensors you created in 6 (again, you may have to adjust the shapes of one of the tensors)."
      ],
      "metadata": {
        "id": "6A9QVmNl-wGt"
      }
    },
    {
      "cell_type": "code",
      "source": [
        "ex6_tensor2_transposed = torch.transpose(ex6_random_tensor2, 1, 0)\n",
        "\n",
        "ex7_res = torch.mm(ex6_random_tensor1, ex6_tensor2_transposed)\n",
        "ex7_res"
      ],
      "metadata": {
        "colab": {
          "base_uri": "https://localhost:8080/"
        },
        "id": "OkFVwgJL-zdo",
        "outputId": "c55b72bb-283b-4f00-aa4a-10d9b46842b2"
      },
      "execution_count": 107,
      "outputs": [
        {
          "output_type": "execute_result",
          "data": {
            "text/plain": [
              "tensor([[0.2299, 0.2161],\n",
              "        [0.2161, 0.6287]])"
            ]
          },
          "metadata": {},
          "execution_count": 107
        }
      ]
    },
    {
      "cell_type": "markdown",
      "source": [
        "8. Find the maximum and minimum values of the output of 7."
      ],
      "metadata": {
        "id": "z6e4Ardm_ND6"
      }
    },
    {
      "cell_type": "code",
      "source": [
        "ex7_res.max(), ex7_res.min()"
      ],
      "metadata": {
        "colab": {
          "base_uri": "https://localhost:8080/"
        },
        "id": "qWEHsRnI_Pgb",
        "outputId": "a5c3c222-2e0a-407c-a514-797fb3e387ce"
      },
      "execution_count": 108,
      "outputs": [
        {
          "output_type": "execute_result",
          "data": {
            "text/plain": [
              "(tensor(0.6287), tensor(0.2161))"
            ]
          },
          "metadata": {},
          "execution_count": 108
        }
      ]
    },
    {
      "cell_type": "markdown",
      "source": [
        "9. Find the maximum and minimum index values of the output of 7."
      ],
      "metadata": {
        "id": "Wh0iFDHN_quM"
      }
    },
    {
      "cell_type": "code",
      "source": [
        "ex7_res.argmax(), ex7_res.argmin()"
      ],
      "metadata": {
        "colab": {
          "base_uri": "https://localhost:8080/"
        },
        "id": "QRFlzxGN_t6Z",
        "outputId": "0a075f9e-3110-4149-8042-a3843b0bbd76"
      },
      "execution_count": 109,
      "outputs": [
        {
          "output_type": "execute_result",
          "data": {
            "text/plain": [
              "(tensor(3), tensor(1))"
            ]
          },
          "metadata": {},
          "execution_count": 109
        }
      ]
    },
    {
      "cell_type": "markdown",
      "source": [
        "10. Make a random tensor with shape `(1, 1, 1, 10)` and then create a new tensor with all the 1 dimensions removed to be left with a tensor of shape `(10)`. Set the seed to `7` when you create it and print out the first tensor and it's shape as well as the second tensor and it's shape."
      ],
      "metadata": {
        "id": "lta9EhRMA1sY"
      }
    },
    {
      "cell_type": "code",
      "source": [
        "torch.manual_seed(7)\n",
        "\n",
        "ex10_random_tensor = torch.rand(1, 1, 1, 10)\n",
        "print(f\"Squeezed tensor: {ex10_random_tensor}, Shape: {ex10_random_tensor.shape}\")\n",
        "\n",
        "ex10_tensor_squeezed = ex10_random_tensor.squeeze()\n",
        "print(f\"Squeezed tensor: {ex10_tensor_squeezed}, Shape: {ex10_tensor_squeezed.shape}\")"
      ],
      "metadata": {
        "colab": {
          "base_uri": "https://localhost:8080/"
        },
        "id": "Z6Dt6i4yBO7M",
        "outputId": "cb934f4b-661b-4d45-efb4-822ac47985dc"
      },
      "execution_count": 110,
      "outputs": [
        {
          "output_type": "stream",
          "name": "stdout",
          "text": [
            "Squeezed tensor: tensor([[[[0.5349, 0.1988, 0.6592, 0.6569, 0.2328, 0.4251, 0.2071, 0.6297,\n",
            "           0.3653, 0.8513]]]]), Shape: torch.Size([1, 1, 1, 10])\n",
            "Squeezed tensor: tensor([0.5349, 0.1988, 0.6592, 0.6569, 0.2328, 0.4251, 0.2071, 0.6297, 0.3653,\n",
            "        0.8513]), Shape: torch.Size([10])\n"
          ]
        }
      ]
    }
  ]
}