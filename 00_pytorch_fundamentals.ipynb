{
  "nbformat": 4,
  "nbformat_minor": 0,
  "metadata": {
    "colab": {
      "provenance": [],
      "toc_visible": true,
      "gpuType": "T4"
    },
    "kernelspec": {
      "name": "python3",
      "display_name": "Python 3"
    },
    "language_info": {
      "name": "python"
    },
    "accelerator": "GPU"
  },
  "cells": [
    {
      "cell_type": "markdown",
      "source": [
        "## 00. PyTorch Fundamentals\n",
        "\n",
        "Source: https://www.youtube.com/watch?v=Z_ikDlimN6A\n",
        "\n",
        "GitHub: https://github.com/Yer-Marti/PyTorch-Course\n",
        "\n",
        "PyTorch Doc: https://pytorch.org/docs/stable/index.html"
      ],
      "metadata": {
        "id": "TJQpPRujdMs9"
      }
    },
    {
      "cell_type": "markdown",
      "source": [
        "Import the libraries we are going to use:"
      ],
      "metadata": {
        "id": "p47jgVE3fac1"
      }
    },
    {
      "cell_type": "code",
      "source": [
        "import torch\n",
        "import pandas as pd\n",
        "import numpy as np\n",
        "import matplotlib.pyplot as plt"
      ],
      "metadata": {
        "id": "BKeIHqROfkX7"
      },
      "execution_count": 1,
      "outputs": []
    },
    {
      "cell_type": "markdown",
      "source": [
        "## Introduction to Tensors\n",
        "\n",
        "### Creating tensors\n",
        "\n",
        "Tensors are created using `torch.tensor`"
      ],
      "metadata": {
        "id": "pdcrYYcCggBG"
      }
    },
    {
      "cell_type": "code",
      "source": [
        "# Scalar\n",
        "scalar = torch.tensor(7)\n",
        "scalar"
      ],
      "metadata": {
        "colab": {
          "base_uri": "https://localhost:8080/"
        },
        "id": "99LAmGetgu-q",
        "outputId": "faa8038e-2c29-4df7-a750-be70d1a604a3"
      },
      "execution_count": 2,
      "outputs": [
        {
          "output_type": "execute_result",
          "data": {
            "text/plain": [
              "tensor(7)"
            ]
          },
          "metadata": {},
          "execution_count": 2
        }
      ]
    },
    {
      "cell_type": "code",
      "source": [
        "scalar.ndim"
      ],
      "metadata": {
        "colab": {
          "base_uri": "https://localhost:8080/"
        },
        "id": "H_UjGAW-ha1S",
        "outputId": "6a3ae3c3-a1c1-486d-c94a-56a1e10f5996"
      },
      "execution_count": 3,
      "outputs": [
        {
          "output_type": "execute_result",
          "data": {
            "text/plain": [
              "0"
            ]
          },
          "metadata": {},
          "execution_count": 3
        }
      ]
    },
    {
      "cell_type": "code",
      "source": [
        "# Retrieving the tensor as a Python int\n",
        "scalar.item()"
      ],
      "metadata": {
        "colab": {
          "base_uri": "https://localhost:8080/"
        },
        "id": "CssLoLVXhwh6",
        "outputId": "665fba8f-9c6e-43ba-b475-66c7f92e11c9"
      },
      "execution_count": 4,
      "outputs": [
        {
          "output_type": "execute_result",
          "data": {
            "text/plain": [
              "7"
            ]
          },
          "metadata": {},
          "execution_count": 4
        }
      ]
    },
    {
      "cell_type": "code",
      "source": [
        "# Vector\n",
        "vector = torch.tensor([7, 7])\n",
        "vector"
      ],
      "metadata": {
        "colab": {
          "base_uri": "https://localhost:8080/"
        },
        "id": "0F6yJOdkh6dm",
        "outputId": "59fa64f0-70c0-49b5-e57b-13a6fe2ba438"
      },
      "execution_count": 5,
      "outputs": [
        {
          "output_type": "execute_result",
          "data": {
            "text/plain": [
              "tensor([7, 7])"
            ]
          },
          "metadata": {},
          "execution_count": 5
        }
      ]
    },
    {
      "cell_type": "code",
      "source": [
        "vector.ndim"
      ],
      "metadata": {
        "colab": {
          "base_uri": "https://localhost:8080/"
        },
        "id": "KKH5E2GXiRQg",
        "outputId": "0589c109-dedf-4e79-abd4-31df76a0ce84"
      },
      "execution_count": 6,
      "outputs": [
        {
          "output_type": "execute_result",
          "data": {
            "text/plain": [
              "1"
            ]
          },
          "metadata": {},
          "execution_count": 6
        }
      ]
    },
    {
      "cell_type": "markdown",
      "source": [
        "**Note:** the dimension is given by \"the number of square brackets\""
      ],
      "metadata": {
        "id": "55l-8jtQib1T"
      }
    },
    {
      "cell_type": "code",
      "source": [
        "vector.shape"
      ],
      "metadata": {
        "colab": {
          "base_uri": "https://localhost:8080/"
        },
        "id": "PJ5BAw6EaV4K",
        "outputId": "b6bb17a4-92d4-4c33-8a84-d25dff8dcfcc"
      },
      "execution_count": 7,
      "outputs": [
        {
          "output_type": "execute_result",
          "data": {
            "text/plain": [
              "torch.Size([2])"
            ]
          },
          "metadata": {},
          "execution_count": 7
        }
      ]
    },
    {
      "cell_type": "code",
      "source": [
        "# MATRIX\n",
        "MATRIX = torch.tensor([[7, 8],\n",
        "                      [9, 10]])\n",
        "MATRIX"
      ],
      "metadata": {
        "colab": {
          "base_uri": "https://localhost:8080/"
        },
        "id": "Mrqnt-CUajHp",
        "outputId": "0311c1b2-1a83-4e8f-ea21-ed009f976f57"
      },
      "execution_count": 8,
      "outputs": [
        {
          "output_type": "execute_result",
          "data": {
            "text/plain": [
              "tensor([[ 7,  8],\n",
              "        [ 9, 10]])"
            ]
          },
          "metadata": {},
          "execution_count": 8
        }
      ]
    },
    {
      "cell_type": "code",
      "source": [
        "MATRIX.ndim"
      ],
      "metadata": {
        "colab": {
          "base_uri": "https://localhost:8080/"
        },
        "id": "vgmBBXqoaw7W",
        "outputId": "ca38f34c-8f31-4f8d-eb42-001f3517fec3"
      },
      "execution_count": 9,
      "outputs": [
        {
          "output_type": "execute_result",
          "data": {
            "text/plain": [
              "2"
            ]
          },
          "metadata": {},
          "execution_count": 9
        }
      ]
    },
    {
      "cell_type": "code",
      "source": [
        "MATRIX[0]"
      ],
      "metadata": {
        "colab": {
          "base_uri": "https://localhost:8080/"
        },
        "id": "27a5bAlRa2YB",
        "outputId": "daa5733c-9d77-4272-810a-71e46862cedf"
      },
      "execution_count": 10,
      "outputs": [
        {
          "output_type": "execute_result",
          "data": {
            "text/plain": [
              "tensor([7, 8])"
            ]
          },
          "metadata": {},
          "execution_count": 10
        }
      ]
    },
    {
      "cell_type": "markdown",
      "source": [
        "`MATRIX.shape` returns that the matrix is 2x2."
      ],
      "metadata": {
        "id": "o_IbbcHYbImH"
      }
    },
    {
      "cell_type": "code",
      "source": [
        "MATRIX.shape"
      ],
      "metadata": {
        "colab": {
          "base_uri": "https://localhost:8080/"
        },
        "id": "42iUFvVoa_yn",
        "outputId": "23129d67-0f63-4409-c38b-89cea9e36cfd"
      },
      "execution_count": 11,
      "outputs": [
        {
          "output_type": "execute_result",
          "data": {
            "text/plain": [
              "torch.Size([2, 2])"
            ]
          },
          "metadata": {},
          "execution_count": 11
        }
      ]
    },
    {
      "cell_type": "code",
      "source": [
        "# TENSOR\n",
        "TENSOR = torch.tensor([[[1, 2, 3],\n",
        "                        [3, 6, 9],\n",
        "                        [2, 4, 5]]])\n",
        "\n",
        "TENSOR"
      ],
      "metadata": {
        "colab": {
          "base_uri": "https://localhost:8080/"
        },
        "id": "-HrmTxg5bVex",
        "outputId": "b1537110-af89-4dec-ee32-8bc9882c056a"
      },
      "execution_count": 12,
      "outputs": [
        {
          "output_type": "execute_result",
          "data": {
            "text/plain": [
              "tensor([[[1, 2, 3],\n",
              "         [3, 6, 9],\n",
              "         [2, 4, 5]]])"
            ]
          },
          "metadata": {},
          "execution_count": 12
        }
      ]
    },
    {
      "cell_type": "markdown",
      "source": [
        "`TENSOR.ndim` returns the number of **dimensions** in the tensor. In other words, `TENSOR.shape` will return 3 values."
      ],
      "metadata": {
        "id": "OyA15-JUfeXS"
      }
    },
    {
      "cell_type": "code",
      "source": [
        "TENSOR.ndim"
      ],
      "metadata": {
        "colab": {
          "base_uri": "https://localhost:8080/"
        },
        "id": "BTJUXgQpbxY9",
        "outputId": "2cdaf9f7-582c-41d1-bd58-3f74d87e21e9"
      },
      "execution_count": 13,
      "outputs": [
        {
          "output_type": "execute_result",
          "data": {
            "text/plain": [
              "3"
            ]
          },
          "metadata": {},
          "execution_count": 13
        }
      ]
    },
    {
      "cell_type": "markdown",
      "source": [
        "In this case, the first dimension is `1` because the first square bracket has a single element. The two remaining dimensions state that said element is a 3x3 matrix."
      ],
      "metadata": {
        "id": "A8-zwwS4cC3l"
      }
    },
    {
      "cell_type": "code",
      "source": [
        "TENSOR.shape"
      ],
      "metadata": {
        "colab": {
          "base_uri": "https://localhost:8080/"
        },
        "id": "xsesziTVb0O0",
        "outputId": "4db7a98f-8c48-4ede-ed51-07441a9784dc"
      },
      "execution_count": 14,
      "outputs": [
        {
          "output_type": "execute_result",
          "data": {
            "text/plain": [
              "torch.Size([1, 3, 3])"
            ]
          },
          "metadata": {},
          "execution_count": 14
        }
      ]
    },
    {
      "cell_type": "markdown",
      "source": [
        "When printing the first element we can see that is an `array` (more or less) in the first position. The first square bracket is missing."
      ],
      "metadata": {
        "id": "RE74IPSdcnRp"
      }
    },
    {
      "cell_type": "code",
      "source": [
        "TENSOR[0]"
      ],
      "metadata": {
        "colab": {
          "base_uri": "https://localhost:8080/"
        },
        "id": "TtvgEhBpchfR",
        "outputId": "d5417bcd-e942-4dcb-f0b1-e7720e33bdbb"
      },
      "execution_count": 15,
      "outputs": [
        {
          "output_type": "execute_result",
          "data": {
            "text/plain": [
              "tensor([[1, 2, 3],\n",
              "        [3, 6, 9],\n",
              "        [2, 4, 5]])"
            ]
          },
          "metadata": {},
          "execution_count": 15
        }
      ]
    },
    {
      "cell_type": "markdown",
      "source": [
        "Example to test tensors:"
      ],
      "metadata": {
        "id": "XjtIXNBvdPiS"
      }
    },
    {
      "cell_type": "code",
      "source": [
        "TENSOR_TEST = torch.tensor([[[1, 2, 3, 7]],\n",
        "                            [[4, 5, 6, 8]]])\n",
        "\n",
        "TENSOR_TEST"
      ],
      "metadata": {
        "colab": {
          "base_uri": "https://localhost:8080/"
        },
        "id": "6vTunrGUdcr3",
        "outputId": "e2e3eecc-a6f1-444b-e7c9-4e15d08e7b09"
      },
      "execution_count": 16,
      "outputs": [
        {
          "output_type": "execute_result",
          "data": {
            "text/plain": [
              "tensor([[[1, 2, 3, 7]],\n",
              "\n",
              "        [[4, 5, 6, 8]]])"
            ]
          },
          "metadata": {},
          "execution_count": 16
        }
      ]
    },
    {
      "cell_type": "code",
      "source": [
        "TENSOR_TEST.ndim"
      ],
      "metadata": {
        "colab": {
          "base_uri": "https://localhost:8080/"
        },
        "id": "r-DJ1GxzdvR-",
        "outputId": "8b6896c6-b801-418d-eb13-6035d2e33963"
      },
      "execution_count": 17,
      "outputs": [
        {
          "output_type": "execute_result",
          "data": {
            "text/plain": [
              "3"
            ]
          },
          "metadata": {},
          "execution_count": 17
        }
      ]
    },
    {
      "cell_type": "code",
      "source": [
        "TENSOR_TEST.shape"
      ],
      "metadata": {
        "colab": {
          "base_uri": "https://localhost:8080/"
        },
        "id": "xBMG_O4Ad6u-",
        "outputId": "e1fe24fa-407e-4da1-e6d0-647a2e14fbb5"
      },
      "execution_count": 18,
      "outputs": [
        {
          "output_type": "execute_result",
          "data": {
            "text/plain": [
              "torch.Size([2, 1, 4])"
            ]
          },
          "metadata": {},
          "execution_count": 18
        }
      ]
    },
    {
      "cell_type": "code",
      "source": [
        "TENSOR_TEST[1]"
      ],
      "metadata": {
        "colab": {
          "base_uri": "https://localhost:8080/"
        },
        "id": "X1iXFB3Td8vS",
        "outputId": "1c8c3bde-8e2b-467b-c51b-6f239ec2d03c"
      },
      "execution_count": 19,
      "outputs": [
        {
          "output_type": "execute_result",
          "data": {
            "text/plain": [
              "tensor([[4, 5, 6, 8]])"
            ]
          },
          "metadata": {},
          "execution_count": 19
        }
      ]
    },
    {
      "cell_type": "markdown",
      "source": [
        "### Random tensors\n",
        "\n",
        "¿Why?\n",
        "\n",
        "They are important because the way most neural networks learn is by starting with completely random tensors and then hone the values so they represent better the data.\n",
        "\n",
        "`Start with random values -> observe data -> manipulate values -> observe data -> manipulate values`"
      ],
      "metadata": {
        "id": "zvKBuuuMVp9f"
      }
    },
    {
      "cell_type": "code",
      "source": [
        "# Creating a random tensor of size (3, 4)\n",
        "random_tensor = torch.rand(3, 4)\n",
        "random_tensor"
      ],
      "metadata": {
        "colab": {
          "base_uri": "https://localhost:8080/"
        },
        "id": "LYQ08OCiWiPH",
        "outputId": "1815db7b-fbae-416c-82cb-8d5b5eb3b57b"
      },
      "execution_count": 20,
      "outputs": [
        {
          "output_type": "execute_result",
          "data": {
            "text/plain": [
              "tensor([[0.1602, 0.4391, 0.8601, 0.0792],\n",
              "        [0.0151, 0.2063, 0.6404, 0.1675],\n",
              "        [0.2742, 0.2099, 0.3339, 0.4830]])"
            ]
          },
          "metadata": {},
          "execution_count": 20
        }
      ]
    },
    {
      "cell_type": "code",
      "source": [
        "random_tensor.ndim"
      ],
      "metadata": {
        "colab": {
          "base_uri": "https://localhost:8080/"
        },
        "id": "HJt93xhXW_Yi",
        "outputId": "edb152cb-6d52-4e8e-c948-5bf60549f57a"
      },
      "execution_count": 21,
      "outputs": [
        {
          "output_type": "execute_result",
          "data": {
            "text/plain": [
              "2"
            ]
          },
          "metadata": {},
          "execution_count": 21
        }
      ]
    },
    {
      "cell_type": "code",
      "source": [
        "# Creating tensor of similar size of an image tensor\n",
        "random_image_size_tensor = torch.rand(size=(224, 224, 3)) # height, width, color channels (R, G, B)\n",
        "random_image_size_tensor.shape, random_image_size_tensor.ndim"
      ],
      "metadata": {
        "colab": {
          "base_uri": "https://localhost:8080/"
        },
        "id": "uLqoDMAxXWzI",
        "outputId": "ac93940f-94cf-4c10-bd60-c21641ea1853"
      },
      "execution_count": 22,
      "outputs": [
        {
          "output_type": "execute_result",
          "data": {
            "text/plain": [
              "(torch.Size([224, 224, 3]), 3)"
            ]
          },
          "metadata": {},
          "execution_count": 22
        }
      ]
    },
    {
      "cell_type": "markdown",
      "source": [
        "### Zeros and ones"
      ],
      "metadata": {
        "id": "2iiW866xYhgG"
      }
    },
    {
      "cell_type": "code",
      "source": [
        "# Creating an all zeros tensor\n",
        "zeros = torch.zeros(size=(3, 4))\n",
        "zeros"
      ],
      "metadata": {
        "colab": {
          "base_uri": "https://localhost:8080/"
        },
        "id": "_eHZY9UZYkhZ",
        "outputId": "9810f100-f85e-4b4e-eddd-f7582e01d447"
      },
      "execution_count": 23,
      "outputs": [
        {
          "output_type": "execute_result",
          "data": {
            "text/plain": [
              "tensor([[0., 0., 0., 0.],\n",
              "        [0., 0., 0., 0.],\n",
              "        [0., 0., 0., 0.]])"
            ]
          },
          "metadata": {},
          "execution_count": 23
        }
      ]
    },
    {
      "cell_type": "code",
      "source": [
        "# Creating an all ones tensor\n",
        "ones = torch.ones(size=(3, 4))\n",
        "ones"
      ],
      "metadata": {
        "colab": {
          "base_uri": "https://localhost:8080/"
        },
        "id": "fVJn5ICHYx7N",
        "outputId": "73a974a2-ca3f-49da-f121-7866a69e3fea"
      },
      "execution_count": 24,
      "outputs": [
        {
          "output_type": "execute_result",
          "data": {
            "text/plain": [
              "tensor([[1., 1., 1., 1.],\n",
              "        [1., 1., 1., 1.],\n",
              "        [1., 1., 1., 1.]])"
            ]
          },
          "metadata": {},
          "execution_count": 24
        }
      ]
    },
    {
      "cell_type": "code",
      "source": [
        "ones.dtype"
      ],
      "metadata": {
        "colab": {
          "base_uri": "https://localhost:8080/"
        },
        "id": "SDbtoaUsZAHv",
        "outputId": "15c4d204-c62c-4e9d-b904-7bae9e7adc33"
      },
      "execution_count": 25,
      "outputs": [
        {
          "output_type": "execute_result",
          "data": {
            "text/plain": [
              "torch.float32"
            ]
          },
          "metadata": {},
          "execution_count": 25
        }
      ]
    },
    {
      "cell_type": "code",
      "source": [
        "random_tensor.dtype"
      ],
      "metadata": {
        "colab": {
          "base_uri": "https://localhost:8080/"
        },
        "id": "25B2hJhMZJgl",
        "outputId": "6e445afb-816f-40e4-b9be-a937f356a292"
      },
      "execution_count": 26,
      "outputs": [
        {
          "output_type": "execute_result",
          "data": {
            "text/plain": [
              "torch.float32"
            ]
          },
          "metadata": {},
          "execution_count": 26
        }
      ]
    },
    {
      "cell_type": "markdown",
      "source": [
        "### Creating a range of tensors"
      ],
      "metadata": {
        "id": "bS9KEV7uZU1y"
      }
    },
    {
      "cell_type": "code",
      "source": [
        "# Use torch.range()\n",
        "one_to_ten = torch.arange(start=1, end=11, step=1)\n",
        "one_to_ten"
      ],
      "metadata": {
        "colab": {
          "base_uri": "https://localhost:8080/"
        },
        "id": "3Tu6zPvxZbFL",
        "outputId": "45bda4e6-b7e7-407a-b29f-595b7f603b4f"
      },
      "execution_count": 27,
      "outputs": [
        {
          "output_type": "execute_result",
          "data": {
            "text/plain": [
              "tensor([ 1,  2,  3,  4,  5,  6,  7,  8,  9, 10])"
            ]
          },
          "metadata": {},
          "execution_count": 27
        }
      ]
    },
    {
      "cell_type": "code",
      "source": [
        "# Creating tensors from other tensors\n",
        "ten_zeros = torch.zeros_like(input=one_to_ten)\n",
        "ten_zeros"
      ],
      "metadata": {
        "colab": {
          "base_uri": "https://localhost:8080/"
        },
        "id": "LmCE6OzLZ8D-",
        "outputId": "4c97c8cb-3e53-4d8d-d0df-0a05633185b3"
      },
      "execution_count": 28,
      "outputs": [
        {
          "output_type": "execute_result",
          "data": {
            "text/plain": [
              "tensor([0, 0, 0, 0, 0, 0, 0, 0, 0, 0])"
            ]
          },
          "metadata": {},
          "execution_count": 28
        }
      ]
    },
    {
      "cell_type": "code",
      "source": [
        "one_to_ten.shape, ten_zeros.shape"
      ],
      "metadata": {
        "colab": {
          "base_uri": "https://localhost:8080/"
        },
        "id": "3ETp7cUTaSHz",
        "outputId": "74b07ce8-535d-41e7-b7d9-7cbcaf412037"
      },
      "execution_count": 29,
      "outputs": [
        {
          "output_type": "execute_result",
          "data": {
            "text/plain": [
              "(torch.Size([10]), torch.Size([10]))"
            ]
          },
          "metadata": {},
          "execution_count": 29
        }
      ]
    },
    {
      "cell_type": "markdown",
      "source": [
        "### Tensor datatypes\n",
        "\n",
        "**Note:** Tensor datatypes are one of the 3 big mistakes we are going to run into in PyTorch and Deep Learning:\n",
        "\n",
        "1. Tensors don't have correct `datatype`\n",
        "2. Tensors don't have correct `shape`\n",
        "3. Tensors aren't in the correct `device`\n",
        "\n",
        "This is connected to computer precision."
      ],
      "metadata": {
        "id": "Cv39Y3TXai0Z"
      }
    },
    {
      "cell_type": "code",
      "source": [
        "# Float 32 tensor\n",
        "float_32_tensor = torch.tensor([3.0, 6.0, 9.0],\n",
        "                               dtype=torch.float32, # Datatype of the tensor\n",
        "                               device=None,         # CPU, GPU (cuda), TPU\n",
        "                               requires_grad=False) # Wether we want Python to track the tensor gradients\n",
        "float_32_tensor"
      ],
      "metadata": {
        "colab": {
          "base_uri": "https://localhost:8080/"
        },
        "id": "xy2_RCsYamPj",
        "outputId": "1de88f4a-a8b3-4645-a836-237088b50214"
      },
      "execution_count": 30,
      "outputs": [
        {
          "output_type": "execute_result",
          "data": {
            "text/plain": [
              "tensor([3., 6., 9.])"
            ]
          },
          "metadata": {},
          "execution_count": 30
        }
      ]
    },
    {
      "cell_type": "code",
      "source": [
        "float_32_tensor.dtype"
      ],
      "metadata": {
        "colab": {
          "base_uri": "https://localhost:8080/"
        },
        "id": "vwcBK2Vka5Go",
        "outputId": "67ea89be-7fad-4956-a083-62e001a38b38"
      },
      "execution_count": 31,
      "outputs": [
        {
          "output_type": "execute_result",
          "data": {
            "text/plain": [
              "torch.float32"
            ]
          },
          "metadata": {},
          "execution_count": 31
        }
      ]
    },
    {
      "cell_type": "code",
      "source": [
        "float_16_tensor = float_32_tensor.type(torch.float16)\n",
        "float_16_tensor"
      ],
      "metadata": {
        "colab": {
          "base_uri": "https://localhost:8080/"
        },
        "id": "R4N8cAxVdRCF",
        "outputId": "def49456-82e8-4a6c-92d0-52ad26e3ae3e"
      },
      "execution_count": 32,
      "outputs": [
        {
          "output_type": "execute_result",
          "data": {
            "text/plain": [
              "tensor([3., 6., 9.], dtype=torch.float16)"
            ]
          },
          "metadata": {},
          "execution_count": 32
        }
      ]
    },
    {
      "cell_type": "markdown",
      "source": [
        "Test with tensor's datatype:"
      ],
      "metadata": {
        "id": "kggWEHfPd3l7"
      }
    },
    {
      "cell_type": "code",
      "source": [
        "res_tensor = float_16_tensor * float_32_tensor\n",
        "res_tensor, res_tensor.shape, res_tensor.ndim, res_tensor.dtype"
      ],
      "metadata": {
        "colab": {
          "base_uri": "https://localhost:8080/"
        },
        "id": "9zBc__2IdpcA",
        "outputId": "d0fd9ec8-1dff-490e-db32-87bab5967ee9"
      },
      "execution_count": 33,
      "outputs": [
        {
          "output_type": "execute_result",
          "data": {
            "text/plain": [
              "(tensor([ 9., 36., 81.]), torch.Size([3]), 1, torch.float32)"
            ]
          },
          "metadata": {},
          "execution_count": 33
        }
      ]
    },
    {
      "cell_type": "code",
      "source": [
        "long_tensor = torch.tensor([3, 6, 9], dtype=torch.long)\n",
        "long_tensor * float_16_tensor"
      ],
      "metadata": {
        "colab": {
          "base_uri": "https://localhost:8080/"
        },
        "id": "DYH1DsOnetWC",
        "outputId": "0228e01e-a5b0-42e2-f936-a63ce1869d7e"
      },
      "execution_count": 34,
      "outputs": [
        {
          "output_type": "execute_result",
          "data": {
            "text/plain": [
              "tensor([ 9., 36., 81.], dtype=torch.float16)"
            ]
          },
          "metadata": {},
          "execution_count": 34
        }
      ]
    },
    {
      "cell_type": "markdown",
      "source": [
        "### Retrieving information of the tensors\n",
        "\n",
        "1. To get the **datatype** of a tensor, we use `tensor.dtype`\n",
        "1. To get the **shape** of a tensor, we use `tensor.shape`\n",
        "1. To get the **device** of a tensor, we use `tensor.device`"
      ],
      "metadata": {
        "id": "jxo-D0RufSRn"
      }
    },
    {
      "cell_type": "code",
      "source": [
        "# Creating the tensor\n",
        "some_tensor = torch.rand(size=(3, 4)) # we can omit the `size`\n",
        "\n",
        "# Retrieving its attributes\n",
        "print(some_tensor)\n",
        "print(f\"Datatype: {some_tensor.dtype}\\nShape: {some_tensor.shape}\\nDevice: {some_tensor.device}\")"
      ],
      "metadata": {
        "colab": {
          "base_uri": "https://localhost:8080/"
        },
        "id": "rgGCJ5FAfrD1",
        "outputId": "f0a0e4ec-ff13-4d8f-849b-812f3e9f263a"
      },
      "execution_count": 35,
      "outputs": [
        {
          "output_type": "stream",
          "name": "stdout",
          "text": [
            "tensor([[0.1809, 0.6722, 0.0983, 0.0625],\n",
            "        [0.8860, 0.1112, 0.8146, 0.4304],\n",
            "        [0.8187, 0.7013, 0.5773, 0.9152]])\n",
            "Datatype: torch.float32\n",
            "Shape: torch.Size([3, 4])\n",
            "Device: cpu\n"
          ]
        }
      ]
    },
    {
      "cell_type": "markdown",
      "source": [
        "### Manipulating tensors (tensor operations)\n",
        "\n",
        "Operations include:\n",
        "\n",
        "* Sum\n",
        "* Substraction\n",
        "* Multiplication (of elements)\n",
        "* Division\n",
        "* Matrix multiplication"
      ],
      "metadata": {
        "id": "U_xhnFhQha36"
      }
    },
    {
      "cell_type": "code",
      "source": [
        "# Creating the tensor\n",
        "tensor = torch.tensor([1, 2, 3])\n",
        "tensor"
      ],
      "metadata": {
        "colab": {
          "base_uri": "https://localhost:8080/"
        },
        "id": "2emfcbN0iN2G",
        "outputId": "413f5b89-dab4-4042-d95b-2867a126bc2a"
      },
      "execution_count": 36,
      "outputs": [
        {
          "output_type": "execute_result",
          "data": {
            "text/plain": [
              "tensor([1, 2, 3])"
            ]
          },
          "metadata": {},
          "execution_count": 36
        }
      ]
    },
    {
      "cell_type": "code",
      "source": [
        "# Sum\n",
        "tensor + 10"
      ],
      "metadata": {
        "colab": {
          "base_uri": "https://localhost:8080/"
        },
        "id": "lCFENbHMioeN",
        "outputId": "a274d04a-861c-4190-9888-b3a2f0ad14e9"
      },
      "execution_count": 37,
      "outputs": [
        {
          "output_type": "execute_result",
          "data": {
            "text/plain": [
              "tensor([11, 12, 13])"
            ]
          },
          "metadata": {},
          "execution_count": 37
        }
      ]
    },
    {
      "cell_type": "code",
      "source": [
        "# Subtract\n",
        "tensor - 10"
      ],
      "metadata": {
        "colab": {
          "base_uri": "https://localhost:8080/"
        },
        "id": "fGmCtVgziwip",
        "outputId": "ab46f59d-08b3-4f78-98e4-030c007d54fd"
      },
      "execution_count": 38,
      "outputs": [
        {
          "output_type": "execute_result",
          "data": {
            "text/plain": [
              "tensor([-9, -8, -7])"
            ]
          },
          "metadata": {},
          "execution_count": 38
        }
      ]
    },
    {
      "cell_type": "code",
      "source": [
        "# Multiply\n",
        "tensor * 10"
      ],
      "metadata": {
        "colab": {
          "base_uri": "https://localhost:8080/"
        },
        "id": "DQASncZ_ien_",
        "outputId": "7fb0ca92-66c7-43a1-ff19-db0dd36efd1f"
      },
      "execution_count": 39,
      "outputs": [
        {
          "output_type": "execute_result",
          "data": {
            "text/plain": [
              "tensor([10, 20, 30])"
            ]
          },
          "metadata": {},
          "execution_count": 39
        }
      ]
    },
    {
      "cell_type": "code",
      "source": [
        "# Divide\n",
        "tensor / 2"
      ],
      "metadata": {
        "colab": {
          "base_uri": "https://localhost:8080/"
        },
        "id": "mkTF7BtCjTCz",
        "outputId": "d4b15e2e-f008-4911-8a03-f229e94117eb"
      },
      "execution_count": 40,
      "outputs": [
        {
          "output_type": "execute_result",
          "data": {
            "text/plain": [
              "tensor([0.5000, 1.0000, 1.5000])"
            ]
          },
          "metadata": {},
          "execution_count": 40
        }
      ]
    },
    {
      "cell_type": "code",
      "source": [
        "# Testing functions of PyTorch\n",
        "torch.mul(tensor, 10)"
      ],
      "metadata": {
        "colab": {
          "base_uri": "https://localhost:8080/"
        },
        "id": "CNmfUGVCjALH",
        "outputId": "b18ef2aa-903d-4f56-f81d-3ead57554c33"
      },
      "execution_count": 41,
      "outputs": [
        {
          "output_type": "execute_result",
          "data": {
            "text/plain": [
              "tensor([10, 20, 30])"
            ]
          },
          "metadata": {},
          "execution_count": 41
        }
      ]
    },
    {
      "cell_type": "markdown",
      "source": [
        "#### Matrix multiplication\n",
        "\n",
        "Two main ways for matrix multiplication:\n",
        "\n",
        "1. Element-wise (value ⋅ matrix)\n",
        "2. Matrix multiplication (matrix ⋅ matrix)"
      ],
      "metadata": {
        "id": "cxq1ZkN4jhnH"
      }
    },
    {
      "cell_type": "code",
      "source": [
        "# Element-wise\n",
        "print(f\"{tensor} * {tensor} = {tensor * tensor}\")"
      ],
      "metadata": {
        "colab": {
          "base_uri": "https://localhost:8080/"
        },
        "id": "6T9B5TnbkHIl",
        "outputId": "dc3c815c-8e1e-4f40-924b-684fc5450ee8"
      },
      "execution_count": 42,
      "outputs": [
        {
          "output_type": "stream",
          "name": "stdout",
          "text": [
            "tensor([1, 2, 3]) * tensor([1, 2, 3]) = tensor([1, 4, 9])\n"
          ]
        }
      ]
    },
    {
      "cell_type": "code",
      "source": [
        "# Matrix multiplication\n",
        "torch.matmul(tensor, tensor)"
      ],
      "metadata": {
        "colab": {
          "base_uri": "https://localhost:8080/"
        },
        "id": "1Tl6e-o7lZ3Y",
        "outputId": "4a741ac1-7645-44f6-b7ac-5ea82ed68dc5"
      },
      "execution_count": 43,
      "outputs": [
        {
          "output_type": "execute_result",
          "data": {
            "text/plain": [
              "tensor(14)"
            ]
          },
          "metadata": {},
          "execution_count": 43
        }
      ]
    },
    {
      "cell_type": "markdown",
      "source": [
        "By hand:"
      ],
      "metadata": {
        "id": "ZCzNqxEal8Vr"
      }
    },
    {
      "cell_type": "code",
      "source": [
        "tensor[0] * tensor[0] + tensor[1] * tensor[1] + tensor[2] * tensor[2]"
      ],
      "metadata": {
        "colab": {
          "base_uri": "https://localhost:8080/"
        },
        "id": "TqopNDaNl-jx",
        "outputId": "ca7148ca-7b9c-4892-86e7-db42b3204bf5"
      },
      "execution_count": 44,
      "outputs": [
        {
          "output_type": "execute_result",
          "data": {
            "text/plain": [
              "tensor(14)"
            ]
          },
          "metadata": {},
          "execution_count": 44
        }
      ]
    },
    {
      "cell_type": "markdown",
      "source": [
        "We can compare the time necessary for each method:"
      ],
      "metadata": {
        "id": "z-0jwUVKmbCL"
      }
    },
    {
      "cell_type": "code",
      "source": [
        "# By hand\n",
        "\n",
        "%%time\n",
        "value = 0\n",
        "for i in range(len(tensor)):\n",
        "  value += tensor[i] * tensor[i]\n",
        "print(value)"
      ],
      "metadata": {
        "colab": {
          "base_uri": "https://localhost:8080/"
        },
        "id": "9abcmZLMmisr",
        "outputId": "e9ced640-981d-40fb-c281-85f7baf4c1f3"
      },
      "execution_count": 45,
      "outputs": [
        {
          "output_type": "stream",
          "name": "stdout",
          "text": [
            "tensor(14)\n",
            "CPU times: user 1.9 ms, sys: 0 ns, total: 1.9 ms\n",
            "Wall time: 2.55 ms\n"
          ]
        }
      ]
    },
    {
      "cell_type": "code",
      "source": [
        "# PyTorch\n",
        "\n",
        "%%time\n",
        "torch.matmul(tensor, tensor)"
      ],
      "metadata": {
        "colab": {
          "base_uri": "https://localhost:8080/"
        },
        "id": "sc1_PAMOm2_W",
        "outputId": "9317cd13-45e8-46dc-a359-9fd5f8281d8d"
      },
      "execution_count": 46,
      "outputs": [
        {
          "output_type": "stream",
          "name": "stdout",
          "text": [
            "CPU times: user 94 µs, sys: 0 ns, total: 94 µs\n",
            "Wall time: 97.8 µs\n"
          ]
        },
        {
          "output_type": "execute_result",
          "data": {
            "text/plain": [
              "tensor(14)"
            ]
          },
          "metadata": {},
          "execution_count": 46
        }
      ]
    },
    {
      "cell_type": "markdown",
      "source": [
        "### Errors with shape: one of the most common errors in Deep Learning\n",
        "\n",
        "1. The **inner dimensions** must match:\n",
        "* `(3, 2) @ (3, 2)` won't work\n",
        "* `(2, 3) @ (3, 2)` will work\n",
        "* `(3, 2) @ (2, 3)` will work\n",
        "\n",
        "2. The resultant matix will have the `shape` of the **outer dimensions**:\n",
        "* `(2, 3) @ (3, 2) -> (2, 2)`\n",
        "* `(3, 2) @ (2, 3) -> (3, 3)`"
      ],
      "metadata": {
        "id": "DQQTLx6KkgG7"
      }
    },
    {
      "cell_type": "code",
      "source": [
        "tensor @ tensor # Same as torch.matmul()"
      ],
      "metadata": {
        "colab": {
          "base_uri": "https://localhost:8080/"
        },
        "id": "BE2t-mIwk69i",
        "outputId": "82c69a1b-a1c8-4429-d963-9b777606a365"
      },
      "execution_count": 47,
      "outputs": [
        {
          "output_type": "execute_result",
          "data": {
            "text/plain": [
              "tensor(14)"
            ]
          },
          "metadata": {},
          "execution_count": 47
        }
      ]
    },
    {
      "cell_type": "code",
      "source": [
        "torch.matmul(torch.rand(2, 3), torch.rand(3, 2))"
      ],
      "metadata": {
        "colab": {
          "base_uri": "https://localhost:8080/"
        },
        "id": "IUSLRJmYlZA3",
        "outputId": "3d904202-70df-4c55-d7bb-5c5e9a5e66a3"
      },
      "execution_count": 48,
      "outputs": [
        {
          "output_type": "execute_result",
          "data": {
            "text/plain": [
              "tensor([[0.9907, 0.7986],\n",
              "        [0.9737, 0.7893]])"
            ]
          },
          "metadata": {},
          "execution_count": 48
        }
      ]
    },
    {
      "cell_type": "code",
      "source": [
        "# Shape for matrix multiplication\n",
        "tensor_A = torch.tensor([[1, 2],\n",
        "                         [3, 4],\n",
        "                         [5, 6]])\n",
        "\n",
        "tensor_B = torch.tensor([[7, 10],\n",
        "                         [8, 11],\n",
        "                         [9, 12]])\n",
        "\n",
        "torch.mm(tensor_A, tensor_B) # torch.mm is an alias for torch.matmul"
      ],
      "metadata": {
        "colab": {
          "base_uri": "https://localhost:8080/",
          "height": 176
        },
        "id": "16Ffv8YSm35G",
        "outputId": "595c6ee8-1dcf-4abe-e93b-99404b05f19a"
      },
      "execution_count": 50,
      "outputs": [
        {
          "output_type": "error",
          "ename": "RuntimeError",
          "evalue": "mat1 and mat2 shapes cannot be multiplied (3x2 and 3x2)",
          "traceback": [
            "\u001b[0;31m---------------------------------------------------------------------------\u001b[0m",
            "\u001b[0;31mRuntimeError\u001b[0m                              Traceback (most recent call last)",
            "\u001b[0;32m<ipython-input-50-1a632da071aa>\u001b[0m in \u001b[0;36m<cell line: 10>\u001b[0;34m()\u001b[0m\n\u001b[1;32m      8\u001b[0m                          [9, 12]])\n\u001b[1;32m      9\u001b[0m \u001b[0;34m\u001b[0m\u001b[0m\n\u001b[0;32m---> 10\u001b[0;31m \u001b[0mtorch\u001b[0m\u001b[0;34m.\u001b[0m\u001b[0mmm\u001b[0m\u001b[0;34m(\u001b[0m\u001b[0mtensor_A\u001b[0m\u001b[0;34m,\u001b[0m \u001b[0mtensor_B\u001b[0m\u001b[0;34m)\u001b[0m \u001b[0;31m# torch.mm is an alias for torch.matmul\u001b[0m\u001b[0;34m\u001b[0m\u001b[0;34m\u001b[0m\u001b[0m\n\u001b[0m",
            "\u001b[0;31mRuntimeError\u001b[0m: mat1 and mat2 shapes cannot be multiplied (3x2 and 3x2)"
          ]
        }
      ]
    },
    {
      "cell_type": "code",
      "source": [
        "tensor_A.shape, tensor_B.shape"
      ],
      "metadata": {
        "colab": {
          "base_uri": "https://localhost:8080/"
        },
        "id": "3gEWDloInelr",
        "outputId": "4250c1af-a533-4a98-9f6a-436097bf9009"
      },
      "execution_count": 51,
      "outputs": [
        {
          "output_type": "execute_result",
          "data": {
            "text/plain": [
              "(torch.Size([3, 2]), torch.Size([3, 2]))"
            ]
          },
          "metadata": {},
          "execution_count": 51
        }
      ]
    },
    {
      "cell_type": "markdown",
      "source": [
        "To fix problems with the `shape` of tensors, we can manipulate the `shape` of one tensor using **transpose**.\n",
        "\n",
        "A **transpose** switches axes or dimensions of a given tensor."
      ],
      "metadata": {
        "id": "WIwSEGDPn0fw"
      }
    },
    {
      "cell_type": "code",
      "source": [
        "tensor_B, tensor_B.shape"
      ],
      "metadata": {
        "colab": {
          "base_uri": "https://localhost:8080/"
        },
        "id": "FqfaE30qoIyj",
        "outputId": "71581d8a-36b7-4d25-d9df-e83cf5d9a653"
      },
      "execution_count": 52,
      "outputs": [
        {
          "output_type": "execute_result",
          "data": {
            "text/plain": [
              "(tensor([[ 7, 10],\n",
              "         [ 8, 11],\n",
              "         [ 9, 12]]),\n",
              " torch.Size([3, 2]))"
            ]
          },
          "metadata": {},
          "execution_count": 52
        }
      ]
    },
    {
      "cell_type": "code",
      "source": [
        "tensor_B.T, tensor_B.T.shape"
      ],
      "metadata": {
        "colab": {
          "base_uri": "https://localhost:8080/"
        },
        "id": "vWnp6ydgoRLs",
        "outputId": "35952f75-640f-4068-e4ac-09c2c839f044"
      },
      "execution_count": 53,
      "outputs": [
        {
          "output_type": "execute_result",
          "data": {
            "text/plain": [
              "(tensor([[ 7,  8,  9],\n",
              "         [10, 11, 12]]),\n",
              " torch.Size([2, 3]))"
            ]
          },
          "metadata": {},
          "execution_count": 53
        }
      ]
    },
    {
      "cell_type": "code",
      "source": [
        "# Now we can multiply the tensors\n",
        "\n",
        "print(f\"Original: A={tensor_A.shape}, B={tensor_B.shape}\")\n",
        "print(f\"New: A={tensor_A.shape} (not changed), B={tensor_B.T.shape}\")\n",
        "\n",
        "print(f\"\\nResult: {torch.mm(tensor_A, tensor_B.T)}\")"
      ],
      "metadata": {
        "colab": {
          "base_uri": "https://localhost:8080/"
        },
        "id": "sOWLOX6uoWtV",
        "outputId": "85271f68-5dab-41f6-adc0-992baea3ff19"
      },
      "execution_count": 54,
      "outputs": [
        {
          "output_type": "stream",
          "name": "stdout",
          "text": [
            "Original: A=torch.Size([3, 2]), B=torch.Size([3, 2])\n",
            "New: A=torch.Size([3, 2]) (not changed), B=torch.Size([2, 3])\n",
            "\n",
            "Result: tensor([[ 27,  30,  33],\n",
            "        [ 61,  68,  75],\n",
            "        [ 95, 106, 117]])\n"
          ]
        }
      ]
    },
    {
      "cell_type": "markdown",
      "source": [
        "Better visualization: http://matrixmultiplication.xyz"
      ],
      "metadata": {
        "id": "-aK2LwvBqON-"
      }
    },
    {
      "cell_type": "markdown",
      "source": [
        "### Finding the min, max, mean, sum, etc (tensor aggregation)"
      ],
      "metadata": {
        "id": "AnmV7qA6qt1H"
      }
    },
    {
      "cell_type": "code",
      "source": [
        "# Create a tensor\n",
        "x = torch.arange(0, 100, 10)\n",
        "x, x.dtype"
      ],
      "metadata": {
        "colab": {
          "base_uri": "https://localhost:8080/"
        },
        "id": "8FPJf_SPq4db",
        "outputId": "432e0c7f-3ddc-42b6-a74a-17310a5ad9f0"
      },
      "execution_count": 55,
      "outputs": [
        {
          "output_type": "execute_result",
          "data": {
            "text/plain": [
              "(tensor([ 0, 10, 20, 30, 40, 50, 60, 70, 80, 90]), torch.int64)"
            ]
          },
          "metadata": {},
          "execution_count": 55
        }
      ]
    },
    {
      "cell_type": "code",
      "source": [
        "# Find the min\n",
        "torch.min(x), x.min()"
      ],
      "metadata": {
        "colab": {
          "base_uri": "https://localhost:8080/"
        },
        "id": "y_7Ou8HyxUCS",
        "outputId": "1a40a1fa-ffb3-435d-b8db-8a91edc3fe72"
      },
      "execution_count": 56,
      "outputs": [
        {
          "output_type": "execute_result",
          "data": {
            "text/plain": [
              "(tensor(0), tensor(0))"
            ]
          },
          "metadata": {},
          "execution_count": 56
        }
      ]
    },
    {
      "cell_type": "code",
      "source": [
        "# Find the max\n",
        "torch.max(x), x.max()"
      ],
      "metadata": {
        "colab": {
          "base_uri": "https://localhost:8080/"
        },
        "id": "yIKXTtvcxcw1",
        "outputId": "ff5be6ed-9b50-4e84-940e-f253fddb2770"
      },
      "execution_count": 57,
      "outputs": [
        {
          "output_type": "execute_result",
          "data": {
            "text/plain": [
              "(tensor(90), tensor(90))"
            ]
          },
          "metadata": {},
          "execution_count": 57
        }
      ]
    },
    {
      "cell_type": "markdown",
      "source": [
        "**Note:** tensor `x`'s datatype is `torch.int64`/`long` as shown before, and `mean()` function cannot operate with that, so it throws an error. We will face some errors of this kind when coding."
      ],
      "metadata": {
        "id": "LzkIlXJfyQaB"
      }
    },
    {
      "cell_type": "code",
      "source": [
        "# Find the mean\n",
        "torch.mean(x.type(torch.float32)), x.type(torch.float32).mean()"
      ],
      "metadata": {
        "colab": {
          "base_uri": "https://localhost:8080/"
        },
        "id": "kkLSz2WCxh9L",
        "outputId": "6944addd-0e94-4af5-faa7-be2c8e8703f8"
      },
      "execution_count": 58,
      "outputs": [
        {
          "output_type": "execute_result",
          "data": {
            "text/plain": [
              "(tensor(45.), tensor(45.))"
            ]
          },
          "metadata": {},
          "execution_count": 58
        }
      ]
    },
    {
      "cell_type": "code",
      "source": [
        "# Find the sum\n",
        "torch.sum(x), x.sum()"
      ],
      "metadata": {
        "colab": {
          "base_uri": "https://localhost:8080/"
        },
        "id": "KWNf1BqYy8XI",
        "outputId": "19dbea30-feff-4eda-c858-5e88da8c3a1e"
      },
      "execution_count": 59,
      "outputs": [
        {
          "output_type": "execute_result",
          "data": {
            "text/plain": [
              "(tensor(450), tensor(450))"
            ]
          },
          "metadata": {},
          "execution_count": 59
        }
      ]
    },
    {
      "cell_type": "markdown",
      "source": [
        "### Finding the positional min and max"
      ],
      "metadata": {
        "id": "mXtS-f2zzk1U"
      }
    },
    {
      "cell_type": "code",
      "source": [
        "# Create a tensor\n",
        "x = torch.arange(1, 101, 10)\n",
        "x, x.dtype"
      ],
      "metadata": {
        "colab": {
          "base_uri": "https://localhost:8080/"
        },
        "id": "_LbAZqLAz91x",
        "outputId": "1b33a6d9-3dcb-4919-f084-d5e7d31cfe8c"
      },
      "execution_count": 60,
      "outputs": [
        {
          "output_type": "execute_result",
          "data": {
            "text/plain": [
              "(tensor([ 1, 11, 21, 31, 41, 51, 61, 71, 81, 91]), torch.int64)"
            ]
          },
          "metadata": {},
          "execution_count": 60
        }
      ]
    },
    {
      "cell_type": "code",
      "source": [
        "# Find the position in tensor that has the minimum value\n",
        "torch.argmin(x), x.argmin()"
      ],
      "metadata": {
        "colab": {
          "base_uri": "https://localhost:8080/"
        },
        "id": "GTeDW8ofzpiO",
        "outputId": "90f304d9-fbcd-4125-c834-8277f9f0d8b2"
      },
      "execution_count": 61,
      "outputs": [
        {
          "output_type": "execute_result",
          "data": {
            "text/plain": [
              "(tensor(0), tensor(0))"
            ]
          },
          "metadata": {},
          "execution_count": 61
        }
      ]
    },
    {
      "cell_type": "code",
      "source": [
        "x[0]"
      ],
      "metadata": {
        "colab": {
          "base_uri": "https://localhost:8080/"
        },
        "id": "YCptVZtK0D8J",
        "outputId": "88460de7-0cfb-4fb8-e165-241448b1a769"
      },
      "execution_count": 62,
      "outputs": [
        {
          "output_type": "execute_result",
          "data": {
            "text/plain": [
              "tensor(1)"
            ]
          },
          "metadata": {},
          "execution_count": 62
        }
      ]
    },
    {
      "cell_type": "code",
      "source": [
        "# Find the position in tensor that has the maximum value\n",
        "torch.argmax(x), x.argmax()"
      ],
      "metadata": {
        "colab": {
          "base_uri": "https://localhost:8080/"
        },
        "id": "uikZjCDVz25L",
        "outputId": "670a46c0-e451-45b7-ce47-d9457e8a7684"
      },
      "execution_count": 63,
      "outputs": [
        {
          "output_type": "execute_result",
          "data": {
            "text/plain": [
              "(tensor(9), tensor(9))"
            ]
          },
          "metadata": {},
          "execution_count": 63
        }
      ]
    },
    {
      "cell_type": "code",
      "source": [
        "x[-1]"
      ],
      "metadata": {
        "colab": {
          "base_uri": "https://localhost:8080/"
        },
        "id": "oDSllDv_0G3y",
        "outputId": "665148f9-9d9c-4169-a768-2c41d02567d3"
      },
      "execution_count": 64,
      "outputs": [
        {
          "output_type": "execute_result",
          "data": {
            "text/plain": [
              "tensor(91)"
            ]
          },
          "metadata": {},
          "execution_count": 64
        }
      ]
    },
    {
      "cell_type": "markdown",
      "source": [
        "### Reshaping, stacking, squeezing and unsqueezing tensors\n",
        "\n",
        "* Reshaping - reshapes an input tensor to a defined shape\n",
        "* View - return a view of an input tensor of certain shape but keep the same memory as the original tensor\n",
        "* Stacking - combine multiple tensors on top of each other (vstack) or side by side (hstack)\n",
        "* Squeeze - removes all `1` dimensions from a tensor\n",
        "* Unsqueeze - add a `1` dimension to a target tensor\n",
        "* Permute - return a view of the input with dimensions permuted (swapped) in a certain way"
      ],
      "metadata": {
        "id": "mceJZ58a0-6B"
      }
    },
    {
      "cell_type": "code",
      "source": [
        "# Creating a tensor\n",
        "x = torch.arange(1., 10.)\n",
        "x, x.shape, x.ndim"
      ],
      "metadata": {
        "colab": {
          "base_uri": "https://localhost:8080/"
        },
        "id": "QbnPlhMh180_",
        "outputId": "a625336f-d382-47f9-9d1c-fa7835caf36e"
      },
      "execution_count": 65,
      "outputs": [
        {
          "output_type": "execute_result",
          "data": {
            "text/plain": [
              "(tensor([1., 2., 3., 4., 5., 6., 7., 8., 9.]), torch.Size([9]), 1)"
            ]
          },
          "metadata": {},
          "execution_count": 65
        }
      ]
    },
    {
      "cell_type": "markdown",
      "source": [
        "**Note:** reshaped tensor `ndim` is the original tensor's `ndim` + 1. Also, the product of the `shape` dimensions must be equal to the original tensor's."
      ],
      "metadata": {
        "id": "puOmJU_93wZg"
      }
    },
    {
      "cell_type": "code",
      "source": [
        "# Add an extra dimension\n",
        "x_reshaped = x.reshape(1, 9)\n",
        "print(f\"Tensor: {x_reshaped}, Shape: {x_reshaped.shape}, reshape factor 1 * 9 = 9, Dim={x_reshaped.ndim}\")\n",
        "\n",
        "x_reshaped = x.reshape(9, 1)\n",
        "print(f\"\\nTensor: {x_reshaped}, Shape: {x_reshaped.shape}, reshape factor 9 * 1 = 9, Dim={x_reshaped.ndim}\")\n",
        "\n",
        "x_reshaped = x.reshape(3, 3)\n",
        "print(f\"\\nTensor: {x_reshaped}, Shape: {x_reshaped.shape}, reshape factor 3 * 3 = 9, Dim={x_reshaped.ndim}\")"
      ],
      "metadata": {
        "colab": {
          "base_uri": "https://localhost:8080/"
        },
        "id": "5wDJazaw2Gv7",
        "outputId": "1fd7eeb7-5752-4590-dd51-2f5f7a2838cb"
      },
      "execution_count": 66,
      "outputs": [
        {
          "output_type": "stream",
          "name": "stdout",
          "text": [
            "Tensor: tensor([[1., 2., 3., 4., 5., 6., 7., 8., 9.]]), Shape: torch.Size([1, 9]), reshape factor 1 * 9 = 9, Dim=2\n",
            "\n",
            "Tensor: tensor([[1.],\n",
            "        [2.],\n",
            "        [3.],\n",
            "        [4.],\n",
            "        [5.],\n",
            "        [6.],\n",
            "        [7.],\n",
            "        [8.],\n",
            "        [9.]]), Shape: torch.Size([9, 1]), reshape factor 9 * 1 = 9, Dim=2\n",
            "\n",
            "Tensor: tensor([[1., 2., 3.],\n",
            "        [4., 5., 6.],\n",
            "        [7., 8., 9.]]), Shape: torch.Size([3, 3]), reshape factor 3 * 3 = 9, Dim=2\n"
          ]
        }
      ]
    },
    {
      "cell_type": "code",
      "source": [
        "# Change the view\n",
        "z = x.view(1, 9)\n",
        "z, z.shape"
      ],
      "metadata": {
        "colab": {
          "base_uri": "https://localhost:8080/"
        },
        "id": "vBIHpxbJ25sR",
        "outputId": "77f57374-fb1e-4ea8-a7c6-71359ba8d66c"
      },
      "execution_count": 67,
      "outputs": [
        {
          "output_type": "execute_result",
          "data": {
            "text/plain": [
              "(tensor([[1., 2., 3., 4., 5., 6., 7., 8., 9.]]), torch.Size([1, 9]))"
            ]
          },
          "metadata": {},
          "execution_count": 67
        }
      ]
    },
    {
      "cell_type": "markdown",
      "source": [
        "If we change `z`, `x` changes because a view of a tensor shares the same memory as the original."
      ],
      "metadata": {
        "id": "mtiDuafQ5duN"
      }
    },
    {
      "cell_type": "code",
      "source": [
        "# Changing 'z'\n",
        "z[:, 0] = 5\n",
        "z, x"
      ],
      "metadata": {
        "colab": {
          "base_uri": "https://localhost:8080/"
        },
        "id": "BKhrnbmj5r5y",
        "outputId": "fe710c5e-6b6c-4b0e-8e23-9e6c23460e12"
      },
      "execution_count": 68,
      "outputs": [
        {
          "output_type": "execute_result",
          "data": {
            "text/plain": [
              "(tensor([[5., 2., 3., 4., 5., 6., 7., 8., 9.]]),\n",
              " tensor([5., 2., 3., 4., 5., 6., 7., 8., 9.]))"
            ]
          },
          "metadata": {},
          "execution_count": 68
        }
      ]
    },
    {
      "cell_type": "code",
      "source": [
        "# Stack tensors on top of each other\n",
        "x_stacked = torch.stack([x, x, x, x], dim=1)\n",
        "x_stacked"
      ],
      "metadata": {
        "colab": {
          "base_uri": "https://localhost:8080/"
        },
        "id": "I7mIp2EU54-L",
        "outputId": "ddf1767c-8f36-4435-b915-ec72d8fcef37"
      },
      "execution_count": 69,
      "outputs": [
        {
          "output_type": "execute_result",
          "data": {
            "text/plain": [
              "tensor([[5., 5., 5., 5.],\n",
              "        [2., 2., 2., 2.],\n",
              "        [3., 3., 3., 3.],\n",
              "        [4., 4., 4., 4.],\n",
              "        [5., 5., 5., 5.],\n",
              "        [6., 6., 6., 6.],\n",
              "        [7., 7., 7., 7.],\n",
              "        [8., 8., 8., 8.],\n",
              "        [9., 9., 9., 9.]])"
            ]
          },
          "metadata": {},
          "execution_count": 69
        }
      ]
    },
    {
      "cell_type": "markdown",
      "source": [
        "Squeezing removes all single dimensions of a given tensor.\n",
        "\n",
        "DOC: https://pytorch.org/docs/stable/generated/torch.squeeze.html"
      ],
      "metadata": {
        "id": "tq15rmE4MbRR"
      }
    },
    {
      "cell_type": "code",
      "source": [
        "# Squeezing tensors\n",
        "y = torch.rand(3, 1, 3, 2, 1)\n",
        "print(f\"Initial tensor: {y.shape}\")\n",
        "y_squeezed = torch.squeeze(y)\n",
        "print(f\"Squeezed tensor: {y_squeezed.shape}\")"
      ],
      "metadata": {
        "colab": {
          "base_uri": "https://localhost:8080/"
        },
        "id": "n1UFnCx06kIm",
        "outputId": "de44b418-db96-4f22-eeb0-28d5e36ccdd7"
      },
      "execution_count": 70,
      "outputs": [
        {
          "output_type": "stream",
          "name": "stdout",
          "text": [
            "Initial tensor: torch.Size([3, 1, 3, 2, 1])\n",
            "Squeezed tensor: torch.Size([3, 3, 2])\n"
          ]
        }
      ]
    },
    {
      "cell_type": "markdown",
      "source": [
        "Giving a `dim` value to the function sets a maximum of dimensions to be squeezed:"
      ],
      "metadata": {
        "id": "VWyedwUVNf78"
      }
    },
    {
      "cell_type": "code",
      "source": [
        "# Setting a dim value\n",
        "y_squeezed = y.squeeze(dim=1)\n",
        "print(f\"With only 1 dimension squeezed: {y_squeezed.shape}\")"
      ],
      "metadata": {
        "colab": {
          "base_uri": "https://localhost:8080/"
        },
        "id": "dWO6Ai-IOSy9",
        "outputId": "ebe9522a-cfdf-4b97-e901-dc2a281206e9"
      },
      "execution_count": 71,
      "outputs": [
        {
          "output_type": "stream",
          "name": "stdout",
          "text": [
            "With only 1 dimension squeezed: torch.Size([3, 3, 2, 1])\n"
          ]
        }
      ]
    },
    {
      "cell_type": "markdown",
      "source": [
        "Unsqueeze does the opposite, it adds a new dimension of `1` to the tensor at a specific dimension.\n",
        "\n",
        "DOC: https://pytorch.org/docs/stable/generated/torch.unsqueeze.html"
      ],
      "metadata": {
        "id": "OHGxJsdiPYvo"
      }
    },
    {
      "cell_type": "code",
      "source": [
        "# Unsqueezing tensors\n",
        "y = torch.rand(9)\n",
        "print(f\"Initial tensor: {y}\")\n",
        "print(f\"Initial shape: {y.shape}\")\n",
        "\n",
        "y_unsqueezed = torch.unsqueeze(y, dim=1)\n",
        "print(f\"\\nUnsqueezed tensor: {y_unsqueezed}\")\n",
        "print(f\"Unsqueezed shape: {y_unsqueezed.shape}\")"
      ],
      "metadata": {
        "colab": {
          "base_uri": "https://localhost:8080/"
        },
        "id": "B3ZeyMJ4PjlG",
        "outputId": "bb7e8faf-4367-4a68-ea3c-408339b848a1"
      },
      "execution_count": 72,
      "outputs": [
        {
          "output_type": "stream",
          "name": "stdout",
          "text": [
            "Initial tensor: tensor([0.5768, 0.8864, 0.7948, 0.9884, 0.6412, 0.3877, 0.1472, 0.9269, 0.7331])\n",
            "Initial shape: torch.Size([9])\n",
            "\n",
            "Unsqueezed tensor: tensor([[0.5768],\n",
            "        [0.8864],\n",
            "        [0.7948],\n",
            "        [0.9884],\n",
            "        [0.6412],\n",
            "        [0.3877],\n",
            "        [0.1472],\n",
            "        [0.9269],\n",
            "        [0.7331]])\n",
            "Unsqueezed shape: torch.Size([9, 1])\n"
          ]
        }
      ]
    },
    {
      "cell_type": "markdown",
      "source": [
        "Setting the input dimension to negative makes the index to go backwards. `-1` is the last position and so on.\n",
        "\n",
        "**Note:** the input value range is as follows => `[-input.dim() - 1, input.dim() + 1)`"
      ],
      "metadata": {
        "id": "iyM7E77fTlee"
      }
    },
    {
      "cell_type": "code",
      "source": [
        "y_negative_unsqueezed = torch.unsqueeze(y, dim=-2)\n",
        "print(f\"\\nUnsqueezed tensor: {y_negative_unsqueezed}\")\n",
        "print(f\"Unsqueezed shape: {y_negative_unsqueezed.shape}\")"
      ],
      "metadata": {
        "colab": {
          "base_uri": "https://localhost:8080/"
        },
        "id": "BUqc1NFUTQPb",
        "outputId": "6fb8098d-6456-4a67-f40d-4add70a8d4ec"
      },
      "execution_count": 73,
      "outputs": [
        {
          "output_type": "stream",
          "name": "stdout",
          "text": [
            "\n",
            "Unsqueezed tensor: tensor([[0.5768, 0.8864, 0.7948, 0.9884, 0.6412, 0.3877, 0.1472, 0.9269, 0.7331]])\n",
            "Unsqueezed shape: torch.Size([1, 9])\n"
          ]
        }
      ]
    },
    {
      "cell_type": "markdown",
      "source": [
        "Permutation rearranges the tensor's dimensions in a specified order. Creates a view of the original tensor, so it shares memory with the original.\n",
        "\n",
        "Input `dims` is a tuple with the order of the dims' indexes.\n",
        "\n",
        "DOC: https://pytorch.org/docs/stable/generated/torch.permute.html"
      ],
      "metadata": {
        "id": "WgRDCHl2UdnG"
      }
    },
    {
      "cell_type": "code",
      "source": [
        "# Permuting tensors\n",
        "y = torch.rand(3, 4, 2)\n",
        "print(f\"Initial tensor: {y}\")\n",
        "print(f\"Initial shape: {y.shape}\")\n",
        "\n",
        "y_permuted = torch.permute(y, (2, 0, 1))\n",
        "print(f\"\\nPermuted tensor: {y_permuted}\")\n",
        "print(f\"Permuted shape: {y_permuted.shape}\")"
      ],
      "metadata": {
        "colab": {
          "base_uri": "https://localhost:8080/"
        },
        "id": "-vVbAUP9Ut4B",
        "outputId": "65a79bdd-9bbf-4e83-d80b-2fd7ea83eb1f"
      },
      "execution_count": 74,
      "outputs": [
        {
          "output_type": "stream",
          "name": "stdout",
          "text": [
            "Initial tensor: tensor([[[0.5201, 0.2702],\n",
            "         [0.8631, 0.9302],\n",
            "         [0.3559, 0.0665],\n",
            "         [0.7485, 0.3909]],\n",
            "\n",
            "        [[0.0211, 0.8411],\n",
            "         [0.2365, 0.5408],\n",
            "         [0.0241, 0.7435],\n",
            "         [0.9301, 0.2873]],\n",
            "\n",
            "        [[0.8947, 0.1787],\n",
            "         [0.4108, 0.1110],\n",
            "         [0.1811, 0.4628],\n",
            "         [0.4380, 0.8058]]])\n",
            "Initial shape: torch.Size([3, 4, 2])\n",
            "\n",
            "Permuted tensor: tensor([[[0.5201, 0.8631, 0.3559, 0.7485],\n",
            "         [0.0211, 0.2365, 0.0241, 0.9301],\n",
            "         [0.8947, 0.4108, 0.1811, 0.4380]],\n",
            "\n",
            "        [[0.2702, 0.9302, 0.0665, 0.3909],\n",
            "         [0.8411, 0.5408, 0.7435, 0.2873],\n",
            "         [0.1787, 0.1110, 0.4628, 0.8058]]])\n",
            "Permuted shape: torch.Size([2, 3, 4])\n"
          ]
        }
      ]
    },
    {
      "cell_type": "markdown",
      "source": [
        "**Note:** apparently, permutation is often used for images.\n",
        "\n",
        "Example:"
      ],
      "metadata": {
        "id": "ExPypGnNW51S"
      }
    },
    {
      "cell_type": "code",
      "source": [
        "image_tensor = torch.rand(224, 224, 3) # height, width, color_channels\n",
        "print(f\"Original image shape: {image_tensor.shape}\")\n",
        "\n",
        "# We want to set the color_channels to be the first dimension\n",
        "permuted_image_tensor = image_tensor.permute(2, 0, 1)\n",
        "print(f\"\\nPermuted image tensor shape: {permuted_image_tensor.shape}\")"
      ],
      "metadata": {
        "colab": {
          "base_uri": "https://localhost:8080/"
        },
        "id": "gGo3l-gNXDaK",
        "outputId": "b4f8f8fb-00d1-463c-ce40-45e589c212e6"
      },
      "execution_count": 75,
      "outputs": [
        {
          "output_type": "stream",
          "name": "stdout",
          "text": [
            "Original image shape: torch.Size([224, 224, 3])\n",
            "\n",
            "Permuted image tensor shape: torch.Size([3, 224, 224])\n"
          ]
        }
      ]
    },
    {
      "cell_type": "markdown",
      "source": [
        "Permuted tensor shares memory with the original:"
      ],
      "metadata": {
        "id": "Fwa9C9V_Y64e"
      }
    },
    {
      "cell_type": "code",
      "source": [
        "permuted_image_tensor[0, 0, 0] = 16666\n",
        "\n",
        "image_tensor[0, 0, 0], permuted_image_tensor[0, 0, 0]"
      ],
      "metadata": {
        "colab": {
          "base_uri": "https://localhost:8080/"
        },
        "id": "GH3M9-5UZBq0",
        "outputId": "d7bb54d4-071d-4b87-8431-f9fc66a20390"
      },
      "execution_count": 76,
      "outputs": [
        {
          "output_type": "execute_result",
          "data": {
            "text/plain": [
              "(tensor(16666.), tensor(16666.))"
            ]
          },
          "metadata": {},
          "execution_count": 76
        }
      ]
    },
    {
      "cell_type": "markdown",
      "source": [
        "### Indexing (selecting data from tensors)\n",
        "\n",
        "Indexing with PyTorch is similar to indexing with NumPy."
      ],
      "metadata": {
        "id": "KpaJ_2lMZZWv"
      }
    },
    {
      "cell_type": "code",
      "source": [
        "# Creating a tensor\n",
        "x = torch.arange(1, 10).reshape(1, 3, 3)\n",
        "x, x.shape"
      ],
      "metadata": {
        "colab": {
          "base_uri": "https://localhost:8080/"
        },
        "id": "S_8SL3QkZmxP",
        "outputId": "56e861dd-f769-42fc-a5ca-5587322fc572"
      },
      "execution_count": 77,
      "outputs": [
        {
          "output_type": "execute_result",
          "data": {
            "text/plain": [
              "(tensor([[[1, 2, 3],\n",
              "          [4, 5, 6],\n",
              "          [7, 8, 9]]]),\n",
              " torch.Size([1, 3, 3]))"
            ]
          },
          "metadata": {},
          "execution_count": 77
        }
      ]
    },
    {
      "cell_type": "code",
      "source": [
        "# Indexing the first dimension (dim=0)\n",
        "x[0]"
      ],
      "metadata": {
        "colab": {
          "base_uri": "https://localhost:8080/"
        },
        "id": "93cTbC5-aU2O",
        "outputId": "44f92f77-3a18-4f54-fa6c-b5d217903b4c"
      },
      "execution_count": 78,
      "outputs": [
        {
          "output_type": "execute_result",
          "data": {
            "text/plain": [
              "tensor([[1, 2, 3],\n",
              "        [4, 5, 6],\n",
              "        [7, 8, 9]])"
            ]
          },
          "metadata": {},
          "execution_count": 78
        }
      ]
    },
    {
      "cell_type": "code",
      "source": [
        "# Indexing the second dimension (dim=1)\n",
        "x[0][0], x[0, 0]"
      ],
      "metadata": {
        "colab": {
          "base_uri": "https://localhost:8080/"
        },
        "id": "U3VgyVy3aaA4",
        "outputId": "ebc73491-7b93-43cf-be69-2015749b0a52"
      },
      "execution_count": 79,
      "outputs": [
        {
          "output_type": "execute_result",
          "data": {
            "text/plain": [
              "(tensor([1, 2, 3]), tensor([1, 2, 3]))"
            ]
          },
          "metadata": {},
          "execution_count": 79
        }
      ]
    },
    {
      "cell_type": "code",
      "source": [
        "# Indexing the third dimension, in this example, getting a value (dim=2)\n",
        "x[0][0][0], x[0, 0, 0]"
      ],
      "metadata": {
        "colab": {
          "base_uri": "https://localhost:8080/"
        },
        "id": "kSBb68oZajZP",
        "outputId": "b8fbea0a-841e-46f1-d349-731e9b4facd5"
      },
      "execution_count": 80,
      "outputs": [
        {
          "output_type": "execute_result",
          "data": {
            "text/plain": [
              "(tensor(1), tensor(1))"
            ]
          },
          "metadata": {},
          "execution_count": 80
        }
      ]
    },
    {
      "cell_type": "code",
      "source": [
        "# Indexing all with ':'\n",
        "x[:, :, 0]"
      ],
      "metadata": {
        "colab": {
          "base_uri": "https://localhost:8080/"
        },
        "id": "59mpZeFHbha5",
        "outputId": "884cc648-3958-46bd-c0ca-d209ed45f0fa"
      },
      "execution_count": 81,
      "outputs": [
        {
          "output_type": "execute_result",
          "data": {
            "text/plain": [
              "tensor([[1, 4, 7]])"
            ]
          },
          "metadata": {},
          "execution_count": 81
        }
      ]
    },
    {
      "cell_type": "code",
      "source": [
        "index_test = torch.arange(1, 28).reshape(3, 3, 3) # values 1 to 27\n",
        "\n",
        "print(f\"Tensor: {index_test}, Shape: {index_test.shape}\")\n",
        "\n",
        "index_test[1, :, 1]"
      ],
      "metadata": {
        "colab": {
          "base_uri": "https://localhost:8080/"
        },
        "id": "MmvS4cnjcA1h",
        "outputId": "28d31044-e748-463c-c4ec-becdae449b11"
      },
      "execution_count": 102,
      "outputs": [
        {
          "output_type": "stream",
          "name": "stdout",
          "text": [
            "Tensor: tensor([[[ 1,  2,  3],\n",
            "         [ 4,  5,  6],\n",
            "         [ 7,  8,  9]],\n",
            "\n",
            "        [[10, 11, 12],\n",
            "         [13, 14, 15],\n",
            "         [16, 17, 18]],\n",
            "\n",
            "        [[19, 20, 21],\n",
            "         [22, 23, 24],\n",
            "         [25, 26, 27]]]), Shape: torch.Size([3, 3, 3])\n"
          ]
        },
        {
          "output_type": "execute_result",
          "data": {
            "text/plain": [
              "tensor([11, 14, 17])"
            ]
          },
          "metadata": {},
          "execution_count": 102
        }
      ]
    },
    {
      "cell_type": "markdown",
      "source": [
        "### PyTorch tensors and NumPy\n",
        "\n",
        "NumPy is a popular scientific Python numerical computing library. PyTorch requires NumPy.\n",
        "\n",
        "Because of this, PyTorch has functionality to interact with it.\n",
        "\n",
        "* Change data in NumPy to PyTorch tensor -> `torch.from_numpy(ndarray)`\n",
        "* Change data in PyTorch tensor to NumPy -> `torch.Tensor.numpy()`"
      ],
      "metadata": {
        "id": "SQW-KQ2gsu-v"
      }
    },
    {
      "cell_type": "code",
      "source": [
        "# NumPy array to tensor\n",
        "array = np.arange(1.0, 8.0)\n",
        "tensor = torch.from_numpy(array)\n",
        "array, tensor"
      ],
      "metadata": {
        "colab": {
          "base_uri": "https://localhost:8080/"
        },
        "id": "w2UsIL0jtsl8",
        "outputId": "936ab74e-8756-4c5d-acef-30e46fc2f3eb"
      },
      "execution_count": 103,
      "outputs": [
        {
          "output_type": "execute_result",
          "data": {
            "text/plain": [
              "(array([1., 2., 3., 4., 5., 6., 7.]),\n",
              " tensor([1., 2., 3., 4., 5., 6., 7.], dtype=torch.float64))"
            ]
          },
          "metadata": {},
          "execution_count": 103
        }
      ]
    },
    {
      "cell_type": "markdown",
      "source": [
        "**Note:** NumPy's default datatype is `float64` whereas PyTorch's is `float32`."
      ],
      "metadata": {
        "id": "OywRfIWmuVZA"
      }
    },
    {
      "cell_type": "code",
      "source": [
        "array.dtype"
      ],
      "metadata": {
        "colab": {
          "base_uri": "https://localhost:8080/"
        },
        "id": "y8yg1O3OuE8Y",
        "outputId": "4f01f1e7-f138-4a5e-9ab7-d2d5d85bf910"
      },
      "execution_count": 104,
      "outputs": [
        {
          "output_type": "execute_result",
          "data": {
            "text/plain": [
              "dtype('float64')"
            ]
          },
          "metadata": {},
          "execution_count": 104
        }
      ]
    },
    {
      "cell_type": "code",
      "source": [
        "torch.arange(1.0, 8.0).dtype"
      ],
      "metadata": {
        "colab": {
          "base_uri": "https://localhost:8080/"
        },
        "id": "zZB2nCx2uLCH",
        "outputId": "ba4f67f5-fd87-477e-976f-f138bb8ff868"
      },
      "execution_count": 106,
      "outputs": [
        {
          "output_type": "execute_result",
          "data": {
            "text/plain": [
              "torch.float32"
            ]
          },
          "metadata": {},
          "execution_count": 106
        }
      ]
    },
    {
      "cell_type": "markdown",
      "source": [
        "Nonetheless, we can use `type()` function if we need to change the tensor's datatype:"
      ],
      "metadata": {
        "id": "IBSkzpDEvDQ5"
      }
    },
    {
      "cell_type": "code",
      "source": [
        "tensor.type(torch.float32).dtype"
      ],
      "metadata": {
        "colab": {
          "base_uri": "https://localhost:8080/"
        },
        "id": "gEGj1-H9uxp-",
        "outputId": "05fbb3d1-a8f8-4345-e750-562d496ec319"
      },
      "execution_count": 110,
      "outputs": [
        {
          "output_type": "execute_result",
          "data": {
            "text/plain": [
              "torch.float32"
            ]
          },
          "metadata": {},
          "execution_count": 110
        }
      ]
    },
    {
      "cell_type": "markdown",
      "source": [
        "Using `from_numpy()` creates a different space in memory, so the data is not shared."
      ],
      "metadata": {
        "id": "YDqaXKLYvq8n"
      }
    },
    {
      "cell_type": "code",
      "source": [
        "array = array + 1\n",
        "array, tensor"
      ],
      "metadata": {
        "colab": {
          "base_uri": "https://localhost:8080/"
        },
        "id": "Ix-Ooec3vhjf",
        "outputId": "355674e0-710f-4923-acd7-4f9fc64e169d"
      },
      "execution_count": 111,
      "outputs": [
        {
          "output_type": "execute_result",
          "data": {
            "text/plain": [
              "(array([2., 3., 4., 5., 6., 7., 8.]),\n",
              " tensor([1., 2., 3., 4., 5., 6., 7.], dtype=torch.float64))"
            ]
          },
          "metadata": {},
          "execution_count": 111
        }
      ]
    },
    {
      "cell_type": "markdown",
      "source": [
        "In the opposite operation, datatype is reflected just like in the previous case."
      ],
      "metadata": {
        "id": "5YercZxWwZEc"
      }
    },
    {
      "cell_type": "code",
      "source": [
        "# Tensor to NumPy array\n",
        "tensor = torch.ones(7)\n",
        "numpy_tensor = tensor.numpy()\n",
        "tensor, numpy_tensor"
      ],
      "metadata": {
        "colab": {
          "base_uri": "https://localhost:8080/"
        },
        "id": "3Iyq4mUfv2ox",
        "outputId": "2a4d1554-1842-4823-895b-5dfed5124229"
      },
      "execution_count": 112,
      "outputs": [
        {
          "output_type": "execute_result",
          "data": {
            "text/plain": [
              "(tensor([1., 1., 1., 1., 1., 1., 1.]),\n",
              " array([1., 1., 1., 1., 1., 1., 1.], dtype=float32))"
            ]
          },
          "metadata": {},
          "execution_count": 112
        }
      ]
    },
    {
      "cell_type": "markdown",
      "source": [
        "The same goes for `numpy()`, memory is not shared:"
      ],
      "metadata": {
        "id": "PdMrWQeQwxRQ"
      }
    },
    {
      "cell_type": "code",
      "source": [
        "tensor = tensor + 1\n",
        "tensor, numpy_tensor"
      ],
      "metadata": {
        "colab": {
          "base_uri": "https://localhost:8080/"
        },
        "id": "bGE2S5BIwoI_",
        "outputId": "9a8038f7-47cd-411f-8418-595e9b2e56ec"
      },
      "execution_count": 113,
      "outputs": [
        {
          "output_type": "execute_result",
          "data": {
            "text/plain": [
              "(tensor([2., 2., 2., 2., 2., 2., 2.]),\n",
              " array([1., 1., 1., 1., 1., 1., 1.], dtype=float32))"
            ]
          },
          "metadata": {},
          "execution_count": 113
        }
      ]
    },
    {
      "cell_type": "markdown",
      "source": [
        "### Reproducibility (trying to take random out of random)\n",
        "\n",
        "How a neural network learns:\n",
        "\n",
        "`start with random values -> tensor operations -> update random numbers to try make them better representation of the data -> again -> again -> ...`\n",
        "\n",
        "To reduce the randomness in neural networks and PyTorch comes the concept of **random seed**."
      ],
      "metadata": {
        "id": "J0je9OiWxKVX"
      }
    },
    {
      "cell_type": "code",
      "source": [
        "# Create two random tensors\n",
        "random_tensor_A = torch.rand(3, 4)\n",
        "random_tensor_B = torch.rand(3, 4)\n",
        "\n",
        "print(random_tensor_A == random_tensor_B)"
      ],
      "metadata": {
        "colab": {
          "base_uri": "https://localhost:8080/"
        },
        "id": "v5xCFoN-xpA_",
        "outputId": "1d30de9d-ef90-4fcc-91db-cca5045397c6"
      },
      "execution_count": 115,
      "outputs": [
        {
          "output_type": "stream",
          "name": "stdout",
          "text": [
            "tensor([[False, False, False, False],\n",
            "        [False, False, False, False],\n",
            "        [False, False, False, False]])\n"
          ]
        }
      ]
    },
    {
      "cell_type": "code",
      "source": [
        "# Making reproducible random tensors\n",
        "\n",
        "# Set a random seed\n",
        "RANDOM_SEED = 666\n",
        "\n",
        "torch.manual_seed(RANDOM_SEED)\n",
        "random_tensor_C = torch.rand(3, 4)\n",
        "\n",
        "torch.manual_seed(RANDOM_SEED)\n",
        "random_tensor_D = torch.rand(3, 4)\n",
        "\n",
        "print(random_tensor_C == random_tensor_D)"
      ],
      "metadata": {
        "colab": {
          "base_uri": "https://localhost:8080/"
        },
        "id": "r4xVQ_ZUylgu",
        "outputId": "b3961847-f12b-42dc-a313-a8a6d8e3c932"
      },
      "execution_count": 117,
      "outputs": [
        {
          "output_type": "stream",
          "name": "stdout",
          "text": [
            "tensor([[True, True, True, True],\n",
            "        [True, True, True, True],\n",
            "        [True, True, True, True]])\n"
          ]
        }
      ]
    },
    {
      "cell_type": "markdown",
      "source": [
        "### Running tensors and PyTorch objects on the GPUs\n",
        "\n",
        "GPUs = faster computation on numbers, thanks to CUDA + NVIDIA hardware + PyTorch working behind the scenes to make everything better."
      ],
      "metadata": {
        "id": "ww8xVd6Tz3Hd"
      }
    },
    {
      "cell_type": "markdown",
      "source": [
        "#### 1. Getting a GPU\n",
        "\n",
        "* Use Google Colab for a free GPU (can upgrade as well)\n",
        "* Use your own GPU (investment for a good one and requires setup)\n",
        "* Use cloud computing (GCP, AWS, Azure... are services yhat allow computer renting on the cloud)"
      ],
      "metadata": {
        "id": "IPNsT02k0NNp"
      }
    },
    {
      "cell_type": "code",
      "source": [
        "!nvidia-smi"
      ],
      "metadata": {
        "colab": {
          "base_uri": "https://localhost:8080/"
        },
        "id": "Waa0_JV81dYn",
        "outputId": "b9690994-60c7-46ae-c2f3-382b8a82b4c6"
      },
      "execution_count": 1,
      "outputs": [
        {
          "output_type": "stream",
          "name": "stdout",
          "text": [
            "Sat Feb 24 11:21:47 2024       \n",
            "+---------------------------------------------------------------------------------------+\n",
            "| NVIDIA-SMI 535.104.05             Driver Version: 535.104.05   CUDA Version: 12.2     |\n",
            "|-----------------------------------------+----------------------+----------------------+\n",
            "| GPU  Name                 Persistence-M | Bus-Id        Disp.A | Volatile Uncorr. ECC |\n",
            "| Fan  Temp   Perf          Pwr:Usage/Cap |         Memory-Usage | GPU-Util  Compute M. |\n",
            "|                                         |                      |               MIG M. |\n",
            "|=========================================+======================+======================|\n",
            "|   0  Tesla T4                       Off | 00000000:00:04.0 Off |                    0 |\n",
            "| N/A   65C    P8              10W /  70W |      0MiB / 15360MiB |      0%      Default |\n",
            "|                                         |                      |                  N/A |\n",
            "+-----------------------------------------+----------------------+----------------------+\n",
            "                                                                                         \n",
            "+---------------------------------------------------------------------------------------+\n",
            "| Processes:                                                                            |\n",
            "|  GPU   GI   CI        PID   Type   Process name                            GPU Memory |\n",
            "|        ID   ID                                                             Usage      |\n",
            "|=======================================================================================|\n",
            "|  No running processes found                                                           |\n",
            "+---------------------------------------------------------------------------------------+\n"
          ]
        }
      ]
    },
    {
      "cell_type": "markdown",
      "source": [
        "#### 2. Check for GPU access with PyTorch"
      ],
      "metadata": {
        "id": "rr9L9z0n2bgT"
      }
    },
    {
      "cell_type": "code",
      "source": [
        "import torch\n",
        "torch.cuda.is_available()"
      ],
      "metadata": {
        "colab": {
          "base_uri": "https://localhost:8080/"
        },
        "id": "-dFoPe5J2gvV",
        "outputId": "dd344ce6-b43d-418e-a022-5e44e30ca2a5"
      },
      "execution_count": 2,
      "outputs": [
        {
          "output_type": "execute_result",
          "data": {
            "text/plain": [
              "True"
            ]
          },
          "metadata": {},
          "execution_count": 2
        }
      ]
    },
    {
      "cell_type": "markdown",
      "source": [
        "For PyTorch, since it's capable of running compute on the CPU or GPU, it's best practice to setup device agnostic code.\n",
        "\n",
        "DOC: https://pytorch.org/docs/stable/notes/cuda.html#best-practices\n",
        "\n",
        "This is basically telling PyTorch to use a GPU if it has access to one, since its faster that way, else use a CPU."
      ],
      "metadata": {
        "id": "GJvYLhJB3ds8"
      }
    },
    {
      "cell_type": "code",
      "source": [
        "# Setup device agnostic code\n",
        "device = \"cuda\" if torch.cuda.is_available() else \"cpu\"\n",
        "device"
      ],
      "metadata": {
        "colab": {
          "base_uri": "https://localhost:8080/",
          "height": 35
        },
        "id": "YEW211qq21Y1",
        "outputId": "7ad33b76-63e4-4dee-e5f5-b4c080124481"
      },
      "execution_count": 3,
      "outputs": [
        {
          "output_type": "execute_result",
          "data": {
            "text/plain": [
              "'cuda'"
            ],
            "application/vnd.google.colaboratory.intrinsic+json": {
              "type": "string"
            }
          },
          "metadata": {},
          "execution_count": 3
        }
      ]
    },
    {
      "cell_type": "code",
      "source": [
        "# Count number of devices\n",
        "torch.cuda.device_count()"
      ],
      "metadata": {
        "colab": {
          "base_uri": "https://localhost:8080/"
        },
        "id": "rp70tV9F3EGH",
        "outputId": "8490780b-136d-4815-e94a-f2d10bc69ceb"
      },
      "execution_count": 4,
      "outputs": [
        {
          "output_type": "execute_result",
          "data": {
            "text/plain": [
              "1"
            ]
          },
          "metadata": {},
          "execution_count": 4
        }
      ]
    },
    {
      "cell_type": "markdown",
      "source": [
        "#### 3. Putting tensors and models on the GPU\n",
        "\n",
        "GPU results in faster computation, so we want these to run there."
      ],
      "metadata": {
        "id": "iDovHHkL4KsR"
      }
    },
    {
      "cell_type": "code",
      "source": [
        "# Create a tensor (default is on CPU)\n",
        "tensor = torch.tensor([1, 2, 3])\n",
        "\n",
        "# Tensor not on GPU\n",
        "tensor.device"
      ],
      "metadata": {
        "colab": {
          "base_uri": "https://localhost:8080/"
        },
        "id": "WnroyLk04XHA",
        "outputId": "c8be4296-3232-448b-edd1-30bc45e13e69"
      },
      "execution_count": 5,
      "outputs": [
        {
          "output_type": "execute_result",
          "data": {
            "text/plain": [
              "device(type='cpu')"
            ]
          },
          "metadata": {},
          "execution_count": 5
        }
      ]
    },
    {
      "cell_type": "code",
      "source": [
        "# Move tensor to GPU if available\n",
        "tensor_on_gpu = tensor.to(device)\n",
        "tensor_on_gpu"
      ],
      "metadata": {
        "colab": {
          "base_uri": "https://localhost:8080/"
        },
        "id": "6nvcv6Qt4rdh",
        "outputId": "c743c5aa-53ea-44e5-d5d7-2a8071da1751"
      },
      "execution_count": 6,
      "outputs": [
        {
          "output_type": "execute_result",
          "data": {
            "text/plain": [
              "tensor([1, 2, 3], device='cuda:0')"
            ]
          },
          "metadata": {},
          "execution_count": 6
        }
      ]
    },
    {
      "cell_type": "markdown",
      "source": [
        "#### 4. Moving tensors back to the CPU"
      ],
      "metadata": {
        "id": "4HfpEqv75A6w"
      }
    },
    {
      "cell_type": "code",
      "source": [
        "# If tensor is on GPU, can't transform it to NumPy\n",
        "tensor_on_gpu.numpy()"
      ],
      "metadata": {
        "colab": {
          "base_uri": "https://localhost:8080/",
          "height": 159
        },
        "id": "PaEx8FdM5Gxv",
        "outputId": "4c8fbc7d-4189-47d1-d8be-76ce81bf68bb"
      },
      "execution_count": 7,
      "outputs": [
        {
          "output_type": "error",
          "ename": "TypeError",
          "evalue": "can't convert cuda:0 device type tensor to numpy. Use Tensor.cpu() to copy the tensor to host memory first.",
          "traceback": [
            "\u001b[0;31m---------------------------------------------------------------------------\u001b[0m",
            "\u001b[0;31mTypeError\u001b[0m                                 Traceback (most recent call last)",
            "\u001b[0;32m<ipython-input-7-b7da913938a5>\u001b[0m in \u001b[0;36m<cell line: 2>\u001b[0;34m()\u001b[0m\n\u001b[1;32m      1\u001b[0m \u001b[0;31m# If tensor is on GPU, can't transform it to NumPy\u001b[0m\u001b[0;34m\u001b[0m\u001b[0;34m\u001b[0m\u001b[0m\n\u001b[0;32m----> 2\u001b[0;31m \u001b[0mtensor_on_gpu\u001b[0m\u001b[0;34m.\u001b[0m\u001b[0mnumpy\u001b[0m\u001b[0;34m(\u001b[0m\u001b[0;34m)\u001b[0m\u001b[0;34m\u001b[0m\u001b[0;34m\u001b[0m\u001b[0m\n\u001b[0m",
            "\u001b[0;31mTypeError\u001b[0m: can't convert cuda:0 device type tensor to numpy. Use Tensor.cpu() to copy the tensor to host memory first."
          ]
        }
      ]
    },
    {
      "cell_type": "code",
      "source": [
        "tensor_back_on_cpu = tensor_on_gpu.cpu().numpy()\n",
        "tensor_back_on_cpu"
      ],
      "metadata": {
        "colab": {
          "base_uri": "https://localhost:8080/"
        },
        "id": "PkvsIbWq5UNm",
        "outputId": "694cc4f6-0f8a-41f9-f390-30613aba1e6c"
      },
      "execution_count": 9,
      "outputs": [
        {
          "output_type": "execute_result",
          "data": {
            "text/plain": [
              "array([1, 2, 3])"
            ]
          },
          "metadata": {},
          "execution_count": 9
        }
      ]
    },
    {
      "cell_type": "markdown",
      "source": [
        "\n",
        "\n",
        "---\n",
        "\n",
        "\n",
        "### Exercises\n",
        "\n",
        "Source: https://github.com/mrdbourke/pytorch-deep-learning/blob/main/00_pytorch_fundamentals.ipynb"
      ],
      "metadata": {
        "id": "6svxlX516Dip"
      }
    },
    {
      "cell_type": "code",
      "source": [
        "import torch\n",
        "import numpy as np"
      ],
      "metadata": {
        "id": "p4XfNtN87Ajg"
      },
      "execution_count": null,
      "outputs": []
    },
    {
      "cell_type": "markdown",
      "source": [
        "2. Create a random tensor with shape `(7, 7)`."
      ],
      "metadata": {
        "id": "t_gWVZZ_6xo5"
      }
    },
    {
      "cell_type": "code",
      "source": [
        "ex2_random_tensor = torch.rand(7, 7)\n",
        "ex2_random_tensor, ex2_random_tensor.shape"
      ],
      "metadata": {
        "colab": {
          "base_uri": "https://localhost:8080/"
        },
        "id": "i_a6UNF-62ow",
        "outputId": "b27f3077-f0b5-475b-ecbc-f1f5b8c3929a"
      },
      "execution_count": 13,
      "outputs": [
        {
          "output_type": "execute_result",
          "data": {
            "text/plain": [
              "(tensor([[0.9973, 0.3693, 0.3839, 0.8335, 0.5377, 0.5250, 0.2958],\n",
              "         [0.7050, 0.5268, 0.7041, 0.8678, 0.4657, 0.4551, 0.9916],\n",
              "         [0.7565, 0.4924, 0.4678, 0.6019, 0.4257, 0.6936, 0.2271],\n",
              "         [0.2016, 0.8841, 0.0228, 0.2547, 0.2456, 0.7794, 0.2199],\n",
              "         [0.1393, 0.1410, 0.3002, 0.3961, 0.4280, 0.9339, 0.0444],\n",
              "         [0.6919, 0.4614, 0.0408, 0.3403, 0.4514, 0.1877, 0.9801],\n",
              "         [0.9835, 0.5963, 0.1099, 0.1705, 0.1648, 0.7127, 0.4669]]),\n",
              " torch.Size([7, 7]))"
            ]
          },
          "metadata": {},
          "execution_count": 13
        }
      ]
    },
    {
      "cell_type": "markdown",
      "source": [
        "3. Perform a matrix multiplication on the tensor from 2 with another random tensor with shape `(1, 7)` (hint: you may have to transpose the second tensor)."
      ],
      "metadata": {
        "id": "LS2ehtxO7ODA"
      }
    },
    {
      "cell_type": "code",
      "source": [
        "ex3_random_tensor = torch.rand(1, 7)\n",
        "\n",
        "# Inner dimensions must match, so we transpose the new tensor\n",
        "ex3_transposed = torch.transpose(ex3_random_tensor, 1, 0)\n",
        "\n",
        "ex3_result = torch.mm(ex2_random_tensor, ex3_transposed)\n",
        "\n",
        "ex3_result, ex3_result.shape"
      ],
      "metadata": {
        "colab": {
          "base_uri": "https://localhost:8080/"
        },
        "id": "l376ujWX7Qd_",
        "outputId": "ee4b24c5-2b36-4c92-b8e2-797966c54413"
      },
      "execution_count": 12,
      "outputs": [
        {
          "output_type": "execute_result",
          "data": {
            "text/plain": [
              "(tensor([[3.1889],\n",
              "         [1.4661],\n",
              "         [3.0777],\n",
              "         [2.5288],\n",
              "         [2.3292],\n",
              "         [2.4319],\n",
              "         [2.5231]]),\n",
              " torch.Size([7, 1]))"
            ]
          },
          "metadata": {},
          "execution_count": 12
        }
      ]
    },
    {
      "cell_type": "markdown",
      "source": [
        "4. Set the random seed to `0` and do exercises 2 & 3 over again."
      ],
      "metadata": {
        "id": "UfVdQR9Q8NMN"
      }
    },
    {
      "cell_type": "code",
      "source": [
        "EX4_RANDOM_SEED = 0\n",
        "torch.manual_seed(EX4_RANDOM_SEED)"
      ],
      "metadata": {
        "colab": {
          "base_uri": "https://localhost:8080/"
        },
        "id": "xO_FomMY8Q1n",
        "outputId": "f1e5a2fc-c81f-4cb3-bd3a-ea0e2607e86d"
      },
      "execution_count": 14,
      "outputs": [
        {
          "output_type": "execute_result",
          "data": {
            "text/plain": [
              "<torch._C.Generator at 0x7aadebea9cb0>"
            ]
          },
          "metadata": {},
          "execution_count": 14
        }
      ]
    },
    {
      "cell_type": "code",
      "source": [
        "# EX 2\n",
        "\n",
        "ex2_random_tensor = torch.rand(7, 7)\n",
        "ex2_random_tensor, ex2_random_tensor.shape"
      ],
      "metadata": {
        "colab": {
          "base_uri": "https://localhost:8080/"
        },
        "id": "qc0LMQ5F81Zm",
        "outputId": "d7fe46a9-c0f6-4107-e5d6-e6c2fe9bc815"
      },
      "execution_count": 15,
      "outputs": [
        {
          "output_type": "execute_result",
          "data": {
            "text/plain": [
              "(tensor([[0.4963, 0.7682, 0.0885, 0.1320, 0.3074, 0.6341, 0.4901],\n",
              "         [0.8964, 0.4556, 0.6323, 0.3489, 0.4017, 0.0223, 0.1689],\n",
              "         [0.2939, 0.5185, 0.6977, 0.8000, 0.1610, 0.2823, 0.6816],\n",
              "         [0.9152, 0.3971, 0.8742, 0.4194, 0.5529, 0.9527, 0.0362],\n",
              "         [0.1852, 0.3734, 0.3051, 0.9320, 0.1759, 0.2698, 0.1507],\n",
              "         [0.0317, 0.2081, 0.9298, 0.7231, 0.7423, 0.5263, 0.2437],\n",
              "         [0.5846, 0.0332, 0.1387, 0.2422, 0.8155, 0.7932, 0.2783]]),\n",
              " torch.Size([7, 7]))"
            ]
          },
          "metadata": {},
          "execution_count": 15
        }
      ]
    },
    {
      "cell_type": "code",
      "source": [
        "# EX 3\n",
        "\n",
        "ex3_random_tensor = torch.rand(1, 7)\n",
        "\n",
        "# Inner dimensions must match, so we transpose the new tensor\n",
        "ex3_transposed = torch.transpose(ex3_random_tensor, 1, 0)\n",
        "\n",
        "ex3_result = torch.mm(ex2_random_tensor, ex3_transposed)\n",
        "\n",
        "ex3_result, ex3_result.shape"
      ],
      "metadata": {
        "colab": {
          "base_uri": "https://localhost:8080/"
        },
        "id": "6a70qwmx87Bi",
        "outputId": "1ec07f37-690d-4fc8-a043-9d01062d5d9e"
      },
      "execution_count": 16,
      "outputs": [
        {
          "output_type": "execute_result",
          "data": {
            "text/plain": [
              "(tensor([[1.8542],\n",
              "         [1.9611],\n",
              "         [2.2884],\n",
              "         [3.0481],\n",
              "         [1.7067],\n",
              "         [2.5290],\n",
              "         [1.7989]]),\n",
              " torch.Size([7, 1]))"
            ]
          },
          "metadata": {},
          "execution_count": 16
        }
      ]
    },
    {
      "cell_type": "markdown",
      "source": [
        "5. Speaking of random seeds, we saw how to set it with `torch.manual_seed()` but is there a GPU equivalent? (hint: you'll need to look into the documentation for `torch.cuda` for this one). If there is, set the GPU random seed to `1234`."
      ],
      "metadata": {
        "id": "4S0RCRET9GeZ"
      }
    },
    {
      "cell_type": "code",
      "source": [
        "EX5_RANDOM_SEED = 1234\n",
        "\n",
        "#torch.cuda.seed()    This one sets a random seed\n",
        "\n",
        "torch.cuda.manual_seed(EX5_RANDOM_SEED)"
      ],
      "metadata": {
        "id": "1Ugwb4Pj9Ldt"
      },
      "execution_count": 19,
      "outputs": []
    },
    {
      "cell_type": "markdown",
      "source": [
        "6. Create two random tensors of shape `(2, 3)` and send them both to the GPU (you'll need access to a GPU for this). Set `torch.manual_seed(1234)` when creating the tensors (this doesn't have to be the GPU random seed)."
      ],
      "metadata": {
        "id": "EUyin6ph944p"
      }
    },
    {
      "cell_type": "code",
      "source": [
        "EX6_RANDOM_SEED = 1234\n",
        "\n",
        "torch.manual_seed(EX6_RANDOM_SEED)\n",
        "ex6_random_tensor1 = torch.rand(2, 3)\n",
        "\n",
        "torch.manual_seed(EX6_RANDOM_SEED)\n",
        "ex6_random_tensor2 = torch.rand(2, 3)\n",
        "\n",
        "device = \"cuda\"\n",
        "ex6_random_tensor1.to(device), ex6_random_tensor2.to(device)"
      ],
      "metadata": {
        "colab": {
          "base_uri": "https://localhost:8080/"
        },
        "id": "aBP5Sawu9_Mf",
        "outputId": "28978ae4-5bac-467b-c6ca-7a01ef679c79"
      },
      "execution_count": 21,
      "outputs": [
        {
          "output_type": "execute_result",
          "data": {
            "text/plain": [
              "(tensor([[0.0290, 0.4019, 0.2598],\n",
              "         [0.3666, 0.0583, 0.7006]], device='cuda:0'),\n",
              " tensor([[0.0290, 0.4019, 0.2598],\n",
              "         [0.3666, 0.0583, 0.7006]], device='cuda:0'))"
            ]
          },
          "metadata": {},
          "execution_count": 21
        }
      ]
    },
    {
      "cell_type": "markdown",
      "source": [
        "7. Perform a matrix multiplication on the tensors you created in 6 (again, you may have to adjust the shapes of one of the tensors)."
      ],
      "metadata": {
        "id": "6A9QVmNl-wGt"
      }
    },
    {
      "cell_type": "code",
      "source": [
        "ex6_tensor2_transposed = torch.transpose(ex6_random_tensor2, 1, 0)\n",
        "\n",
        "ex7_res = torch.mm(ex6_random_tensor1, ex6_tensor2_transposed)\n",
        "ex7_res"
      ],
      "metadata": {
        "colab": {
          "base_uri": "https://localhost:8080/"
        },
        "id": "OkFVwgJL-zdo",
        "outputId": "ee58607a-241b-427b-b56c-afae376d2560"
      },
      "execution_count": 23,
      "outputs": [
        {
          "output_type": "execute_result",
          "data": {
            "text/plain": [
              "tensor([[0.2299, 0.2161],\n",
              "        [0.2161, 0.6287]])"
            ]
          },
          "metadata": {},
          "execution_count": 23
        }
      ]
    },
    {
      "cell_type": "markdown",
      "source": [
        "8. Find the maximum and minimum values of the output of 7."
      ],
      "metadata": {
        "id": "z6e4Ardm_ND6"
      }
    },
    {
      "cell_type": "code",
      "source": [
        "ex7_res.max(), ex7_res.min()"
      ],
      "metadata": {
        "colab": {
          "base_uri": "https://localhost:8080/"
        },
        "id": "qWEHsRnI_Pgb",
        "outputId": "669cb3e7-fc6a-489a-ce1f-79f02d88eeae"
      },
      "execution_count": 27,
      "outputs": [
        {
          "output_type": "execute_result",
          "data": {
            "text/plain": [
              "(tensor(0.6287), tensor(0.2161))"
            ]
          },
          "metadata": {},
          "execution_count": 27
        }
      ]
    },
    {
      "cell_type": "markdown",
      "source": [
        "9. Find the maximum and minimum index values of the output of 7."
      ],
      "metadata": {
        "id": "Wh0iFDHN_quM"
      }
    },
    {
      "cell_type": "code",
      "source": [
        "ex7_res.argmax(), ex7_res.argmin()"
      ],
      "metadata": {
        "colab": {
          "base_uri": "https://localhost:8080/"
        },
        "id": "QRFlzxGN_t6Z",
        "outputId": "9faf8703-0e48-4175-b528-02af74ea3311"
      },
      "execution_count": 29,
      "outputs": [
        {
          "output_type": "execute_result",
          "data": {
            "text/plain": [
              "(tensor(3), tensor(1))"
            ]
          },
          "metadata": {},
          "execution_count": 29
        }
      ]
    },
    {
      "cell_type": "markdown",
      "source": [
        "10. Make a random tensor with shape `(1, 1, 1, 10)` and then create a new tensor with all the 1 dimensions removed to be left with a tensor of shape `(10)`. Set the seed to `7` when you create it and print out the first tensor and it's shape as well as the second tensor and it's shape."
      ],
      "metadata": {
        "id": "lta9EhRMA1sY"
      }
    },
    {
      "cell_type": "code",
      "source": [
        "torch.manual_seed(7)\n",
        "\n",
        "ex10_random_tensor = torch.rand(1, 1, 1, 10)\n",
        "print(f\"Squeezed tensor: {ex10_random_tensor}, Shape: {ex10_random_tensor.shape}\")\n",
        "\n",
        "ex10_tensor_squeezed = ex10_random_tensor.squeeze()\n",
        "print(f\"Squeezed tensor: {ex10_tensor_squeezed}, Shape: {ex10_tensor_squeezed.shape}\")"
      ],
      "metadata": {
        "colab": {
          "base_uri": "https://localhost:8080/"
        },
        "id": "Z6Dt6i4yBO7M",
        "outputId": "f5f72973-c776-4c0f-8960-b345c8317a7d"
      },
      "execution_count": 30,
      "outputs": [
        {
          "output_type": "stream",
          "name": "stdout",
          "text": [
            "Squeezed tensor: tensor([[[[0.5349, 0.1988, 0.6592, 0.6569, 0.2328, 0.4251, 0.2071, 0.6297,\n",
            "           0.3653, 0.8513]]]]), Shape: torch.Size([1, 1, 1, 10])\n",
            "Squeezed tensor: tensor([0.5349, 0.1988, 0.6592, 0.6569, 0.2328, 0.4251, 0.2071, 0.6297, 0.3653,\n",
            "        0.8513]), Shape: torch.Size([10])\n"
          ]
        }
      ]
    }
  ]
}