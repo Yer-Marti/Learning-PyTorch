{
  "nbformat": 4,
  "nbformat_minor": 0,
  "metadata": {
    "colab": {
      "provenance": [],
      "toc_visible": true,
      "gpuType": "T4"
    },
    "kernelspec": {
      "name": "python3",
      "display_name": "Python 3"
    },
    "language_info": {
      "name": "python"
    },
    "accelerator": "GPU"
  },
  "cells": [
    {
      "cell_type": "markdown",
      "source": [
        "# 00. PyTorch Fundamentals\n",
        "\n",
        "Course video - [Source](https://www.youtube.com/watch?v=Z_ikDlimN6A)\n",
        "\n",
        "GitHub Repo - [Source](https://github.com/Yer-Marti/PyTorch-Course)\n",
        "\n",
        "PyTorch Doc - [Source](https://pytorch.org/docs/stable/index.html)"
      ],
      "metadata": {
        "id": "TJQpPRujdMs9"
      }
    },
    {
      "cell_type": "markdown",
      "source": [
        "## Contents"
      ],
      "metadata": {
        "id": "7br1tYvaXhg_"
      }
    },
    {
      "cell_type": "markdown",
      "source": [
        "* [Contents](#scrollTo=7br1tYvaXhg_&line=1&uniqifier=1)\n",
        "* [Import libraries](#scrollTo=4BDE9GO3Xcvg&line=1&uniqifier=1)\n",
        "* [Random tensors](#scrollTo=pdcrYYcCggBG&line=1&uniqifier=1)\n",
        "* [Zeros and ones](#scrollTo=2iiW866xYhgG)\n",
        "* [Creating a range of tensors](#scrollTo=bS9KEV7uZU1y)\n",
        "* [Tensor datatypes](#scrollTo=Cv39Y3TXai0Z)\n",
        "* [Retrieving information of the tensors](#scrollTo=jxo-D0RufSRn)\n",
        "* [Manipulating tensors (tensor operations)](#scrollTo=U_xhnFhQha36)\n",
        "* [Errors with shape](#scrollTo=DQQTLx6KkgG7)\n",
        "* [Finding the min, max, mean, sum, etc (tensor aggregation)](#scrollTo=AnmV7qA6qt1H)\n",
        "* [Finding the positional min and max](#scrollTo=mXtS-f2zzk1U)\n",
        "* [Reshaping, stacking, squeezing and unsqueezing tensors](#scrollTo=mceJZ58a0-6B)\n",
        "* [Indexing (selecting data from tensors)](#scrollTo=KpaJ_2lMZZWv)\n",
        "* [PyTorch tensors and NumPy](#scrollTo=SQW-KQ2gsu-v)\n",
        "* [Reproducibility](#scrollTo=J0je9OiWxKVX)\n",
        "* [Running tensors and PyTorch objects on the GPUs](#scrollTo=ww8xVd6Tz3Hd)\n",
        "* [Exercises](#scrollTo=6svxlX516Dip)"
      ],
      "metadata": {
        "id": "JttTcsY3Xjnd"
      }
    },
    {
      "cell_type": "markdown",
      "source": [
        "## Import libraries"
      ],
      "metadata": {
        "id": "4BDE9GO3Xcvg"
      }
    },
    {
      "cell_type": "markdown",
      "source": [
        "Import the libraries we are going to use:"
      ],
      "metadata": {
        "id": "p47jgVE3fac1"
      }
    },
    {
      "cell_type": "code",
      "source": [
        "import torch\n",
        "import pandas as pd\n",
        "import numpy as np\n",
        "import matplotlib.pyplot as plt"
      ],
      "metadata": {
        "id": "BKeIHqROfkX7"
      },
      "execution_count": null,
      "outputs": []
    },
    {
      "cell_type": "markdown",
      "source": [
        "## Introduction to Tensors\n",
        "\n",
        "### Creating tensors\n",
        "\n",
        "Tensors are created using `torch.tensor`"
      ],
      "metadata": {
        "id": "pdcrYYcCggBG"
      }
    },
    {
      "cell_type": "code",
      "source": [
        "# Scalar\n",
        "scalar = torch.tensor(7)\n",
        "scalar"
      ],
      "metadata": {
        "colab": {
          "base_uri": "https://localhost:8080/"
        },
        "id": "99LAmGetgu-q",
        "outputId": "28020f4e-8d7a-485d-e917-044afb12f41b"
      },
      "execution_count": null,
      "outputs": [
        {
          "output_type": "execute_result",
          "data": {
            "text/plain": [
              "tensor(7)"
            ]
          },
          "metadata": {},
          "execution_count": 32
        }
      ]
    },
    {
      "cell_type": "code",
      "source": [
        "scalar.ndim"
      ],
      "metadata": {
        "colab": {
          "base_uri": "https://localhost:8080/"
        },
        "id": "H_UjGAW-ha1S",
        "outputId": "1be15f25-77c2-4dda-90c0-fd6053560008"
      },
      "execution_count": null,
      "outputs": [
        {
          "output_type": "execute_result",
          "data": {
            "text/plain": [
              "0"
            ]
          },
          "metadata": {},
          "execution_count": 33
        }
      ]
    },
    {
      "cell_type": "code",
      "source": [
        "# Retrieving the tensor as a Python int\n",
        "scalar.item()"
      ],
      "metadata": {
        "colab": {
          "base_uri": "https://localhost:8080/"
        },
        "id": "CssLoLVXhwh6",
        "outputId": "75df07f1-788b-4450-c55d-48e5c8f8e9a7"
      },
      "execution_count": null,
      "outputs": [
        {
          "output_type": "execute_result",
          "data": {
            "text/plain": [
              "7"
            ]
          },
          "metadata": {},
          "execution_count": 34
        }
      ]
    },
    {
      "cell_type": "code",
      "source": [
        "# Vector\n",
        "vector = torch.tensor([7, 7])\n",
        "vector"
      ],
      "metadata": {
        "colab": {
          "base_uri": "https://localhost:8080/"
        },
        "id": "0F6yJOdkh6dm",
        "outputId": "263ab24c-0faf-4889-a491-78219a1fcfaa"
      },
      "execution_count": null,
      "outputs": [
        {
          "output_type": "execute_result",
          "data": {
            "text/plain": [
              "tensor([7, 7])"
            ]
          },
          "metadata": {},
          "execution_count": 35
        }
      ]
    },
    {
      "cell_type": "code",
      "source": [
        "vector.ndim"
      ],
      "metadata": {
        "colab": {
          "base_uri": "https://localhost:8080/"
        },
        "id": "KKH5E2GXiRQg",
        "outputId": "cabb769d-ab66-4c31-9ddd-07bdbaea7807"
      },
      "execution_count": null,
      "outputs": [
        {
          "output_type": "execute_result",
          "data": {
            "text/plain": [
              "1"
            ]
          },
          "metadata": {},
          "execution_count": 36
        }
      ]
    },
    {
      "cell_type": "markdown",
      "source": [
        "> **Note:** the dimension is given by \"the number of square brackets\""
      ],
      "metadata": {
        "id": "55l-8jtQib1T"
      }
    },
    {
      "cell_type": "code",
      "source": [
        "vector.shape"
      ],
      "metadata": {
        "colab": {
          "base_uri": "https://localhost:8080/"
        },
        "id": "PJ5BAw6EaV4K",
        "outputId": "dc9fb3d4-1768-46b9-c0f8-1c002fde75c7"
      },
      "execution_count": null,
      "outputs": [
        {
          "output_type": "execute_result",
          "data": {
            "text/plain": [
              "torch.Size([2])"
            ]
          },
          "metadata": {},
          "execution_count": 37
        }
      ]
    },
    {
      "cell_type": "code",
      "source": [
        "# MATRIX\n",
        "MATRIX = torch.tensor([[7, 8],\n",
        "                      [9, 10]])\n",
        "MATRIX"
      ],
      "metadata": {
        "colab": {
          "base_uri": "https://localhost:8080/"
        },
        "id": "Mrqnt-CUajHp",
        "outputId": "bb53715b-b629-4a21-bc91-f1716a56b6b8"
      },
      "execution_count": null,
      "outputs": [
        {
          "output_type": "execute_result",
          "data": {
            "text/plain": [
              "tensor([[ 7,  8],\n",
              "        [ 9, 10]])"
            ]
          },
          "metadata": {},
          "execution_count": 38
        }
      ]
    },
    {
      "cell_type": "code",
      "source": [
        "MATRIX.ndim"
      ],
      "metadata": {
        "colab": {
          "base_uri": "https://localhost:8080/"
        },
        "id": "vgmBBXqoaw7W",
        "outputId": "f231102b-88c7-448e-9857-89aa4e291368"
      },
      "execution_count": null,
      "outputs": [
        {
          "output_type": "execute_result",
          "data": {
            "text/plain": [
              "2"
            ]
          },
          "metadata": {},
          "execution_count": 39
        }
      ]
    },
    {
      "cell_type": "code",
      "source": [
        "MATRIX[0]"
      ],
      "metadata": {
        "colab": {
          "base_uri": "https://localhost:8080/"
        },
        "id": "27a5bAlRa2YB",
        "outputId": "d7c45568-4d18-4b6e-c02a-2b2e4e063b88"
      },
      "execution_count": null,
      "outputs": [
        {
          "output_type": "execute_result",
          "data": {
            "text/plain": [
              "tensor([7, 8])"
            ]
          },
          "metadata": {},
          "execution_count": 40
        }
      ]
    },
    {
      "cell_type": "markdown",
      "source": [
        "`MATRIX.shape` returns that the matrix is 2x2."
      ],
      "metadata": {
        "id": "o_IbbcHYbImH"
      }
    },
    {
      "cell_type": "code",
      "source": [
        "MATRIX.shape"
      ],
      "metadata": {
        "colab": {
          "base_uri": "https://localhost:8080/"
        },
        "id": "42iUFvVoa_yn",
        "outputId": "9aa7ae6a-852d-469a-fd6f-0fcf98a71b97"
      },
      "execution_count": null,
      "outputs": [
        {
          "output_type": "execute_result",
          "data": {
            "text/plain": [
              "torch.Size([2, 2])"
            ]
          },
          "metadata": {},
          "execution_count": 41
        }
      ]
    },
    {
      "cell_type": "code",
      "source": [
        "# TENSOR\n",
        "TENSOR = torch.tensor([[[1, 2, 3],\n",
        "                        [3, 6, 9],\n",
        "                        [2, 4, 5]]])\n",
        "\n",
        "TENSOR"
      ],
      "metadata": {
        "colab": {
          "base_uri": "https://localhost:8080/"
        },
        "id": "-HrmTxg5bVex",
        "outputId": "c9932a98-a1b8-486e-c1be-797c346344d8"
      },
      "execution_count": null,
      "outputs": [
        {
          "output_type": "execute_result",
          "data": {
            "text/plain": [
              "tensor([[[1, 2, 3],\n",
              "         [3, 6, 9],\n",
              "         [2, 4, 5]]])"
            ]
          },
          "metadata": {},
          "execution_count": 42
        }
      ]
    },
    {
      "cell_type": "markdown",
      "source": [
        "`TENSOR.ndim` returns the number of **dimensions** in the tensor. In other words, `TENSOR.shape` will return 3 values."
      ],
      "metadata": {
        "id": "OyA15-JUfeXS"
      }
    },
    {
      "cell_type": "code",
      "source": [
        "TENSOR.ndim"
      ],
      "metadata": {
        "colab": {
          "base_uri": "https://localhost:8080/"
        },
        "id": "BTJUXgQpbxY9",
        "outputId": "e793459c-344b-474a-8b00-227dc6fec02d"
      },
      "execution_count": null,
      "outputs": [
        {
          "output_type": "execute_result",
          "data": {
            "text/plain": [
              "3"
            ]
          },
          "metadata": {},
          "execution_count": 43
        }
      ]
    },
    {
      "cell_type": "markdown",
      "source": [
        "In this case, the first dimension is `1` because the first square bracket has a single element. The two remaining dimensions state that said element is a 3x3 matrix."
      ],
      "metadata": {
        "id": "A8-zwwS4cC3l"
      }
    },
    {
      "cell_type": "code",
      "source": [
        "TENSOR.shape"
      ],
      "metadata": {
        "colab": {
          "base_uri": "https://localhost:8080/"
        },
        "id": "xsesziTVb0O0",
        "outputId": "16590e0f-e33c-44e1-8bbe-6ae69b2ef5dd"
      },
      "execution_count": null,
      "outputs": [
        {
          "output_type": "execute_result",
          "data": {
            "text/plain": [
              "torch.Size([1, 3, 3])"
            ]
          },
          "metadata": {},
          "execution_count": 44
        }
      ]
    },
    {
      "cell_type": "markdown",
      "source": [
        "When printing the first element we can see that is an `array` (more or less) in the first position. The first square bracket is missing."
      ],
      "metadata": {
        "id": "RE74IPSdcnRp"
      }
    },
    {
      "cell_type": "code",
      "source": [
        "TENSOR[0]"
      ],
      "metadata": {
        "colab": {
          "base_uri": "https://localhost:8080/"
        },
        "id": "TtvgEhBpchfR",
        "outputId": "7e04ee14-d118-4eef-a081-4906dcaa011a"
      },
      "execution_count": null,
      "outputs": [
        {
          "output_type": "execute_result",
          "data": {
            "text/plain": [
              "tensor([[1, 2, 3],\n",
              "        [3, 6, 9],\n",
              "        [2, 4, 5]])"
            ]
          },
          "metadata": {},
          "execution_count": 45
        }
      ]
    },
    {
      "cell_type": "markdown",
      "source": [
        "Example to test tensors:"
      ],
      "metadata": {
        "id": "XjtIXNBvdPiS"
      }
    },
    {
      "cell_type": "code",
      "source": [
        "TENSOR_TEST = torch.tensor([[[1, 2, 3, 7]],\n",
        "                            [[4, 5, 6, 8]]])\n",
        "\n",
        "TENSOR_TEST"
      ],
      "metadata": {
        "colab": {
          "base_uri": "https://localhost:8080/"
        },
        "id": "6vTunrGUdcr3",
        "outputId": "9fa637c8-b53d-4f42-b530-9fb98cb20c91"
      },
      "execution_count": null,
      "outputs": [
        {
          "output_type": "execute_result",
          "data": {
            "text/plain": [
              "tensor([[[1, 2, 3, 7]],\n",
              "\n",
              "        [[4, 5, 6, 8]]])"
            ]
          },
          "metadata": {},
          "execution_count": 46
        }
      ]
    },
    {
      "cell_type": "code",
      "source": [
        "TENSOR_TEST.ndim"
      ],
      "metadata": {
        "colab": {
          "base_uri": "https://localhost:8080/"
        },
        "id": "r-DJ1GxzdvR-",
        "outputId": "3a8cf631-33ed-4ddb-d1fe-d527c5d2f07d"
      },
      "execution_count": null,
      "outputs": [
        {
          "output_type": "execute_result",
          "data": {
            "text/plain": [
              "3"
            ]
          },
          "metadata": {},
          "execution_count": 47
        }
      ]
    },
    {
      "cell_type": "code",
      "source": [
        "TENSOR_TEST.shape"
      ],
      "metadata": {
        "colab": {
          "base_uri": "https://localhost:8080/"
        },
        "id": "xBMG_O4Ad6u-",
        "outputId": "12c93dcc-95b9-4703-fb70-32f5168800f6"
      },
      "execution_count": null,
      "outputs": [
        {
          "output_type": "execute_result",
          "data": {
            "text/plain": [
              "torch.Size([2, 1, 4])"
            ]
          },
          "metadata": {},
          "execution_count": 48
        }
      ]
    },
    {
      "cell_type": "code",
      "source": [
        "TENSOR_TEST[1]"
      ],
      "metadata": {
        "colab": {
          "base_uri": "https://localhost:8080/"
        },
        "id": "X1iXFB3Td8vS",
        "outputId": "4f22ad62-ed4e-4c00-c158-15d654170683"
      },
      "execution_count": null,
      "outputs": [
        {
          "output_type": "execute_result",
          "data": {
            "text/plain": [
              "tensor([[4, 5, 6, 8]])"
            ]
          },
          "metadata": {},
          "execution_count": 49
        }
      ]
    },
    {
      "cell_type": "markdown",
      "source": [
        "### Random tensors\n",
        "\n",
        "¿Why?\n",
        "\n",
        "They are important because the way most neural networks learn is by starting with completely random tensors and then hone the values so they represent better the data.\n",
        "\n",
        "`Start with random values -> observe data -> manipulate values -> observe data -> manipulate values`"
      ],
      "metadata": {
        "id": "zvKBuuuMVp9f"
      }
    },
    {
      "cell_type": "code",
      "source": [
        "# Creating a random tensor of size (3, 4)\n",
        "random_tensor = torch.rand(3, 4)\n",
        "random_tensor"
      ],
      "metadata": {
        "colab": {
          "base_uri": "https://localhost:8080/"
        },
        "id": "LYQ08OCiWiPH",
        "outputId": "1f32a9da-4070-4e67-90e8-5ad10ecb11db"
      },
      "execution_count": null,
      "outputs": [
        {
          "output_type": "execute_result",
          "data": {
            "text/plain": [
              "tensor([[0.8549, 0.5509, 0.2868, 0.2063],\n",
              "        [0.4451, 0.3593, 0.7204, 0.0731],\n",
              "        [0.9699, 0.1078, 0.8829, 0.4132]])"
            ]
          },
          "metadata": {},
          "execution_count": 50
        }
      ]
    },
    {
      "cell_type": "code",
      "source": [
        "random_tensor.ndim"
      ],
      "metadata": {
        "colab": {
          "base_uri": "https://localhost:8080/"
        },
        "id": "HJt93xhXW_Yi",
        "outputId": "5de3202c-4a58-4650-87a6-5b84600d300a"
      },
      "execution_count": null,
      "outputs": [
        {
          "output_type": "execute_result",
          "data": {
            "text/plain": [
              "2"
            ]
          },
          "metadata": {},
          "execution_count": 51
        }
      ]
    },
    {
      "cell_type": "code",
      "source": [
        "# Creating tensor of similar size of an image tensor\n",
        "random_image_size_tensor = torch.rand(size=(224, 224, 3)) # height, width, color channels (R, G, B)\n",
        "random_image_size_tensor.shape, random_image_size_tensor.ndim"
      ],
      "metadata": {
        "colab": {
          "base_uri": "https://localhost:8080/"
        },
        "id": "uLqoDMAxXWzI",
        "outputId": "4d9be19f-af81-4fd1-d815-17103de674e9"
      },
      "execution_count": null,
      "outputs": [
        {
          "output_type": "execute_result",
          "data": {
            "text/plain": [
              "(torch.Size([224, 224, 3]), 3)"
            ]
          },
          "metadata": {},
          "execution_count": 52
        }
      ]
    },
    {
      "cell_type": "markdown",
      "source": [
        "### Zeros and ones"
      ],
      "metadata": {
        "id": "2iiW866xYhgG"
      }
    },
    {
      "cell_type": "code",
      "source": [
        "# Creating an all zeros tensor\n",
        "zeros = torch.zeros(size=(3, 4))\n",
        "zeros"
      ],
      "metadata": {
        "colab": {
          "base_uri": "https://localhost:8080/"
        },
        "id": "_eHZY9UZYkhZ",
        "outputId": "82585e49-2e06-451b-a92c-148317aa24b4"
      },
      "execution_count": null,
      "outputs": [
        {
          "output_type": "execute_result",
          "data": {
            "text/plain": [
              "tensor([[0., 0., 0., 0.],\n",
              "        [0., 0., 0., 0.],\n",
              "        [0., 0., 0., 0.]])"
            ]
          },
          "metadata": {},
          "execution_count": 53
        }
      ]
    },
    {
      "cell_type": "code",
      "source": [
        "# Creating an all ones tensor\n",
        "ones = torch.ones(size=(3, 4))\n",
        "ones"
      ],
      "metadata": {
        "colab": {
          "base_uri": "https://localhost:8080/"
        },
        "id": "fVJn5ICHYx7N",
        "outputId": "468972b0-6b96-49b9-f80d-f7e50933bfb2"
      },
      "execution_count": null,
      "outputs": [
        {
          "output_type": "execute_result",
          "data": {
            "text/plain": [
              "tensor([[1., 1., 1., 1.],\n",
              "        [1., 1., 1., 1.],\n",
              "        [1., 1., 1., 1.]])"
            ]
          },
          "metadata": {},
          "execution_count": 54
        }
      ]
    },
    {
      "cell_type": "code",
      "source": [
        "ones.dtype"
      ],
      "metadata": {
        "colab": {
          "base_uri": "https://localhost:8080/"
        },
        "id": "SDbtoaUsZAHv",
        "outputId": "95a7f25e-a3e6-4a29-fd06-95451f99885e"
      },
      "execution_count": null,
      "outputs": [
        {
          "output_type": "execute_result",
          "data": {
            "text/plain": [
              "torch.float32"
            ]
          },
          "metadata": {},
          "execution_count": 55
        }
      ]
    },
    {
      "cell_type": "code",
      "source": [
        "random_tensor.dtype"
      ],
      "metadata": {
        "colab": {
          "base_uri": "https://localhost:8080/"
        },
        "id": "25B2hJhMZJgl",
        "outputId": "5e8f27d6-37e1-4e38-c5bb-e572d530450d"
      },
      "execution_count": null,
      "outputs": [
        {
          "output_type": "execute_result",
          "data": {
            "text/plain": [
              "torch.float32"
            ]
          },
          "metadata": {},
          "execution_count": 56
        }
      ]
    },
    {
      "cell_type": "markdown",
      "source": [
        "### Creating a range of tensors"
      ],
      "metadata": {
        "id": "bS9KEV7uZU1y"
      }
    },
    {
      "cell_type": "code",
      "source": [
        "# Use torch.range()\n",
        "one_to_ten = torch.arange(start=1, end=11, step=1)\n",
        "one_to_ten"
      ],
      "metadata": {
        "colab": {
          "base_uri": "https://localhost:8080/"
        },
        "id": "3Tu6zPvxZbFL",
        "outputId": "3faa1e7f-1a91-4dea-e2b5-32ffb38b89bf"
      },
      "execution_count": null,
      "outputs": [
        {
          "output_type": "execute_result",
          "data": {
            "text/plain": [
              "tensor([ 1,  2,  3,  4,  5,  6,  7,  8,  9, 10])"
            ]
          },
          "metadata": {},
          "execution_count": 57
        }
      ]
    },
    {
      "cell_type": "code",
      "source": [
        "# Creating tensors from other tensors\n",
        "ten_zeros = torch.zeros_like(input=one_to_ten)\n",
        "ten_zeros"
      ],
      "metadata": {
        "colab": {
          "base_uri": "https://localhost:8080/"
        },
        "id": "LmCE6OzLZ8D-",
        "outputId": "2eebbaf0-8e5c-44d0-d569-bc49b317cad6"
      },
      "execution_count": null,
      "outputs": [
        {
          "output_type": "execute_result",
          "data": {
            "text/plain": [
              "tensor([0, 0, 0, 0, 0, 0, 0, 0, 0, 0])"
            ]
          },
          "metadata": {},
          "execution_count": 58
        }
      ]
    },
    {
      "cell_type": "code",
      "source": [
        "one_to_ten.shape, ten_zeros.shape"
      ],
      "metadata": {
        "colab": {
          "base_uri": "https://localhost:8080/"
        },
        "id": "3ETp7cUTaSHz",
        "outputId": "cdda5130-3b9f-4485-bd7e-25c33df9c9e7"
      },
      "execution_count": null,
      "outputs": [
        {
          "output_type": "execute_result",
          "data": {
            "text/plain": [
              "(torch.Size([10]), torch.Size([10]))"
            ]
          },
          "metadata": {},
          "execution_count": 59
        }
      ]
    },
    {
      "cell_type": "markdown",
      "source": [
        "### Tensor datatypes\n",
        "\n",
        "Tensor datatypes are one of the 3 big mistakes we are going to run into in PyTorch and Deep Learning:\n",
        "\n",
        "1. Tensors don't have correct `datatype`\n",
        "2. Tensors don't have correct `shape`\n",
        "3. Tensors aren't in the correct `device`\n",
        "\n",
        "This is connected to computer precision."
      ],
      "metadata": {
        "id": "Cv39Y3TXai0Z"
      }
    },
    {
      "cell_type": "code",
      "source": [
        "# Float 32 tensor\n",
        "float_32_tensor = torch.tensor([3.0, 6.0, 9.0],\n",
        "                               dtype=torch.float32, # Datatype of the tensor\n",
        "                               device=None,         # CPU, GPU (cuda), TPU\n",
        "                               requires_grad=False) # Wether we want Python to track the tensor gradients\n",
        "float_32_tensor"
      ],
      "metadata": {
        "colab": {
          "base_uri": "https://localhost:8080/"
        },
        "id": "xy2_RCsYamPj",
        "outputId": "d279a5bd-e445-4577-8ce0-49197fa54b30"
      },
      "execution_count": null,
      "outputs": [
        {
          "output_type": "execute_result",
          "data": {
            "text/plain": [
              "tensor([3., 6., 9.])"
            ]
          },
          "metadata": {},
          "execution_count": 60
        }
      ]
    },
    {
      "cell_type": "code",
      "source": [
        "float_32_tensor.dtype"
      ],
      "metadata": {
        "colab": {
          "base_uri": "https://localhost:8080/"
        },
        "id": "vwcBK2Vka5Go",
        "outputId": "8bf96e83-50cc-40b7-dee4-5e599cc98abf"
      },
      "execution_count": null,
      "outputs": [
        {
          "output_type": "execute_result",
          "data": {
            "text/plain": [
              "torch.float32"
            ]
          },
          "metadata": {},
          "execution_count": 61
        }
      ]
    },
    {
      "cell_type": "code",
      "source": [
        "float_16_tensor = float_32_tensor.type(torch.float16)\n",
        "float_16_tensor"
      ],
      "metadata": {
        "colab": {
          "base_uri": "https://localhost:8080/"
        },
        "id": "R4N8cAxVdRCF",
        "outputId": "546d5352-dc27-43ac-c80a-8aa80002c816"
      },
      "execution_count": null,
      "outputs": [
        {
          "output_type": "execute_result",
          "data": {
            "text/plain": [
              "tensor([3., 6., 9.], dtype=torch.float16)"
            ]
          },
          "metadata": {},
          "execution_count": 62
        }
      ]
    },
    {
      "cell_type": "markdown",
      "source": [
        "Test with tensor's datatype:"
      ],
      "metadata": {
        "id": "kggWEHfPd3l7"
      }
    },
    {
      "cell_type": "code",
      "source": [
        "res_tensor = float_16_tensor * float_32_tensor\n",
        "res_tensor, res_tensor.shape, res_tensor.ndim, res_tensor.dtype"
      ],
      "metadata": {
        "colab": {
          "base_uri": "https://localhost:8080/"
        },
        "id": "9zBc__2IdpcA",
        "outputId": "3de13fcd-8c46-433d-9845-c4f37d7618dd"
      },
      "execution_count": null,
      "outputs": [
        {
          "output_type": "execute_result",
          "data": {
            "text/plain": [
              "(tensor([ 9., 36., 81.]), torch.Size([3]), 1, torch.float32)"
            ]
          },
          "metadata": {},
          "execution_count": 63
        }
      ]
    },
    {
      "cell_type": "code",
      "source": [
        "long_tensor = torch.tensor([3, 6, 9], dtype=torch.long)\n",
        "long_tensor * float_16_tensor"
      ],
      "metadata": {
        "colab": {
          "base_uri": "https://localhost:8080/"
        },
        "id": "DYH1DsOnetWC",
        "outputId": "af4c1204-10a9-4527-a775-2c186c1c6762"
      },
      "execution_count": null,
      "outputs": [
        {
          "output_type": "execute_result",
          "data": {
            "text/plain": [
              "tensor([ 9., 36., 81.], dtype=torch.float16)"
            ]
          },
          "metadata": {},
          "execution_count": 64
        }
      ]
    },
    {
      "cell_type": "markdown",
      "source": [
        "### Retrieving information of the tensors\n",
        "\n",
        "1. To get the **datatype** of a tensor, we use `tensor.dtype`\n",
        "1. To get the **shape** of a tensor, we use `tensor.shape`\n",
        "1. To get the **device** of a tensor, we use `tensor.device`"
      ],
      "metadata": {
        "id": "jxo-D0RufSRn"
      }
    },
    {
      "cell_type": "code",
      "source": [
        "# Creating the tensor\n",
        "some_tensor = torch.rand(size=(3, 4)) # we can omit the `size`\n",
        "\n",
        "# Retrieving its attributes\n",
        "print(some_tensor)\n",
        "print(f\"Datatype: {some_tensor.dtype}\\nShape: {some_tensor.shape}\\nDevice: {some_tensor.device}\")"
      ],
      "metadata": {
        "colab": {
          "base_uri": "https://localhost:8080/"
        },
        "id": "rgGCJ5FAfrD1",
        "outputId": "2e21abc1-03b9-4758-98f9-149d8fc03770"
      },
      "execution_count": null,
      "outputs": [
        {
          "output_type": "stream",
          "name": "stdout",
          "text": [
            "tensor([[0.3430, 0.6513, 0.9604, 0.8022],\n",
            "        [0.7766, 0.4986, 0.7709, 0.9642],\n",
            "        [0.0956, 0.8524, 0.5605, 0.5408]])\n",
            "Datatype: torch.float32\n",
            "Shape: torch.Size([3, 4])\n",
            "Device: cpu\n"
          ]
        }
      ]
    },
    {
      "cell_type": "markdown",
      "source": [
        "### Manipulating tensors (tensor operations)\n",
        "\n",
        "Operations include:\n",
        "\n",
        "* Sum\n",
        "* Substraction\n",
        "* Multiplication (of elements)\n",
        "* Division\n",
        "* Matrix multiplication"
      ],
      "metadata": {
        "id": "U_xhnFhQha36"
      }
    },
    {
      "cell_type": "code",
      "source": [
        "# Creating the tensor\n",
        "tensor = torch.tensor([1, 2, 3])\n",
        "tensor"
      ],
      "metadata": {
        "colab": {
          "base_uri": "https://localhost:8080/"
        },
        "id": "2emfcbN0iN2G",
        "outputId": "d8bfa90a-302e-4cf4-ea6d-885a8e58a7c7"
      },
      "execution_count": null,
      "outputs": [
        {
          "output_type": "execute_result",
          "data": {
            "text/plain": [
              "tensor([1, 2, 3])"
            ]
          },
          "metadata": {},
          "execution_count": 66
        }
      ]
    },
    {
      "cell_type": "code",
      "source": [
        "# Sum\n",
        "tensor + 10"
      ],
      "metadata": {
        "colab": {
          "base_uri": "https://localhost:8080/"
        },
        "id": "lCFENbHMioeN",
        "outputId": "79e13701-107c-4252-8218-7df073e43597"
      },
      "execution_count": null,
      "outputs": [
        {
          "output_type": "execute_result",
          "data": {
            "text/plain": [
              "tensor([11, 12, 13])"
            ]
          },
          "metadata": {},
          "execution_count": 67
        }
      ]
    },
    {
      "cell_type": "code",
      "source": [
        "# Subtract\n",
        "tensor - 10"
      ],
      "metadata": {
        "colab": {
          "base_uri": "https://localhost:8080/"
        },
        "id": "fGmCtVgziwip",
        "outputId": "79493663-98db-47cd-aefb-db1dff661219"
      },
      "execution_count": null,
      "outputs": [
        {
          "output_type": "execute_result",
          "data": {
            "text/plain": [
              "tensor([-9, -8, -7])"
            ]
          },
          "metadata": {},
          "execution_count": 68
        }
      ]
    },
    {
      "cell_type": "code",
      "source": [
        "# Multiply\n",
        "tensor * 10"
      ],
      "metadata": {
        "colab": {
          "base_uri": "https://localhost:8080/"
        },
        "id": "DQASncZ_ien_",
        "outputId": "ab756d85-f109-4359-a12d-b2222185277c"
      },
      "execution_count": null,
      "outputs": [
        {
          "output_type": "execute_result",
          "data": {
            "text/plain": [
              "tensor([10, 20, 30])"
            ]
          },
          "metadata": {},
          "execution_count": 69
        }
      ]
    },
    {
      "cell_type": "code",
      "source": [
        "# Divide\n",
        "tensor / 2"
      ],
      "metadata": {
        "colab": {
          "base_uri": "https://localhost:8080/"
        },
        "id": "mkTF7BtCjTCz",
        "outputId": "d19cc363-83ec-4fcb-8cfb-dc25fa45dc11"
      },
      "execution_count": null,
      "outputs": [
        {
          "output_type": "execute_result",
          "data": {
            "text/plain": [
              "tensor([0.5000, 1.0000, 1.5000])"
            ]
          },
          "metadata": {},
          "execution_count": 70
        }
      ]
    },
    {
      "cell_type": "code",
      "source": [
        "# Testing functions of PyTorch\n",
        "torch.mul(tensor, 10)"
      ],
      "metadata": {
        "colab": {
          "base_uri": "https://localhost:8080/"
        },
        "id": "CNmfUGVCjALH",
        "outputId": "eb53e506-c03e-4234-f9a4-c70a40dbb6fa"
      },
      "execution_count": null,
      "outputs": [
        {
          "output_type": "execute_result",
          "data": {
            "text/plain": [
              "tensor([10, 20, 30])"
            ]
          },
          "metadata": {},
          "execution_count": 71
        }
      ]
    },
    {
      "cell_type": "markdown",
      "source": [
        "#### Matrix multiplication\n",
        "\n",
        "Two main ways for matrix multiplication:\n",
        "\n",
        "1. Element-wise (value ⋅ matrix)\n",
        "2. Matrix multiplication (matrix ⋅ matrix)"
      ],
      "metadata": {
        "id": "cxq1ZkN4jhnH"
      }
    },
    {
      "cell_type": "code",
      "source": [
        "# Element-wise\n",
        "print(f\"{tensor} * {tensor} = {tensor * tensor}\")"
      ],
      "metadata": {
        "colab": {
          "base_uri": "https://localhost:8080/"
        },
        "id": "6T9B5TnbkHIl",
        "outputId": "e1db356f-a6a6-47cf-a0b9-840acd56ce3f"
      },
      "execution_count": null,
      "outputs": [
        {
          "output_type": "stream",
          "name": "stdout",
          "text": [
            "tensor([1, 2, 3]) * tensor([1, 2, 3]) = tensor([1, 4, 9])\n"
          ]
        }
      ]
    },
    {
      "cell_type": "code",
      "source": [
        "# Matrix multiplication\n",
        "torch.matmul(tensor, tensor)"
      ],
      "metadata": {
        "colab": {
          "base_uri": "https://localhost:8080/"
        },
        "id": "1Tl6e-o7lZ3Y",
        "outputId": "08ae3070-9d85-4012-e7a3-e3da5f756f82"
      },
      "execution_count": null,
      "outputs": [
        {
          "output_type": "execute_result",
          "data": {
            "text/plain": [
              "tensor(14)"
            ]
          },
          "metadata": {},
          "execution_count": 73
        }
      ]
    },
    {
      "cell_type": "markdown",
      "source": [
        "By hand:"
      ],
      "metadata": {
        "id": "ZCzNqxEal8Vr"
      }
    },
    {
      "cell_type": "code",
      "source": [
        "tensor[0] * tensor[0] + tensor[1] * tensor[1] + tensor[2] * tensor[2]"
      ],
      "metadata": {
        "colab": {
          "base_uri": "https://localhost:8080/"
        },
        "id": "TqopNDaNl-jx",
        "outputId": "1c7dad96-ac84-492b-83fc-abed200756d6"
      },
      "execution_count": null,
      "outputs": [
        {
          "output_type": "execute_result",
          "data": {
            "text/plain": [
              "tensor(14)"
            ]
          },
          "metadata": {},
          "execution_count": 74
        }
      ]
    },
    {
      "cell_type": "markdown",
      "source": [
        "We can compare the time necessary for each method:"
      ],
      "metadata": {
        "id": "z-0jwUVKmbCL"
      }
    },
    {
      "cell_type": "code",
      "source": [
        "# By hand\n",
        "\n",
        "%%time\n",
        "value = 0\n",
        "for i in range(len(tensor)):\n",
        "  value += tensor[i] * tensor[i]\n",
        "print(value)"
      ],
      "metadata": {
        "colab": {
          "base_uri": "https://localhost:8080/"
        },
        "id": "9abcmZLMmisr",
        "outputId": "90cabe87-e574-4971-d51c-7ec6fd4eb19f"
      },
      "execution_count": null,
      "outputs": [
        {
          "output_type": "stream",
          "name": "stdout",
          "text": [
            "tensor(14)\n",
            "CPU times: user 1.34 ms, sys: 0 ns, total: 1.34 ms\n",
            "Wall time: 1.23 ms\n"
          ]
        }
      ]
    },
    {
      "cell_type": "code",
      "source": [
        "# PyTorch\n",
        "\n",
        "%%time\n",
        "torch.matmul(tensor, tensor)"
      ],
      "metadata": {
        "colab": {
          "base_uri": "https://localhost:8080/"
        },
        "id": "sc1_PAMOm2_W",
        "outputId": "794822d7-e692-4cb4-eac5-25445a484c1b"
      },
      "execution_count": null,
      "outputs": [
        {
          "output_type": "stream",
          "name": "stdout",
          "text": [
            "CPU times: user 280 µs, sys: 1 µs, total: 281 µs\n",
            "Wall time: 199 µs\n"
          ]
        },
        {
          "output_type": "execute_result",
          "data": {
            "text/plain": [
              "tensor(14)"
            ]
          },
          "metadata": {},
          "execution_count": 76
        }
      ]
    },
    {
      "cell_type": "markdown",
      "source": [
        "### Errors with shape: one of the most common errors in Deep Learning\n",
        "\n",
        "1. The **inner dimensions** must match:\n",
        "* `(3, 2) @ (3, 2)` won't work\n",
        "* `(2, 3) @ (3, 2)` will work\n",
        "* `(3, 2) @ (2, 3)` will work\n",
        "\n",
        "2. The resultant matix will have the `shape` of the **outer dimensions**:\n",
        "* `(2, 3) @ (3, 2) -> (2, 2)`\n",
        "* `(3, 2) @ (2, 3) -> (3, 3)`"
      ],
      "metadata": {
        "id": "DQQTLx6KkgG7"
      }
    },
    {
      "cell_type": "code",
      "source": [
        "tensor @ tensor # Same as torch.matmul()"
      ],
      "metadata": {
        "colab": {
          "base_uri": "https://localhost:8080/"
        },
        "id": "BE2t-mIwk69i",
        "outputId": "fabe4c2e-9f8c-4c61-b791-ef51f3536bae"
      },
      "execution_count": null,
      "outputs": [
        {
          "output_type": "execute_result",
          "data": {
            "text/plain": [
              "tensor(14)"
            ]
          },
          "metadata": {},
          "execution_count": 77
        }
      ]
    },
    {
      "cell_type": "code",
      "source": [
        "torch.matmul(torch.rand(2, 3), torch.rand(3, 2))"
      ],
      "metadata": {
        "colab": {
          "base_uri": "https://localhost:8080/"
        },
        "id": "IUSLRJmYlZA3",
        "outputId": "0ce1a58c-6af1-4a6c-ddb4-318498925a4b"
      },
      "execution_count": null,
      "outputs": [
        {
          "output_type": "execute_result",
          "data": {
            "text/plain": [
              "tensor([[1.0062, 0.6560],\n",
              "        [1.0866, 0.6202]])"
            ]
          },
          "metadata": {},
          "execution_count": 78
        }
      ]
    },
    {
      "cell_type": "code",
      "source": [
        "# Shape for matrix multiplication\n",
        "tensor_A = torch.tensor([[1, 2],\n",
        "                         [3, 4],\n",
        "                         [5, 6]])\n",
        "\n",
        "tensor_B = torch.tensor([[7, 10],\n",
        "                         [8, 11],\n",
        "                         [9, 12]])\n",
        "\n",
        "torch.mm(tensor_A, tensor_B) # torch.mm is an alias for torch.matmul"
      ],
      "metadata": {
        "colab": {
          "base_uri": "https://localhost:8080/",
          "height": 176
        },
        "id": "16Ffv8YSm35G",
        "outputId": "33af1306-82b4-4d22-fb6f-b788fbe1ad47"
      },
      "execution_count": null,
      "outputs": [
        {
          "output_type": "error",
          "ename": "RuntimeError",
          "evalue": "mat1 and mat2 shapes cannot be multiplied (3x2 and 3x2)",
          "traceback": [
            "\u001b[0;31m---------------------------------------------------------------------------\u001b[0m",
            "\u001b[0;31mRuntimeError\u001b[0m                              Traceback (most recent call last)",
            "\u001b[0;32m<ipython-input-80-1a632da071aa>\u001b[0m in \u001b[0;36m<cell line: 10>\u001b[0;34m()\u001b[0m\n\u001b[1;32m      8\u001b[0m                          [9, 12]])\n\u001b[1;32m      9\u001b[0m \u001b[0;34m\u001b[0m\u001b[0m\n\u001b[0;32m---> 10\u001b[0;31m \u001b[0mtorch\u001b[0m\u001b[0;34m.\u001b[0m\u001b[0mmm\u001b[0m\u001b[0;34m(\u001b[0m\u001b[0mtensor_A\u001b[0m\u001b[0;34m,\u001b[0m \u001b[0mtensor_B\u001b[0m\u001b[0;34m)\u001b[0m \u001b[0;31m# torch.mm is an alias for torch.matmul\u001b[0m\u001b[0;34m\u001b[0m\u001b[0;34m\u001b[0m\u001b[0m\n\u001b[0m",
            "\u001b[0;31mRuntimeError\u001b[0m: mat1 and mat2 shapes cannot be multiplied (3x2 and 3x2)"
          ]
        }
      ]
    },
    {
      "cell_type": "code",
      "source": [
        "tensor_A.shape, tensor_B.shape"
      ],
      "metadata": {
        "colab": {
          "base_uri": "https://localhost:8080/"
        },
        "id": "3gEWDloInelr",
        "outputId": "71f3a38a-6ebe-4db2-e3fa-cb75e7838e38"
      },
      "execution_count": null,
      "outputs": [
        {
          "output_type": "execute_result",
          "data": {
            "text/plain": [
              "(torch.Size([3, 2]), torch.Size([3, 2]))"
            ]
          },
          "metadata": {},
          "execution_count": 81
        }
      ]
    },
    {
      "cell_type": "markdown",
      "source": [
        "To fix problems with the `shape` of tensors, we can manipulate the `shape` of one tensor using **transpose**.\n",
        "\n",
        "A **transpose** switches axes or dimensions of a given tensor."
      ],
      "metadata": {
        "id": "WIwSEGDPn0fw"
      }
    },
    {
      "cell_type": "code",
      "source": [
        "tensor_B, tensor_B.shape"
      ],
      "metadata": {
        "colab": {
          "base_uri": "https://localhost:8080/"
        },
        "id": "FqfaE30qoIyj",
        "outputId": "557f0e9a-8cc1-4f43-d42f-a275196dd868"
      },
      "execution_count": null,
      "outputs": [
        {
          "output_type": "execute_result",
          "data": {
            "text/plain": [
              "(tensor([[ 7, 10],\n",
              "         [ 8, 11],\n",
              "         [ 9, 12]]),\n",
              " torch.Size([3, 2]))"
            ]
          },
          "metadata": {},
          "execution_count": 82
        }
      ]
    },
    {
      "cell_type": "code",
      "source": [
        "tensor_B.T, tensor_B.T.shape"
      ],
      "metadata": {
        "colab": {
          "base_uri": "https://localhost:8080/"
        },
        "id": "vWnp6ydgoRLs",
        "outputId": "3522fa30-0f6b-4763-fdb8-abdf4895fdff"
      },
      "execution_count": null,
      "outputs": [
        {
          "output_type": "execute_result",
          "data": {
            "text/plain": [
              "(tensor([[ 7,  8,  9],\n",
              "         [10, 11, 12]]),\n",
              " torch.Size([2, 3]))"
            ]
          },
          "metadata": {},
          "execution_count": 83
        }
      ]
    },
    {
      "cell_type": "code",
      "source": [
        "# Now we can multiply the tensors\n",
        "\n",
        "print(f\"Original: A={tensor_A.shape}, B={tensor_B.shape}\")\n",
        "print(f\"New: A={tensor_A.shape} (not changed), B={tensor_B.T.shape}\")\n",
        "\n",
        "print(f\"\\nResult: {torch.mm(tensor_A, tensor_B.T)}\")"
      ],
      "metadata": {
        "colab": {
          "base_uri": "https://localhost:8080/"
        },
        "id": "sOWLOX6uoWtV",
        "outputId": "e1a34d4f-17a0-4d7b-a940-f5d03be474ae"
      },
      "execution_count": null,
      "outputs": [
        {
          "output_type": "stream",
          "name": "stdout",
          "text": [
            "Original: A=torch.Size([3, 2]), B=torch.Size([3, 2])\n",
            "New: A=torch.Size([3, 2]) (not changed), B=torch.Size([2, 3])\n",
            "\n",
            "Result: tensor([[ 27,  30,  33],\n",
            "        [ 61,  68,  75],\n",
            "        [ 95, 106, 117]])\n"
          ]
        }
      ]
    },
    {
      "cell_type": "markdown",
      "source": [
        "Better visualization for [Matrix Multiplication](http://matrixmultiplication.xyz)."
      ],
      "metadata": {
        "id": "-aK2LwvBqON-"
      }
    },
    {
      "cell_type": "markdown",
      "source": [
        "### Finding the min, max, mean, sum, etc (tensor aggregation)"
      ],
      "metadata": {
        "id": "AnmV7qA6qt1H"
      }
    },
    {
      "cell_type": "code",
      "source": [
        "# Create a tensor\n",
        "x = torch.arange(0, 100, 10)\n",
        "x, x.dtype"
      ],
      "metadata": {
        "colab": {
          "base_uri": "https://localhost:8080/"
        },
        "id": "8FPJf_SPq4db",
        "outputId": "7522a74a-26c0-49c4-a165-dc776ccbc5c1"
      },
      "execution_count": null,
      "outputs": [
        {
          "output_type": "execute_result",
          "data": {
            "text/plain": [
              "(tensor([ 0, 10, 20, 30, 40, 50, 60, 70, 80, 90]), torch.int64)"
            ]
          },
          "metadata": {},
          "execution_count": 85
        }
      ]
    },
    {
      "cell_type": "code",
      "source": [
        "# Find the min\n",
        "torch.min(x), x.min()"
      ],
      "metadata": {
        "colab": {
          "base_uri": "https://localhost:8080/"
        },
        "id": "y_7Ou8HyxUCS",
        "outputId": "548b1b84-0174-4dd5-ed1e-d6186fcb3835"
      },
      "execution_count": null,
      "outputs": [
        {
          "output_type": "execute_result",
          "data": {
            "text/plain": [
              "(tensor(0), tensor(0))"
            ]
          },
          "metadata": {},
          "execution_count": 86
        }
      ]
    },
    {
      "cell_type": "code",
      "source": [
        "# Find the max\n",
        "torch.max(x), x.max()"
      ],
      "metadata": {
        "colab": {
          "base_uri": "https://localhost:8080/"
        },
        "id": "yIKXTtvcxcw1",
        "outputId": "f772dfc9-a027-43e7-c034-4d1d9fca9d0c"
      },
      "execution_count": null,
      "outputs": [
        {
          "output_type": "execute_result",
          "data": {
            "text/plain": [
              "(tensor(90), tensor(90))"
            ]
          },
          "metadata": {},
          "execution_count": 87
        }
      ]
    },
    {
      "cell_type": "markdown",
      "source": [
        "> **Note:** tensor `x`'s datatype is `torch.int64`/`long` as shown before, and `mean()` function cannot operate with that, so it throws an error. We will face some errors of this kind when coding."
      ],
      "metadata": {
        "id": "LzkIlXJfyQaB"
      }
    },
    {
      "cell_type": "code",
      "source": [
        "# Find the mean\n",
        "torch.mean(x.type(torch.float32)), x.type(torch.float32).mean()"
      ],
      "metadata": {
        "colab": {
          "base_uri": "https://localhost:8080/"
        },
        "id": "kkLSz2WCxh9L",
        "outputId": "e4b8d6bb-f64a-4a18-c8b3-c1a59fdd819c"
      },
      "execution_count": null,
      "outputs": [
        {
          "output_type": "execute_result",
          "data": {
            "text/plain": [
              "(tensor(45.), tensor(45.))"
            ]
          },
          "metadata": {},
          "execution_count": 88
        }
      ]
    },
    {
      "cell_type": "code",
      "source": [
        "# Find the sum\n",
        "torch.sum(x), x.sum()"
      ],
      "metadata": {
        "colab": {
          "base_uri": "https://localhost:8080/"
        },
        "id": "KWNf1BqYy8XI",
        "outputId": "4b50620d-43ac-42bb-a789-ee259c2fd2a7"
      },
      "execution_count": null,
      "outputs": [
        {
          "output_type": "execute_result",
          "data": {
            "text/plain": [
              "(tensor(450), tensor(450))"
            ]
          },
          "metadata": {},
          "execution_count": 89
        }
      ]
    },
    {
      "cell_type": "markdown",
      "source": [
        "### Finding the positional min and max"
      ],
      "metadata": {
        "id": "mXtS-f2zzk1U"
      }
    },
    {
      "cell_type": "code",
      "source": [
        "# Create a tensor\n",
        "x = torch.arange(1, 101, 10)\n",
        "x, x.dtype"
      ],
      "metadata": {
        "colab": {
          "base_uri": "https://localhost:8080/"
        },
        "id": "_LbAZqLAz91x",
        "outputId": "33547ce9-56a2-421d-bfc4-5a57653038a9"
      },
      "execution_count": null,
      "outputs": [
        {
          "output_type": "execute_result",
          "data": {
            "text/plain": [
              "(tensor([ 1, 11, 21, 31, 41, 51, 61, 71, 81, 91]), torch.int64)"
            ]
          },
          "metadata": {},
          "execution_count": 90
        }
      ]
    },
    {
      "cell_type": "code",
      "source": [
        "# Find the position in tensor that has the minimum value\n",
        "torch.argmin(x), x.argmin()"
      ],
      "metadata": {
        "colab": {
          "base_uri": "https://localhost:8080/"
        },
        "id": "GTeDW8ofzpiO",
        "outputId": "c60b2692-0f3d-4d24-e389-3f3d36515392"
      },
      "execution_count": null,
      "outputs": [
        {
          "output_type": "execute_result",
          "data": {
            "text/plain": [
              "(tensor(0), tensor(0))"
            ]
          },
          "metadata": {},
          "execution_count": 91
        }
      ]
    },
    {
      "cell_type": "code",
      "source": [
        "x[0]"
      ],
      "metadata": {
        "colab": {
          "base_uri": "https://localhost:8080/"
        },
        "id": "YCptVZtK0D8J",
        "outputId": "3fd6ff60-2d0c-462f-e6b3-658464385b33"
      },
      "execution_count": null,
      "outputs": [
        {
          "output_type": "execute_result",
          "data": {
            "text/plain": [
              "tensor(1)"
            ]
          },
          "metadata": {},
          "execution_count": 92
        }
      ]
    },
    {
      "cell_type": "code",
      "source": [
        "# Find the position in tensor that has the maximum value\n",
        "torch.argmax(x), x.argmax()"
      ],
      "metadata": {
        "colab": {
          "base_uri": "https://localhost:8080/"
        },
        "id": "uikZjCDVz25L",
        "outputId": "94b7bf3b-5e53-4a6c-a48b-df70acaf0bbe"
      },
      "execution_count": null,
      "outputs": [
        {
          "output_type": "execute_result",
          "data": {
            "text/plain": [
              "(tensor(9), tensor(9))"
            ]
          },
          "metadata": {},
          "execution_count": 93
        }
      ]
    },
    {
      "cell_type": "code",
      "source": [
        "x[-1]"
      ],
      "metadata": {
        "colab": {
          "base_uri": "https://localhost:8080/"
        },
        "id": "oDSllDv_0G3y",
        "outputId": "8588a453-7e10-40f0-d530-70fa792066c1"
      },
      "execution_count": null,
      "outputs": [
        {
          "output_type": "execute_result",
          "data": {
            "text/plain": [
              "tensor(91)"
            ]
          },
          "metadata": {},
          "execution_count": 94
        }
      ]
    },
    {
      "cell_type": "markdown",
      "source": [
        "### Reshaping, stacking, squeezing and unsqueezing tensors\n",
        "\n",
        "* Reshaping - reshapes an input tensor to a defined shape\n",
        "* View - return a view of an input tensor of certain shape but keep the same memory as the original tensor\n",
        "* Stacking - combine multiple tensors on top of each other (vstack) or side by side (hstack)\n",
        "* Squeeze - removes all `1` dimensions from a tensor\n",
        "* Unsqueeze - add a `1` dimension to a target tensor\n",
        "* Permute - return a view of the input with dimensions permuted (swapped) in a certain way"
      ],
      "metadata": {
        "id": "mceJZ58a0-6B"
      }
    },
    {
      "cell_type": "code",
      "source": [
        "# Creating a tensor\n",
        "x = torch.arange(1., 10.)\n",
        "x, x.shape, x.ndim"
      ],
      "metadata": {
        "colab": {
          "base_uri": "https://localhost:8080/"
        },
        "id": "QbnPlhMh180_",
        "outputId": "0d1b9f41-cf00-4f4d-dae4-7b4d5609cbc3"
      },
      "execution_count": null,
      "outputs": [
        {
          "output_type": "execute_result",
          "data": {
            "text/plain": [
              "(tensor([1., 2., 3., 4., 5., 6., 7., 8., 9.]), torch.Size([9]), 1)"
            ]
          },
          "metadata": {},
          "execution_count": 95
        }
      ]
    },
    {
      "cell_type": "markdown",
      "source": [
        "> **Note:** reshaped tensor `ndim` is the original tensor's `ndim` + 1. Also, the product of the `shape` dimensions must be equal to the original tensor's."
      ],
      "metadata": {
        "id": "puOmJU_93wZg"
      }
    },
    {
      "cell_type": "code",
      "source": [
        "# Add an extra dimension\n",
        "x_reshaped = x.reshape(1, 9)\n",
        "print(f\"Tensor: {x_reshaped}, Shape: {x_reshaped.shape}, reshape factor 1 * 9 = 9, Dim={x_reshaped.ndim}\")\n",
        "\n",
        "x_reshaped = x.reshape(9, 1)\n",
        "print(f\"\\nTensor: {x_reshaped}, Shape: {x_reshaped.shape}, reshape factor 9 * 1 = 9, Dim={x_reshaped.ndim}\")\n",
        "\n",
        "x_reshaped = x.reshape(3, 3)\n",
        "print(f\"\\nTensor: {x_reshaped}, Shape: {x_reshaped.shape}, reshape factor 3 * 3 = 9, Dim={x_reshaped.ndim}\")"
      ],
      "metadata": {
        "colab": {
          "base_uri": "https://localhost:8080/"
        },
        "id": "5wDJazaw2Gv7",
        "outputId": "b1bea5cd-3e55-47a5-b85e-a63ded351073"
      },
      "execution_count": null,
      "outputs": [
        {
          "output_type": "stream",
          "name": "stdout",
          "text": [
            "Tensor: tensor([[1., 2., 3., 4., 5., 6., 7., 8., 9.]]), Shape: torch.Size([1, 9]), reshape factor 1 * 9 = 9, Dim=2\n",
            "\n",
            "Tensor: tensor([[1.],\n",
            "        [2.],\n",
            "        [3.],\n",
            "        [4.],\n",
            "        [5.],\n",
            "        [6.],\n",
            "        [7.],\n",
            "        [8.],\n",
            "        [9.]]), Shape: torch.Size([9, 1]), reshape factor 9 * 1 = 9, Dim=2\n",
            "\n",
            "Tensor: tensor([[1., 2., 3.],\n",
            "        [4., 5., 6.],\n",
            "        [7., 8., 9.]]), Shape: torch.Size([3, 3]), reshape factor 3 * 3 = 9, Dim=2\n"
          ]
        }
      ]
    },
    {
      "cell_type": "code",
      "source": [
        "# Change the view\n",
        "z = x.view(1, 9)\n",
        "z, z.shape"
      ],
      "metadata": {
        "colab": {
          "base_uri": "https://localhost:8080/"
        },
        "id": "vBIHpxbJ25sR",
        "outputId": "00bf23df-75d7-4705-9dc1-cab7d3b1e430"
      },
      "execution_count": null,
      "outputs": [
        {
          "output_type": "execute_result",
          "data": {
            "text/plain": [
              "(tensor([[1., 2., 3., 4., 5., 6., 7., 8., 9.]]), torch.Size([1, 9]))"
            ]
          },
          "metadata": {},
          "execution_count": 97
        }
      ]
    },
    {
      "cell_type": "markdown",
      "source": [
        "If we change `z`, `x` changes because a view of a tensor shares the same memory as the original."
      ],
      "metadata": {
        "id": "mtiDuafQ5duN"
      }
    },
    {
      "cell_type": "code",
      "source": [
        "# Changing 'z'\n",
        "z[:, 0] = 5\n",
        "z, x"
      ],
      "metadata": {
        "colab": {
          "base_uri": "https://localhost:8080/"
        },
        "id": "BKhrnbmj5r5y",
        "outputId": "625f8a24-942a-412b-c2f4-d0c7319a95fa"
      },
      "execution_count": null,
      "outputs": [
        {
          "output_type": "execute_result",
          "data": {
            "text/plain": [
              "(tensor([[5., 2., 3., 4., 5., 6., 7., 8., 9.]]),\n",
              " tensor([5., 2., 3., 4., 5., 6., 7., 8., 9.]))"
            ]
          },
          "metadata": {},
          "execution_count": 98
        }
      ]
    },
    {
      "cell_type": "code",
      "source": [
        "# Stack tensors on top of each other\n",
        "x_stacked = torch.stack([x, x, x, x], dim=1)\n",
        "x_stacked"
      ],
      "metadata": {
        "colab": {
          "base_uri": "https://localhost:8080/"
        },
        "id": "I7mIp2EU54-L",
        "outputId": "03d80598-70b0-4f81-ee69-031942d881db"
      },
      "execution_count": null,
      "outputs": [
        {
          "output_type": "execute_result",
          "data": {
            "text/plain": [
              "tensor([[5., 5., 5., 5.],\n",
              "        [2., 2., 2., 2.],\n",
              "        [3., 3., 3., 3.],\n",
              "        [4., 4., 4., 4.],\n",
              "        [5., 5., 5., 5.],\n",
              "        [6., 6., 6., 6.],\n",
              "        [7., 7., 7., 7.],\n",
              "        [8., 8., 8., 8.],\n",
              "        [9., 9., 9., 9.]])"
            ]
          },
          "metadata": {},
          "execution_count": 99
        }
      ]
    },
    {
      "cell_type": "markdown",
      "source": [
        "Squeezing removes all single dimensions of a given tensor.\n",
        "\n",
        "Documentation [here](https://pytorch.org/docs/stable/generated/torch.squeeze.html)."
      ],
      "metadata": {
        "id": "tq15rmE4MbRR"
      }
    },
    {
      "cell_type": "code",
      "source": [
        "# Squeezing tensors\n",
        "y = torch.rand(3, 1, 3, 2, 1)\n",
        "print(f\"Initial tensor: {y.shape}\")\n",
        "y_squeezed = torch.squeeze(y)\n",
        "print(f\"Squeezed tensor: {y_squeezed.shape}\")"
      ],
      "metadata": {
        "colab": {
          "base_uri": "https://localhost:8080/"
        },
        "id": "n1UFnCx06kIm",
        "outputId": "07a9b544-e0c5-4ab3-c68d-4e4e15c199a7"
      },
      "execution_count": null,
      "outputs": [
        {
          "output_type": "stream",
          "name": "stdout",
          "text": [
            "Initial tensor: torch.Size([3, 1, 3, 2, 1])\n",
            "Squeezed tensor: torch.Size([3, 3, 2])\n"
          ]
        }
      ]
    },
    {
      "cell_type": "markdown",
      "source": [
        "Giving a `dim` value to the function sets a maximum of dimensions to be squeezed:"
      ],
      "metadata": {
        "id": "VWyedwUVNf78"
      }
    },
    {
      "cell_type": "code",
      "source": [
        "# Setting a dim value\n",
        "y_squeezed = y.squeeze(dim=1)\n",
        "print(f\"With only 1 dimension squeezed: {y_squeezed.shape}\")"
      ],
      "metadata": {
        "colab": {
          "base_uri": "https://localhost:8080/"
        },
        "id": "dWO6Ai-IOSy9",
        "outputId": "a1f7eb8d-e51b-441d-a830-7092d3c32a0e"
      },
      "execution_count": null,
      "outputs": [
        {
          "output_type": "stream",
          "name": "stdout",
          "text": [
            "With only 1 dimension squeezed: torch.Size([3, 3, 2, 1])\n"
          ]
        }
      ]
    },
    {
      "cell_type": "markdown",
      "source": [
        "Unsqueeze does the opposite, it adds a new dimension of `1` to the tensor at a specific dimension.\n",
        "\n",
        "Documentation [here](https://pytorch.org/docs/stable/generated/torch.unsqueeze.html)."
      ],
      "metadata": {
        "id": "OHGxJsdiPYvo"
      }
    },
    {
      "cell_type": "code",
      "source": [
        "# Unsqueezing tensors\n",
        "y = torch.rand(9)\n",
        "print(f\"Initial tensor: {y}\")\n",
        "print(f\"Initial shape: {y.shape}\")\n",
        "\n",
        "y_unsqueezed = torch.unsqueeze(y, dim=1)\n",
        "print(f\"\\nUnsqueezed tensor: {y_unsqueezed}\")\n",
        "print(f\"Unsqueezed shape: {y_unsqueezed.shape}\")"
      ],
      "metadata": {
        "colab": {
          "base_uri": "https://localhost:8080/"
        },
        "id": "B3ZeyMJ4PjlG",
        "outputId": "81931cab-8574-4de7-eb8c-2bfb8ff99ea3"
      },
      "execution_count": null,
      "outputs": [
        {
          "output_type": "stream",
          "name": "stdout",
          "text": [
            "Initial tensor: tensor([0.1387, 0.4443, 0.6465, 0.7125, 0.5824, 0.3138, 0.7448, 0.3783, 0.9414])\n",
            "Initial shape: torch.Size([9])\n",
            "\n",
            "Unsqueezed tensor: tensor([[0.1387],\n",
            "        [0.4443],\n",
            "        [0.6465],\n",
            "        [0.7125],\n",
            "        [0.5824],\n",
            "        [0.3138],\n",
            "        [0.7448],\n",
            "        [0.3783],\n",
            "        [0.9414]])\n",
            "Unsqueezed shape: torch.Size([9, 1])\n"
          ]
        }
      ]
    },
    {
      "cell_type": "markdown",
      "source": [
        "Setting the input dimension to negative makes the index to go backwards. `-1` is the last position and so on.\n",
        "\n",
        "> **Note:** the input value range is as follows => `[-input.dim() - 1, input.dim() + 1)`"
      ],
      "metadata": {
        "id": "iyM7E77fTlee"
      }
    },
    {
      "cell_type": "code",
      "source": [
        "y_negative_unsqueezed = torch.unsqueeze(y, dim=-2)\n",
        "print(f\"\\nUnsqueezed tensor: {y_negative_unsqueezed}\")\n",
        "print(f\"Unsqueezed shape: {y_negative_unsqueezed.shape}\")"
      ],
      "metadata": {
        "colab": {
          "base_uri": "https://localhost:8080/"
        },
        "id": "BUqc1NFUTQPb",
        "outputId": "f150839b-6c88-495b-895a-fe40feace813"
      },
      "execution_count": null,
      "outputs": [
        {
          "output_type": "stream",
          "name": "stdout",
          "text": [
            "\n",
            "Unsqueezed tensor: tensor([[0.1387, 0.4443, 0.6465, 0.7125, 0.5824, 0.3138, 0.7448, 0.3783, 0.9414]])\n",
            "Unsqueezed shape: torch.Size([1, 9])\n"
          ]
        }
      ]
    },
    {
      "cell_type": "markdown",
      "source": [
        "Permutation rearranges the tensor's dimensions in a specified order. Creates a view of the original tensor, so it shares memory with the original.\n",
        "\n",
        "Input `dims` is a tuple with the order of the dims' indexes.\n",
        "\n",
        "Documentation [here](https://pytorch.org/docs/stable/generated/torch.permute.html)."
      ],
      "metadata": {
        "id": "WgRDCHl2UdnG"
      }
    },
    {
      "cell_type": "code",
      "source": [
        "# Permuting tensors\n",
        "y = torch.rand(3, 4, 2)\n",
        "print(f\"Initial tensor: {y}\")\n",
        "print(f\"Initial shape: {y.shape}\")\n",
        "\n",
        "y_permuted = torch.permute(y, (2, 0, 1))\n",
        "print(f\"\\nPermuted tensor: {y_permuted}\")\n",
        "print(f\"Permuted shape: {y_permuted.shape}\")"
      ],
      "metadata": {
        "colab": {
          "base_uri": "https://localhost:8080/"
        },
        "id": "-vVbAUP9Ut4B",
        "outputId": "1b12468a-9e1c-4a87-aec1-feda21e83b82"
      },
      "execution_count": null,
      "outputs": [
        {
          "output_type": "stream",
          "name": "stdout",
          "text": [
            "Initial tensor: tensor([[[0.6474, 0.6234],\n",
            "         [0.5790, 0.2778],\n",
            "         [0.1297, 0.1720],\n",
            "         [0.0913, 0.3035]],\n",
            "\n",
            "        [[0.6541, 0.0325],\n",
            "         [0.2897, 0.3572],\n",
            "         [0.1267, 0.3263],\n",
            "         [0.4092, 0.5813]],\n",
            "\n",
            "        [[0.3729, 0.7374],\n",
            "         [0.2611, 0.3989],\n",
            "         [0.8837, 0.8601],\n",
            "         [0.9623, 0.1004]]])\n",
            "Initial shape: torch.Size([3, 4, 2])\n",
            "\n",
            "Permuted tensor: tensor([[[0.6474, 0.5790, 0.1297, 0.0913],\n",
            "         [0.6541, 0.2897, 0.1267, 0.4092],\n",
            "         [0.3729, 0.2611, 0.8837, 0.9623]],\n",
            "\n",
            "        [[0.6234, 0.2778, 0.1720, 0.3035],\n",
            "         [0.0325, 0.3572, 0.3263, 0.5813],\n",
            "         [0.7374, 0.3989, 0.8601, 0.1004]]])\n",
            "Permuted shape: torch.Size([2, 3, 4])\n"
          ]
        }
      ]
    },
    {
      "cell_type": "markdown",
      "source": [
        "> **Note:** apparently, permutation is often used for images.\n",
        "\n",
        "> Example:"
      ],
      "metadata": {
        "id": "ExPypGnNW51S"
      }
    },
    {
      "cell_type": "code",
      "source": [
        "image_tensor = torch.rand(224, 224, 3) # height, width, color_channels\n",
        "print(f\"Original image shape: {image_tensor.shape}\")\n",
        "\n",
        "# We want to set the color_channels to be the first dimension\n",
        "permuted_image_tensor = image_tensor.permute(2, 0, 1)\n",
        "print(f\"\\nPermuted image tensor shape: {permuted_image_tensor.shape}\")"
      ],
      "metadata": {
        "colab": {
          "base_uri": "https://localhost:8080/"
        },
        "id": "gGo3l-gNXDaK",
        "outputId": "9dde3d3b-99ae-4912-cc90-4578201b7687"
      },
      "execution_count": null,
      "outputs": [
        {
          "output_type": "stream",
          "name": "stdout",
          "text": [
            "Original image shape: torch.Size([224, 224, 3])\n",
            "\n",
            "Permuted image tensor shape: torch.Size([3, 224, 224])\n"
          ]
        }
      ]
    },
    {
      "cell_type": "markdown",
      "source": [
        "Permuted tensor shares memory with the original:"
      ],
      "metadata": {
        "id": "Fwa9C9V_Y64e"
      }
    },
    {
      "cell_type": "code",
      "source": [
        "permuted_image_tensor[0, 0, 0] = 16666\n",
        "\n",
        "image_tensor[0, 0, 0], permuted_image_tensor[0, 0, 0]"
      ],
      "metadata": {
        "colab": {
          "base_uri": "https://localhost:8080/"
        },
        "id": "GH3M9-5UZBq0",
        "outputId": "e42631e8-68d5-4a8b-d802-992661e7ec3d"
      },
      "execution_count": null,
      "outputs": [
        {
          "output_type": "execute_result",
          "data": {
            "text/plain": [
              "(tensor(16666.), tensor(16666.))"
            ]
          },
          "metadata": {},
          "execution_count": 106
        }
      ]
    },
    {
      "cell_type": "markdown",
      "source": [
        "### Indexing (selecting data from tensors)\n",
        "\n",
        "Indexing with PyTorch is similar to indexing with NumPy."
      ],
      "metadata": {
        "id": "KpaJ_2lMZZWv"
      }
    },
    {
      "cell_type": "code",
      "source": [
        "# Creating a tensor\n",
        "x = torch.arange(1, 10).reshape(1, 3, 3)\n",
        "x, x.shape"
      ],
      "metadata": {
        "colab": {
          "base_uri": "https://localhost:8080/"
        },
        "id": "S_8SL3QkZmxP",
        "outputId": "f031c819-90e4-4d0a-e3ef-b0e814a4cc70"
      },
      "execution_count": null,
      "outputs": [
        {
          "output_type": "execute_result",
          "data": {
            "text/plain": [
              "(tensor([[[1, 2, 3],\n",
              "          [4, 5, 6],\n",
              "          [7, 8, 9]]]),\n",
              " torch.Size([1, 3, 3]))"
            ]
          },
          "metadata": {},
          "execution_count": 107
        }
      ]
    },
    {
      "cell_type": "code",
      "source": [
        "# Indexing the first dimension (dim=0)\n",
        "x[0]"
      ],
      "metadata": {
        "colab": {
          "base_uri": "https://localhost:8080/"
        },
        "id": "93cTbC5-aU2O",
        "outputId": "f5a32d15-71eb-4a3b-f5d4-3098718362bf"
      },
      "execution_count": null,
      "outputs": [
        {
          "output_type": "execute_result",
          "data": {
            "text/plain": [
              "tensor([[1, 2, 3],\n",
              "        [4, 5, 6],\n",
              "        [7, 8, 9]])"
            ]
          },
          "metadata": {},
          "execution_count": 108
        }
      ]
    },
    {
      "cell_type": "code",
      "source": [
        "# Indexing the second dimension (dim=1)\n",
        "x[0][0], x[0, 0]"
      ],
      "metadata": {
        "colab": {
          "base_uri": "https://localhost:8080/"
        },
        "id": "U3VgyVy3aaA4",
        "outputId": "7a6dfc8e-90f8-49cf-d409-9b65b81e59e2"
      },
      "execution_count": null,
      "outputs": [
        {
          "output_type": "execute_result",
          "data": {
            "text/plain": [
              "(tensor([1, 2, 3]), tensor([1, 2, 3]))"
            ]
          },
          "metadata": {},
          "execution_count": 109
        }
      ]
    },
    {
      "cell_type": "code",
      "source": [
        "# Indexing the third dimension, in this example, getting a value (dim=2)\n",
        "x[0][0][0], x[0, 0, 0]"
      ],
      "metadata": {
        "colab": {
          "base_uri": "https://localhost:8080/"
        },
        "id": "kSBb68oZajZP",
        "outputId": "ba159327-9338-46b2-a6ed-ad7e32fb4c62"
      },
      "execution_count": null,
      "outputs": [
        {
          "output_type": "execute_result",
          "data": {
            "text/plain": [
              "(tensor(1), tensor(1))"
            ]
          },
          "metadata": {},
          "execution_count": 110
        }
      ]
    },
    {
      "cell_type": "code",
      "source": [
        "# Indexing all with ':'\n",
        "x[:, :, 0]"
      ],
      "metadata": {
        "colab": {
          "base_uri": "https://localhost:8080/"
        },
        "id": "59mpZeFHbha5",
        "outputId": "0eb1d331-527f-43b9-91c1-71f2404bdc1f"
      },
      "execution_count": null,
      "outputs": [
        {
          "output_type": "execute_result",
          "data": {
            "text/plain": [
              "tensor([[1, 4, 7]])"
            ]
          },
          "metadata": {},
          "execution_count": 111
        }
      ]
    },
    {
      "cell_type": "code",
      "source": [
        "index_test = torch.arange(1, 28).reshape(3, 3, 3) # values 1 to 27\n",
        "\n",
        "print(f\"Tensor: {index_test}, Shape: {index_test.shape}\")\n",
        "\n",
        "index_test[1, :, 1]"
      ],
      "metadata": {
        "colab": {
          "base_uri": "https://localhost:8080/"
        },
        "id": "MmvS4cnjcA1h",
        "outputId": "979f8f17-e5af-4818-f5b2-96ddaab7a1d2"
      },
      "execution_count": null,
      "outputs": [
        {
          "output_type": "stream",
          "name": "stdout",
          "text": [
            "Tensor: tensor([[[ 1,  2,  3],\n",
            "         [ 4,  5,  6],\n",
            "         [ 7,  8,  9]],\n",
            "\n",
            "        [[10, 11, 12],\n",
            "         [13, 14, 15],\n",
            "         [16, 17, 18]],\n",
            "\n",
            "        [[19, 20, 21],\n",
            "         [22, 23, 24],\n",
            "         [25, 26, 27]]]), Shape: torch.Size([3, 3, 3])\n"
          ]
        },
        {
          "output_type": "execute_result",
          "data": {
            "text/plain": [
              "tensor([11, 14, 17])"
            ]
          },
          "metadata": {},
          "execution_count": 112
        }
      ]
    },
    {
      "cell_type": "markdown",
      "source": [
        "### PyTorch tensors and NumPy\n",
        "\n",
        "NumPy is a popular scientific Python numerical computing library. PyTorch requires NumPy.\n",
        "\n",
        "Because of this, PyTorch has functionality to interact with it.\n",
        "\n",
        "* Change data in NumPy to PyTorch tensor -> `torch.from_numpy(ndarray)`\n",
        "* Change data in PyTorch tensor to NumPy -> `torch.Tensor.numpy()`"
      ],
      "metadata": {
        "id": "SQW-KQ2gsu-v"
      }
    },
    {
      "cell_type": "code",
      "source": [
        "# NumPy array to tensor\n",
        "array = np.arange(1.0, 8.0)\n",
        "tensor = torch.from_numpy(array)\n",
        "array, tensor"
      ],
      "metadata": {
        "colab": {
          "base_uri": "https://localhost:8080/"
        },
        "id": "w2UsIL0jtsl8",
        "outputId": "ff5a2c5b-d2b9-4b8b-c7ec-8f1ccdc2cf23"
      },
      "execution_count": null,
      "outputs": [
        {
          "output_type": "execute_result",
          "data": {
            "text/plain": [
              "(array([1., 2., 3., 4., 5., 6., 7.]),\n",
              " tensor([1., 2., 3., 4., 5., 6., 7.], dtype=torch.float64))"
            ]
          },
          "metadata": {},
          "execution_count": 113
        }
      ]
    },
    {
      "cell_type": "markdown",
      "source": [
        "> **Note:** NumPy's default datatype is `float64` whereas PyTorch's is `float32`."
      ],
      "metadata": {
        "id": "OywRfIWmuVZA"
      }
    },
    {
      "cell_type": "code",
      "source": [
        "array.dtype"
      ],
      "metadata": {
        "colab": {
          "base_uri": "https://localhost:8080/"
        },
        "id": "y8yg1O3OuE8Y",
        "outputId": "02b148b8-f7f7-429c-a0a7-4356c660d4ed"
      },
      "execution_count": null,
      "outputs": [
        {
          "output_type": "execute_result",
          "data": {
            "text/plain": [
              "dtype('float64')"
            ]
          },
          "metadata": {},
          "execution_count": 114
        }
      ]
    },
    {
      "cell_type": "code",
      "source": [
        "torch.arange(1.0, 8.0).dtype"
      ],
      "metadata": {
        "colab": {
          "base_uri": "https://localhost:8080/"
        },
        "id": "zZB2nCx2uLCH",
        "outputId": "9802ddfd-c940-44a7-d9d2-fc8b60e1957f"
      },
      "execution_count": null,
      "outputs": [
        {
          "output_type": "execute_result",
          "data": {
            "text/plain": [
              "torch.float32"
            ]
          },
          "metadata": {},
          "execution_count": 115
        }
      ]
    },
    {
      "cell_type": "markdown",
      "source": [
        "Nonetheless, we can use `type()` function if we need to change the tensor's datatype:"
      ],
      "metadata": {
        "id": "IBSkzpDEvDQ5"
      }
    },
    {
      "cell_type": "code",
      "source": [
        "tensor.type(torch.float32).dtype"
      ],
      "metadata": {
        "colab": {
          "base_uri": "https://localhost:8080/"
        },
        "id": "gEGj1-H9uxp-",
        "outputId": "62674801-1b5e-4a05-d038-a75ed56bd552"
      },
      "execution_count": null,
      "outputs": [
        {
          "output_type": "execute_result",
          "data": {
            "text/plain": [
              "torch.float32"
            ]
          },
          "metadata": {},
          "execution_count": 116
        }
      ]
    },
    {
      "cell_type": "markdown",
      "source": [
        "Using `from_numpy()` creates a different space in memory, so the data is not shared."
      ],
      "metadata": {
        "id": "YDqaXKLYvq8n"
      }
    },
    {
      "cell_type": "code",
      "source": [
        "array = array + 1\n",
        "array, tensor"
      ],
      "metadata": {
        "colab": {
          "base_uri": "https://localhost:8080/"
        },
        "id": "Ix-Ooec3vhjf",
        "outputId": "bd341e97-21a9-445c-c2e4-0638126d48b4"
      },
      "execution_count": null,
      "outputs": [
        {
          "output_type": "execute_result",
          "data": {
            "text/plain": [
              "(array([2., 3., 4., 5., 6., 7., 8.]),\n",
              " tensor([1., 2., 3., 4., 5., 6., 7.], dtype=torch.float64))"
            ]
          },
          "metadata": {},
          "execution_count": 117
        }
      ]
    },
    {
      "cell_type": "markdown",
      "source": [
        "In the opposite operation, datatype is reflected just like in the previous case."
      ],
      "metadata": {
        "id": "5YercZxWwZEc"
      }
    },
    {
      "cell_type": "code",
      "source": [
        "# Tensor to NumPy array\n",
        "tensor = torch.ones(7)\n",
        "numpy_tensor = tensor.numpy()\n",
        "tensor, numpy_tensor"
      ],
      "metadata": {
        "colab": {
          "base_uri": "https://localhost:8080/"
        },
        "id": "3Iyq4mUfv2ox",
        "outputId": "cef78d00-46a7-4093-fd01-22c5b69b4ef9"
      },
      "execution_count": null,
      "outputs": [
        {
          "output_type": "execute_result",
          "data": {
            "text/plain": [
              "(tensor([1., 1., 1., 1., 1., 1., 1.]),\n",
              " array([1., 1., 1., 1., 1., 1., 1.], dtype=float32))"
            ]
          },
          "metadata": {},
          "execution_count": 118
        }
      ]
    },
    {
      "cell_type": "markdown",
      "source": [
        "The same goes for `numpy()`, memory is not shared:"
      ],
      "metadata": {
        "id": "PdMrWQeQwxRQ"
      }
    },
    {
      "cell_type": "code",
      "source": [
        "tensor = tensor + 1\n",
        "tensor, numpy_tensor"
      ],
      "metadata": {
        "colab": {
          "base_uri": "https://localhost:8080/"
        },
        "id": "bGE2S5BIwoI_",
        "outputId": "feb957c2-906b-4226-e214-2a19e6338ba3"
      },
      "execution_count": null,
      "outputs": [
        {
          "output_type": "execute_result",
          "data": {
            "text/plain": [
              "(tensor([2., 2., 2., 2., 2., 2., 2.]),\n",
              " array([1., 1., 1., 1., 1., 1., 1.], dtype=float32))"
            ]
          },
          "metadata": {},
          "execution_count": 119
        }
      ]
    },
    {
      "cell_type": "markdown",
      "source": [
        "### Reproducibility (trying to take random out of random)\n",
        "\n",
        "How a neural network learns:\n",
        "\n",
        "`start with random values -> tensor operations -> update random numbers to try make them better representation of the data -> again -> again -> ...`\n",
        "\n",
        "To reduce the randomness in neural networks and PyTorch comes the concept of **random seed**."
      ],
      "metadata": {
        "id": "J0je9OiWxKVX"
      }
    },
    {
      "cell_type": "code",
      "source": [
        "# Create two random tensors\n",
        "random_tensor_A = torch.rand(3, 4)\n",
        "random_tensor_B = torch.rand(3, 4)\n",
        "\n",
        "print(random_tensor_A == random_tensor_B)"
      ],
      "metadata": {
        "colab": {
          "base_uri": "https://localhost:8080/"
        },
        "id": "v5xCFoN-xpA_",
        "outputId": "cf37ff90-dad4-470a-8354-65ce25a456cf"
      },
      "execution_count": null,
      "outputs": [
        {
          "output_type": "stream",
          "name": "stdout",
          "text": [
            "tensor([[False, False, False, False],\n",
            "        [False, False, False, False],\n",
            "        [False, False, False, False]])\n"
          ]
        }
      ]
    },
    {
      "cell_type": "code",
      "source": [
        "# Making reproducible random tensors\n",
        "\n",
        "# Set a random seed\n",
        "RANDOM_SEED = 666\n",
        "\n",
        "torch.manual_seed(RANDOM_SEED)\n",
        "random_tensor_C = torch.rand(3, 4)\n",
        "\n",
        "torch.manual_seed(RANDOM_SEED)\n",
        "random_tensor_D = torch.rand(3, 4)\n",
        "\n",
        "print(random_tensor_C == random_tensor_D)"
      ],
      "metadata": {
        "colab": {
          "base_uri": "https://localhost:8080/"
        },
        "id": "r4xVQ_ZUylgu",
        "outputId": "fc971782-76f9-4476-e1c8-354135822de5"
      },
      "execution_count": null,
      "outputs": [
        {
          "output_type": "stream",
          "name": "stdout",
          "text": [
            "tensor([[True, True, True, True],\n",
            "        [True, True, True, True],\n",
            "        [True, True, True, True]])\n"
          ]
        }
      ]
    },
    {
      "cell_type": "markdown",
      "source": [
        "### Running tensors and PyTorch objects on the GPUs\n",
        "\n",
        "GPUs = faster computation on numbers, thanks to CUDA + NVIDIA hardware + PyTorch working behind the scenes to make everything better."
      ],
      "metadata": {
        "id": "ww8xVd6Tz3Hd"
      }
    },
    {
      "cell_type": "markdown",
      "source": [
        "#### 1. Getting a GPU\n",
        "\n",
        "* Use Google Colab for a free GPU (can upgrade as well)\n",
        "* Use your own GPU (investment for a good one and requires setup)\n",
        "* Use cloud computing (GCP, AWS, Azure... are services yhat allow computer renting on the cloud)"
      ],
      "metadata": {
        "id": "IPNsT02k0NNp"
      }
    },
    {
      "cell_type": "code",
      "source": [
        "!nvidia-smi"
      ],
      "metadata": {
        "colab": {
          "base_uri": "https://localhost:8080/"
        },
        "id": "Waa0_JV81dYn",
        "outputId": "1fbdd3af-ed7c-4b84-ce58-9e6612a46d09"
      },
      "execution_count": null,
      "outputs": [
        {
          "output_type": "stream",
          "name": "stdout",
          "text": [
            "Sat Feb 24 12:29:38 2024       \n",
            "+---------------------------------------------------------------------------------------+\n",
            "| NVIDIA-SMI 535.104.05             Driver Version: 535.104.05   CUDA Version: 12.2     |\n",
            "|-----------------------------------------+----------------------+----------------------+\n",
            "| GPU  Name                 Persistence-M | Bus-Id        Disp.A | Volatile Uncorr. ECC |\n",
            "| Fan  Temp   Perf          Pwr:Usage/Cap |         Memory-Usage | GPU-Util  Compute M. |\n",
            "|                                         |                      |               MIG M. |\n",
            "|=========================================+======================+======================|\n",
            "|   0  Tesla T4                       Off | 00000000:00:04.0 Off |                    0 |\n",
            "| N/A   68C    P0              29W /  70W |    121MiB / 15360MiB |      0%      Default |\n",
            "|                                         |                      |                  N/A |\n",
            "+-----------------------------------------+----------------------+----------------------+\n",
            "                                                                                         \n",
            "+---------------------------------------------------------------------------------------+\n",
            "| Processes:                                                                            |\n",
            "|  GPU   GI   CI        PID   Type   Process name                            GPU Memory |\n",
            "|        ID   ID                                                             Usage      |\n",
            "|=======================================================================================|\n",
            "+---------------------------------------------------------------------------------------+\n"
          ]
        }
      ]
    },
    {
      "cell_type": "markdown",
      "source": [
        "#### 2. Check for GPU access with PyTorch"
      ],
      "metadata": {
        "id": "rr9L9z0n2bgT"
      }
    },
    {
      "cell_type": "code",
      "source": [
        "import torch\n",
        "torch.cuda.is_available()"
      ],
      "metadata": {
        "colab": {
          "base_uri": "https://localhost:8080/"
        },
        "id": "-dFoPe5J2gvV",
        "outputId": "ceb0b245-4fc5-43e3-b787-b1bec9477706"
      },
      "execution_count": null,
      "outputs": [
        {
          "output_type": "execute_result",
          "data": {
            "text/plain": [
              "True"
            ]
          },
          "metadata": {},
          "execution_count": 123
        }
      ]
    },
    {
      "cell_type": "markdown",
      "source": [
        "For PyTorch, since it's capable of running compute on the CPU or GPU, it's best practice to setup device agnostic code.\n",
        "\n",
        "Documentation for [best practices](https://pytorch.org/docs/stable/notes/cuda.html#best-practices).\n",
        "\n",
        "This is basically telling PyTorch to use a GPU if it has access to one, since its faster that way, else use a CPU."
      ],
      "metadata": {
        "id": "GJvYLhJB3ds8"
      }
    },
    {
      "cell_type": "code",
      "source": [
        "# Setup device agnostic code\n",
        "device = \"cuda\" if torch.cuda.is_available() else \"cpu\"\n",
        "device"
      ],
      "metadata": {
        "colab": {
          "base_uri": "https://localhost:8080/",
          "height": 35
        },
        "id": "YEW211qq21Y1",
        "outputId": "0039c119-34c2-47e2-ad62-050d56146819"
      },
      "execution_count": null,
      "outputs": [
        {
          "output_type": "execute_result",
          "data": {
            "text/plain": [
              "'cuda'"
            ],
            "application/vnd.google.colaboratory.intrinsic+json": {
              "type": "string"
            }
          },
          "metadata": {},
          "execution_count": 124
        }
      ]
    },
    {
      "cell_type": "code",
      "source": [
        "# Count number of devices\n",
        "torch.cuda.device_count()"
      ],
      "metadata": {
        "colab": {
          "base_uri": "https://localhost:8080/"
        },
        "id": "rp70tV9F3EGH",
        "outputId": "e803f0f7-602d-4c52-deca-019992a13121"
      },
      "execution_count": null,
      "outputs": [
        {
          "output_type": "execute_result",
          "data": {
            "text/plain": [
              "1"
            ]
          },
          "metadata": {},
          "execution_count": 125
        }
      ]
    },
    {
      "cell_type": "markdown",
      "source": [
        "#### 3. Putting tensors and models on the GPU\n",
        "\n",
        "GPU results in faster computation, so we want these to run there."
      ],
      "metadata": {
        "id": "iDovHHkL4KsR"
      }
    },
    {
      "cell_type": "code",
      "source": [
        "# Create a tensor (default is on CPU)\n",
        "tensor = torch.tensor([1, 2, 3])\n",
        "\n",
        "# Tensor not on GPU\n",
        "tensor.device"
      ],
      "metadata": {
        "colab": {
          "base_uri": "https://localhost:8080/"
        },
        "id": "WnroyLk04XHA",
        "outputId": "f811f582-59fa-47b8-8128-01e6715cd1c4"
      },
      "execution_count": null,
      "outputs": [
        {
          "output_type": "execute_result",
          "data": {
            "text/plain": [
              "device(type='cpu')"
            ]
          },
          "metadata": {},
          "execution_count": 126
        }
      ]
    },
    {
      "cell_type": "code",
      "source": [
        "# Move tensor to GPU if available\n",
        "tensor_on_gpu = tensor.to(device)\n",
        "tensor_on_gpu"
      ],
      "metadata": {
        "colab": {
          "base_uri": "https://localhost:8080/"
        },
        "id": "6nvcv6Qt4rdh",
        "outputId": "403e5d77-08cc-4614-809b-312f366861dc"
      },
      "execution_count": null,
      "outputs": [
        {
          "output_type": "execute_result",
          "data": {
            "text/plain": [
              "tensor([1, 2, 3], device='cuda:0')"
            ]
          },
          "metadata": {},
          "execution_count": 127
        }
      ]
    },
    {
      "cell_type": "markdown",
      "source": [
        "#### 4. Moving tensors back to the CPU"
      ],
      "metadata": {
        "id": "4HfpEqv75A6w"
      }
    },
    {
      "cell_type": "code",
      "source": [
        "# If tensor is on GPU, can't transform it to NumPy\n",
        "tensor_on_gpu.numpy()"
      ],
      "metadata": {
        "colab": {
          "base_uri": "https://localhost:8080/",
          "height": 159
        },
        "id": "PaEx8FdM5Gxv",
        "outputId": "e95bf93e-81fd-4dbf-e058-9fdaa1dd45a7"
      },
      "execution_count": null,
      "outputs": [
        {
          "output_type": "error",
          "ename": "TypeError",
          "evalue": "can't convert cuda:0 device type tensor to numpy. Use Tensor.cpu() to copy the tensor to host memory first.",
          "traceback": [
            "\u001b[0;31m---------------------------------------------------------------------------\u001b[0m",
            "\u001b[0;31mTypeError\u001b[0m                                 Traceback (most recent call last)",
            "\u001b[0;32m<ipython-input-143-b7da913938a5>\u001b[0m in \u001b[0;36m<cell line: 2>\u001b[0;34m()\u001b[0m\n\u001b[1;32m      1\u001b[0m \u001b[0;31m# If tensor is on GPU, can't transform it to NumPy\u001b[0m\u001b[0;34m\u001b[0m\u001b[0;34m\u001b[0m\u001b[0m\n\u001b[0;32m----> 2\u001b[0;31m \u001b[0mtensor_on_gpu\u001b[0m\u001b[0;34m.\u001b[0m\u001b[0mnumpy\u001b[0m\u001b[0;34m(\u001b[0m\u001b[0;34m)\u001b[0m\u001b[0;34m\u001b[0m\u001b[0;34m\u001b[0m\u001b[0m\n\u001b[0m",
            "\u001b[0;31mTypeError\u001b[0m: can't convert cuda:0 device type tensor to numpy. Use Tensor.cpu() to copy the tensor to host memory first."
          ]
        }
      ]
    },
    {
      "cell_type": "code",
      "source": [
        "tensor_back_on_cpu = tensor_on_gpu.cpu().numpy()\n",
        "tensor_back_on_cpu"
      ],
      "metadata": {
        "colab": {
          "base_uri": "https://localhost:8080/"
        },
        "id": "PkvsIbWq5UNm",
        "outputId": "8c799617-c588-43c3-f0af-7b1d17649700"
      },
      "execution_count": null,
      "outputs": [
        {
          "output_type": "execute_result",
          "data": {
            "text/plain": [
              "array([1, 2, 3])"
            ]
          },
          "metadata": {},
          "execution_count": 144
        }
      ]
    },
    {
      "cell_type": "markdown",
      "source": [
        "### Exercises\n",
        "\n",
        "[Source](https://github.com/mrdbourke/pytorch-deep-learning/blob/main/00_pytorch_fundamentals.ipynb)"
      ],
      "metadata": {
        "id": "6svxlX516Dip"
      }
    },
    {
      "cell_type": "code",
      "source": [
        "import torch\n",
        "import numpy as np"
      ],
      "metadata": {
        "id": "p4XfNtN87Ajg"
      },
      "execution_count": null,
      "outputs": []
    },
    {
      "cell_type": "markdown",
      "source": [
        "2. Create a random tensor with shape `(7, 7)`."
      ],
      "metadata": {
        "id": "t_gWVZZ_6xo5"
      }
    },
    {
      "cell_type": "code",
      "source": [
        "ex2_random_tensor = torch.rand(7, 7)\n",
        "ex2_random_tensor, ex2_random_tensor.shape"
      ],
      "metadata": {
        "colab": {
          "base_uri": "https://localhost:8080/"
        },
        "id": "i_a6UNF-62ow",
        "outputId": "812c744f-7f43-47c8-ba7f-0e2bc185d124"
      },
      "execution_count": null,
      "outputs": [
        {
          "output_type": "execute_result",
          "data": {
            "text/plain": [
              "(tensor([[0.8549, 0.5509, 0.2868, 0.2063, 0.4451, 0.3593, 0.7204],\n",
              "         [0.0731, 0.9699, 0.1078, 0.8829, 0.4132, 0.7572, 0.6948],\n",
              "         [0.5209, 0.5932, 0.8797, 0.6286, 0.7653, 0.1132, 0.8559],\n",
              "         [0.6721, 0.6267, 0.5691, 0.7437, 0.9592, 0.3887, 0.2214],\n",
              "         [0.3742, 0.1953, 0.7405, 0.2529, 0.2332, 0.9314, 0.9575],\n",
              "         [0.5575, 0.4134, 0.4355, 0.7369, 0.0331, 0.0914, 0.8994],\n",
              "         [0.9936, 0.4703, 0.1049, 0.5137, 0.2674, 0.4990, 0.7447]]),\n",
              " torch.Size([7, 7]))"
            ]
          },
          "metadata": {},
          "execution_count": 147
        }
      ]
    },
    {
      "cell_type": "markdown",
      "source": [
        "3. Perform a matrix multiplication on the tensor from 2 with another random tensor with shape `(1, 7)` (hint: you may have to transpose the second tensor)."
      ],
      "metadata": {
        "id": "LS2ehtxO7ODA"
      }
    },
    {
      "cell_type": "code",
      "source": [
        "ex3_random_tensor = torch.rand(1, 7)\n",
        "\n",
        "# Inner dimensions must match, so we transpose the new tensor\n",
        "ex3_transposed = torch.transpose(ex3_random_tensor, 1, 0)\n",
        "\n",
        "ex3_result = torch.mm(ex2_random_tensor, ex3_transposed)\n",
        "\n",
        "ex3_result, ex3_result.shape"
      ],
      "metadata": {
        "colab": {
          "base_uri": "https://localhost:8080/"
        },
        "id": "l376ujWX7Qd_",
        "outputId": "bc75a49e-808e-4ded-890b-ba4defcbfe66"
      },
      "execution_count": null,
      "outputs": [
        {
          "output_type": "execute_result",
          "data": {
            "text/plain": [
              "(tensor([[1.6914],\n",
              "         [1.7581],\n",
              "         [2.0906],\n",
              "         [1.8975],\n",
              "         [1.7585],\n",
              "         [1.7961],\n",
              "         [1.8900]]),\n",
              " torch.Size([7, 1]))"
            ]
          },
          "metadata": {},
          "execution_count": 148
        }
      ]
    },
    {
      "cell_type": "markdown",
      "source": [
        "4. Set the random seed to `0` and do exercises 2 & 3 over again."
      ],
      "metadata": {
        "id": "UfVdQR9Q8NMN"
      }
    },
    {
      "cell_type": "code",
      "source": [
        "EX4_RANDOM_SEED = 0\n",
        "torch.manual_seed(EX4_RANDOM_SEED)"
      ],
      "metadata": {
        "colab": {
          "base_uri": "https://localhost:8080/"
        },
        "id": "xO_FomMY8Q1n",
        "outputId": "b89be97c-f016-4d3b-8ceb-4f2258986a66"
      },
      "execution_count": null,
      "outputs": [
        {
          "output_type": "execute_result",
          "data": {
            "text/plain": [
              "<torch._C.Generator at 0x7aadebea9cb0>"
            ]
          },
          "metadata": {},
          "execution_count": 149
        }
      ]
    },
    {
      "cell_type": "code",
      "source": [
        "# EX 2\n",
        "\n",
        "ex2_random_tensor = torch.rand(7, 7)\n",
        "ex2_random_tensor, ex2_random_tensor.shape"
      ],
      "metadata": {
        "colab": {
          "base_uri": "https://localhost:8080/"
        },
        "id": "qc0LMQ5F81Zm",
        "outputId": "bfbb7b06-c79f-4bb4-af2d-0cd7c331aec3"
      },
      "execution_count": null,
      "outputs": [
        {
          "output_type": "execute_result",
          "data": {
            "text/plain": [
              "(tensor([[0.4963, 0.7682, 0.0885, 0.1320, 0.3074, 0.6341, 0.4901],\n",
              "         [0.8964, 0.4556, 0.6323, 0.3489, 0.4017, 0.0223, 0.1689],\n",
              "         [0.2939, 0.5185, 0.6977, 0.8000, 0.1610, 0.2823, 0.6816],\n",
              "         [0.9152, 0.3971, 0.8742, 0.4194, 0.5529, 0.9527, 0.0362],\n",
              "         [0.1852, 0.3734, 0.3051, 0.9320, 0.1759, 0.2698, 0.1507],\n",
              "         [0.0317, 0.2081, 0.9298, 0.7231, 0.7423, 0.5263, 0.2437],\n",
              "         [0.5846, 0.0332, 0.1387, 0.2422, 0.8155, 0.7932, 0.2783]]),\n",
              " torch.Size([7, 7]))"
            ]
          },
          "metadata": {},
          "execution_count": 150
        }
      ]
    },
    {
      "cell_type": "code",
      "source": [
        "# EX 3\n",
        "\n",
        "ex3_random_tensor = torch.rand(1, 7)\n",
        "\n",
        "# Inner dimensions must match, so we transpose the new tensor\n",
        "ex3_transposed = torch.transpose(ex3_random_tensor, 1, 0)\n",
        "\n",
        "ex3_result = torch.mm(ex2_random_tensor, ex3_transposed)\n",
        "\n",
        "ex3_result, ex3_result.shape"
      ],
      "metadata": {
        "colab": {
          "base_uri": "https://localhost:8080/"
        },
        "id": "6a70qwmx87Bi",
        "outputId": "04c32673-d1d3-48a9-dbbb-4c1820b2cb46"
      },
      "execution_count": null,
      "outputs": [
        {
          "output_type": "execute_result",
          "data": {
            "text/plain": [
              "(tensor([[1.8542],\n",
              "         [1.9611],\n",
              "         [2.2884],\n",
              "         [3.0481],\n",
              "         [1.7067],\n",
              "         [2.5290],\n",
              "         [1.7989]]),\n",
              " torch.Size([7, 1]))"
            ]
          },
          "metadata": {},
          "execution_count": 151
        }
      ]
    },
    {
      "cell_type": "markdown",
      "source": [
        "5. Speaking of random seeds, we saw how to set it with `torch.manual_seed()` but is there a GPU equivalent? (hint: you'll need to look into the documentation for `torch.cuda` for this one). If there is, set the GPU random seed to `1234`."
      ],
      "metadata": {
        "id": "4S0RCRET9GeZ"
      }
    },
    {
      "cell_type": "code",
      "source": [
        "EX5_RANDOM_SEED = 1234\n",
        "\n",
        "#torch.cuda.seed()    This one sets a random seed\n",
        "\n",
        "torch.cuda.manual_seed(EX5_RANDOM_SEED)"
      ],
      "metadata": {
        "id": "1Ugwb4Pj9Ldt"
      },
      "execution_count": null,
      "outputs": []
    },
    {
      "cell_type": "markdown",
      "source": [
        "6. Create two random tensors of shape `(2, 3)` and send them both to the GPU (you'll need access to a GPU for this). Set `torch.manual_seed(1234)` when creating the tensors (this doesn't have to be the GPU random seed)."
      ],
      "metadata": {
        "id": "EUyin6ph944p"
      }
    },
    {
      "cell_type": "code",
      "source": [
        "EX6_RANDOM_SEED = 1234\n",
        "\n",
        "torch.manual_seed(EX6_RANDOM_SEED)\n",
        "ex6_random_tensor1 = torch.rand(2, 3)\n",
        "\n",
        "torch.manual_seed(EX6_RANDOM_SEED)\n",
        "ex6_random_tensor2 = torch.rand(2, 3)\n",
        "\n",
        "device = \"cuda\"\n",
        "ex6_random_tensor1.to(device), ex6_random_tensor2.to(device)"
      ],
      "metadata": {
        "colab": {
          "base_uri": "https://localhost:8080/"
        },
        "id": "aBP5Sawu9_Mf",
        "outputId": "64b81887-4e5c-41e7-c542-120de1d9a0c6"
      },
      "execution_count": null,
      "outputs": [
        {
          "output_type": "execute_result",
          "data": {
            "text/plain": [
              "(tensor([[0.0290, 0.4019, 0.2598],\n",
              "         [0.3666, 0.0583, 0.7006]], device='cuda:0'),\n",
              " tensor([[0.0290, 0.4019, 0.2598],\n",
              "         [0.3666, 0.0583, 0.7006]], device='cuda:0'))"
            ]
          },
          "metadata": {},
          "execution_count": 153
        }
      ]
    },
    {
      "cell_type": "markdown",
      "source": [
        "7. Perform a matrix multiplication on the tensors you created in 6 (again, you may have to adjust the shapes of one of the tensors)."
      ],
      "metadata": {
        "id": "6A9QVmNl-wGt"
      }
    },
    {
      "cell_type": "code",
      "source": [
        "ex6_tensor2_transposed = torch.transpose(ex6_random_tensor2, 1, 0)\n",
        "\n",
        "ex7_res = torch.mm(ex6_random_tensor1, ex6_tensor2_transposed)\n",
        "ex7_res"
      ],
      "metadata": {
        "colab": {
          "base_uri": "https://localhost:8080/"
        },
        "id": "OkFVwgJL-zdo",
        "outputId": "8a7badbc-4f1b-43b5-8ce5-7cd2d955a390"
      },
      "execution_count": null,
      "outputs": [
        {
          "output_type": "execute_result",
          "data": {
            "text/plain": [
              "tensor([[0.2299, 0.2161],\n",
              "        [0.2161, 0.6287]])"
            ]
          },
          "metadata": {},
          "execution_count": 154
        }
      ]
    },
    {
      "cell_type": "markdown",
      "source": [
        "8. Find the maximum and minimum values of the output of 7."
      ],
      "metadata": {
        "id": "z6e4Ardm_ND6"
      }
    },
    {
      "cell_type": "code",
      "source": [
        "ex7_res.max(), ex7_res.min()"
      ],
      "metadata": {
        "colab": {
          "base_uri": "https://localhost:8080/"
        },
        "id": "qWEHsRnI_Pgb",
        "outputId": "4e4c6610-b78d-46a1-eaf3-366370fde4ab"
      },
      "execution_count": null,
      "outputs": [
        {
          "output_type": "execute_result",
          "data": {
            "text/plain": [
              "(tensor(0.6287), tensor(0.2161))"
            ]
          },
          "metadata": {},
          "execution_count": 155
        }
      ]
    },
    {
      "cell_type": "markdown",
      "source": [
        "9. Find the maximum and minimum index values of the output of 7."
      ],
      "metadata": {
        "id": "Wh0iFDHN_quM"
      }
    },
    {
      "cell_type": "code",
      "source": [
        "ex7_res.argmax(), ex7_res.argmin()"
      ],
      "metadata": {
        "colab": {
          "base_uri": "https://localhost:8080/"
        },
        "id": "QRFlzxGN_t6Z",
        "outputId": "77fd8dd5-3e61-4c33-dd4d-53fcf3d87c5d"
      },
      "execution_count": null,
      "outputs": [
        {
          "output_type": "execute_result",
          "data": {
            "text/plain": [
              "(tensor(3), tensor(1))"
            ]
          },
          "metadata": {},
          "execution_count": 156
        }
      ]
    },
    {
      "cell_type": "markdown",
      "source": [
        "10. Make a random tensor with shape `(1, 1, 1, 10)` and then create a new tensor with all the 1 dimensions removed to be left with a tensor of shape `(10)`. Set the seed to `7` when you create it and print out the first tensor and it's shape as well as the second tensor and it's shape."
      ],
      "metadata": {
        "id": "lta9EhRMA1sY"
      }
    },
    {
      "cell_type": "code",
      "source": [
        "torch.manual_seed(7)\n",
        "\n",
        "ex10_random_tensor = torch.rand(1, 1, 1, 10)\n",
        "print(f\"Squeezed tensor: {ex10_random_tensor}, Shape: {ex10_random_tensor.shape}\")\n",
        "\n",
        "ex10_tensor_squeezed = ex10_random_tensor.squeeze()\n",
        "print(f\"Squeezed tensor: {ex10_tensor_squeezed}, Shape: {ex10_tensor_squeezed.shape}\")"
      ],
      "metadata": {
        "colab": {
          "base_uri": "https://localhost:8080/"
        },
        "id": "Z6Dt6i4yBO7M",
        "outputId": "958553fd-8641-4e0f-b670-37a74b35b962"
      },
      "execution_count": null,
      "outputs": [
        {
          "output_type": "stream",
          "name": "stdout",
          "text": [
            "Squeezed tensor: tensor([[[[0.5349, 0.1988, 0.6592, 0.6569, 0.2328, 0.4251, 0.2071, 0.6297,\n",
            "           0.3653, 0.8513]]]]), Shape: torch.Size([1, 1, 1, 10])\n",
            "Squeezed tensor: tensor([0.5349, 0.1988, 0.6592, 0.6569, 0.2328, 0.4251, 0.2071, 0.6297, 0.3653,\n",
            "        0.8513]), Shape: torch.Size([10])\n"
          ]
        }
      ]
    }
  ]
}