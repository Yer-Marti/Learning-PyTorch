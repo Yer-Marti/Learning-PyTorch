{
  "nbformat": 4,
  "nbformat_minor": 0,
  "metadata": {
    "colab": {
      "provenance": []
    },
    "kernelspec": {
      "name": "python3",
      "display_name": "Python 3"
    },
    "language_info": {
      "name": "python"
    }
  },
  "cells": [
    {
      "cell_type": "markdown",
      "source": [
        "# Python Good Practices\n",
        "\n",
        "This notebook is for keeping track of tips & tricks for Python good practices."
      ],
      "metadata": {
        "id": "4GZugZpSYhIR"
      }
    },
    {
      "cell_type": "markdown",
      "source": [
        "## Contents"
      ],
      "metadata": {
        "id": "Fv0MtZ8qH_fR"
      }
    },
    {
      "cell_type": "markdown",
      "source": [
        "* [Main declaration in scripts](#scrollTo=fI2EjehkYvTD)\n",
        "* [Comprehensions](#scrollTo=PTI6g18lbBdW&line=1&uniqifier=1)\n",
        "* [Using numpy for loops](#scrollTo=blfA3wRPdGaf)\n",
        "* [Glob](#scrollTo=lQFOqMouIqZP&line=1&uniqifier=1)"
      ],
      "metadata": {
        "id": "LrpYwOuWIC3n"
      }
    },
    {
      "cell_type": "markdown",
      "source": [
        "## Main declaration in scripts"
      ],
      "metadata": {
        "id": "fI2EjehkYvTD"
      }
    },
    {
      "cell_type": "markdown",
      "source": [
        "In order to define a main in Python, is a good practice to use the following `main` definition in the scripts.\n",
        "\n",
        "> **Note:** file != script. A script is a file that is meant to be run and is not meant to be imported."
      ],
      "metadata": {
        "id": "211vQ0pvY99f"
      }
    },
    {
      "cell_type": "code",
      "execution_count": 1,
      "metadata": {
        "id": "ORjbZaWgYUzp"
      },
      "outputs": [],
      "source": [
        "def main():\n",
        "  ...\n",
        "\n",
        "if __name__ == '__main__':\n",
        "  main()"
      ]
    },
    {
      "cell_type": "markdown",
      "source": [
        "Why is this? Well, Python files have a different `__name__` on execution depending if they are the being executed as a script or as an imported file. With this main declaration, because Python doesn't have entry points like the `public static void main` (psvm) in Java, this serves as the sntry point for the file, and in case the script is being imported by another file, the main code won't run by mistake."
      ],
      "metadata": {
        "id": "DiJJ8da9Zk_8"
      }
    },
    {
      "cell_type": "markdown",
      "source": [
        "## Comprehensions"
      ],
      "metadata": {
        "id": "PTI6g18lbBdW"
      }
    },
    {
      "cell_type": "markdown",
      "source": [
        "### List comprehensions"
      ],
      "metadata": {
        "id": "E2vjCogtIYol"
      }
    },
    {
      "cell_type": "markdown",
      "source": [
        "List comprehensions are another form of processing lists in Python. They are *generally* easier to read and can be put in a single line of code."
      ],
      "metadata": {
        "id": "AoW7aRZRcsb7"
      }
    },
    {
      "cell_type": "code",
      "source": [
        "numbers = [2, 7, 4, 5, 10, 4, 5]\n",
        "\n",
        "numbers_greater_than_five = [number for number in numbers if number > 5]\n",
        "print(numbers_greater_than_five)"
      ],
      "metadata": {
        "colab": {
          "base_uri": "https://localhost:8080/"
        },
        "id": "O3kOAhZobTfI",
        "outputId": "fa6352d4-d916-47d5-8c14-5a9dcb9768cc"
      },
      "execution_count": 2,
      "outputs": [
        {
          "output_type": "stream",
          "name": "stdout",
          "text": [
            "[7, 10]\n"
          ]
        }
      ]
    },
    {
      "cell_type": "markdown",
      "source": [
        "### Dictionary comprehensions"
      ],
      "metadata": {
        "id": "j51gmt_SIbO_"
      }
    },
    {
      "cell_type": "markdown",
      "source": [
        "These are the same as **list comprehensions** but with dictionaries."
      ],
      "metadata": {
        "id": "zISOh-eiIuOZ"
      }
    },
    {
      "cell_type": "code",
      "source": [
        "fruits = [\"apple\", \"apple\", \"kiwi\", \"melon\", \"apple\", \"kiwi\"]\n",
        "\n",
        "fruit_dict = {f: fruits.count(f) for f in fruits}\n",
        "print(fruit_dict)"
      ],
      "metadata": {
        "colab": {
          "base_uri": "https://localhost:8080/"
        },
        "id": "pHoKtXUcIgOO",
        "outputId": "ea50347f-f6c2-4cdb-a5e9-8a6dda8cb461"
      },
      "execution_count": 3,
      "outputs": [
        {
          "output_type": "stream",
          "name": "stdout",
          "text": [
            "{'apple': 3, 'kiwi': 2, 'melon': 1}\n"
          ]
        }
      ]
    },
    {
      "cell_type": "markdown",
      "source": [
        "## Using `numpy` for loops"
      ],
      "metadata": {
        "id": "blfA3wRPdGaf"
      }
    },
    {
      "cell_type": "code",
      "source": [
        "from time import perf_counter as timer\n",
        "import numpy as np\n",
        "\n",
        "def for_loop(n=100_000_000):\n",
        "  s = 0\n",
        "  for i in range(n):\n",
        "    s += i\n",
        "\n",
        "  return s\n",
        "\n",
        "def while_loop(n=100_000_000):\n",
        "  s = 0\n",
        "  i = 1\n",
        "  while i < n:\n",
        "    s += i\n",
        "    i += 1\n",
        "\n",
        "  return s\n",
        "\n",
        "def sum_fn(n=100_000_000):\n",
        "  s = sum(range(n))\n",
        "  return s\n",
        "\n",
        "def numpy_sum(n=100_000_000):\n",
        "  s = np.sum(np.arange(n))\n",
        "  return s\n",
        "\n",
        "# Test results\n",
        "start = timer()\n",
        "result = for_loop()\n",
        "end = timer()\n",
        "print(f\"For loop sum | Result: {result} | Time: {end - start}\")\n",
        "\n",
        "start = timer()\n",
        "result = while_loop()\n",
        "end = timer()\n",
        "print(f\"While loop sum | Result: {result} | Time: {end - start}\")\n",
        "\n",
        "start = timer()\n",
        "result = sum_fn()\n",
        "end = timer()\n",
        "print(f\"Python sum | Result: {result} | Time: {end - start}\")\n",
        "\n",
        "start = timer()\n",
        "result = numpy_sum()\n",
        "end = timer()\n",
        "print(f\"Numpy sum | Result: {result} | Time: {end - start}\")"
      ],
      "metadata": {
        "colab": {
          "base_uri": "https://localhost:8080/"
        },
        "id": "TNmi8cjndMoh",
        "outputId": "ba8e559c-6132-42d5-f145-6385fa6c8c06"
      },
      "execution_count": 4,
      "outputs": [
        {
          "output_type": "stream",
          "name": "stdout",
          "text": [
            "For loop sum | Result: 4999999950000000 | Time: 15.217263341000006\n",
            "While loop sum | Result: 4999999950000000 | Time: 14.777114275000002\n",
            "Python sum | Result: 4999999950000000 | Time: 2.0536612530000014\n",
            "Numpy sum | Result: 4999999950000000 | Time: 0.38569682400000715\n"
          ]
        }
      ]
    },
    {
      "cell_type": "markdown",
      "source": [
        "## Glob"
      ],
      "metadata": {
        "id": "lQFOqMouIqZP"
      }
    },
    {
      "cell_type": "markdown",
      "source": [
        "Glob is a useful library for file and path matching. It uses Unix syntax like shown below:"
      ],
      "metadata": {
        "id": "7LgibHZVQCho"
      }
    },
    {
      "cell_type": "code",
      "source": [
        "import glob\n",
        "\n",
        "# * matches everything\n",
        "print(\"Returns every file ending in '.csv':\")\n",
        "print(glob.glob(\"*.csv\", root_dir=\"sample_data\"))\n",
        "\n",
        "# ? matches a single character\n",
        "print(\"\\nReturns every file starting with 5 unknown characters and ending in '_test.csv':\")\n",
        "print(glob.glob(\"?????_test.csv\", root_dir=\"sample_data\"))\n",
        "\n",
        "# [] matches characters included\n",
        "print(\"\\nReturns every file starting with 'm' or 'a' and ending in '.csv':\")\n",
        "print(glob.glob(\"[ma]*.csv\", root_dir=\"sample_data\"))\n",
        "\n",
        "# [!] matches characters not included\n",
        "print(\"\\nReturns every file not starting with 'm' or 'a' and ending in '.csv':\")\n",
        "print(glob.glob(\"[!ma]*.csv\", root_dir=\"sample_data\"))"
      ],
      "metadata": {
        "colab": {
          "base_uri": "https://localhost:8080/"
        },
        "id": "TyN4iDXzIsPW",
        "outputId": "c5aa4a75-74f9-443f-fce2-f43d38e7ea0e"
      },
      "execution_count": 5,
      "outputs": [
        {
          "output_type": "stream",
          "name": "stdout",
          "text": [
            "Returns every file ending in '.csv':\n",
            "['mnist_train_small.csv', 'mnist_test.csv', 'california_housing_test.csv', 'california_housing_train.csv']\n",
            "\n",
            "Returns every file starting with 5 unknown characters and ending in '_test.csv':\n",
            "['mnist_test.csv']\n",
            "\n",
            "Returns every file starting with 'm' or 'a' and ending in '.csv':\n",
            "['mnist_train_small.csv', 'mnist_test.csv']\n",
            "\n",
            "Returns every file not starting with 'm' or 'a' and ending in '.csv':\n",
            "['california_housing_test.csv', 'california_housing_train.csv']\n"
          ]
        }
      ]
    },
    {
      "cell_type": "markdown",
      "source": [
        "However, `glob()` loads a list of all paths in memory, so we can turn it into a **generator** in order to iterate over and thus avoiding memory overload."
      ],
      "metadata": {
        "id": "KzHGRuJhQKH-"
      }
    },
    {
      "cell_type": "code",
      "source": [
        "globs = glob.iglob(\"*.csv\", root_dir=\"sample_data\")\n",
        "\n",
        "print(next(globs))\n",
        "print(next(globs))\n",
        "print(next(globs))"
      ],
      "metadata": {
        "colab": {
          "base_uri": "https://localhost:8080/"
        },
        "id": "_WWJ2ZaSRzSY",
        "outputId": "c1305cf6-e881-4faa-be12-5814fc3d8249"
      },
      "execution_count": 6,
      "outputs": [
        {
          "output_type": "stream",
          "name": "stdout",
          "text": [
            "mnist_train_small.csv\n",
            "mnist_test.csv\n",
            "california_housing_test.csv\n"
          ]
        }
      ]
    }
  ]
}